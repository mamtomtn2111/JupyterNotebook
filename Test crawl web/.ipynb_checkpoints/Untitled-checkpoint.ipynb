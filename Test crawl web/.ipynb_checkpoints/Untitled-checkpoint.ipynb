{
 "cells": [
  {
   "cell_type": "code",
   "execution_count": 6,
   "id": "ba2f1e64-5b0d-480c-8556-52449c7b3d18",
   "metadata": {},
   "outputs": [
    {
     "ename": "SyntaxError",
     "evalue": "invalid syntax (<ipython-input-6-88d3c5593b86>, line 17)",
     "output_type": "error",
     "traceback": [
      "\u001b[1;36m  File \u001b[1;32m\"<ipython-input-6-88d3c5593b86>\"\u001b[1;36m, line \u001b[1;32m17\u001b[0m\n\u001b[1;33m    load_url(https://www.lazada.vn/products/kinh-cuong-luc-10d-cho-iphone-6plus6splus66s7-8-7plus-8plus-x-xs-xsmax-1111-pro-11-pro-max-sieu-ben-phu-kien-dien-thoai-i276346806-s425928695.html?spm=a2o4n.home.flashSale.3.4f056afeAOjj8P&search=1&mp=1&c=fs&clickTrackInfo=%7B%22rs%22%3A%220.0935493106146606%22%2C%22prior_score%22%3A%220%22%2C%22submission_discount%22%3A%2240%25%22%2C%22iss%22%3A%220.0935493106146606%22%2C%22type%22%3A%22entrance%22%2C%22prior_type%22%3A%22i2i%22%2C%22userid%22%3A%22%22%2C%22sca%22%3A%224%22%2C%22hourtonow%22%3A%2210%22%2C%22abid%22%3A%22169252%22%2C%22itemid%22%3A%22276346806_1_i2i_1.084_0.0935493106146606%22%2C%22pvid%22%3A%22d141d93b-7535-4d42-8aba-61ccd06f182e%22%2C%22pos%22%3A%221%22%2C%22rms%22%3A%220.0%22%2C%22scm%22%3A%221007.17760.169252.%22%2C%22ss%22%3A%220.0935493106146606%22%2C%22i2i%22%3A%220.542%22%2C%22ms%22%3A%221.084%22%2C%22itr%22%3A%220.19%22%2C%22mt%22%3A%22i2i%22%2C%22its%22%3A%22100%22%2C%22promotion_price%22%3A%229.000%22%2C%22anonid%22%3A%22adc557e6-dd0b-4f65-9f97-b14a0b36164b%22%2C%22FinalScore%22%3A%220.0370596%22%2C%22isc%22%3A%2219%22%2C%22iss2%22%3A%220.34038475210642605%22%2C%22data_type%22%3A%22flashsale%22%2C%22iss1%22%3A%220.002861876788672993%22%2C%22config%22%3A%22%22%2C%22HP_score%22%3A%220.0370596%22%2C%22channel_id%22%3A%220000%22%7D&scm=1007.17760.169252.0)\u001b[0m\n\u001b[1;37m                  ^\u001b[0m\n\u001b[1;31mSyntaxError\u001b[0m\u001b[1;31m:\u001b[0m invalid syntax\n"
     ]
    }
   ],
   "source": [
    "from bs4 import BeautifulSoup\n",
    "def load_url(url):\n",
    "    print(\"Loading url=\", url)\n",
    "    page = urllib.request.urlopen(url)\n",
    "    soup = BeautifulSoup(page,\"html.parser\")\n",
    "    script = soup.find_all(\"script\", attrs={\"type\": \"application/ld+json\"})[0]\n",
    "    script = str(script)\n",
    "    script = script.replace(\"</script>\",\"\").replace(\"<script type=\\\"application/ld+json\\\">\",\"\")\n",
    "\n",
    "    csvdata = []\n",
    "\n",
    "    for element in json.loads(script)[\"review\"]:\n",
    "        if \"reviewBody\" in element:\n",
    "            csvdata.append([element[\"reviewBody\"]])\n",
    "\n",
    "    return csvdata\n",
    "load_url(https://www.lazada.vn/products/kinh-cuong-luc-10d-cho-iphone-6plus6splus66s7-8-7plus-8plus-x-xs-xsmax-1111-pro-11-pro-max-sieu-ben-phu-kien-dien-thoai-i276346806-s425928695.html?spm=a2o4n.home.flashSale.3.4f056afeAOjj8P&search=1&mp=1&c=fs&clickTrackInfo=%7B%22rs%22%3A%220.0935493106146606%22%2C%22prior_score%22%3A%220%22%2C%22submission_discount%22%3A%2240%25%22%2C%22iss%22%3A%220.0935493106146606%22%2C%22type%22%3A%22entrance%22%2C%22prior_type%22%3A%22i2i%22%2C%22userid%22%3A%22%22%2C%22sca%22%3A%224%22%2C%22hourtonow%22%3A%2210%22%2C%22abid%22%3A%22169252%22%2C%22itemid%22%3A%22276346806_1_i2i_1.084_0.0935493106146606%22%2C%22pvid%22%3A%22d141d93b-7535-4d42-8aba-61ccd06f182e%22%2C%22pos%22%3A%221%22%2C%22rms%22%3A%220.0%22%2C%22scm%22%3A%221007.17760.169252.%22%2C%22ss%22%3A%220.0935493106146606%22%2C%22i2i%22%3A%220.542%22%2C%22ms%22%3A%221.084%22%2C%22itr%22%3A%220.19%22%2C%22mt%22%3A%22i2i%22%2C%22its%22%3A%22100%22%2C%22promotion_price%22%3A%229.000%22%2C%22anonid%22%3A%22adc557e6-dd0b-4f65-9f97-b14a0b36164b%22%2C%22FinalScore%22%3A%220.0370596%22%2C%22isc%22%3A%2219%22%2C%22iss2%22%3A%220.34038475210642605%22%2C%22data_type%22%3A%22flashsale%22%2C%22iss1%22%3A%220.002861876788672993%22%2C%22config%22%3A%22%22%2C%22HP_score%22%3A%220.0370596%22%2C%22channel_id%22%3A%220000%22%7D&scm=1007.17760.169252.0)"
   ]
  },
  {
   "cell_type": "code",
   "execution_count": null,
   "id": "b28fb579-21d4-456a-bd05-e20de169eea2",
   "metadata": {},
   "outputs": [],
   "source": []
  }
 ],
 "metadata": {
  "kernelspec": {
   "display_name": "Python 3",
   "language": "python",
   "name": "python3"
  },
  "language_info": {
   "codemirror_mode": {
    "name": "ipython",
    "version": 3
   },
   "file_extension": ".py",
   "mimetype": "text/x-python",
   "name": "python",
   "nbconvert_exporter": "python",
   "pygments_lexer": "ipython3",
   "version": "3.8.11"
  }
 },
 "nbformat": 4,
 "nbformat_minor": 5
}
