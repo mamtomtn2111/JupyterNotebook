{
 "cells": [
  {
   "cell_type": "code",
   "execution_count": 37,
   "id": "7f343807-c43d-4f54-98cf-ea10b54d5570",
   "metadata": {},
   "outputs": [
    {
     "name": "stdin",
     "output_type": "stream",
     "text": [
      "Nhập vào số n:  11\n"
     ]
    },
    {
     "name": "stdout",
     "output_type": "stream",
     "text": [
      "Có phần tử lặp lại:  4.0\n",
      "[2, 4, 16, 37, 58, 89, 145, 42, 20, 4.0]\n"
     ]
    }
   ],
   "source": [
    "import math\n",
    "n = input(\"Nhập vào số n: \")\n",
    "TongBinhPhuong = []\n",
    "MangLuuTungPhanTu = []\n",
    "\n",
    "for i in n:\n",
    "    MangLuuTungPhanTu.append(i)\n",
    "    \n",
    "MangLuuTungPhanTu = list(map(int, MangLuuTungPhanTu))\n",
    "Cong = 0\n",
    "for i in MangLuuTungPhanTu:\n",
    "    Cong += math.pow(i, 2)\n",
    "TongBinhPhuong.append(Cong)\n",
    "j = 0\n",
    "while(True): \n",
    "    Cong2 = 0\n",
    "    TongBinhPhuong[j] = int(TongBinhPhuong[j])\n",
    "    for i in str(TongBinhPhuong[j]):\n",
    "        i = int(i)\n",
    "        Cong2 += math.pow(i, 2)\n",
    "    if(Cong2 in TongBinhPhuong):\n",
    "        print(\"Có phần tử lặp lại: \",Cong2)\n",
    "        break\n",
    "    TongBinhPhuong.append(Cong2)\n",
    "    j += 1\n",
    "\n",
    "TongBinhPhuong.append(Cong2)\n",
    "print(TongBinhPhuong)"
   ]
  },
  {
   "cell_type": "code",
   "execution_count": null,
   "id": "abc4c9ba-9b7b-42b1-b6cb-4407b53b68f6",
   "metadata": {},
   "outputs": [],
   "source": []
  }
 ],
 "metadata": {
  "kernelspec": {
   "display_name": "Python 3 (ipykernel)",
   "language": "python",
   "name": "python3"
  },
  "language_info": {
   "codemirror_mode": {
    "name": "ipython",
    "version": 3
   },
   "file_extension": ".py",
   "mimetype": "text/x-python",
   "name": "python",
   "nbconvert_exporter": "python",
   "pygments_lexer": "ipython3",
   "version": "3.8.11"
  }
 },
 "nbformat": 4,
 "nbformat_minor": 5
}
