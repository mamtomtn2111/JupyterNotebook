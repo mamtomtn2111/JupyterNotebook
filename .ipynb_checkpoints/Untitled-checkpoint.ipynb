{
 "cells": [
  {
   "cell_type": "code",
   "execution_count": 47,
   "id": "b30e0811-76ea-45a2-954c-ac6a5f95cf73",
   "metadata": {},
   "outputs": [
    {
     "name": "stdout",
     "output_type": "stream",
     "text": [
      "[1, 3, 6, 34, 39, 56, 99]\n"
     ]
    },
    {
     "name": "stdin",
     "output_type": "stream",
     "text": [
      "Nhập a:  2\n"
     ]
    },
    {
     "name": "stdout",
     "output_type": "stream",
     "text": [
      "Phần tử 1 không lớn hơn a\n",
      "[3, 34, 56, 99]\n"
     ]
    }
   ],
   "source": [
    "list1 = [6, 99, 34, 56, 3, 1, 39]\n",
    "list1.sort()\n",
    "print(list1)\n",
    "a = int(input(\"Nhập a: \"))\n",
    "\n",
    "for i in range(4):\n",
    "    if (list1[i] > a):\n",
    "        del list1[i]\n",
    "    else:\n",
    "        print(\"Phần tử\", list1[i], \"không lớn hơn a\")\n",
    "      \n",
    "print(list1)"
   ]
  },
  {
   "cell_type": "code",
   "execution_count": null,
   "id": "47923127-bba1-4ade-92f0-230b276f014c",
   "metadata": {},
   "outputs": [],
   "source": []
  }
 ],
 "metadata": {
  "kernelspec": {
   "display_name": "Python 3 (ipykernel)",
   "language": "python",
   "name": "python3"
  },
  "language_info": {
   "codemirror_mode": {
    "name": "ipython",
    "version": 3
   },
   "file_extension": ".py",
   "mimetype": "text/x-python",
   "name": "python",
   "nbconvert_exporter": "python",
   "pygments_lexer": "ipython3",
   "version": "3.8.11"
  }
 },
 "nbformat": 4,
 "nbformat_minor": 5
}
