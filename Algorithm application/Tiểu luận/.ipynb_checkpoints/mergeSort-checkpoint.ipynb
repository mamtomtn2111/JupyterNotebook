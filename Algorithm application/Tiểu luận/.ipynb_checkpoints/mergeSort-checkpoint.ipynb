{
 "cells": [
  {
   "cell_type": "code",
   "execution_count": 19,
   "id": "c89e5948-cff5-47b2-9a84-c56b003dee19",
   "metadata": {},
   "outputs": [
    {
     "name": "stdout",
     "output_type": "stream",
     "text": [
      "Dãy được cho:  [9, 4, 4.5, 10, -5, 1, 5]\n",
      "0\n",
      "2\n",
      "4\n",
      "0\n",
      "4\n",
      "0\n",
      "Dãy được sắp xếp là:  [-5, 1, 4, 4.5, 5, 9, 10]\n"
     ]
    }
   ],
   "source": [
    "#Cách 2: https://www.studytonight.com/python-programs/python-program-for-iterative-merge-sort\n",
    "def merge(S, temp, From, mid, to):\n",
    "    a = From\n",
    "    b = From\n",
    "    c = mid + 1\n",
    "    \n",
    "    # Các phần tử bên trài của mảng sẽ được ghép\n",
    "    while b <= mid and c <= to:\n",
    "        if S[b] < S[c]:\n",
    "            temp[a] = S[b]\n",
    "            b = b + 1\n",
    "        else:\n",
    "            temp[a] = S[c]\n",
    "            c = c + 1\n",
    "        a = a + 1\n",
    " \n",
    "    # Các phần tử còn lại của mảng\n",
    "    while b < len(S) and b <= mid:\n",
    "        temp[a] = S[b]\n",
    "        a = a + 1\n",
    "        b = b + 1\n",
    " \n",
    "    # Sao chép lại mảng\n",
    "    for b in range(From, to + 1):\n",
    "        S[b] = temp[b]\n",
    " \n",
    " \n",
    "# Iterative sort\n",
    "def Merge_Sort(S):\n",
    " \n",
    "    low = 0\n",
    "    high = len(S) - 1\n",
    " \n",
    "    # sort list\n",
    "    temp = S.copy()\n",
    "\n",
    "    d = 1\n",
    "    while d <= len(S):\n",
    "        for b in range(low, high, 2*d):\n",
    "            print(b)\n",
    "            From = b\n",
    "            mid = b + d - 1\n",
    "            to = min(b + 2*d - 1, high)\n",
    "            merge(S, temp, From, mid, to)\n",
    " \n",
    "        d = 2*d\n",
    "\n",
    "# Iterative implementation\n",
    "if __name__ == '__main__':\n",
    " \n",
    "    #driver code\n",
    "    arr = [4, 2, 3, 1, 6, 5, 9, -1]\n",
    "    print(\"Dãy được cho: \", arr)\n",
    "    Merge_Sort(arr)\n",
    "    print(\"Dãy được sắp xếp là: \", arr)"
   ]
  },
  {
   "cell_type": "code",
   "execution_count": null,
   "id": "b561fc38-c4aa-45c2-905c-d47c66b9c183",
   "metadata": {},
   "outputs": [],
   "source": [
    "def Merge_sort(arr):\n",
    "    start = 0\n",
    "    end = len(arr) - 1\n",
    "    \n",
    "    temp = S.copy()\n",
    "    \n",
    "    "
   ]
  },
  {
   "cell_type": "code",
   "execution_count": 22,
   "id": "733e5431-8647-4d0f-8d55-321559ae05a0",
   "metadata": {},
   "outputs": [
    {
     "name": "stdout",
     "output_type": "stream",
     "text": [
      "0\n",
      "2\n",
      "4\n",
      "6\n",
      "8\n"
     ]
    }
   ],
   "source": [
    "d = 1\n",
    "for i in range(0,10,2):\n",
    "    print(i)"
   ]
  },
  {
   "cell_type": "code",
   "execution_count": null,
   "id": "7b4d022e-05c2-4324-a548-52bdf2add8aa",
   "metadata": {},
   "outputs": [],
   "source": []
  }
 ],
 "metadata": {
  "kernelspec": {
   "display_name": "Python 3 (ipykernel)",
   "language": "python",
   "name": "python3"
  },
  "language_info": {
   "codemirror_mode": {
    "name": "ipython",
    "version": 3
   },
   "file_extension": ".py",
   "mimetype": "text/x-python",
   "name": "python",
   "nbconvert_exporter": "python",
   "pygments_lexer": "ipython3",
   "version": "3.8.11"
  }
 },
 "nbformat": 4,
 "nbformat_minor": 5
}
