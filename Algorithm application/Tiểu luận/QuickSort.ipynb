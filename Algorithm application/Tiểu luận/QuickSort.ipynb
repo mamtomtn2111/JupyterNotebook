{
 "cells": [
  {
   "cell_type": "code",
   "execution_count": 13,
   "id": "f9d6a987-1d19-48df-acc4-466f3b09281c",
   "metadata": {},
   "outputs": [
    {
     "name": "stdout",
     "output_type": "stream",
     "text": [
      "Orignal Array: [9, 0, 8, 1, 7, 3, 6, 4]\n",
      "2\n",
      "6\n",
      "1\n",
      "Sorted Array : [0, 1, 3, 4, 6, 7, 8, 9]\n"
     ]
    }
   ],
   "source": [
    "def partition(array,low,high):\n",
    "    i = ( low - 1 )\n",
    "    x = array[high]\n",
    " \n",
    "    for j in range(low , high):\n",
    "        if   array[j] <= x:\n",
    " \n",
    "            i = i+1\n",
    "            array[i],array[j] = array[j],array[i]\n",
    " \n",
    "    array[i+1],array[high] = array[high],array[i+1]\n",
    "    return (i+1)\n",
    " \n",
    "# low  --> Starting index,\n",
    "# high  --> Ending index\n",
    "def I_QuickSort(array,low,high):\n",
    " \n",
    "    #  auxiliary stack\n",
    "    size = high - low + 1\n",
    "    stack = [0] * (size)\n",
    " \n",
    "    top = -1\n",
    " \n",
    "    top = top + 1\n",
    "    stack[top] = low\n",
    "    top = top + 1\n",
    "    stack[top] = high\n",
    " \n",
    "    # Keep popping from stack while is not empty\n",
    "    while top >= 0:\n",
    " \n",
    "        # Pop high and low\n",
    "        high = stack[top]\n",
    "        top = top - 1\n",
    "        low = stack[top]\n",
    "        top = top - 1\n",
    "        # sorted array\n",
    "        p = partition( array, low, high )\n",
    "        # push left side to stack\n",
    "        if p-1 > low:\n",
    "            top = top + 1\n",
    "            stack[top] = low\n",
    "            top = top + 1\n",
    "            stack[top] = p - 1\n",
    "            print(stack[top])\n",
    "\n",
    "        #  push right side to stack\n",
    "        if p+1 < high:\n",
    "            top = top + 1\n",
    "            stack[top] = p + 1\n",
    "            top = top + 1\n",
    "            stack[top] = high\n",
    " \n",
    "# Driver code \n",
    "array = [9, 0, 8, 1, 7, 3, 6, 4]\n",
    "n = len(array)\n",
    "print(\"Orignal Array:\", array)\n",
    "I_QuickSort(array, 0, n-1)\n",
    "print (\"Sorted Array :\", array)"
   ]
  },
  {
   "cell_type": "code",
   "execution_count": null,
   "id": "c9e2d094-d578-4958-ad94-60bb3815629c",
   "metadata": {},
   "outputs": [],
   "source": []
  }
 ],
 "metadata": {
  "kernelspec": {
   "display_name": "Python 3 (ipykernel)",
   "language": "python",
   "name": "python3"
  },
  "language_info": {
   "codemirror_mode": {
    "name": "ipython",
    "version": 3
   },
   "file_extension": ".py",
   "mimetype": "text/x-python",
   "name": "python",
   "nbconvert_exporter": "python",
   "pygments_lexer": "ipython3",
   "version": "3.8.11"
  }
 },
 "nbformat": 4,
 "nbformat_minor": 5
}
