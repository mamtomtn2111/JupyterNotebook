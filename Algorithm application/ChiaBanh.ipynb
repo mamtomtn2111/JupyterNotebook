{
 "cells": [
  {
   "cell_type": "code",
   "execution_count": 5,
   "id": "f22009c9-526d-4ab8-931b-77ebb78dc0e8",
   "metadata": {},
   "outputs": [
    {
     "name": "stdout",
     "output_type": "stream",
     "text": [
      "[2, 3, 4, 5]\n",
      "4\n"
     ]
    }
   ],
   "source": [
    "def getMaxSlices(pieSlices, nPeople):\n",
    "    if len(pieSlices)==0 or nPeople==0: return None\n",
    "    tempSlices = sorted(pieSlices, reverse=True)\n",
    "    estPies = sum(tempSlices)//nPeople\n",
    "    for i in range(estPies, 0, -1):\n",
    "        k = nPeople\n",
    "        for j in range(len(tempSlices)):\n",
    "            k = k-tempSlices[j]//i\n",
    "            if k==0: \n",
    "                return i\n",
    "    return None\n",
    "    \n",
    "p = 4\n",
    "pieSlices = [x+2 for x in range(p)]\n",
    "print(pieSlices)\n",
    "\n",
    "people = 2\n",
    "res = getMaxSlices(pieSlices, people)\n",
    "print(res)"
   ]
  },
  {
   "cell_type": "code",
   "execution_count": 76,
   "id": "08de4ec4-df0f-43f2-8158-c3a27c985792",
   "metadata": {},
   "outputs": [
    {
     "name": "stdin",
     "output_type": "stream",
     "text": [
      "Nhập vào số cái bánh 1\n",
      "Nhập vào số người bạn 2\n",
      "Nhập vào bán kính của bánh thứ 0 : 3\n"
     ]
    },
    {
     "name": "stdout",
     "output_type": "stream",
     "text": [
      "Thể tích bánh của 1 miếng chia đều cho 3 bạn trong đó có bạn là: 8.228914195877773e-10\n"
     ]
    }
   ],
   "source": [
    "import math\n",
    "#source = https://blog.csdn.net/xp731574722/article/details/51994395?spm=1001.2101.3001.6650.4&utm_medium=distribute.pc_relevant.none-task-blog-2%7Edefault%7ECTRLIST%7Edefault-4.no_search_link&depth_1-utm_source=distribute.pc_relevant.none-task-blog-2%7Edefault%7ECTRLIST%7Edefault-4.no_search_link\n",
    "\n",
    "def f(x,Friend,pie):\n",
    "    num = Friend + 1\n",
    "    temp = canh\n",
    "    i = 0\n",
    "    while(num > 0):\n",
    "        if(temp[i] >= x):\n",
    "            temp[i] -= x\n",
    "            num -= 1\n",
    "        else:\n",
    "            i += 1\n",
    "        if(i >= pie):\n",
    "            return False\n",
    "    return True\n",
    "\n",
    "def bs(Friend,pie,m):\n",
    "    lo = 0\n",
    "    hi = m\n",
    "    while(hi - lo > EPS):\n",
    "        mi = (lo + hi) / 2\n",
    "        if(f(mi,Friend,pie) == False):\n",
    "            hi = mi\n",
    "        else:\n",
    "            lo = mi\n",
    "    return mi\n",
    "\n",
    "m = 0\n",
    "canh = []\n",
    "temp = []\n",
    "EPS = 0.000000001\n",
    "pie = int(input(\"Nhập vào số cái bánh\"))\n",
    "Friend = int(input(\"Nhập vào số người bạn\"))\n",
    "for i in range(pie):\n",
    "    ThemCanh = int(input(f\"Nhập vào bán kính của bánh thứ {i} :\"))\n",
    "    canh.append(ThemCanh)\n",
    "    canh[i] *= canh[i] * math.pi\n",
    "    m = max(canh[i],m)\n",
    "print(f\"Thể tích bánh của 1 miếng chia đều cho {Friend+1} bạn trong đó có bạn là: {bs(Friend,pie,m)}\")\n"
   ]
  },
  {
   "cell_type": "code",
   "execution_count": 2,
   "id": "1e3c1180-53d3-46ca-b7eb-a95014a99678",
   "metadata": {},
   "outputs": [
    {
     "name": "stdin",
     "output_type": "stream",
     "text": [
      "Nhập vào số bánh:  1\n",
      "Nhập vào số người bạn:  2\n",
      "Nhập vào bán kính của bánh 1:  3\n"
     ]
    },
    {
     "name": "stdout",
     "output_type": "stream",
     "text": [
      "Vâỵ số thể tích miếng bánh lớn nhất chia đều cho 3 trong đó có bạn là: 9.4248\n"
     ]
    }
   ],
   "source": [
    "import math\n",
    "#source = https://titanwolf.org/Network/Articles/Article?AID=237377e1-f5be-4580-82b7-5eab6066765a\n",
    "\n",
    "canh = []\n",
    "pie = int(input(\"Nhập vào số bánh: \"))\n",
    "friend = int(input(\"Nhập vào số người bạn: \"))\n",
    "friend += 1\n",
    "for i in range(pie):\n",
    "    ThemCanh = int(input(f\"Nhập vào bán kính của bánh {i+1}: \"))\n",
    "    canh.append(ThemCanh)\n",
    "    canh[i] *= canh[i] * math.pi\n",
    "Min = 0\n",
    "Max = 999999999\n",
    "while(Min + 0.00000001 < Max):\n",
    "    mid = (Max + Min) / 2\n",
    "    cnt = 0\n",
    "    for i in range(pie):\n",
    "        cnt += int(canh[i]/mid)\n",
    "    if(cnt < friend):\n",
    "        Max = mid\n",
    "    else:\n",
    "        Min = mid\n",
    "print(f\"Vâỵ số thể tích miếng bánh lớn nhất chia đều cho {friend} trong đó có bạn là: {round(mid,4)}\")"
   ]
  },
  {
   "cell_type": "code",
   "execution_count": null,
   "id": "dce8a0d8-7f57-490c-b3cb-bb86de8d1d29",
   "metadata": {},
   "outputs": [],
   "source": []
  }
 ],
 "metadata": {
  "kernelspec": {
   "display_name": "Python 3 (ipykernel)",
   "language": "python",
   "name": "python3"
  },
  "language_info": {
   "codemirror_mode": {
    "name": "ipython",
    "version": 3
   },
   "file_extension": ".py",
   "mimetype": "text/x-python",
   "name": "python",
   "nbconvert_exporter": "python",
   "pygments_lexer": "ipython3",
   "version": "3.8.11"
  }
 },
 "nbformat": 4,
 "nbformat_minor": 5
}
