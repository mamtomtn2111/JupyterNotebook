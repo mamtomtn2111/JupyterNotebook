{
 "cells": [
  {
   "cell_type": "code",
   "execution_count": 2,
   "id": "8924d957-73e6-40db-9691-7a7ae55f0a24",
   "metadata": {},
   "outputs": [],
   "source": [
    "from collections import defaultdict"
   ]
  },
  {
   "cell_type": "code",
   "execution_count": 28,
   "id": "72c62fd6-fa0a-4692-92f3-fef7cec6e72c",
   "metadata": {},
   "outputs": [
    {
     "name": "stdout",
     "output_type": "stream",
     "text": [
      "Bình 1 có thể tích 1500\n",
      "Bình 2 có thể tích 300\n",
      "Yêu cầu rót nước để 1 trong 2 bình đạt được 900 \n",
      "\n",
      "Các bước của đầu bài: \n",
      "(0, 0)\n",
      "(1500, 0)\n",
      "(1500, 300)\n",
      "(0, 300)\n",
      "(300, 0)\n",
      "(300, 300)\n",
      "(600, 0)\n",
      "(600, 300)\n",
      "(900, 0)\n"
     ]
    },
    {
     "data": {
      "text/plain": [
       "True"
      ]
     },
     "execution_count": 28,
     "metadata": {},
     "output_type": "execute_result"
    }
   ],
   "source": [
    "#Jug1,2 là bình 1,2 tương ứng và aim là lượng nước mong muốn của 1 trong 2 bình\n",
    "\n",
    "\n",
    "visited = defaultdict(lambda: False)\n",
    "\n",
    "#Tạo ra hàm waterjug đệ quy in những bước để đạt được mục tiêu\n",
    "#Và trả về giá trị boolean\n",
    "#Tham số amt1 và amt2 là lượng nước sẵn có của bình 1 và bình 2\n",
    "def WaterJug(amt1, amt2):\n",
    "    \n",
    "    #Check mục tiêu xem đã đạt chưa\n",
    "    if(amt1 == aim and amt2 == 0) or (amt2 == aim and amt1 == 0):\n",
    "        print(f\"({amt1}, {amt2})\")\n",
    "        return True\n",
    "    \n",
    "    \n",
    "    #Check xem chúng ta đã rót nước giống như các lần trước không?\n",
    "    #Nếu chưa sẽ xử lý tiếp\n",
    "    if visited[(amt1, amt2)] == False:\n",
    "        print(f\"({amt1}, {amt2})\")\n",
    "        \n",
    "        #Thay đổi giá trị từ điển thành True \n",
    "        #có nghĩa là cặp bình nước trên đã thăm dò\n",
    "        visited[(amt1, amt2)] = True\n",
    "        \n",
    "        #Kiểm tra và in tất cả 6 trường hợp rót nước nếu khả thi\n",
    "        #Nếu chúng thỏa mãn if bên trong đệ quy sẽ trả về\n",
    "        return (WaterJug(0, amt2) or\n",
    "                WaterJug(amt1, 0) or\n",
    "                WaterJug(jug1, amt2) or\n",
    "                WaterJug(amt1, jug2) or\n",
    "                WaterJug(amt1 + min(amt2, (jug1-amt1)),amt2 - min(amt2, (jug1-amt1))) or\n",
    "                WaterJug(amt1 - min(amt1, (jug2-amt2)),amt2 + min(amt1, (jug2-amt2)))) \n",
    "    \n",
    "    #Trả về sai nếu như tất cả 6 trường hợp này đều trả về sai\n",
    "    #Đồng nghĩa với việc các trường hợp đều đã trùng với nhau\n",
    "    #Đầu vào của bài toán rót nước không thể trả giá trị thỏa mãn\n",
    "    else:\n",
    "        return False\n",
    "\n",
    "jug1, jug2, aim = 1500, 300, 900\n",
    "\n",
    "print(\"Bình 1 có thể tích\", jug1)\n",
    "print(\"Bình 2 có thể tích\", jug2)\n",
    "print(\"Yêu cầu rót nước để 1 trong 2 bình đạt được\", aim,\"\\n\")\n",
    "\n",
    "\n",
    "#Nếu trả về false có nghĩa ko thể giải được bài toán rót nước\n",
    "#Ngược lại True là có thể giải được bài toán rót nước\n",
    "print(\"Các bước của đầu bài: \")\n",
    "WaterJug(0, 0)"
   ]
  },
  {
   "cell_type": "code",
   "execution_count": null,
   "id": "022c971c-2301-4ce9-bbe5-f5ce40dc26f2",
   "metadata": {},
   "outputs": [],
   "source": []
  },
  {
   "cell_type": "code",
   "execution_count": null,
   "id": "bc033de9-f729-4acb-9232-ccd352485b5b",
   "metadata": {},
   "outputs": [],
   "source": []
  }
 ],
 "metadata": {
  "kernelspec": {
   "display_name": "Python 3 (ipykernel)",
   "language": "python",
   "name": "python3"
  },
  "language_info": {
   "codemirror_mode": {
    "name": "ipython",
    "version": 3
   },
   "file_extension": ".py",
   "mimetype": "text/x-python",
   "name": "python",
   "nbconvert_exporter": "python",
   "pygments_lexer": "ipython3",
   "version": "3.8.11"
  }
 },
 "nbformat": 4,
 "nbformat_minor": 5
}
