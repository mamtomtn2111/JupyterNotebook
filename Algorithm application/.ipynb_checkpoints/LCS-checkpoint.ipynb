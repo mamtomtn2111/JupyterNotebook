{
 "cells": [
  {
   "cell_type": "code",
   "execution_count": 21,
   "id": "c4e8a27a-dcf8-44f4-aaac-bf3bc9becd39",
   "metadata": {},
   "outputs": [
    {
     "name": "stdout",
     "output_type": "stream",
     "text": [
      "S1 : HOCSINHICTUBRO\n",
      "S2 : ICTUTHAIBRONGUYEN\n",
      "LCS: ICTUBRO\n",
      "lengh of LCS: 7\n"
     ]
    }
   ],
   "source": [
    "#source = https://www.programiz.com/dsa/longest-common-subsequence\n",
    "# The longest common subsequence in Python\n",
    "\n",
    "\n",
    "# Function to find lcs_algo\n",
    "def lcs_algo(S1, S2, m, n):\n",
    "    L = [[0 for x in range(n+1)] for x in range(m+1)]\n",
    "\n",
    "    # Building the mtrix in bottom-up way\n",
    "    for i in range(m+1):\n",
    "        for j in range(n+1):\n",
    "            if i == 0 or j == 0:\n",
    "                L[i][j] = 0\n",
    "            elif S1[i-1] == S2[j-1]:\n",
    "                L[i][j] = L[i-1][j-1] + 1\n",
    "            else:\n",
    "                L[i][j] = max(L[i-1][j], L[i][j-1])\n",
    "\n",
    "    index = L[m][n]\n",
    "\n",
    "    lcs_algo = [\"\"] * (index+1)\n",
    "    lcs_algo[index] = \"\"\n",
    "\n",
    "    i = m\n",
    "    j = n\n",
    "    while i > 0 and j > 0:\n",
    "        if S1[i-1] == S2[j-1]:\n",
    "            lcs_algo[index-1] = S1[i-1]\n",
    "            i -= 1\n",
    "            j -= 1\n",
    "            index -= 1\n",
    "\n",
    "        elif L[i-1][j] > L[i][j-1]:\n",
    "            i -= 1\n",
    "        else:\n",
    "            j -= 1\n",
    "            \n",
    "    # Printing the sub sequences\n",
    "    print(\"S1 : \" + S1 + \"\\nS2 : \" + S2)\n",
    "    print(\"LCS: \" + \"\".join(lcs_algo))\n",
    "    print(f\"lengh of LCS: {len(lcs_algo)-1}\")\n",
    "\n",
    "\n",
    "S1 = \"HOCSINHICTUBRO\"\n",
    "S2 = \"ICTUTHAIBRONGUYEN\"\n",
    "m = len(S1)\n",
    "n = len(S2)\n",
    "lcs_algo(S1, S2, m, n)"
   ]
  },
  {
   "cell_type": "code",
   "execution_count": null,
   "id": "0bb4c87e-2f74-4159-8ffd-393a823649cb",
   "metadata": {},
   "outputs": [],
   "source": []
  }
 ],
 "metadata": {
  "kernelspec": {
   "display_name": "Python 3 (ipykernel)",
   "language": "python",
   "name": "python3"
  },
  "language_info": {
   "codemirror_mode": {
    "name": "ipython",
    "version": 3
   },
   "file_extension": ".py",
   "mimetype": "text/x-python",
   "name": "python",
   "nbconvert_exporter": "python",
   "pygments_lexer": "ipython3",
   "version": "3.8.11"
  }
 },
 "nbformat": 4,
 "nbformat_minor": 5
}
