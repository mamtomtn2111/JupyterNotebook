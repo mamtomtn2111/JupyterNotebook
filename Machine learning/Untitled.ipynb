{
 "cells": [
  {
   "cell_type": "code",
   "execution_count": 6,
   "id": "1a45118f-6948-42e8-b45f-691c336b8ec5",
   "metadata": {},
   "outputs": [],
   "source": [
    "import numpy as np\n",
    "import matplotlib.pyplot as plt"
   ]
  },
  {
   "cell_type": "code",
   "execution_count": 11,
   "id": "282ac5bd-6c94-4d9c-8d10-fe998709ef29",
   "metadata": {},
   "outputs": [
    {
     "data": {
      "image/png": "[encoded data removed]",
      "text/plain": [
       "<Figure size 432x288 with 1 Axes>"
      ]
     },
     "metadata": {
      "needs_background": "light"
     },
     "output_type": "display_data"
    }
   ],
   "source": [
    "#Chiều cao\n",
    "X = np.array([[147,150,153,158,163,165,168,170,173,176,175,180,183]]).T\n",
    "#Cân nặng\n",
    "y = np.array([[ 89,50,51,54,58,59,60,62,63,64,66,67,68]]).T\n",
    "plt.plot(X, y, 'ro')\n",
    "plt.axis([140,190,45,95])\n",
    "plt.xlabel('Chiều cao (cm)')\n",
    "plt.ylabel('Cân nặng (kg)')\n",
    "plt.show()"
   ]
  },
  {
   "cell_type": "code",
   "execution_count": 12,
   "id": "b764aecc-7b70-41ee-8bd3-81832f820cef",
   "metadata": {},
   "outputs": [],
   "source": [
    "# Building Xbar\n",
    "one = np.ones((X.shape[0], 1))\n",
    "Xbar = np.concatenate((one, X), axis = 1) # each row is one data point\n",
    "# Calculating weights of the linear regression model\n",
    "A = np.dot(Xbar.T, Xbar)\n",
    "b = np.dot(Xbar.T, y)\n",
    "w = np.dot(np.linalg.pinv(A), b)\n",
    "# weights\n",
    "w_0, w_1 = w[0], w[1]"
   ]
  },
  {
   "cell_type": "code",
   "execution_count": 14,
   "id": "6503ee11-a017-402f-b4fd-d80ddef8fe95",
   "metadata": {},
   "outputs": [
    {
     "name": "stdout",
     "output_type": "stream",
     "text": [
      "Input 155cm, true output 52kg, predicted output 61.46kg.\n",
      "Input 160cm, true output 56kg, predicted output 61.87kg.\n"
     ]
    }
   ],
   "source": [
    "y1 = w_1*155 + w_0\n",
    "y2 = w_1*160 + w_0\n",
    "print('Input 155cm, true output 52kg, predicted output %.2fkg.' %(y1) )\n",
    "print('Input 160cm, true output 56kg, predicted output %.2fkg.' %(y2) )"
   ]
  },
  {
   "cell_type": "code",
   "execution_count": null,
   "id": "35447013-d12f-4643-9f04-f691246245b7",
   "metadata": {},
   "outputs": [],
   "source": []
  }
 ],
 "metadata": {
  "kernelspec": {
   "display_name": "Python 3 (ipykernel)",
   "language": "python",
   "name": "python3"
  },
  "language_info": {
   "codemirror_mode": {
    "name": "ipython",
    "version": 3
   },
   "file_extension": ".py",
   "mimetype": "text/x-python",
   "name": "python",
   "nbconvert_exporter": "python",
   "pygments_lexer": "ipython3",
   "version": "3.8.11"
  }
 },
 "nbformat": 4,
 "nbformat_minor": 5
}
