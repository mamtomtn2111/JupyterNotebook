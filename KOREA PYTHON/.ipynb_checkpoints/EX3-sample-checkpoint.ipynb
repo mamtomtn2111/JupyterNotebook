{
 "cells": [
  {
   "cell_type": "markdown",
   "metadata": {
    "id": "ijSXZ1geXJGm"
   },
   "source": [
    "# Collection Type"
   ]
  },
  {
   "cell_type": "markdown",
   "metadata": {
    "id": "aqVjunp7uNIA"
   },
   "source": [
    "## List"
   ]
  },
  {
   "cell_type": "markdown",
   "metadata": {
    "id": "9Czcmu1yuT7T"
   },
   "source": [
    "Declare the ordered list of instructors."
   ]
  },
  {
   "cell_type": "code",
   "execution_count": 34,
   "metadata": {
    "executionInfo": {
     "elapsed": 274,
     "status": "ok",
     "timestamp": 1628182248665,
     "user": {
      "displayName": "김유영",
      "photoUrl": "",
      "userId": "07204270834448332145"
     },
     "user_tz": -540
    },
    "id": "y2wJFVwGthOX"
   },
   "outputs": [],
   "source": [
    "instructor_list=['Yoon', 'Kim', 'Park', 'Kim']"
   ]
  },
  {
   "cell_type": "markdown",
   "metadata": {
    "id": "yajDCaifupEZ"
   },
   "source": [
    "You can access a single item using an index\n",
    "\n",
    "*NOTE : Index starts with 0"
   ]
  },
  {
   "cell_type": "code",
   "execution_count": 35,
   "metadata": {
    "colab": {
     "base_uri": "https://localhost:8080/",
     "height": 35
    },
    "executionInfo": {
     "elapsed": 276,
     "status": "ok",
     "timestamp": 1628182259820,
     "user": {
      "displayName": "김유영",
      "photoUrl": "",
      "userId": "07204270834448332145"
     },
     "user_tz": -540
    },
    "id": "LDaZAeAdtw9J",
    "outputId": "10fdf312-a151-465d-921e-0dfc762f2fb2"
   },
   "outputs": [
    {
     "data": {
      "application/vnd.google.colaboratory.intrinsic+json": {
       "type": "string"
      },
      "text/plain": [
       "'Yoon'"
      ]
     },
     "execution_count": 35,
     "metadata": {
      "tags": []
     },
     "output_type": "execute_result"
    }
   ],
   "source": [
    "instructor_list[0]"
   ]
  },
  {
   "cell_type": "markdown",
   "metadata": {
    "id": "0E2lDRcZvXdc"
   },
   "source": [
    "Items in the list don't have to be in the same data type."
   ]
  },
  {
   "cell_type": "code",
   "execution_count": null,
   "metadata": {
    "id": "wfCsCErMvD0q"
   },
   "outputs": [],
   "source": [
    "mixed_dataTypes=[1, 'and', 2.0]"
   ]
  },
  {
   "cell_type": "markdown",
   "metadata": {
    "id": "sX_aC1HdvnsP"
   },
   "source": [
    "A list can be an item of another list."
   ]
  },
  {
   "cell_type": "code",
   "execution_count": null,
   "metadata": {
    "id": "IN_j89Jwv1bk"
   },
   "outputs": [],
   "source": [
    "nested_list=[[0], 1, [2, 3]]"
   ]
  },
  {
   "cell_type": "code",
   "execution_count": null,
   "metadata": {
    "colab": {
     "base_uri": "https://localhost:8080/"
    },
    "executionInfo": {
     "elapsed": 11,
     "status": "ok",
     "timestamp": 1628092705009,
     "user": {
      "displayName": "김유영",
      "photoUrl": "",
      "userId": "07204270834448332145"
     },
     "user_tz": -540
    },
    "id": "SsI3lrkFwAuY",
    "outputId": "61085e67-237f-4786-9ba9-e86df82dd077"
   },
   "outputs": [
    {
     "name": "stdout",
     "output_type": "stream",
     "text": [
      "<class 'list'> [0]\n",
      "2\n"
     ]
    }
   ],
   "source": [
    "print(type(nested_list[0]), nested_list[0])\n",
    "print(nested_list[2][0])"
   ]
  },
  {
   "cell_type": "markdown",
   "metadata": {
    "id": "Gefus9I2251E"
   },
   "source": [
    "**Functions related to list**"
   ]
  },
  {
   "cell_type": "markdown",
   "metadata": {
    "id": "5CugJmSv3xAT"
   },
   "source": [
    "Add an item in the last position"
   ]
  },
  {
   "cell_type": "code",
   "execution_count": null,
   "metadata": {
    "colab": {
     "base_uri": "https://localhost:8080/"
    },
    "executionInfo": {
     "elapsed": 394,
     "status": "ok",
     "timestamp": 1628092814348,
     "user": {
      "displayName": "김유영",
      "photoUrl": "",
      "userId": "07204270834448332145"
     },
     "user_tz": -540
    },
    "id": "jsUnq5Tx25QP",
    "outputId": "3a78e8b0-4c64-4499-f851-c7f58aac7775"
   },
   "outputs": [
    {
     "data": {
      "text/plain": [
       "['Yoon', 'Kim', 'Park', 'Kim', 'Iron Man']"
      ]
     },
     "execution_count": 30,
     "metadata": {
      "tags": []
     },
     "output_type": "execute_result"
    }
   ],
   "source": [
    "instructor_list=['Yoon', 'Kim', 'Park', 'Kim']\n",
    "instructor_list.append('Iron Man')\n",
    "instructor_list"
   ]
  },
  {
   "cell_type": "markdown",
   "metadata": {
    "id": "cBHcmFL231-5"
   },
   "source": [
    "Insert item in the given position"
   ]
  },
  {
   "cell_type": "code",
   "execution_count": null,
   "metadata": {
    "colab": {
     "base_uri": "https://localhost:8080/"
    },
    "executionInfo": {
     "elapsed": 624,
     "status": "ok",
     "timestamp": 1628092856543,
     "user": {
      "displayName": "김유영",
      "photoUrl": "",
      "userId": "07204270834448332145"
     },
     "user_tz": -540
    },
    "id": "FWL0hr6l3u0f",
    "outputId": "e6c9cb2a-be5f-4867-c9b6-d39da1ac7b4f"
   },
   "outputs": [
    {
     "name": "stdout",
     "output_type": "stream",
     "text": [
      "['Black Widow', 'Yoon', 'Kim', 'Park', 'Kim']\n"
     ]
    }
   ],
   "source": [
    "instructor_list=['Yoon', 'Kim', 'Park', 'Kim']\n",
    "instructor_list.insert(0, 'Black Widow')\n",
    "print(instructor_list)"
   ]
  },
  {
   "cell_type": "markdown",
   "metadata": {
    "id": "_PKPngDe4IrK"
   },
   "source": [
    "Remove an item from the list"
   ]
  },
  {
   "cell_type": "code",
   "execution_count": null,
   "metadata": {
    "colab": {
     "base_uri": "https://localhost:8080/"
    },
    "executionInfo": {
     "elapsed": 337,
     "status": "ok",
     "timestamp": 1628147553603,
     "user": {
      "displayName": "김유영",
      "photoUrl": "",
      "userId": "07204270834448332145"
     },
     "user_tz": -540
    },
    "id": "7U6E3MPC4SWL",
    "outputId": "7f5155b5-d807-4afb-ba2c-54766f26cf6a"
   },
   "outputs": [
    {
     "name": "stdout",
     "output_type": "stream",
     "text": [
      "['Yoon', 'Park', 'Kim']\n"
     ]
    }
   ],
   "source": [
    "instructor_list=['Yoon', 'Kim', 'Park', 'Kim']\n",
    "instructor_list.remove('Kim')\n",
    "print(instructor_list)"
   ]
  },
  {
   "cell_type": "markdown",
   "metadata": {
    "id": "-KFcN-OmKE8N"
   },
   "source": [
    "Retrieve the index of a given item"
   ]
  },
  {
   "cell_type": "code",
   "execution_count": null,
   "metadata": {
    "colab": {
     "base_uri": "https://localhost:8080/"
    },
    "executionInfo": {
     "elapsed": 416,
     "status": "ok",
     "timestamp": 1628092927602,
     "user": {
      "displayName": "김유영",
      "photoUrl": "",
      "userId": "07204270834448332145"
     },
     "user_tz": -540
    },
    "id": "jSdWFOyv5dL3",
    "outputId": "7d3af254-d4db-43f5-ae28-a6f1ab625721"
   },
   "outputs": [
    {
     "name": "stdout",
     "output_type": "stream",
     "text": [
      "2\n"
     ]
    }
   ],
   "source": [
    "instructor_list=['Yoon', 'Kim', 'Park', 'Kim']\n",
    "print(instructor_list.index('Park'))"
   ]
  },
  {
   "cell_type": "markdown",
   "metadata": {
    "id": "GrGObw2-u9_f"
   },
   "source": [
    "## Tuples"
   ]
  },
  {
   "cell_type": "markdown",
   "metadata": {
    "id": "6cGsmmFZ6H9s"
   },
   "source": [
    "Fixed, immutable group of items"
   ]
  },
  {
   "cell_type": "code",
   "execution_count": null,
   "metadata": {
    "id": "t4Zdc-ZtvBTV"
   },
   "outputs": [],
   "source": [
    "ip_address=('10.20.30.40', 8080)"
   ]
  },
  {
   "cell_type": "markdown",
   "metadata": {
    "id": "2Zx2gAVoH6Uk"
   },
   "source": [
    "## Dictionary"
   ]
  },
  {
   "cell_type": "markdown",
   "metadata": {
    "id": "6g5_iqgtJ2Xz"
   },
   "source": [
    "Set of key and corresponding value pairs."
   ]
  },
  {
   "cell_type": "code",
   "execution_count": null,
   "metadata": {
    "id": "5UTCf2J2H9Kt"
   },
   "outputs": [],
   "source": [
    "capitals={\n",
    "    'Vietnam': 'Hanoi',\n",
    "    'Korea': 'Seoul',\n",
    "    'Japan': 'Tokyo',\n",
    "    'Russia': 'Moscow'\n",
    "}"
   ]
  },
  {
   "cell_type": "markdown",
   "metadata": {
    "id": "POKULhhJKUG8"
   },
   "source": [
    "We can easily acess a value of a key."
   ]
  },
  {
   "cell_type": "code",
   "execution_count": null,
   "metadata": {
    "colab": {
     "base_uri": "https://localhost:8080/",
     "height": 35
    },
    "executionInfo": {
     "elapsed": 364,
     "status": "ok",
     "timestamp": 1628147707094,
     "user": {
      "displayName": "김유영",
      "photoUrl": "",
      "userId": "07204270834448332145"
     },
     "user_tz": -540
    },
    "id": "4TZj66APKa7E",
    "outputId": "49255691-6179-4522-b609-3abc0d4b73aa"
   },
   "outputs": [
    {
     "data": {
      "application/vnd.google.colaboratory.intrinsic+json": {
       "type": "string"
      },
      "text/plain": [
       "'Hanoi'"
      ]
     },
     "execution_count": 6,
     "metadata": {
      "tags": []
     },
     "output_type": "execute_result"
    }
   ],
   "source": [
    "capitals['Vietnam']"
   ]
  },
  {
   "cell_type": "code",
   "execution_count": null,
   "metadata": {
    "colab": {
     "base_uri": "https://localhost:8080/"
    },
    "executionInfo": {
     "elapsed": 401,
     "status": "ok",
     "timestamp": 1628148751464,
     "user": {
      "displayName": "김유영",
      "photoUrl": "",
      "userId": "07204270834448332145"
     },
     "user_tz": -540
    },
    "id": "QoSQ4_BzOVb7",
    "outputId": "163fd1f9-8992-4728-9f57-abf22b7d9ac0"
   },
   "outputs": [
    {
     "name": "stdout",
     "output_type": "stream",
     "text": [
      "{'Vietnam': 'Hanoi', 'Korea': 'Seoul', 'Japan': 'Tokyo', 'Russia': 'Moscow', 'US': 'Washington D.C.'}\n"
     ]
    }
   ],
   "source": [
    "capitals['US']='Washington D.C.'\n",
    "print(capitals)"
   ]
  },
  {
   "cell_type": "markdown",
   "metadata": {
    "id": "khgYUDtTKp5v"
   },
   "source": [
    "**Function related to Dictionary**"
   ]
  },
  {
   "cell_type": "markdown",
   "metadata": {
    "id": "XNf74EQnKzxs"
   },
   "source": [
    "Want to see a set of keys of a dictionary?"
   ]
  },
  {
   "cell_type": "code",
   "execution_count": null,
   "metadata": {
    "colab": {
     "base_uri": "https://localhost:8080/"
    },
    "executionInfo": {
     "elapsed": 6,
     "status": "ok",
     "timestamp": 1628147794070,
     "user": {
      "displayName": "김유영",
      "photoUrl": "",
      "userId": "07204270834448332145"
     },
     "user_tz": -540
    },
    "id": "sTpLjXryKjFY",
    "outputId": "1618eec2-f08d-4989-d5c9-d61acb3e5b23"
   },
   "outputs": [
    {
     "data": {
      "text/plain": [
       "dict_keys(['Vietnam', 'Korea', 'Japan', 'Russia'])"
      ]
     },
     "execution_count": 7,
     "metadata": {
      "tags": []
     },
     "output_type": "execute_result"
    }
   ],
   "source": [
    "capitals.keys()"
   ]
  },
  {
   "cell_type": "markdown",
   "metadata": {
    "id": "nDDRCaAYPyDz"
   },
   "source": [
    "Show all key and value pairs in the dictionary"
   ]
  },
  {
   "cell_type": "code",
   "execution_count": null,
   "metadata": {
    "colab": {
     "base_uri": "https://localhost:8080/"
    },
    "executionInfo": {
     "elapsed": 306,
     "status": "ok",
     "timestamp": 1628148487237,
     "user": {
      "displayName": "김유영",
      "photoUrl": "",
      "userId": "07204270834448332145"
     },
     "user_tz": -540
    },
    "id": "L1QPbPSKNjsy",
    "outputId": "acfca2fe-10b0-4fac-cf44-0497df9a947d"
   },
   "outputs": [
    {
     "data": {
      "text/plain": [
       "dict_items([('Vietnam', 'Hanoi'), ('Korea', 'Seoul'), ('Japan', 'Tokyo'), ('Russia', 'Moscow')])"
      ]
     },
     "execution_count": 8,
     "metadata": {
      "tags": []
     },
     "output_type": "execute_result"
    }
   ],
   "source": [
    "capitals.items()"
   ]
  },
  {
   "cell_type": "markdown",
   "metadata": {
    "id": "aS5ZyrPZP1hB"
   },
   "source": [
    "Remove a key and value pair by a key"
   ]
  },
  {
   "cell_type": "code",
   "execution_count": null,
   "metadata": {
    "colab": {
     "base_uri": "https://localhost:8080/"
    },
    "executionInfo": {
     "elapsed": 313,
     "status": "ok",
     "timestamp": 1628148951093,
     "user": {
      "displayName": "김유영",
      "photoUrl": "",
      "userId": "07204270834448332145"
     },
     "user_tz": -540
    },
    "id": "rMaz8LJoPR4d",
    "outputId": "638c6c52-89a7-4c12-8c15-6fb7c467719a"
   },
   "outputs": [
    {
     "name": "stdout",
     "output_type": "stream",
     "text": [
      "{'Vietnam': 'Hanoi', 'Korea': 'Seoul', 'Russia': 'Moscow', 'US': 'Washington D.C.'}\n"
     ]
    }
   ],
   "source": [
    "capitals.pop('Japan')\n",
    "print(capitals)"
   ]
  },
  {
   "cell_type": "markdown",
   "metadata": {
    "id": "5cZ7N0cILBFn"
   },
   "source": [
    "## Set"
   ]
  },
  {
   "cell_type": "markdown",
   "metadata": {
    "id": "FD7egjFJQXR-"
   },
   "source": [
    "Unordered group of items with no duplicate"
   ]
  },
  {
   "cell_type": "code",
   "execution_count": null,
   "metadata": {
    "id": "BfY8iOQsLDfE"
   },
   "outputs": [],
   "source": [
    "colors={'Red', 'Green', 'Blue'}"
   ]
  },
  {
   "cell_type": "markdown",
   "metadata": {
    "id": "yzwNbm61Rl9_"
   },
   "source": [
    "**Functions related to Set**"
   ]
  },
  {
   "cell_type": "markdown",
   "metadata": {
    "id": "x0tjq1u1SCy2"
   },
   "source": [
    "Declare a set from a list"
   ]
  },
  {
   "cell_type": "code",
   "execution_count": null,
   "metadata": {
    "colab": {
     "base_uri": "https://localhost:8080/"
    },
    "executionInfo": {
     "elapsed": 357,
     "status": "ok",
     "timestamp": 1628149802652,
     "user": {
      "displayName": "김유영",
      "photoUrl": "",
      "userId": "07204270834448332145"
     },
     "user_tz": -540
    },
    "id": "EEJV34uQQ3cE",
    "outputId": "04f8a53f-52df-485a-fc67-97ddbfbc0094"
   },
   "outputs": [
    {
     "name": "stdout",
     "output_type": "stream",
     "text": [
      "['Yoon', 'Kim', 'Park', 'Kim']\n",
      "{'Park', 'Kim', 'Yoon'}\n"
     ]
    }
   ],
   "source": [
    "instructor_list=['Yoon', 'Kim', 'Park', 'Kim']\n",
    "print(instructor_list)\n",
    "instructor_set=set(instructor_list)\n",
    "print(instructor_set)"
   ]
  },
  {
   "cell_type": "markdown",
   "metadata": {
    "id": "EoI4TD1oTHp-"
   },
   "source": [
    "add and remove items in the same way as a list"
   ]
  },
  {
   "cell_type": "code",
   "execution_count": null,
   "metadata": {
    "colab": {
     "base_uri": "https://localhost:8080/"
    },
    "executionInfo": {
     "elapsed": 319,
     "status": "ok",
     "timestamp": 1628149966640,
     "user": {
      "displayName": "김유영",
      "photoUrl": "",
      "userId": "07204270834448332145"
     },
     "user_tz": -540
    },
    "id": "QkDRkCo5S4Fx",
    "outputId": "0375869d-6eba-4fcd-feb2-3f1b6dede49b"
   },
   "outputs": [
    {
     "name": "stdout",
     "output_type": "stream",
     "text": [
      "{'Pink', 'Red', 'Blue', 'Green'}\n",
      "{'Pink', 'Blue', 'Green'}\n"
     ]
    }
   ],
   "source": [
    "colors={'Red', 'Green', 'Blue'}\n",
    "colors.add('Pink')\n",
    "print(colors)\n",
    "colors.remove('Red')\n",
    "print(colors)"
   ]
  },
  {
   "cell_type": "markdown",
   "metadata": {
    "id": "dc6qdCZbSx1R"
   },
   "source": [
    "We can apply mathmetical operations on our set!"
   ]
  },
  {
   "cell_type": "code",
   "execution_count": null,
   "metadata": {
    "colab": {
     "base_uri": "https://localhost:8080/"
    },
    "executionInfo": {
     "elapsed": 317,
     "status": "ok",
     "timestamp": 1628150457813,
     "user": {
      "displayName": "김유영",
      "photoUrl": "",
      "userId": "07204270834448332145"
     },
     "user_tz": -540
    },
    "id": "upauOBXbR8ft",
    "outputId": "2ae4bf2a-5405-438c-b853-4f4002a9c0bb"
   },
   "outputs": [
    {
     "name": "stdout",
     "output_type": "stream",
     "text": [
      "{'Red', 'Blue', 'Green'}\n",
      "{'Purple', 'Green', 'Yellow', 'Orange', 'Blue', 'Red', 'Cyan'}\n",
      "{'Purple', 'Yellow', 'Orange', 'Cyan'}\n"
     ]
    }
   ],
   "source": [
    "colors={'Red', 'Green', 'Blue'}\n",
    "rainbow={'Red', 'Orange', 'Yellow', 'Green', 'Cyan', 'Blue', 'Purple'}\n",
    "print(colors&rainbow)\n",
    "print(colors|rainbow)\n",
    "print(rainbow-colors)"
   ]
  },
  {
   "cell_type": "markdown",
   "metadata": {
    "id": "AroVzlxJWE0h"
   },
   "source": [
    "## String"
   ]
  },
  {
   "cell_type": "code",
   "execution_count": null,
   "metadata": {
    "id": "NlRulucoVGK9"
   },
   "outputs": [],
   "source": [
    "name='Uyeong'"
   ]
  },
  {
   "cell_type": "markdown",
   "metadata": {
    "id": "23sDoV5MXDQV"
   },
   "source": [
    "# Conditional Statement"
   ]
  },
  {
   "cell_type": "markdown",
   "metadata": {
    "id": "tQe05IrOj3SN"
   },
   "source": [
    "## Structure of conditional statement"
   ]
  },
  {
   "cell_type": "code",
   "execution_count": 1,
   "metadata": {
    "id": "sY_5_auyXC_d"
   },
   "outputs": [],
   "source": [
    "cold=False\n",
    "if cold:\n",
    "  print(\"Put on a jacket\")"
   ]
  },
  {
   "cell_type": "code",
   "execution_count": null,
   "metadata": {
    "colab": {
     "base_uri": "https://localhost:8080/"
    },
    "executionInfo": {
     "elapsed": 302,
     "status": "ok",
     "timestamp": 1628153473320,
     "user": {
      "displayName": "김유영",
      "photoUrl": "",
      "userId": "07204270834448332145"
     },
     "user_tz": -540
    },
    "id": "xTASTuZzgbqi",
    "outputId": "74f5785c-fed5-4ee7-e910-145ffd276a8b"
   },
   "outputs": [
    {
     "name": "stdout",
     "output_type": "stream",
     "text": [
      "Stay still\n"
     ]
    }
   ],
   "source": [
    "if cold:\n",
    "  print(\"Put on a jacket\")\n",
    "else:\n",
    "  print(\"Stay still\")"
   ]
  },
  {
   "cell_type": "code",
   "execution_count": null,
   "metadata": {
    "colab": {
     "base_uri": "https://localhost:8080/"
    },
    "executionInfo": {
     "elapsed": 293,
     "status": "ok",
     "timestamp": 1628153882875,
     "user": {
      "displayName": "김유영",
      "photoUrl": "",
      "userId": "07204270834448332145"
     },
     "user_tz": -540
    },
    "id": "glusEzfliC0H",
    "outputId": "9c17bf9b-db25-4b3f-ebf7-576e62f4bbf0"
   },
   "outputs": [
    {
     "name": "stdout",
     "output_type": "stream",
     "text": [
      "Stay still\n"
     ]
    }
   ],
   "source": [
    "print(\"Put on a jacket\") if cold else print(\"Stay still\")"
   ]
  },
  {
   "cell_type": "code",
   "execution_count": null,
   "metadata": {
    "colab": {
     "base_uri": "https://localhost:8080/"
    },
    "executionInfo": {
     "elapsed": 312,
     "status": "ok",
     "timestamp": 1628153719360,
     "user": {
      "displayName": "김유영",
      "photoUrl": "",
      "userId": "07204270834448332145"
     },
     "user_tz": -540
    },
    "id": "QqQr4kXhgnkW",
    "outputId": "4c4ad9ba-0d87-4b7d-a2fe-ffe0b8c0b370"
   },
   "outputs": [
    {
     "name": "stdout",
     "output_type": "stream",
     "text": [
      "cannot but it\n"
     ]
    }
   ],
   "source": [
    "budget=100\n",
    "if budget>150:\n",
    "  print(\"buy it!\")\n",
    "elif budget==150:\n",
    "  print(\"no money left\")\n",
    "else:\n",
    "  print(\"cannot but it\")"
   ]
  },
  {
   "cell_type": "markdown",
   "metadata": {
    "id": "Z5ADiNezj7bo"
   },
   "source": [
    "## Conditional Expressions"
   ]
  },
  {
   "cell_type": "markdown",
   "metadata": {
    "id": "uTvS83YKkOhm"
   },
   "source": [
    "Compare numerical values"
   ]
  },
  {
   "cell_type": "code",
   "execution_count": null,
   "metadata": {
    "id": "NKJRs5NAkM_d"
   },
   "outputs": [],
   "source": [
    "highest_socre=210\n",
    "my_score=250\n",
    "\n",
    "if my_score >= highest_score:\n",
    "  print(\"new record!\")\n",
    "  highest_score=my_score"
   ]
  },
  {
   "cell_type": "markdown",
   "metadata": {
    "id": "5a0HsNaPkCzl"
   },
   "source": [
    "Connect two or more expressions"
   ]
  },
  {
   "cell_type": "code",
   "execution_count": null,
   "metadata": {
    "colab": {
     "base_uri": "https://localhost:8080/"
    },
    "executionInfo": {
     "elapsed": 17,
     "status": "ok",
     "timestamp": 1628172350364,
     "user": {
      "displayName": "김유영",
      "photoUrl": "",
      "userId": "07204270834448332145"
     },
     "user_tz": -540
    },
    "id": "dJ20qll8SLNv",
    "outputId": "2822fe12-06a6-44bf-c9bc-66d3d7d383e2"
   },
   "outputs": [
    {
     "name": "stdout",
     "output_type": "stream",
     "text": [
      "Penguin!\n"
     ]
    }
   ],
   "source": [
    "fly=False\n",
    "bird=True\n",
    "if not fly and bird:\n",
    "  print(\"Penguin!\")"
   ]
  },
  {
   "cell_type": "markdown",
   "metadata": {
    "id": "iYsOVfTpoO4L"
   },
   "source": [
    "Contained in collection"
   ]
  },
  {
   "cell_type": "code",
   "execution_count": null,
   "metadata": {
    "colab": {
     "base_uri": "https://localhost:8080/"
    },
    "executionInfo": {
     "elapsed": 358,
     "status": "ok",
     "timestamp": 1628172421559,
     "user": {
      "displayName": "김유영",
      "photoUrl": "",
      "userId": "07204270834448332145"
     },
     "user_tz": -540
    },
    "id": "eRzzHpNYl_jy",
    "outputId": "ce8371df-d015-4ad4-c5ca-a8c4b0c11f43"
   },
   "outputs": [
    {
     "name": "stdout",
     "output_type": "stream",
     "text": [
      "There is double l in hello\n"
     ]
    }
   ],
   "source": [
    "if 'll' in 'hello':\n",
    "  print(\"There is double l in hello\")"
   ]
  },
  {
   "cell_type": "markdown",
   "metadata": {
    "id": "QgMJ01uwp8_Q"
   },
   "source": [
    "## EXCERCISE"
   ]
  },
  {
   "cell_type": "markdown",
   "metadata": {
    "id": "dcmBa1Z56Sse"
   },
   "source": [
    "*I met a wall in the maze! What should I do?*"
   ]
  },
  {
   "cell_type": "code",
   "execution_count": null,
   "metadata": {
    "colab": {
     "base_uri": "https://localhost:8080/"
    },
    "executionInfo": {
     "elapsed": 332,
     "status": "ok",
     "timestamp": 1628173037297,
     "user": {
      "displayName": "김유영",
      "photoUrl": "",
      "userId": "07204270834448332145"
     },
     "user_tz": -540
    },
    "id": "IIs73TNbp8kt",
    "outputId": "13dfda3e-347d-47af-85cd-3e15328cf7de"
   },
   "outputs": [
    {
     "name": "stdout",
     "output_type": "stream",
     "text": [
      "turn left\n"
     ]
    }
   ],
   "source": [
    "wall_on_right=True\n",
    "wall_on_front=True\n",
    "wall_on_left=False\n",
    "wall_on_back=False\n",
    "\n",
    "if not wall_on_front:\n",
    "  print(\"Go straight\")\n",
    "elif not wall_on_right:\n",
    "  print(\"turn right\")\n",
    "elif not wall_on_left:\n",
    "  print(\"turn left\")\n",
    "else:\n",
    "  print(\"Go back!\")"
   ]
  },
  {
   "cell_type": "markdown",
   "metadata": {
    "id": "IdR1W0aVd0FQ"
   },
   "source": [
    "# Loop"
   ]
  },
  {
   "cell_type": "markdown",
   "metadata": {
    "id": "CNpVgk3Wsy-e"
   },
   "source": [
    "## While and For"
   ]
  },
  {
   "cell_type": "markdown",
   "metadata": {
    "id": "SAcbceiUtEzm"
   },
   "source": [
    "*While*\n",
    "\n",
    "Repeat the while body when the condition holds"
   ]
  },
  {
   "cell_type": "code",
   "execution_count": null,
   "metadata": {
    "colab": {
     "base_uri": "https://localhost:8080/"
    },
    "executionInfo": {
     "elapsed": 309,
     "status": "ok",
     "timestamp": 1628174628061,
     "user": {
      "displayName": "김유영",
      "photoUrl": "",
      "userId": "07204270834448332145"
     },
     "user_tz": -540
    },
    "id": "dG9hMURcWaXh",
    "outputId": "8f09f5a1-f9af-4cc0-9f6e-b1ad9e800ad2"
   },
   "outputs": [
    {
     "name": "stdout",
     "output_type": "stream",
     "text": [
      "Cheese pizza delivered!\n",
      "Cheese pizza delivered!\n",
      "Cheese pizza delivered!\n",
      "No more cheese pizza needed\n"
     ]
    }
   ],
   "source": [
    "menu=['pepperoni', 'shrimp', 'cheese', 'shrimp', 'cheese', 'cheese']\n",
    "\n",
    "while 'cheese' in menu:\n",
    "  print(\"Cheese pizza delivered!\")\n",
    "  menu.remove('cheese')\n",
    "  \n",
    "print(\"No more cheese pizza needed\")"
   ]
  },
  {
   "cell_type": "markdown",
   "metadata": {
    "id": "5Z6d9QTfxQUa"
   },
   "source": [
    "*For*\n",
    "\n",
    "Update variable and repeat the for body when condition holds"
   ]
  },
  {
   "cell_type": "code",
   "execution_count": null,
   "metadata": {
    "colab": {
     "base_uri": "https://localhost:8080/"
    },
    "executionInfo": {
     "elapsed": 315,
     "status": "ok",
     "timestamp": 1628174997218,
     "user": {
      "displayName": "김유영",
      "photoUrl": "",
      "userId": "07204270834448332145"
     },
     "user_tz": -540
    },
    "id": "VPlAcd3Hw5mU",
    "outputId": "b4aa0b46-a9fb-470c-f392-6089566dbf8f"
   },
   "outputs": [
    {
     "name": "stdout",
     "output_type": "stream",
     "text": [
      "Cheese pizza delivered!\n",
      "Cheese pizza delivered!\n",
      "Cheese pizza delivered!\n",
      "No more cheese pizza needed\n"
     ]
    }
   ],
   "source": [
    "menu=['pepperoni', 'shrimp', 'cheese', 'shrimp', 'cheese', 'cheese']\n",
    "\n",
    "for item in menu:\n",
    "  if item=='cheese':\n",
    "    print(\"Cheese pizza delivered!\")\n",
    "\n",
    "print(\"No more cheese pizza needed\")"
   ]
  },
  {
   "cell_type": "markdown",
   "metadata": {
    "id": "CcxEPdfQ0KUa"
   },
   "source": [
    "## Braek and Continue"
   ]
  },
  {
   "cell_type": "code",
   "execution_count": null,
   "metadata": {
    "colab": {
     "base_uri": "https://localhost:8080/"
    },
    "executionInfo": {
     "elapsed": 312,
     "status": "ok",
     "timestamp": 1628175599233,
     "user": {
      "displayName": "김유영",
      "photoUrl": "",
      "userId": "07204270834448332145"
     },
     "user_tz": -540
    },
    "id": "JVymwtMjyZK4",
    "outputId": "d8cc2496-b97a-4080-8cf2-f50753961bf7"
   },
   "outputs": [
    {
     "name": "stdout",
     "output_type": "stream",
     "text": [
      "55\n"
     ]
    }
   ],
   "source": [
    "for i in range(100):\n",
    "  if i%5==0 and i%18==1:\n",
    "    print(i)\n",
    "    break"
   ]
  },
  {
   "cell_type": "code",
   "execution_count": null,
   "metadata": {
    "colab": {
     "base_uri": "https://localhost:8080/"
    },
    "executionInfo": {
     "elapsed": 324,
     "status": "ok",
     "timestamp": 1628175690350,
     "user": {
      "displayName": "김유영",
      "photoUrl": "",
      "userId": "07204270834448332145"
     },
     "user_tz": -540
    },
    "id": "U60WQdKP01YC",
    "outputId": "857f085d-a2d4-4e42-db43-54549d81949b"
   },
   "outputs": [
    {
     "name": "stdout",
     "output_type": "stream",
     "text": [
      "1\n",
      "2\n",
      "3\n",
      "4\n",
      "6\n",
      "7\n",
      "8\n",
      "9\n"
     ]
    }
   ],
   "source": [
    "for i in range(10):\n",
    "  if i%5==0:\n",
    "    continue\n",
    "  print(i)"
   ]
  },
  {
   "cell_type": "markdown",
   "metadata": {
    "id": "-2SYMDyM2IOP"
   },
   "source": [
    "## Nested Loop"
   ]
  },
  {
   "cell_type": "markdown",
   "metadata": {
    "id": "3qE8fmhY4bF3"
   },
   "source": [
    "We can put another loop in the loop body as many times we want!"
   ]
  },
  {
   "cell_type": "code",
   "execution_count": null,
   "metadata": {
    "colab": {
     "base_uri": "https://localhost:8080/"
    },
    "executionInfo": {
     "elapsed": 331,
     "status": "ok",
     "timestamp": 1628176470252,
     "user": {
      "displayName": "김유영",
      "photoUrl": "",
      "userId": "07204270834448332145"
     },
     "user_tz": -540
    },
    "id": "tRKT3hpm2Llt",
    "outputId": "f81e8a9b-9c7d-4e6a-c93a-390861ec135c"
   },
   "outputs": [
    {
     "name": "stdout",
     "output_type": "stream",
     "text": [
      "0 \n",
      "0 1 \n",
      "0 1 2 \n",
      "0 1 2 3 \n"
     ]
    }
   ],
   "source": [
    "string=\"\"\n",
    "for i in range(1, 5):\n",
    "  for j in range(i):\n",
    "    print(j, end=\" \")\n",
    "  print(string)\n",
    "  string=\"\""
   ]
  },
  {
   "cell_type": "markdown",
   "metadata": {
    "id": "Jmn450jI1xeM"
   },
   "source": [
    "## EXCERCISE"
   ]
  },
  {
   "cell_type": "code",
   "execution_count": null,
   "metadata": {
    "colab": {
     "base_uri": "https://localhost:8080/"
    },
    "executionInfo": {
     "elapsed": 325,
     "status": "ok",
     "timestamp": 1628177975217,
     "user": {
      "displayName": "김유영",
      "photoUrl": "",
      "userId": "07204270834448332145"
     },
     "user_tz": -540
    },
    "id": "R2QrWXjC10Ld",
    "outputId": "a2b0154e-dd1c-401d-d8e1-9f10fea08763"
   },
   "outputs": [
    {
     "name": "stdout",
     "output_type": "stream",
     "text": [
      "Hello, $tudent$! It'$ $o nice to meet you through ICT volunteer work.It'$ my fir$t volunteer work online, $o I'm very nervou$. But don't worry too much.We c@n m@ke it. I hope it will be @n intere$ting educ@tion@l @ctivity in the future."
     ]
    }
   ],
   "source": [
    "phrase=\"Hello, students! It's so nice to meet you through ICT volunteer work.\\\n",
    "It's my first volunteer work online, so I'm very nervous. But don't worry too much.\\\n",
    "We can make it. I hope it will be an interesting educational activity in the future.\"\n",
    "\n",
    "for char in phrase:\n",
    "  if char=='a' or char=='A':\n",
    "    print('@', end=\"\")\n",
    "  elif char=='s' or char=='S':\n",
    "    print(\"$\", end=\"\")\n",
    "  else:\n",
    "    print(char, end=\"\")"
   ]
  },
  {
   "cell_type": "code",
   "execution_count": null,
   "metadata": {
    "id": "QM3OYhq39UOM"
   },
   "outputs": [],
   "source": []
  }
 ],
 "metadata": {
  "colab": {
   "authorship_tag": "ABX9TyPIzcszWkCVNStiQv5Xbazo",
   "collapsed_sections": [
    "ijSXZ1geXJGm",
    "aqVjunp7uNIA",
    "GrGObw2-u9_f",
    "2Zx2gAVoH6Uk",
    "5cZ7N0cILBFn",
    "tQe05IrOj3SN"
   ],
   "name": "day3/day4.ipynb",
   "provenance": [],
   "toc_visible": true
  },
  "kernelspec": {
   "display_name": "Python 3",
   "language": "python",
   "name": "python3"
  },
  "language_info": {
   "codemirror_mode": {
    "name": "ipython",
    "version": 3
   },
   "file_extension": ".py",
   "mimetype": "text/x-python",
   "name": "python",
   "nbconvert_exporter": "python",
   "pygments_lexer": "ipython3",
   "version": "3.8.8"
  }
 },
 "nbformat": 4,
 "nbformat_minor": 4
}
