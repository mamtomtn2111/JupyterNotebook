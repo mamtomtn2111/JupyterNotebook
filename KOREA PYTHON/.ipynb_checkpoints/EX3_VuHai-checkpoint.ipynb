{
 "cells": [
  {
   "cell_type": "code",
   "execution_count": 18,
   "id": "11686a2e-7b27-4d6f-a53c-0087d7ef4c91",
   "metadata": {},
   "outputs": [
    {
     "name": "stdout",
     "output_type": "stream",
     "text": [
      "dict_keys(['name', 'birth month', 'age', 'gender', 'major', 'isInstructor'])\n"
     ]
    }
   ],
   "source": [
    "Dic = {'name':\"Jaehyun\",'birth month':5,'age':22,'gender':\"male\",'major':\"EECS\",'isInstructor':True}\n",
    "print(Dic.keys())"
   ]
  },
  {
   "cell_type": "code",
   "execution_count": 1,
   "id": "783bf58d-af20-4e81-8b4c-1a64f8395c3f",
   "metadata": {},
   "outputs": [
    {
     "data": {
      "text/plain": [
       "['dragon fruit', 'apple', 'pineapple', 'Jaehyun']"
      ]
     },
     "metadata": {},
     "output_type": "display_data"
    },
    {
     "name": "stdout",
     "output_type": "stream",
     "text": [
      "There are 4 elements in the list\n"
     ]
    },
    {
     "data": {
      "text/plain": [
       "{'Jaehyun', 'apple', 'dragon fruit', 'pineapple'}"
      ]
     },
     "metadata": {},
     "output_type": "display_data"
    },
    {
     "name": "stdout",
     "output_type": "stream",
     "text": [
      "There are 4 elements in the set\n"
     ]
    }
   ],
   "source": [
    "EmptyList = []\n",
    "EmptyList.append(\"apple\")\n",
    "EmptyList.append(\"watermelon\")\n",
    "EmptyList.append(\"dragon fruit\")\n",
    "EmptyList.append(\"apple\")\n",
    "EmptyList.remove(\"watermelon\")\n",
    "EmptyList.append(\"pineapple\")\n",
    "EmptyList.remove(\"apple\")\n",
    "EmptyList.append(\"Jaehyun\")\n",
    "display(EmptyList)\n",
    "print(f\"There are {len(EmptyList)} elements in the list\")\n",
    "Convert2Set = set(EmptyList)\n",
    "display(Convert2Set)\n",
    "print(f\"There are {len(Convert2Set)} elements in the set\")"
   ]
  },
  {
   "cell_type": "code",
   "execution_count": null,
   "id": "ba8db484-aea2-485e-a231-bc196b25e3fb",
   "metadata": {},
   "outputs": [],
   "source": []
  }
 ],
 "metadata": {
  "kernelspec": {
   "display_name": "Python 3",
   "language": "python",
   "name": "python3"
  },
  "language_info": {
   "codemirror_mode": {
    "name": "ipython",
    "version": 3
   },
   "file_extension": ".py",
   "mimetype": "text/x-python",
   "name": "python",
   "nbconvert_exporter": "python",
   "pygments_lexer": "ipython3",
   "version": "3.8.8"
  }
 },
 "nbformat": 4,
 "nbformat_minor": 5
}
