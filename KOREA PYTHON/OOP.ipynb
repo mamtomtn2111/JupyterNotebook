{
 "cells": [
  {
   "cell_type": "code",
   "execution_count": 4,
   "id": "2a81ab5d-9b9e-47f9-b1aa-14c0c46f9e81",
   "metadata": {},
   "outputs": [
    {
     "name": "stdout",
     "output_type": "stream",
     "text": [
      "self:  <__main__.person object at 0x000001AAD65EDEE0>\n",
      "self:  <__main__.person object at 0x000001AAD65ED790>\n",
      "<__main__.person object at 0x000001AAD65EDEE0>\n",
      "<__main__.person object at 0x000001AAD65ED790>\n",
      "self <__main__.person object at 0x000001AAD65EDEE0>\n",
      "Aaron is sleeping\n",
      "self <__main__.person object at 0x000001AAD65ED790>\n",
      "Bob is sleeping\n"
     ]
    }
   ],
   "source": [
    "class person:\n",
    "    def __init__(self,name, age):\n",
    "        print('self: ',self)\n",
    "        self.name = name\n",
    "        self.age = age\n",
    "    \n",
    "    def sleep(self):\n",
    "        print('self',self)\n",
    "        print(self.name,'is sleeping')\n",
    "        \n",
    "a = person('Aaron', 20)\n",
    "b = person('Bob',30)\n",
    "\n",
    "print(a)\n",
    "print(b)\n",
    "\n",
    "a.sleep()\n",
    "b.sleep()"
   ]
  },
  {
   "cell_type": "code",
   "execution_count": 6,
   "id": "a5f5752e-9749-49f3-923e-32ac7a3eaf5b",
   "metadata": {},
   "outputs": [
    {
     "name": "stdout",
     "output_type": "stream",
     "text": [
      "Hải is eating Phở\n",
      "Hải has been sleeping for 30 minute\n",
      "Hải has been working for 100 minute\n"
     ]
    }
   ],
   "source": [
    "class person:\n",
    "    def __init__(self,name, age):\n",
    "        self.name = name\n",
    "        self.age = age\n",
    "    \n",
    "    def eat(self, food):\n",
    "        print(f\"{self.name} is eating {food}\")\n",
    "    \n",
    "    def sleep(self, minute):\n",
    "        print(f\"{self.name} has been sleeping for {minute} minute\")\n",
    "    \n",
    "    def work(self, minute):\n",
    "        print(f\"{self.name} has been working for {minute} minute\")\n",
    "        \n",
    "class student(person):\n",
    "    def _init__(self,name,age):\n",
    "        self.name = name\n",
    "        self.age = age\n",
    "        \n",
    "class employee(person):\n",
    "    def _init__(self,name,age):\n",
    "        self.name = name\n",
    "        self.age = age\n",
    "\n",
    "Hai = employee('Hải',25)\n",
    "Hai.eat('Phở')\n",
    "Hai.sleep(30)\n",
    "Hai.work(100)"
   ]
  },
  {
   "cell_type": "code",
   "execution_count": null,
   "id": "1adcc981-7cee-42dd-a8b3-436ab38a2153",
   "metadata": {},
   "outputs": [],
   "source": []
  }
 ],
 "metadata": {
  "kernelspec": {
   "display_name": "Python 3",
   "language": "python",
   "name": "python3"
  },
  "language_info": {
   "codemirror_mode": {
    "name": "ipython",
    "version": 3
   },
   "file_extension": ".py",
   "mimetype": "text/x-python",
   "name": "python",
   "nbconvert_exporter": "python",
   "pygments_lexer": "ipython3",
   "version": "3.8.8"
  }
 },
 "nbformat": 4,
 "nbformat_minor": 5
}
