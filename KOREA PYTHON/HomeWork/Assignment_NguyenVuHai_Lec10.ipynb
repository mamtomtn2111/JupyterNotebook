{
 "cells": [
  {
   "cell_type": "code",
   "execution_count": 72,
   "id": "efb2d1a0-d761-4a2a-b0b5-618c451bf449",
   "metadata": {},
   "outputs": [
    {
     "name": "stdin",
     "output_type": "stream",
     "text": [
      "What is his/her name?\n",
      " Hyejin\n",
      "What is his/her number?\n",
      " 1234\n"
     ]
    },
    {
     "name": "stdout",
     "output_type": "stream",
     "text": [
      "\n",
      "\n"
     ]
    },
    {
     "name": "stdin",
     "output_type": "stream",
     "text": [
      "What is his/her name?\n",
      " Sungbin\n",
      "What is his/her number?\n",
      " 5678\n"
     ]
    },
    {
     "name": "stdout",
     "output_type": "stream",
     "text": [
      "\n",
      "\n"
     ]
    },
    {
     "name": "stdin",
     "output_type": "stream",
     "text": [
      "What is his/her name?\n",
      " Jungha\n",
      "What is his/her number?\n",
      " 910111\n"
     ]
    },
    {
     "name": "stdout",
     "output_type": "stream",
     "text": [
      "\n",
      "\n",
      "[{'name': 'Hyejin', 'number': 1234}, {'name': 'Sungbin', 'number': 5678}, {'name': 'Jungha', 'number': 910111}]\n"
     ]
    }
   ],
   "source": [
    "\n",
    "NumList = []\n",
    "for i in range(3):\n",
    "    NameInput = input(\"What is his/her name?\\n\")\n",
    "    NumberInput = int(input(\"What is his/her number?\\n\"))\n",
    "    print(\"\\n\")\n",
    "    NumDict = {\"name\":'a',\"number\":0}\n",
    "    NumDict.update({\"name\":NameInput})\n",
    "    NumDict.update({\"number\":NumberInput})\n",
    "    NumList.append(NumDict)\n",
    "    \n",
    "print(NumList)"
   ]
  },
  {
   "cell_type": "code",
   "execution_count": null,
   "id": "88d1690e-4c6a-4bf7-8ab6-57ef17437bbd",
   "metadata": {},
   "outputs": [],
   "source": []
  }
 ],
 "metadata": {
  "kernelspec": {
   "display_name": "Python 3",
   "language": "python",
   "name": "python3"
  },
  "language_info": {
   "codemirror_mode": {
    "name": "ipython",
    "version": 3
   },
   "file_extension": ".py",
   "mimetype": "text/x-python",
   "name": "python",
   "nbconvert_exporter": "python",
   "pygments_lexer": "ipython3",
   "version": "3.8.8"
  }
 },
 "nbformat": 4,
 "nbformat_minor": 5
}
