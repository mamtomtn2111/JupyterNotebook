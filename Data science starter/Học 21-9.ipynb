{
 "cells": [
  {
   "cell_type": "code",
   "execution_count": null,
   "id": "c5346e8c-8ed8-4a36-ad79-2c387fac93e8",
   "metadata": {},
   "outputs": [],
   "source": [
    "from __future__ import print_function\n",
    "import numpy as np\n",
    "import matplotlib.pyplot as plt\n",
    "X = np.array([[147, 150, 153, 158, 163, 165, 168, 170, 173, 175, 178, 180,183]]).T  # height (cm), input data, each row is a data point\n",
    "# weight (kg)\n",
    "y = np.array([[ 49, 50, 51, 54, 58, 59, 60, 62, 63, 64, 66, 67, 68]]).T\n"
   ]
  },
  {
   "cell_type": "code",
   "execution_count": null,
   "id": "f8112f62-1606-4f9f-ac90-240d381d84a5",
   "metadata": {},
   "outputs": [],
   "source": [
    "# Building Xbar\n",
    "one = np.ones((X.shape[0], 1))\n",
    "Xbar = np.concatenate((one, X), axis = 1) # each row is one data point\n",
    "# Calculating weights of the linear regression model\n",
    "A = np.dot(Xbar.T, Xbar)\n",
    "b = np.dot(Xbar.T, y)\n",
    "w = np.dot(np.linalg.pinv(A), b)\n",
    "# weights\n",
    "w_0, w_1 = w[0], w[1]\n",
    "x0 = np.linspace(145, 185, 2)\n",
    "y0 = w_0 + w_1*x0\n",
    "\n",
    "plt.plot(X.T, y.T, \"ro\")\n",
    "plt.plot(x0, y0)\n",
    "plt.axis([140,190,45,75])"
   ]
  },
  {
   "cell_type": "code",
   "execution_count": null,
   "id": "53e6e88a-7f28-4dec-b874-8cb05fc6de21",
   "metadata": {},
   "outputs": [],
   "source": [
    "y1 = w_1*155 + w_0\n",
    "y2 = w_1*160 + w_0\n",
    "y3 = w_1*172 + w_0\n",
    "yGiant = w_1*230 + w_0\n",
    "e = y1 - 52\n",
    "print(\"Input 155cm, true output 52kg, predicted output %.2fkg\" %(y1) )\n",
    "print(\"Input 160cm, true output 56kg, predicted output %.2fkg\" %(y2) )\n",
    "print(\"Độ lệch là: \",e)\n",
    "\n",
    "print(\"Th Phương có chiều cao rơi vào 172cm, thì dự đoán cân nặng = %.2fkg\" %(y3) )\n",
    "print(\"Người khổng lồ 2m3 sẽ có dự đoán rơi vào: \", yGiant)"
   ]
  },
  {
   "cell_type": "code",
   "execution_count": null,
   "id": "16b06f6c-c06d-4d3b-81b5-1475a0a2534e",
   "metadata": {},
   "outputs": [],
   "source": [
    "from sklearn import datasets, linear_model\n",
    "# fit the model by Linear Regression\n",
    "regr = linear_model.LinearRegression()\n",
    "regr.fit(X, y) # in scikit-learn, each sample is one row\n",
    "# Compare two results\n",
    "print(\"scikit-learn’s solution: w_1 = \", regr.coef_[0], \"w_0 = \",\\\n",
    "regr.intercept_)\n",
    "print(\"our solution : w_1 = \", w[1], \"w_0 = \", w[0])"
   ]
  },
  {
   "cell_type": "code",
   "execution_count": null,
   "id": "675ec6ae-cf5e-4eea-b2d0-335fe68a2684",
   "metadata": {},
   "outputs": [],
   "source": [
    "plt.plot(X, y, 'bo')\n",
    "plt.axis([140,190,45,75])\n",
    "plt.xlabel(\"chiều cao (cm)\")\n",
    "plt.ylabel(\"Cân nặng (kg)\")\n",
    "plt.title(\"Chỉ số vóc dáng\")\n",
    "plt.show()"
   ]
  },
  {
   "cell_type": "code",
   "execution_count": null,
   "id": "7ae991fd-3a3b-4754-aa43-950a18b60142",
   "metadata": {},
   "outputs": [],
   "source": [
    "#giải bằng mô hình hôi qu tuyến tính có sẵn\n",
    "regr = linear_model.LinearRegression(fit_intercept = False)\n",
    "regr.fit(Xbar, y)\n",
    "\n",
    "\n",
    "#So sánh hai kết quả\n",
    "print('Nghiệp bởi sci: ', regr.coef_)\n",
    "print('Nghiệm tìm bởi công thức: ',w.T)"
   ]
  },
  {
   "cell_type": "code",
   "execution_count": null,
   "id": "0935557b-0e22-49f9-ad1d-aaea3ba37c0a",
   "metadata": {},
   "outputs": [],
   "source": []
  }
 ],
 "metadata": {
  "kernelspec": {
   "display_name": "Python 3",
   "language": "python",
   "name": "python3"
  },
  "language_info": {
   "codemirror_mode": {
    "name": "ipython",
    "version": 3
   },
   "file_extension": ".py",
   "mimetype": "text/x-python",
   "name": "python",
   "nbconvert_exporter": "python",
   "pygments_lexer": "ipython3",
   "version": "3.8.8"
  }
 },
 "nbformat": 4,
 "nbformat_minor": 5
}
