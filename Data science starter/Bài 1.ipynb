{
 "cells": [
  {
   "cell_type": "code",
   "execution_count": 9,
   "id": "e672094c-909e-4f3e-8953-69b14635260e",
   "metadata": {},
   "outputs": [
    {
     "name": "stdout",
     "output_type": "stream",
     "text": [
      "Function variable = 13\n",
      "Global variable = 13\n"
     ]
    }
   ],
   "source": [
    "a = 12\n",
    "def test():\n",
    "    global a\n",
    "    a = 13\n",
    "    print(f\"Function variable = {a}\")\n",
    "    \n",
    "test()\n",
    "print(\"Global variable =\",a)"
   ]
  },
  {
   "cell_type": "code",
   "execution_count": null,
   "id": "74a64804-19ba-4151-ab3e-812c6a2af7f1",
   "metadata": {},
   "outputs": [],
   "source": []
  }
 ],
 "metadata": {
  "kernelspec": {
   "display_name": "Python 3",
   "language": "python",
   "name": "python3"
  },
  "language_info": {
   "codemirror_mode": {
    "name": "ipython",
    "version": 3
   },
   "file_extension": ".py",
   "mimetype": "text/x-python",
   "name": "python",
   "nbconvert_exporter": "python",
   "pygments_lexer": "ipython3",
   "version": "3.8.8"
  }
 },
 "nbformat": 4,
 "nbformat_minor": 5
}
