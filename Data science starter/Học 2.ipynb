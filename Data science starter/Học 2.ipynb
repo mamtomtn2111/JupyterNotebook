{
 "cells": [
  {
   "cell_type": "code",
   "execution_count": 15,
   "id": "e8054813-277b-49c1-97ea-87aaeea2a0b3",
   "metadata": {},
   "outputs": [],
   "source": [
    "import pandas as pd\n",
    "import numpy as np\n",
    "import matplotlib as plt"
   ]
  },
  {
   "cell_type": "code",
   "execution_count": 2,
   "id": "ead5ea65-bcfc-47e9-9047-41c0b8d4ddf0",
   "metadata": {},
   "outputs": [
    {
     "name": "stdout",
     "output_type": "stream",
     "text": [
      "[[50, 'Self-emp-not-inc', 83311, 'Bachelors', 13, 'Married-civ-spouse', 'Exec-managerial', 'Husband', 'White', 'Male', 0, 0, 13, 'United-States', '<=50K\\n']]\n"
     ]
    }
   ],
   "source": [
    "file = open ('D:\\\\Tài liệu học tập\\\\2021-2022\\\\HK1\\\\Nhập môn KHDL\\\\adult.data','r')\n",
    "def chr_int (a):\n",
    "    if a. isdigit () : \n",
    "        return int (a)\n",
    "    else : \n",
    "        return 0\n",
    "data = []\n",
    "for line in file :\n",
    "    data1 = line . split (', ')\n",
    "    if len ( data1 ) == 15:\n",
    "        data . append ([ chr_int ( data1 [0]) , data1 [1] ,\n",
    "        chr_int ( data1 [2]) , data1 [3] ,\n",
    "        chr_int ( data1 [4]) , data1 [5] ,\n",
    "        data1 [6] , data1 [7] , data1 [8] ,\n",
    "        data1 [9] , chr_int ( data1 [10]) ,\n",
    "        chr_int ( data1 [11]) ,\n",
    "        chr_int ( data1 [12]) ,\n",
    "        data1 [13] , data1 [14]])\n",
    "\n",
    "print(data[1:2])"
   ]
  },
  {
   "cell_type": "code",
   "execution_count": 3,
   "id": "65b8d5f4-fd04-4c07-a6ea-c91c3e3139ce",
   "metadata": {},
   "outputs": [
    {
     "data": {
      "text/html": [
       "<div>\n",
       "<style scoped>\n",
       "    .dataframe tbody tr th:only-of-type {\n",
       "        vertical-align: middle;\n",
       "    }\n",
       "\n",
       "    .dataframe tbody tr th {\n",
       "        vertical-align: top;\n",
       "    }\n",
       "\n",
       "    .dataframe thead th {\n",
       "        text-align: right;\n",
       "    }\n",
       "</style>\n",
       "<table border=\"1\" class=\"dataframe\">\n",
       "  <thead>\n",
       "    <tr style=\"text-align: right;\">\n",
       "      <th></th>\n",
       "      <th>age</th>\n",
       "      <th>type_employer</th>\n",
       "      <th>fnlwgt</th>\n",
       "      <th>education</th>\n",
       "      <th>education_num</th>\n",
       "      <th>marital</th>\n",
       "      <th>occupation</th>\n",
       "      <th>relationship</th>\n",
       "      <th>race</th>\n",
       "      <th>sex</th>\n",
       "      <th>capital_gain</th>\n",
       "      <th>capital_loss</th>\n",
       "      <th>hr_per_week</th>\n",
       "      <th>country</th>\n",
       "      <th>income</th>\n",
       "    </tr>\n",
       "  </thead>\n",
       "  <tbody>\n",
       "    <tr>\n",
       "      <th>0</th>\n",
       "      <td>39</td>\n",
       "      <td>State-gov</td>\n",
       "      <td>77516</td>\n",
       "      <td>Bachelors</td>\n",
       "      <td>13</td>\n",
       "      <td>Never-married</td>\n",
       "      <td>Adm-clerical</td>\n",
       "      <td>Not-in-family</td>\n",
       "      <td>White</td>\n",
       "      <td>Male</td>\n",
       "      <td>2174</td>\n",
       "      <td>0</td>\n",
       "      <td>40</td>\n",
       "      <td>United-States</td>\n",
       "      <td>&lt;=50K\\n</td>\n",
       "    </tr>\n",
       "    <tr>\n",
       "      <th>1</th>\n",
       "      <td>50</td>\n",
       "      <td>Self-emp-not-inc</td>\n",
       "      <td>83311</td>\n",
       "      <td>Bachelors</td>\n",
       "      <td>13</td>\n",
       "      <td>Married-civ-spouse</td>\n",
       "      <td>Exec-managerial</td>\n",
       "      <td>Husband</td>\n",
       "      <td>White</td>\n",
       "      <td>Male</td>\n",
       "      <td>0</td>\n",
       "      <td>0</td>\n",
       "      <td>13</td>\n",
       "      <td>United-States</td>\n",
       "      <td>&lt;=50K\\n</td>\n",
       "    </tr>\n",
       "    <tr>\n",
       "      <th>2</th>\n",
       "      <td>38</td>\n",
       "      <td>Private</td>\n",
       "      <td>215646</td>\n",
       "      <td>HS-grad</td>\n",
       "      <td>9</td>\n",
       "      <td>Divorced</td>\n",
       "      <td>Handlers-cleaners</td>\n",
       "      <td>Not-in-family</td>\n",
       "      <td>White</td>\n",
       "      <td>Male</td>\n",
       "      <td>0</td>\n",
       "      <td>0</td>\n",
       "      <td>40</td>\n",
       "      <td>United-States</td>\n",
       "      <td>&lt;=50K\\n</td>\n",
       "    </tr>\n",
       "    <tr>\n",
       "      <th>3</th>\n",
       "      <td>53</td>\n",
       "      <td>Private</td>\n",
       "      <td>234721</td>\n",
       "      <td>11th</td>\n",
       "      <td>7</td>\n",
       "      <td>Married-civ-spouse</td>\n",
       "      <td>Handlers-cleaners</td>\n",
       "      <td>Husband</td>\n",
       "      <td>Black</td>\n",
       "      <td>Male</td>\n",
       "      <td>0</td>\n",
       "      <td>0</td>\n",
       "      <td>40</td>\n",
       "      <td>United-States</td>\n",
       "      <td>&lt;=50K\\n</td>\n",
       "    </tr>\n",
       "    <tr>\n",
       "      <th>4</th>\n",
       "      <td>28</td>\n",
       "      <td>Private</td>\n",
       "      <td>338409</td>\n",
       "      <td>Bachelors</td>\n",
       "      <td>13</td>\n",
       "      <td>Married-civ-spouse</td>\n",
       "      <td>Prof-specialty</td>\n",
       "      <td>Wife</td>\n",
       "      <td>Black</td>\n",
       "      <td>Female</td>\n",
       "      <td>0</td>\n",
       "      <td>0</td>\n",
       "      <td>40</td>\n",
       "      <td>Cuba</td>\n",
       "      <td>&lt;=50K\\n</td>\n",
       "    </tr>\n",
       "    <tr>\n",
       "      <th>...</th>\n",
       "      <td>...</td>\n",
       "      <td>...</td>\n",
       "      <td>...</td>\n",
       "      <td>...</td>\n",
       "      <td>...</td>\n",
       "      <td>...</td>\n",
       "      <td>...</td>\n",
       "      <td>...</td>\n",
       "      <td>...</td>\n",
       "      <td>...</td>\n",
       "      <td>...</td>\n",
       "      <td>...</td>\n",
       "      <td>...</td>\n",
       "      <td>...</td>\n",
       "      <td>...</td>\n",
       "    </tr>\n",
       "    <tr>\n",
       "      <th>32556</th>\n",
       "      <td>27</td>\n",
       "      <td>Private</td>\n",
       "      <td>257302</td>\n",
       "      <td>Assoc-acdm</td>\n",
       "      <td>12</td>\n",
       "      <td>Married-civ-spouse</td>\n",
       "      <td>Tech-support</td>\n",
       "      <td>Wife</td>\n",
       "      <td>White</td>\n",
       "      <td>Female</td>\n",
       "      <td>0</td>\n",
       "      <td>0</td>\n",
       "      <td>38</td>\n",
       "      <td>United-States</td>\n",
       "      <td>&lt;=50K\\n</td>\n",
       "    </tr>\n",
       "    <tr>\n",
       "      <th>32557</th>\n",
       "      <td>40</td>\n",
       "      <td>Private</td>\n",
       "      <td>154374</td>\n",
       "      <td>HS-grad</td>\n",
       "      <td>9</td>\n",
       "      <td>Married-civ-spouse</td>\n",
       "      <td>Machine-op-inspct</td>\n",
       "      <td>Husband</td>\n",
       "      <td>White</td>\n",
       "      <td>Male</td>\n",
       "      <td>0</td>\n",
       "      <td>0</td>\n",
       "      <td>40</td>\n",
       "      <td>United-States</td>\n",
       "      <td>&gt;50K\\n</td>\n",
       "    </tr>\n",
       "    <tr>\n",
       "      <th>32558</th>\n",
       "      <td>58</td>\n",
       "      <td>Private</td>\n",
       "      <td>151910</td>\n",
       "      <td>HS-grad</td>\n",
       "      <td>9</td>\n",
       "      <td>Widowed</td>\n",
       "      <td>Adm-clerical</td>\n",
       "      <td>Unmarried</td>\n",
       "      <td>White</td>\n",
       "      <td>Female</td>\n",
       "      <td>0</td>\n",
       "      <td>0</td>\n",
       "      <td>40</td>\n",
       "      <td>United-States</td>\n",
       "      <td>&lt;=50K\\n</td>\n",
       "    </tr>\n",
       "    <tr>\n",
       "      <th>32559</th>\n",
       "      <td>22</td>\n",
       "      <td>Private</td>\n",
       "      <td>201490</td>\n",
       "      <td>HS-grad</td>\n",
       "      <td>9</td>\n",
       "      <td>Never-married</td>\n",
       "      <td>Adm-clerical</td>\n",
       "      <td>Own-child</td>\n",
       "      <td>White</td>\n",
       "      <td>Male</td>\n",
       "      <td>0</td>\n",
       "      <td>0</td>\n",
       "      <td>20</td>\n",
       "      <td>United-States</td>\n",
       "      <td>&lt;=50K\\n</td>\n",
       "    </tr>\n",
       "    <tr>\n",
       "      <th>32560</th>\n",
       "      <td>52</td>\n",
       "      <td>Self-emp-inc</td>\n",
       "      <td>287927</td>\n",
       "      <td>HS-grad</td>\n",
       "      <td>9</td>\n",
       "      <td>Married-civ-spouse</td>\n",
       "      <td>Exec-managerial</td>\n",
       "      <td>Wife</td>\n",
       "      <td>White</td>\n",
       "      <td>Female</td>\n",
       "      <td>15024</td>\n",
       "      <td>0</td>\n",
       "      <td>40</td>\n",
       "      <td>United-States</td>\n",
       "      <td>&gt;50K\\n</td>\n",
       "    </tr>\n",
       "  </tbody>\n",
       "</table>\n",
       "<p>32561 rows × 15 columns</p>\n",
       "</div>"
      ],
      "text/plain": [
       "       age     type_employer  fnlwgt   education  education_num  \\\n",
       "0       39         State-gov   77516   Bachelors             13   \n",
       "1       50  Self-emp-not-inc   83311   Bachelors             13   \n",
       "2       38           Private  215646     HS-grad              9   \n",
       "3       53           Private  234721        11th              7   \n",
       "4       28           Private  338409   Bachelors             13   \n",
       "...    ...               ...     ...         ...            ...   \n",
       "32556   27           Private  257302  Assoc-acdm             12   \n",
       "32557   40           Private  154374     HS-grad              9   \n",
       "32558   58           Private  151910     HS-grad              9   \n",
       "32559   22           Private  201490     HS-grad              9   \n",
       "32560   52      Self-emp-inc  287927     HS-grad              9   \n",
       "\n",
       "                  marital         occupation   relationship   race     sex  \\\n",
       "0           Never-married       Adm-clerical  Not-in-family  White    Male   \n",
       "1      Married-civ-spouse    Exec-managerial        Husband  White    Male   \n",
       "2                Divorced  Handlers-cleaners  Not-in-family  White    Male   \n",
       "3      Married-civ-spouse  Handlers-cleaners        Husband  Black    Male   \n",
       "4      Married-civ-spouse     Prof-specialty           Wife  Black  Female   \n",
       "...                   ...                ...            ...    ...     ...   \n",
       "32556  Married-civ-spouse       Tech-support           Wife  White  Female   \n",
       "32557  Married-civ-spouse  Machine-op-inspct        Husband  White    Male   \n",
       "32558             Widowed       Adm-clerical      Unmarried  White  Female   \n",
       "32559       Never-married       Adm-clerical      Own-child  White    Male   \n",
       "32560  Married-civ-spouse    Exec-managerial           Wife  White  Female   \n",
       "\n",
       "       capital_gain  capital_loss  hr_per_week        country   income  \n",
       "0              2174             0           40  United-States  <=50K\\n  \n",
       "1                 0             0           13  United-States  <=50K\\n  \n",
       "2                 0             0           40  United-States  <=50K\\n  \n",
       "3                 0             0           40  United-States  <=50K\\n  \n",
       "4                 0             0           40           Cuba  <=50K\\n  \n",
       "...             ...           ...          ...            ...      ...  \n",
       "32556             0             0           38  United-States  <=50K\\n  \n",
       "32557             0             0           40  United-States   >50K\\n  \n",
       "32558             0             0           40  United-States  <=50K\\n  \n",
       "32559             0             0           20  United-States  <=50K\\n  \n",
       "32560         15024             0           40  United-States   >50K\\n  \n",
       "\n",
       "[32561 rows x 15 columns]"
      ]
     },
     "metadata": {},
     "output_type": "display_data"
    }
   ],
   "source": [
    "df = pd.DataFrame(data)\n",
    "df . columns = [\n",
    "'age', 'type_employer', 'fnlwgt',\n",
    "'education', 'education_num', 'marital',\n",
    "'occupation', 'relationship', 'race',\n",
    "'sex', 'capital_gain', 'capital_loss',\n",
    "'hr_per_week', 'country', 'income'\n",
    "]\n",
    "display(df)"
   ]
  },
  {
   "cell_type": "code",
   "execution_count": 4,
   "id": "d7812f8e-1e30-47b6-b0ef-a5335b122b96",
   "metadata": {},
   "outputs": [
    {
     "data": {
      "text/plain": [
       "(32561, 15)"
      ]
     },
     "execution_count": 4,
     "metadata": {},
     "output_type": "execute_result"
    }
   ],
   "source": [
    "df . shape"
   ]
  },
  {
   "cell_type": "code",
   "execution_count": 5,
   "id": "c2f06bd5-4344-48a5-8e6a-c0bdaa160fe1",
   "metadata": {},
   "outputs": [
    {
     "name": "stdout",
     "output_type": "stream",
     "text": [
      "country\n",
      "?                               583\n",
      "Cambodia                         19\n",
      "Canada                          121\n",
      "China                            75\n",
      "Columbia                         59\n",
      "Cuba                             95\n",
      "Dominican-Republic               70\n",
      "Ecuador                          28\n",
      "El-Salvador                     106\n",
      "England                          90\n",
      "France                           29\n",
      "Germany                         137\n",
      "Greece                           29\n",
      "Guatemala                        64\n",
      "Haiti                            44\n",
      "Holand-Netherlands                1\n",
      "Honduras                         13\n",
      "Hong                             20\n",
      "Hungary                          13\n",
      "India                           100\n",
      "Iran                             43\n",
      "Ireland                          24\n",
      "Italy                            73\n",
      "Jamaica                          81\n",
      "Japan                            62\n",
      "Laos                             18\n",
      "Mexico                          643\n",
      "Nicaragua                        34\n",
      "Outlying-US(Guam-USVI-etc)       14\n",
      "Peru                             31\n",
      "Philippines                     198\n",
      "Poland                           60\n",
      "Portugal                         37\n",
      "Puerto-Rico                     114\n",
      "Scotland                         12\n",
      "South                            80\n",
      "Taiwan                           51\n",
      "Thailand                         18\n",
      "Trinadad&Tobago                  19\n",
      "United-States                 29170\n",
      "Vietnam                          67\n",
      "Yugoslavia                       16\n",
      "dtype: int64\n"
     ]
    }
   ],
   "source": [
    "counts = df.groupby ('country').size ()\n",
    "print (counts)"
   ]
  },
  {
   "cell_type": "code",
   "execution_count": 6,
   "id": "d5bfcd66-15a9-4da4-b012-7e0ceb29dc01",
   "metadata": {},
   "outputs": [
    {
     "name": "stdout",
     "output_type": "stream",
     "text": [
      "education\n",
      "10th              933\n",
      "11th             1175\n",
      "12th              433\n",
      "1st-4th           168\n",
      "5th-6th           333\n",
      "7th-8th           646\n",
      "9th               514\n",
      "Assoc-acdm       1067\n",
      "Assoc-voc        1382\n",
      "Bachelors        5355\n",
      "Doctorate         413\n",
      "HS-grad         10501\n",
      "Masters          1723\n",
      "Preschool          51\n",
      "Prof-school       576\n",
      "Some-college     7291\n",
      "dtype: int64\n"
     ]
    }
   ],
   "source": [
    "counts = df.groupby ('education').size ()\n",
    "print (counts)"
   ]
  },
  {
   "cell_type": "code",
   "execution_count": 7,
   "id": "2f77f330-cd3d-401d-9e70-7ebd0c824ec0",
   "metadata": {},
   "outputs": [
    {
     "name": "stdout",
     "output_type": "stream",
     "text": [
      "sex\n",
      "Female    10771\n",
      "Male      21790\n",
      "dtype: int64\n"
     ]
    }
   ],
   "source": [
    "counts = df.groupby ('sex').size ()\n",
    "print (counts)"
   ]
  },
  {
   "cell_type": "code",
   "execution_count": 8,
   "id": "36843945-8840-47f8-81d4-98904f1015bf",
   "metadata": {},
   "outputs": [
    {
     "name": "stdout",
     "output_type": "stream",
     "text": [
      "type_employer\n",
      "?                    1836\n",
      "Federal-gov           960\n",
      "Local-gov            2093\n",
      "Never-worked            7\n",
      "Private             22696\n",
      "Self-emp-inc         1116\n",
      "Self-emp-not-inc     2541\n",
      "State-gov            1298\n",
      "Without-pay            14\n",
      "dtype: int64\n"
     ]
    }
   ],
   "source": [
    "counts = df.groupby ('type_employer').size ()\n",
    "print (counts)"
   ]
  },
  {
   "cell_type": "code",
   "execution_count": 9,
   "id": "b067c9b8-be99-4f36-b320-3b503d2e5314",
   "metadata": {},
   "outputs": [
    {
     "name": "stdout",
     "output_type": "stream",
     "text": [
      "income\n",
      "<=50K\\n    24720\n",
      ">50K\\n      7841\n",
      "dtype: int64\n"
     ]
    }
   ],
   "source": [
    "counts = df.groupby ('income').size ()\n",
    "print (counts)"
   ]
  },
  {
   "cell_type": "code",
   "execution_count": 11,
   "id": "8c1096ba-63b0-45d0-aad3-28353c981431",
   "metadata": {},
   "outputs": [
    {
     "data": {
      "text/html": [
       "<div>\n",
       "<style scoped>\n",
       "    .dataframe tbody tr th:only-of-type {\n",
       "        vertical-align: middle;\n",
       "    }\n",
       "\n",
       "    .dataframe tbody tr th {\n",
       "        vertical-align: top;\n",
       "    }\n",
       "\n",
       "    .dataframe thead th {\n",
       "        text-align: right;\n",
       "    }\n",
       "</style>\n",
       "<table border=\"1\" class=\"dataframe\">\n",
       "  <thead>\n",
       "    <tr style=\"text-align: right;\">\n",
       "      <th></th>\n",
       "      <th>age</th>\n",
       "    </tr>\n",
       "    <tr>\n",
       "      <th>race</th>\n",
       "      <th></th>\n",
       "    </tr>\n",
       "  </thead>\n",
       "  <tbody>\n",
       "    <tr>\n",
       "      <th>Amer-Indian-Eskimo</th>\n",
       "      <td>37.173633</td>\n",
       "    </tr>\n",
       "    <tr>\n",
       "      <th>Asian-Pac-Islander</th>\n",
       "      <td>37.746872</td>\n",
       "    </tr>\n",
       "    <tr>\n",
       "      <th>Black</th>\n",
       "      <td>37.767926</td>\n",
       "    </tr>\n",
       "    <tr>\n",
       "      <th>Other</th>\n",
       "      <td>33.457565</td>\n",
       "    </tr>\n",
       "    <tr>\n",
       "      <th>White</th>\n",
       "      <td>38.769881</td>\n",
       "    </tr>\n",
       "  </tbody>\n",
       "</table>\n",
       "</div>"
      ],
      "text/plain": [
       "                          age\n",
       "race                         \n",
       "Amer-Indian-Eskimo  37.173633\n",
       "Asian-Pac-Islander  37.746872\n",
       "Black               37.767926\n",
       "Other               33.457565\n",
       "White               38.769881"
      ]
     },
     "metadata": {},
     "output_type": "display_data"
    }
   ],
   "source": [
    "groupType_employer = df[[\"race\",\"age\"]].groupby(\"race\").mean()\n",
    "display(groupType_employer)"
   ]
  },
  {
   "cell_type": "code",
   "execution_count": 12,
   "id": "008eca7a-d3a3-4e44-a3cb-969921384355",
   "metadata": {},
   "outputs": [
    {
     "data": {
      "text/plain": [
       "<AxesSubplot:title={'center':'Trung bình tuổi của các race'}, xlabel='race'>"
      ]
     },
     "execution_count": 12,
     "metadata": {},
     "output_type": "execute_result"
    },
    {
     "data": {
      "image/png": "[encoded data removed]",
      "text/plain": [
       "<Figure size 432x288 with 1 Axes>"
      ]
     },
     "metadata": {
      "needs_background": "light"
     },
     "output_type": "display_data"
    }
   ],
   "source": [
    "groupType_employer.plot(kind = 'bar', style = 'c', alpha = 0.4, title = 'Trung bình tuổi của các race')"
   ]
  },
  {
   "cell_type": "code",
   "execution_count": 13,
   "id": "b4aad2ba-772b-4a53-b549-87c5a090aab2",
   "metadata": {},
   "outputs": [
    {
     "data": {
      "text/html": [
       "<div>\n",
       "<style scoped>\n",
       "    .dataframe tbody tr th:only-of-type {\n",
       "        vertical-align: middle;\n",
       "    }\n",
       "\n",
       "    .dataframe tbody tr th {\n",
       "        vertical-align: top;\n",
       "    }\n",
       "\n",
       "    .dataframe thead th {\n",
       "        text-align: right;\n",
       "    }\n",
       "</style>\n",
       "<table border=\"1\" class=\"dataframe\">\n",
       "  <thead>\n",
       "    <tr style=\"text-align: right;\">\n",
       "      <th>race</th>\n",
       "      <th>Amer-Indian-Eskimo</th>\n",
       "      <th>Asian-Pac-Islander</th>\n",
       "      <th>Black</th>\n",
       "      <th>Other</th>\n",
       "      <th>White</th>\n",
       "    </tr>\n",
       "    <tr>\n",
       "      <th>country</th>\n",
       "      <th></th>\n",
       "      <th></th>\n",
       "      <th></th>\n",
       "      <th></th>\n",
       "      <th></th>\n",
       "    </tr>\n",
       "  </thead>\n",
       "  <tbody>\n",
       "    <tr>\n",
       "      <th>?</th>\n",
       "      <td>NaN</td>\n",
       "      <td>36.554217</td>\n",
       "      <td>36.020833</td>\n",
       "      <td>36.444444</td>\n",
       "      <td>39.971503</td>\n",
       "    </tr>\n",
       "    <tr>\n",
       "      <th>Cambodia</th>\n",
       "      <td>NaN</td>\n",
       "      <td>38.888889</td>\n",
       "      <td>18.000000</td>\n",
       "      <td>NaN</td>\n",
       "      <td>NaN</td>\n",
       "    </tr>\n",
       "    <tr>\n",
       "      <th>Canada</th>\n",
       "      <td>NaN</td>\n",
       "      <td>38.000000</td>\n",
       "      <td>NaN</td>\n",
       "      <td>44.000000</td>\n",
       "      <td>42.571429</td>\n",
       "    </tr>\n",
       "    <tr>\n",
       "      <th>China</th>\n",
       "      <td>NaN</td>\n",
       "      <td>42.301370</td>\n",
       "      <td>NaN</td>\n",
       "      <td>NaN</td>\n",
       "      <td>51.000000</td>\n",
       "    </tr>\n",
       "    <tr>\n",
       "      <th>Columbia</th>\n",
       "      <td>39.000000</td>\n",
       "      <td>NaN</td>\n",
       "      <td>NaN</td>\n",
       "      <td>39.428571</td>\n",
       "      <td>39.764706</td>\n",
       "    </tr>\n",
       "    <tr>\n",
       "      <th>Cuba</th>\n",
       "      <td>NaN</td>\n",
       "      <td>NaN</td>\n",
       "      <td>34.666667</td>\n",
       "      <td>24.500000</td>\n",
       "      <td>46.611111</td>\n",
       "    </tr>\n",
       "    <tr>\n",
       "      <th>Dominican-Republic</th>\n",
       "      <td>NaN</td>\n",
       "      <td>23.000000</td>\n",
       "      <td>36.083333</td>\n",
       "      <td>39.555556</td>\n",
       "      <td>37.769231</td>\n",
       "    </tr>\n",
       "    <tr>\n",
       "      <th>Ecuador</th>\n",
       "      <td>NaN</td>\n",
       "      <td>NaN</td>\n",
       "      <td>NaN</td>\n",
       "      <td>30.555556</td>\n",
       "      <td>39.526316</td>\n",
       "    </tr>\n",
       "    <tr>\n",
       "      <th>El-Salvador</th>\n",
       "      <td>NaN</td>\n",
       "      <td>NaN</td>\n",
       "      <td>41.000000</td>\n",
       "      <td>31.250000</td>\n",
       "      <td>34.178218</td>\n",
       "    </tr>\n",
       "    <tr>\n",
       "      <th>England</th>\n",
       "      <td>NaN</td>\n",
       "      <td>28.000000</td>\n",
       "      <td>33.750000</td>\n",
       "      <td>NaN</td>\n",
       "      <td>42.049383</td>\n",
       "    </tr>\n",
       "    <tr>\n",
       "      <th>France</th>\n",
       "      <td>NaN</td>\n",
       "      <td>NaN</td>\n",
       "      <td>27.000000</td>\n",
       "      <td>NaN</td>\n",
       "      <td>39.392857</td>\n",
       "    </tr>\n",
       "    <tr>\n",
       "      <th>Germany</th>\n",
       "      <td>46.000000</td>\n",
       "      <td>25.333333</td>\n",
       "      <td>30.500000</td>\n",
       "      <td>29.000000</td>\n",
       "      <td>40.185484</td>\n",
       "    </tr>\n",
       "    <tr>\n",
       "      <th>Greece</th>\n",
       "      <td>NaN</td>\n",
       "      <td>32.000000</td>\n",
       "      <td>NaN</td>\n",
       "      <td>NaN</td>\n",
       "      <td>46.714286</td>\n",
       "    </tr>\n",
       "    <tr>\n",
       "      <th>Guatemala</th>\n",
       "      <td>NaN</td>\n",
       "      <td>NaN</td>\n",
       "      <td>NaN</td>\n",
       "      <td>24.000000</td>\n",
       "      <td>32.983333</td>\n",
       "    </tr>\n",
       "    <tr>\n",
       "      <th>Haiti</th>\n",
       "      <td>NaN</td>\n",
       "      <td>35.000000</td>\n",
       "      <td>38.348837</td>\n",
       "      <td>NaN</td>\n",
       "      <td>NaN</td>\n",
       "    </tr>\n",
       "    <tr>\n",
       "      <th>Holand-Netherlands</th>\n",
       "      <td>NaN</td>\n",
       "      <td>NaN</td>\n",
       "      <td>NaN</td>\n",
       "      <td>NaN</td>\n",
       "      <td>32.000000</td>\n",
       "    </tr>\n",
       "    <tr>\n",
       "      <th>Honduras</th>\n",
       "      <td>NaN</td>\n",
       "      <td>NaN</td>\n",
       "      <td>58.000000</td>\n",
       "      <td>NaN</td>\n",
       "      <td>31.833333</td>\n",
       "    </tr>\n",
       "    <tr>\n",
       "      <th>Hong</th>\n",
       "      <td>33.000000</td>\n",
       "      <td>33.647059</td>\n",
       "      <td>NaN</td>\n",
       "      <td>NaN</td>\n",
       "      <td>34.000000</td>\n",
       "    </tr>\n",
       "    <tr>\n",
       "      <th>Hungary</th>\n",
       "      <td>NaN</td>\n",
       "      <td>NaN</td>\n",
       "      <td>NaN</td>\n",
       "      <td>NaN</td>\n",
       "      <td>49.384615</td>\n",
       "    </tr>\n",
       "    <tr>\n",
       "      <th>India</th>\n",
       "      <td>NaN</td>\n",
       "      <td>38.035294</td>\n",
       "      <td>51.000000</td>\n",
       "      <td>41.600000</td>\n",
       "      <td>33.250000</td>\n",
       "    </tr>\n",
       "    <tr>\n",
       "      <th>Iran</th>\n",
       "      <td>NaN</td>\n",
       "      <td>34.500000</td>\n",
       "      <td>NaN</td>\n",
       "      <td>39.000000</td>\n",
       "      <td>40.285714</td>\n",
       "    </tr>\n",
       "    <tr>\n",
       "      <th>Ireland</th>\n",
       "      <td>NaN</td>\n",
       "      <td>23.000000</td>\n",
       "      <td>NaN</td>\n",
       "      <td>NaN</td>\n",
       "      <td>37.043478</td>\n",
       "    </tr>\n",
       "    <tr>\n",
       "      <th>Italy</th>\n",
       "      <td>NaN</td>\n",
       "      <td>NaN</td>\n",
       "      <td>NaN</td>\n",
       "      <td>NaN</td>\n",
       "      <td>46.424658</td>\n",
       "    </tr>\n",
       "    <tr>\n",
       "      <th>Jamaica</th>\n",
       "      <td>NaN</td>\n",
       "      <td>NaN</td>\n",
       "      <td>36.266667</td>\n",
       "      <td>26.000000</td>\n",
       "      <td>27.400000</td>\n",
       "    </tr>\n",
       "    <tr>\n",
       "      <th>Japan</th>\n",
       "      <td>NaN</td>\n",
       "      <td>42.184211</td>\n",
       "      <td>28.333333</td>\n",
       "      <td>30.000000</td>\n",
       "      <td>32.789474</td>\n",
       "    </tr>\n",
       "    <tr>\n",
       "      <th>Laos</th>\n",
       "      <td>NaN</td>\n",
       "      <td>34.722222</td>\n",
       "      <td>NaN</td>\n",
       "      <td>NaN</td>\n",
       "      <td>NaN</td>\n",
       "    </tr>\n",
       "    <tr>\n",
       "      <th>Mexico</th>\n",
       "      <td>28.125000</td>\n",
       "      <td>39.000000</td>\n",
       "      <td>24.750000</td>\n",
       "      <td>33.550000</td>\n",
       "      <td>33.391525</td>\n",
       "    </tr>\n",
       "    <tr>\n",
       "      <th>Nicaragua</th>\n",
       "      <td>NaN</td>\n",
       "      <td>NaN</td>\n",
       "      <td>32.500000</td>\n",
       "      <td>32.750000</td>\n",
       "      <td>33.821429</td>\n",
       "    </tr>\n",
       "    <tr>\n",
       "      <th>Outlying-US(Guam-USVI-etc)</th>\n",
       "      <td>NaN</td>\n",
       "      <td>NaN</td>\n",
       "      <td>40.666667</td>\n",
       "      <td>NaN</td>\n",
       "      <td>37.250000</td>\n",
       "    </tr>\n",
       "    <tr>\n",
       "      <th>Peru</th>\n",
       "      <td>NaN</td>\n",
       "      <td>NaN</td>\n",
       "      <td>NaN</td>\n",
       "      <td>23.000000</td>\n",
       "      <td>35.666667</td>\n",
       "    </tr>\n",
       "    <tr>\n",
       "      <th>Philippines</th>\n",
       "      <td>49.000000</td>\n",
       "      <td>39.595745</td>\n",
       "      <td>33.000000</td>\n",
       "      <td>NaN</td>\n",
       "      <td>35.500000</td>\n",
       "    </tr>\n",
       "    <tr>\n",
       "      <th>Poland</th>\n",
       "      <td>NaN</td>\n",
       "      <td>26.000000</td>\n",
       "      <td>NaN</td>\n",
       "      <td>NaN</td>\n",
       "      <td>43.406780</td>\n",
       "    </tr>\n",
       "    <tr>\n",
       "      <th>Portugal</th>\n",
       "      <td>NaN</td>\n",
       "      <td>38.000000</td>\n",
       "      <td>NaN</td>\n",
       "      <td>NaN</td>\n",
       "      <td>40.361111</td>\n",
       "    </tr>\n",
       "    <tr>\n",
       "      <th>Puerto-Rico</th>\n",
       "      <td>47.000000</td>\n",
       "      <td>23.000000</td>\n",
       "      <td>39.555556</td>\n",
       "      <td>38.380952</td>\n",
       "      <td>41.292683</td>\n",
       "    </tr>\n",
       "    <tr>\n",
       "      <th>Scotland</th>\n",
       "      <td>NaN</td>\n",
       "      <td>NaN</td>\n",
       "      <td>NaN</td>\n",
       "      <td>NaN</td>\n",
       "      <td>40.416667</td>\n",
       "    </tr>\n",
       "    <tr>\n",
       "      <th>South</th>\n",
       "      <td>30.500000</td>\n",
       "      <td>39.181818</td>\n",
       "      <td>NaN</td>\n",
       "      <td>NaN</td>\n",
       "      <td>22.000000</td>\n",
       "    </tr>\n",
       "    <tr>\n",
       "      <th>Taiwan</th>\n",
       "      <td>NaN</td>\n",
       "      <td>33.958333</td>\n",
       "      <td>NaN</td>\n",
       "      <td>30.000000</td>\n",
       "      <td>32.500000</td>\n",
       "    </tr>\n",
       "    <tr>\n",
       "      <th>Thailand</th>\n",
       "      <td>NaN</td>\n",
       "      <td>36.250000</td>\n",
       "      <td>NaN</td>\n",
       "      <td>NaN</td>\n",
       "      <td>24.500000</td>\n",
       "    </tr>\n",
       "    <tr>\n",
       "      <th>Trinadad&amp;Tobago</th>\n",
       "      <td>NaN</td>\n",
       "      <td>39.000000</td>\n",
       "      <td>41.375000</td>\n",
       "      <td>45.000000</td>\n",
       "      <td>NaN</td>\n",
       "    </tr>\n",
       "    <tr>\n",
       "      <th>United-States</th>\n",
       "      <td>37.368243</td>\n",
       "      <td>37.037671</td>\n",
       "      <td>37.895127</td>\n",
       "      <td>31.441860</td>\n",
       "      <td>38.809375</td>\n",
       "    </tr>\n",
       "    <tr>\n",
       "      <th>Vietnam</th>\n",
       "      <td>NaN</td>\n",
       "      <td>34.030769</td>\n",
       "      <td>NaN</td>\n",
       "      <td>NaN</td>\n",
       "      <td>35.000000</td>\n",
       "    </tr>\n",
       "    <tr>\n",
       "      <th>Yugoslavia</th>\n",
       "      <td>NaN</td>\n",
       "      <td>NaN</td>\n",
       "      <td>NaN</td>\n",
       "      <td>NaN</td>\n",
       "      <td>38.812500</td>\n",
       "    </tr>\n",
       "  </tbody>\n",
       "</table>\n",
       "</div>"
      ],
      "text/plain": [
       "race                        Amer-Indian-Eskimo  Asian-Pac-Islander      Black  \\\n",
       "country                                                                         \n",
       "?                                          NaN           36.554217  36.020833   \n",
       "Cambodia                                   NaN           38.888889  18.000000   \n",
       "Canada                                     NaN           38.000000        NaN   \n",
       "China                                      NaN           42.301370        NaN   \n",
       "Columbia                             39.000000                 NaN        NaN   \n",
       "Cuba                                       NaN                 NaN  34.666667   \n",
       "Dominican-Republic                         NaN           23.000000  36.083333   \n",
       "Ecuador                                    NaN                 NaN        NaN   \n",
       "El-Salvador                                NaN                 NaN  41.000000   \n",
       "England                                    NaN           28.000000  33.750000   \n",
       "France                                     NaN                 NaN  27.000000   \n",
       "Germany                              46.000000           25.333333  30.500000   \n",
       "Greece                                     NaN           32.000000        NaN   \n",
       "Guatemala                                  NaN                 NaN        NaN   \n",
       "Haiti                                      NaN           35.000000  38.348837   \n",
       "Holand-Netherlands                         NaN                 NaN        NaN   \n",
       "Honduras                                   NaN                 NaN  58.000000   \n",
       "Hong                                 33.000000           33.647059        NaN   \n",
       "Hungary                                    NaN                 NaN        NaN   \n",
       "India                                      NaN           38.035294  51.000000   \n",
       "Iran                                       NaN           34.500000        NaN   \n",
       "Ireland                                    NaN           23.000000        NaN   \n",
       "Italy                                      NaN                 NaN        NaN   \n",
       "Jamaica                                    NaN                 NaN  36.266667   \n",
       "Japan                                      NaN           42.184211  28.333333   \n",
       "Laos                                       NaN           34.722222        NaN   \n",
       "Mexico                               28.125000           39.000000  24.750000   \n",
       "Nicaragua                                  NaN                 NaN  32.500000   \n",
       "Outlying-US(Guam-USVI-etc)                 NaN                 NaN  40.666667   \n",
       "Peru                                       NaN                 NaN        NaN   \n",
       "Philippines                          49.000000           39.595745  33.000000   \n",
       "Poland                                     NaN           26.000000        NaN   \n",
       "Portugal                                   NaN           38.000000        NaN   \n",
       "Puerto-Rico                          47.000000           23.000000  39.555556   \n",
       "Scotland                                   NaN                 NaN        NaN   \n",
       "South                                30.500000           39.181818        NaN   \n",
       "Taiwan                                     NaN           33.958333        NaN   \n",
       "Thailand                                   NaN           36.250000        NaN   \n",
       "Trinadad&Tobago                            NaN           39.000000  41.375000   \n",
       "United-States                        37.368243           37.037671  37.895127   \n",
       "Vietnam                                    NaN           34.030769        NaN   \n",
       "Yugoslavia                                 NaN                 NaN        NaN   \n",
       "\n",
       "race                            Other      White  \n",
       "country                                           \n",
       "?                           36.444444  39.971503  \n",
       "Cambodia                          NaN        NaN  \n",
       "Canada                      44.000000  42.571429  \n",
       "China                             NaN  51.000000  \n",
       "Columbia                    39.428571  39.764706  \n",
       "Cuba                        24.500000  46.611111  \n",
       "Dominican-Republic          39.555556  37.769231  \n",
       "Ecuador                     30.555556  39.526316  \n",
       "El-Salvador                 31.250000  34.178218  \n",
       "England                           NaN  42.049383  \n",
       "France                            NaN  39.392857  \n",
       "Germany                     29.000000  40.185484  \n",
       "Greece                            NaN  46.714286  \n",
       "Guatemala                   24.000000  32.983333  \n",
       "Haiti                             NaN        NaN  \n",
       "Holand-Netherlands                NaN  32.000000  \n",
       "Honduras                          NaN  31.833333  \n",
       "Hong                              NaN  34.000000  \n",
       "Hungary                           NaN  49.384615  \n",
       "India                       41.600000  33.250000  \n",
       "Iran                        39.000000  40.285714  \n",
       "Ireland                           NaN  37.043478  \n",
       "Italy                             NaN  46.424658  \n",
       "Jamaica                     26.000000  27.400000  \n",
       "Japan                       30.000000  32.789474  \n",
       "Laos                              NaN        NaN  \n",
       "Mexico                      33.550000  33.391525  \n",
       "Nicaragua                   32.750000  33.821429  \n",
       "Outlying-US(Guam-USVI-etc)        NaN  37.250000  \n",
       "Peru                        23.000000  35.666667  \n",
       "Philippines                       NaN  35.500000  \n",
       "Poland                            NaN  43.406780  \n",
       "Portugal                          NaN  40.361111  \n",
       "Puerto-Rico                 38.380952  41.292683  \n",
       "Scotland                          NaN  40.416667  \n",
       "South                             NaN  22.000000  \n",
       "Taiwan                      30.000000  32.500000  \n",
       "Thailand                          NaN  24.500000  \n",
       "Trinadad&Tobago             45.000000        NaN  \n",
       "United-States               31.441860  38.809375  \n",
       "Vietnam                           NaN  35.000000  \n",
       "Yugoslavia                        NaN  38.812500  "
      ]
     },
     "execution_count": 13,
     "metadata": {},
     "output_type": "execute_result"
    }
   ],
   "source": [
    "pivdata = pd.pivot_table(df, values = 'age', index = ['country'], columns = [\"race\"])\n",
    "pivdata"
   ]
  },
  {
   "cell_type": "code",
   "execution_count": 19,
   "id": "6d4fa8e7-9e43-4dd6-ace5-2ca5c4670bc6",
   "metadata": {},
   "outputs": [
    {
     "name": "stdout",
     "output_type": "stream",
     "text": [
      "Tổng:\n",
      " country\n",
      "?           583\n",
      "Cambodia     19\n",
      "Canada      121\n",
      "China        75\n",
      "Columbia     59\n",
      "dtype: int64\n"
     ]
    }
   ],
   "source": [
    "counts = df.groupby('country').size()\n",
    "print(\"Tổng:\\n\", counts.head())"
   ]
  },
  {
   "cell_type": "code",
   "execution_count": null,
   "id": "9bf29dd4-6804-4476-a8de-2aa242343b97",
   "metadata": {},
   "outputs": [
    {
     "name": "stdout",
     "output_type": "stream",
     "text": [
      "Tỉ lệ mà những người với thu nhập cao: 24.080955744602438 %\n",
      "Tỉ lệ mà những người với thu nhập thấp: 75.91904425539757 %\n"
     ]
    }
   ],
   "source": [
    "df1 = df [( df . income == '>50K\\n')]\n",
    "print(\"Tỉ lệ mà những người với thu nhập cao:\",\n",
    "      int(len(df1) / float(len(df)) * 100), '%')\n",
    "df0 = df[(df . income == '<=50K\\n')]\n",
    "print(\"Tỉ lệ mà những người với thu nhập thấp:\",\n",
    "      int(len(df0) / float(len(df)) * 100), '%')"
   ]
  },
  {
   "cell_type": "code",
   "execution_count": 85,
   "id": "57a80af5-47cc-46fc-8d6a-b7e71f493316",
   "metadata": {},
   "outputs": [],
   "source": [
    "vn = df [df.country == 'Vietnam']\n",
    "vn1 = df[(df . country == 'Vietnam') & (df . income == '>50K\\n')]\n",
    "vn0 =  df[(df . country == 'Vietnam') & (df . income == '<=50K\\n')]\n",
    "VnSingle = vn[vn.relationship == 'Unmarried']"
   ]
  },
  {
   "cell_type": "code",
   "execution_count": 86,
   "id": "1a91bc56-0013-4995-99e2-d6050939bc45",
   "metadata": {},
   "outputs": [
    {
     "name": "stdout",
     "output_type": "stream",
     "text": [
      "Tuổi trung bình của người việt thu nhập cao:  35.4\n",
      "Tuổi trung bình của người việt thu nhập thấp:  33.95161290322581\n",
      "Tuổi trung bình của người việt nam độc thân:  32.0\n"
     ]
    }
   ],
   "source": [
    "print('Tuổi trung bình của người việt thu nhập cao: ', vn1['age'].mean())\n",
    "print('Tuổi trung bình của người việt thu nhập thấp: ', vn0['age'].mean())\n",
    "print(\"Tuổi trung bình của người việt nam độc thân: \",VnSingle['age'].mean())"
   ]
  },
  {
   "cell_type": "code",
   "execution_count": 81,
   "id": "29e54409-9680-4f0a-8dd3-224287bda950",
   "metadata": {},
   "outputs": [
    {
     "data": {
      "text/html": [
       "<div>\n",
       "<style scoped>\n",
       "    .dataframe tbody tr th:only-of-type {\n",
       "        vertical-align: middle;\n",
       "    }\n",
       "\n",
       "    .dataframe tbody tr th {\n",
       "        vertical-align: top;\n",
       "    }\n",
       "\n",
       "    .dataframe thead th {\n",
       "        text-align: right;\n",
       "    }\n",
       "</style>\n",
       "<table border=\"1\" class=\"dataframe\">\n",
       "  <thead>\n",
       "    <tr style=\"text-align: right;\">\n",
       "      <th></th>\n",
       "      <th>country</th>\n",
       "      <th>number of people</th>\n",
       "    </tr>\n",
       "  </thead>\n",
       "  <tbody>\n",
       "    <tr>\n",
       "      <th>0</th>\n",
       "      <td>Mexico</td>\n",
       "      <td>643</td>\n",
       "    </tr>\n",
       "    <tr>\n",
       "      <th>1</th>\n",
       "      <td>?</td>\n",
       "      <td>583</td>\n",
       "    </tr>\n",
       "    <tr>\n",
       "      <th>2</th>\n",
       "      <td>Philippines</td>\n",
       "      <td>198</td>\n",
       "    </tr>\n",
       "    <tr>\n",
       "      <th>3</th>\n",
       "      <td>Germany</td>\n",
       "      <td>137</td>\n",
       "    </tr>\n",
       "    <tr>\n",
       "      <th>4</th>\n",
       "      <td>Canada</td>\n",
       "      <td>121</td>\n",
       "    </tr>\n",
       "  </tbody>\n",
       "</table>\n",
       "</div>"
      ],
      "text/plain": [
       "       country  number of people\n",
       "0       Mexico               643\n",
       "1            ?               583\n",
       "2  Philippines               198\n",
       "3      Germany               137\n",
       "4       Canada               121"
      ]
     },
     "metadata": {},
     "output_type": "display_data"
    }
   ],
   "source": [
    "GlobalExceptAmerica = df[(df.country != 'United-States')]\n",
    "CountryCount = GlobalExceptAmerica.country.value_counts().rename_axis('country').reset_index(name='number of people')\n",
    "display(CountryCount.head())"
   ]
  },
  {
   "cell_type": "code",
   "execution_count": 78,
   "id": "638c0501-37ca-4b2f-b034-8a648153d5e9",
   "metadata": {},
   "outputs": [
    {
     "data": {
      "text/plain": [
       "array([[<AxesSubplot:title={'center':'number of people'}>]], dtype=object)"
      ]
     },
     "execution_count": 80,
     "metadata": {},
     "output_type": "execute_result"
    },
    {
     "data": {
      "image/png": "[encoded data removed]",
      "text/plain": [
       "<Figure size 432x288 with 1 Axes>"
      ]
     },
     "metadata": {
      "needs_background": "light"
     },
     "output_type": "display_data"
    }
   ],
   "source": [
    "CountryCount.hist(histtype = 'stepfilled', bins = 30)"
   ]
  },
  {
   "cell_type": "code",
   "execution_count": 94,
   "id": "06ef062f-91fa-40be-a1f5-a98d0bb4dd28",
   "metadata": {},
   "outputs": [],
   "source": [
    "vnMale = vn[vn.sex == 'Male']\n",
    "vnFemale = vn [vn.sex == 'Female'] "
   ]
  },
  {
   "cell_type": "code",
   "execution_count": 95,
   "id": "3fe27614-852a-43b1-b4db-69085d65121c",
   "metadata": {},
   "outputs": [
    {
     "data": {
      "text/plain": [
       "array([[<AxesSubplot:title={'center':'age'}>,\n",
       "        <AxesSubplot:title={'center':'fnlwgt'}>],\n",
       "       [<AxesSubplot:title={'center':'education_num'}>,\n",
       "        <AxesSubplot:title={'center':'capital_gain'}>],\n",
       "       [<AxesSubplot:title={'center':'capital_loss'}>,\n",
       "        <AxesSubplot:title={'center':'hr_per_week'}>]], dtype=object)"
      ]
     },
     "execution_count": 95,
     "metadata": {},
     "output_type": "execute_result"
    },
    {
     "data": {
      "image/png": "[encoded data removed]",
      "text/plain": [
       "<Figure size 432x288 with 6 Axes>"
      ]
     },
     "metadata": {
      "needs_background": "light"
     },
     "output_type": "display_data"
    },
    {
     "data": {
      "image/png": "[encoded data removed]",
      "text/plain": [
       "<Figure size 432x288 with 6 Axes>"
      ]
     },
     "metadata": {
      "needs_background": "light"
     },
     "output_type": "display_data"
    }
   ],
   "source": [
    "vnMale.hist(histtype = 'stepfilled', bins = 30)\n",
    "vnFemale.hist(histtype = 'stepfilled', bins = 30)"
   ]
  },
  {
   "cell_type": "code",
   "execution_count": 105,
   "id": "5ef4341a-08d3-4c73-8427-e7ea528fbbc7",
   "metadata": {},
   "outputs": [
    {
     "data": {
      "text/plain": [
       "<AxesSubplot:>"
      ]
     },
     "execution_count": 105,
     "metadata": {},
     "output_type": "execute_result"
    },
    {
     "data": {
      "image/png": "[encoded data removed]",
      "text/plain": [
       "<Figure size 432x288 with 1 Axes>"
      ]
     },
     "metadata": {
      "needs_background": "light"
     },
     "output_type": "display_data"
    }
   ],
   "source": [
    "\n",
    "Vnml = vn [( vn . sex == 'Male')]\n",
    "ml_age = Vnml ['age']\n",
    "ml_age . hist (histtype = 'stepfilled',bins = 20)"
   ]
  },
  {
   "cell_type": "code",
   "execution_count": 106,
   "id": "4a5daf56-3a65-43f0-bcdd-df2a77499300",
   "metadata": {},
   "outputs": [
    {
     "data": {
      "text/plain": [
       "<AxesSubplot:>"
      ]
     },
     "execution_count": 106,
     "metadata": {},
     "output_type": "execute_result"
    },
    {
     "data": {
      "image/png": "[encoded data removed]",
      "text/plain": [
       "<Figure size 432x288 with 1 Axes>"
      ]
     },
     "metadata": {
      "needs_background": "light"
     },
     "output_type": "display_data"
    }
   ],
   "source": [
    "ml_age = ml['education_num']\n",
    "ml_age.hist(histtype = 'stepfilled', bins = 20)"
   ]
  },
  {
   "cell_type": "code",
   "execution_count": 112,
   "id": "41fb3dc7-8636-4e01-b149-96e3f7bf702c",
   "metadata": {},
   "outputs": [
    {
     "data": {
      "text/plain": [
       "<AxesSubplot:title={'center':'Biểu số dân nhập cư'}, xlabel='country'>"
      ]
     },
     "execution_count": 112,
     "metadata": {},
     "output_type": "execute_result"
    },
    {
     "data": {
      "image/png": "[encoded data removed]",
      "text/plain": [
       "<Figure size 432x288 with 1 Axes>"
      ]
     },
     "metadata": {
      "needs_background": "light"
     },
     "output_type": "display_data"
    }
   ],
   "source": [
    "counts = GlobalExceptAmerica.groupby ('country').size ()\n",
    "counts.plot(kind='bar',style ='b', alpha=1, title =\"Biểu số dân nhập cư\")"
   ]
  },
  {
   "cell_type": "code",
   "execution_count": null,
   "id": "022aa855-28d0-400c-8730-e69733bf609b",
   "metadata": {},
   "outputs": [],
   "source": []
  }
 ],
 "metadata": {
  "kernelspec": {
   "display_name": "Python 3 (ipykernel)",
   "language": "python",
   "name": "python3"
  },
  "language_info": {
   "codemirror_mode": {
    "name": "ipython",
    "version": 3
   },
   "file_extension": ".py",
   "mimetype": "text/x-python",
   "name": "python",
   "nbconvert_exporter": "python",
   "pygments_lexer": "ipython3",
   "version": "3.8.11"
  }
 },
 "nbformat": 4,
 "nbformat_minor": 5
}
