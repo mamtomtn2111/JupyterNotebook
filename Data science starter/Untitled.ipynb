{
 "cells": [
  {
   "cell_type": "code",
   "execution_count": 8,
   "id": "e884f7d7-1772-485d-a093-f5cd4eaa31e3",
   "metadata": {},
   "outputs": [
    {
     "ename": "SyntaxError",
     "evalue": "invalid syntax (<ipython-input-8-c3b45a92cbf7>, line 1)",
     "output_type": "error",
     "traceback": [
      "\u001b[1;36m  File \u001b[1;32m\"<ipython-input-8-c3b45a92cbf7>\"\u001b[1;36m, line \u001b[1;32m1\u001b[0m\n\u001b[1;33m    ipcluster start\u001b[0m\n\u001b[1;37m              ^\u001b[0m\n\u001b[1;31mSyntaxError\u001b[0m\u001b[1;31m:\u001b[0m invalid syntax\n"
     ]
    }
   ],
   "source": [
    "ipcluster start"
   ]
  },
  {
   "cell_type": "code",
   "execution_count": 14,
   "id": "bf4ac103-29ad-4ce4-98c3-d29e0dc76d3c",
   "metadata": {},
   "outputs": [
    {
     "ename": "NameError",
     "evalue": "name 'parallel' is not defined",
     "output_type": "error",
     "traceback": [
      "\u001b[1;31m---------------------------------------------------------------------------\u001b[0m",
      "\u001b[1;31mNameError\u001b[0m                                 Traceback (most recent call last)",
      "\u001b[1;32m<ipython-input-14-2d71a3eba441>\u001b[0m in \u001b[0;36m<module>\u001b[1;34m\u001b[0m\n\u001b[0;32m      1\u001b[0m \u001b[1;32mfrom\u001b[0m \u001b[0mIPython\u001b[0m\u001b[1;33m.\u001b[0m\u001b[0mparallel\u001b[0m \u001b[1;32mimport\u001b[0m \u001b[0mClient\u001b[0m\u001b[1;33m\u001b[0m\u001b[1;33m\u001b[0m\u001b[0m\n\u001b[1;32m----> 2\u001b[1;33m \u001b[0mengines\u001b[0m \u001b[1;33m=\u001b[0m \u001b[0mparallel\u001b[0m \u001b[1;33m.\u001b[0m \u001b[0mClient\u001b[0m \u001b[1;33m(\u001b[0m\u001b[1;33m)\u001b[0m\u001b[1;33m\u001b[0m\u001b[1;33m\u001b[0m\u001b[0m\n\u001b[0m\u001b[0;32m      3\u001b[0m \u001b[0mengines\u001b[0m \u001b[1;33m.\u001b[0m \u001b[0mblock\u001b[0m \u001b[1;33m=\u001b[0m \u001b[1;32mTrue\u001b[0m\u001b[1;33m\u001b[0m\u001b[1;33m\u001b[0m\u001b[0m\n\u001b[0;32m      4\u001b[0m \u001b[0mprint\u001b[0m \u001b[1;33m(\u001b[0m\u001b[0mengines\u001b[0m \u001b[1;33m.\u001b[0m \u001b[0mids\u001b[0m\u001b[1;33m)\u001b[0m\u001b[1;33m\u001b[0m\u001b[1;33m\u001b[0m\u001b[0m\n",
      "\u001b[1;31mNameError\u001b[0m: name 'parallel' is not defined"
     ]
    }
   ],
   "source": [
    "from IPython.parallel import Client\n",
    "engines = parallel . Client ()\n",
    "engines . block = True\n",
    "print (engines . ids)\n"
   ]
  },
  {
   "cell_type": "code",
   "execution_count": 5,
   "id": "c896090a-4df8-42df-90c3-11e631206e39",
   "metadata": {},
   "outputs": [
    {
     "ename": "NameError",
     "evalue": "name 'engines' is not defined",
     "output_type": "error",
     "traceback": [
      "\u001b[1;31m---------------------------------------------------------------------------\u001b[0m",
      "\u001b[1;31mNameError\u001b[0m                                 Traceback (most recent call last)",
      "\u001b[1;32m<ipython-input-5-02b52daa1fe8>\u001b[0m in \u001b[0;36m<module>\u001b[1;34m\u001b[0m\n\u001b[1;32m----> 1\u001b[1;33m \u001b[0mengines\u001b[0m \u001b[1;33m[\u001b[0m\u001b[1;36m0\u001b[0m\u001b[1;33m]\u001b[0m\u001b[1;33m.\u001b[0m \u001b[0mexecute\u001b[0m \u001b[1;33m(\u001b[0m \u001b[1;34m\"a = 2\"\u001b[0m\u001b[1;33m)\u001b[0m\u001b[1;33m\u001b[0m\u001b[1;33m\u001b[0m\u001b[0m\n\u001b[0m\u001b[0;32m      2\u001b[0m \u001b[0mengines\u001b[0m \u001b[1;33m[\u001b[0m\u001b[1;36m0\u001b[0m\u001b[1;33m]\u001b[0m\u001b[1;33m.\u001b[0m \u001b[0mexecute\u001b[0m \u001b[1;33m(\u001b[0m \u001b[1;34m\"b = 10\"\u001b[0m\u001b[1;33m)\u001b[0m\u001b[1;33m\u001b[0m\u001b[1;33m\u001b[0m\u001b[0m\n\u001b[0;32m      3\u001b[0m \u001b[0mengines\u001b[0m \u001b[1;33m[\u001b[0m\u001b[1;36m0\u001b[0m\u001b[1;33m]\u001b[0m\u001b[1;33m.\u001b[0m \u001b[0mexecute\u001b[0m \u001b[1;33m(\u001b[0m \u001b[1;34m\"c = a + b \"\u001b[0m\u001b[1;33m)\u001b[0m\u001b[1;33m\u001b[0m\u001b[1;33m\u001b[0m\u001b[0m\n",
      "\u001b[1;31mNameError\u001b[0m: name 'engines' is not defined"
     ]
    }
   ],
   "source": [
    "engines [0]. execute ( \"a = 2\")\n",
    "engines [0]. execute ( \"b = 10\")\n",
    "engines [0]. execute ( \"c = a + b \")"
   ]
  },
  {
   "cell_type": "code",
   "execution_count": 18,
   "id": "53697e67-6b1e-4881-86f0-c455e5cf34ca",
   "metadata": {},
   "outputs": [
    {
     "data": {
      "text/plain": [
       "12"
      ]
     },
     "execution_count": 18,
     "metadata": {},
     "output_type": "execute_result"
    }
   ],
   "source": [
    "engines [0]. pull ( \"c\" )"
   ]
  },
  {
   "cell_type": "code",
   "execution_count": 24,
   "id": "bf02e6a4-2512-41e0-b02f-df67340194ce",
   "metadata": {},
   "outputs": [
    {
     "data": {
      "text/plain": [
       "<AsyncResult: execute:finished>"
      ]
     },
     "execution_count": 24,
     "metadata": {},
     "output_type": "execute_result"
    }
   ],
   "source": [
    "engines [0]. execute (\"a = 2\")\n",
    "engines [0]. execute ( \"b = 10\")\n",
    "engines [1]. execute ( \"a = 9\" )\n",
    "engines [1]. execute ( \"b = 7\" )\n",
    "engines [0:2]. execute ( \"c = a + b\" )"
   ]
  },
  {
   "cell_type": "code",
   "execution_count": 25,
   "id": "1b0340ab-31aa-40c9-947d-ce191eef57db",
   "metadata": {},
   "outputs": [
    {
     "data": {
      "text/plain": [
       "[12, 16]"
      ]
     },
     "execution_count": 25,
     "metadata": {},
     "output_type": "execute_result"
    }
   ],
   "source": [
    "engines [0:2]. pull ( \"c\" )"
   ]
  },
  {
   "cell_type": "code",
   "execution_count": 26,
   "id": "9ca94219-d967-4113-b5e7-f94410df13e0",
   "metadata": {},
   "outputs": [],
   "source": [
    "dview2 = engines [0:2]\n",
    "dview = engines . direct_view ()"
   ]
  },
  {
   "cell_type": "code",
   "execution_count": 51,
   "id": "8dfb07d3-2ade-4fbf-8622-1a0c9909d342",
   "metadata": {},
   "outputs": [],
   "source": [
    "import numpy as np"
   ]
  },
  {
   "cell_type": "code",
   "execution_count": 64,
   "id": "c4b1c77b-2e8b-4678-b83f-312b8e4179ed",
   "metadata": {},
   "outputs": [
    {
     "name": "stdout",
     "output_type": "stream",
     "text": [
      "[[1 6]\n",
      " [2 4]\n",
      " [3 2]]\n",
      "[[8 1 2]\n",
      " [2 4 1]]\n"
     ]
    }
   ],
   "source": [
    "A0 = np.array([[1,2,3],[6,4,2]])\n",
    "A1 = np.array([[8,2],[1,4],[2,1]])\n",
    "B0 = A0.T\n",
    "B1 = A1.T\n",
    "print(B0)\n",
    "print(B1)"
   ]
  },
  {
   "cell_type": "code",
   "execution_count": null,
   "id": "938f8714-0313-4c47-935d-02872fef9f68",
   "metadata": {},
   "outputs": [],
   "source": [
    "dview2 . execute ( 'import numpy as np')\n",
    "engines [0]. push ( dict (A=A0 , B= B0 ))\n",
    "engines [1]. push ( dict (A=A1 , B= B1 ))\n",
    "dview2 . execute ( \"C = np . dot (A ,B)\")\n",
    "dview2 . pull ( \"C\")"
   ]
  },
  {
   "cell_type": "code",
   "execution_count": null,
   "id": "86d8d97c-b42a-4f18-a1c7-9e305b21bf44",
   "metadata": {},
   "outputs": [],
   "source": []
  },
  {
   "cell_type": "code",
   "execution_count": null,
   "id": "d3bb9449-7325-4de4-8c47-379ac92dc3b5",
   "metadata": {},
   "outputs": [],
   "source": []
  }
 ],
 "metadata": {
  "kernelspec": {
   "display_name": "Python 3",
   "language": "python",
   "name": "python3"
  },
  "language_info": {
   "codemirror_mode": {
    "name": "ipython",
    "version": 3
   },
   "file_extension": ".py",
   "mimetype": "text/x-python",
   "name": "python",
   "nbconvert_exporter": "python",
   "pygments_lexer": "ipython3",
   "version": "3.8.8"
  }
 },
 "nbformat": 4,
 "nbformat_minor": 5
}
