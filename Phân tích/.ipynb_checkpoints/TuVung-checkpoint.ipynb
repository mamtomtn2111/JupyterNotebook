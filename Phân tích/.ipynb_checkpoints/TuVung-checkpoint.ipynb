{
 "cells": [
  {
   "cell_type": "code",
   "execution_count": 52,
   "id": "6b9d1366-168d-4e85-879d-32e3028f20eb",
   "metadata": {},
   "outputs": [],
   "source": [
    "import numpy as np\n",
    "import pandas as pd"
   ]
  },
  {
   "cell_type": "code",
   "execution_count": 75,
   "id": "ff43773b-6211-46b5-b22f-f2c9ac60febe",
   "metadata": {},
   "outputs": [
    {
     "name": "stdout",
     "output_type": "stream",
     "text": [
      "{'국문', '국어', '네', '보기', '국적', '대학교', '학과', '대학생'}\n"
     ]
    }
   ],
   "source": [
    "userTuVung = pd.read_excel(\"C:\\\\Users\\\\mamto\\\\OneDrive\\\\Máy tính\\\\Data\\\\17_tbl_ontuvung.xlsx\")\n",
    "listTuVung = list(userTuVung['tudahoc'])\n",
    "setTu = set()\n",
    "for i in listTuVung:\n",
    "    listA = i.split(\", \")\n",
    "    setTu.update(listA)\n",
    "print(setTu)"
   ]
  },
  {
   "cell_type": "code",
   "execution_count": 83,
   "id": "20c239db-4ba3-42a6-a0fe-5a7df6dacd3c",
   "metadata": {},
   "outputs": [
    {
     "data": {
      "text/html": [
       "<div>\n",
       "<style scoped>\n",
       "    .dataframe tbody tr th:only-of-type {\n",
       "        vertical-align: middle;\n",
       "    }\n",
       "\n",
       "    .dataframe tbody tr th {\n",
       "        vertical-align: top;\n",
       "    }\n",
       "\n",
       "    .dataframe thead th {\n",
       "        text-align: right;\n",
       "    }\n",
       "</style>\n",
       "<table border=\"1\" class=\"dataframe\">\n",
       "  <thead>\n",
       "    <tr style=\"text-align: right;\">\n",
       "      <th></th>\n",
       "      <th>id</th>\n",
       "      <th>userid</th>\n",
       "      <th>topik</th>\n",
       "      <th>danhmuc</th>\n",
       "      <th>tudahoc</th>\n",
       "      <th>tungtudahoc</th>\n",
       "    </tr>\n",
       "  </thead>\n",
       "  <tbody>\n",
       "    <tr>\n",
       "      <th>0</th>\n",
       "      <td>1.0</td>\n",
       "      <td>1</td>\n",
       "      <td>1, 2</td>\n",
       "      <td>Giới thiệu</td>\n",
       "      <td>국어, 국문, 학과, 국적, 네, 대학교, 대학생, 보기</td>\n",
       "      <td>4</td>\n",
       "    </tr>\n",
       "    <tr>\n",
       "      <th>1</th>\n",
       "      <td>2.0</td>\n",
       "      <td>1</td>\n",
       "      <td>1, 2</td>\n",
       "      <td>Trường học</td>\n",
       "      <td>국어, 국문, 학과, 국적, 네, 대학교, 대학생, 보기</td>\n",
       "      <td>4</td>\n",
       "    </tr>\n",
       "    <tr>\n",
       "      <th>2</th>\n",
       "      <td>NaN</td>\n",
       "      <td>1</td>\n",
       "      <td>1</td>\n",
       "      <td>Trường học</td>\n",
       "      <td>국어, 국문</td>\n",
       "      <td>4</td>\n",
       "    </tr>\n",
       "    <tr>\n",
       "      <th>3</th>\n",
       "      <td>NaN</td>\n",
       "      <td>1</td>\n",
       "      <td>2</td>\n",
       "      <td>Trường học</td>\n",
       "      <td>학과, 국적, 네</td>\n",
       "      <td>4</td>\n",
       "    </tr>\n",
       "  </tbody>\n",
       "</table>\n",
       "</div>"
      ],
      "text/plain": [
       "    id  userid topik     danhmuc                          tudahoc  tungtudahoc\n",
       "0  1.0       1  1, 2  Giới thiệu  국어, 국문, 학과, 국적, 네, 대학교, 대학생, 보기            4\n",
       "1  2.0       1  1, 2  Trường học  국어, 국문, 학과, 국적, 네, 대학교, 대학생, 보기            4\n",
       "2  NaN       1     1  Trường học                           국어, 국문            4\n",
       "3  NaN       1     2  Trường học                        학과, 국적, 네            4"
      ]
     },
     "execution_count": 84,
     "metadata": {},
     "output_type": "execute_result"
    }
   ],
   "source": [
    "userTuVung[\"tungtudahoc\"] = userTuVung[\"tudahoc\"].str.split(\",\")\n",
    "userTuVung"
   ]
  },
  {
   "cell_type": "code",
   "execution_count": 65,
   "id": "0ff780df-f855-4a21-907a-35cb55996e80",
   "metadata": {},
   "outputs": [
    {
     "name": "stdout",
     "output_type": "stream",
     "text": [
      "{'3', '6', '5', '2', '1'}\n"
     ]
    }
   ],
   "source": [
    "listA = set()\n",
    "stringA = '1, 2, 3'\n",
    "temp = stringA.split(\", \")\n",
    "listA.update(temp)\n",
    "\n",
    "stringB = '1, 5, 6'\n",
    "temp2 = stringB.split(\", \")\n",
    "listA.update(temp2)\n",
    "print(listA)"
   ]
  },
  {
   "cell_type": "code",
   "execution_count": null,
   "id": "55ee9bfc-429f-42c7-9705-d3e3f8dc0786",
   "metadata": {},
   "outputs": [],
   "source": []
  }
 ],
 "metadata": {
  "kernelspec": {
   "display_name": "Python 3 (ipykernel)",
   "language": "python",
   "name": "python3"
  },
  "language_info": {
   "codemirror_mode": {
    "name": "ipython",
    "version": 3
   },
   "file_extension": ".py",
   "mimetype": "text/x-python",
   "name": "python",
   "nbconvert_exporter": "python",
   "pygments_lexer": "ipython3",
   "version": "3.8.11"
  }
 },
 "nbformat": 4,
 "nbformat_minor": 5
}
