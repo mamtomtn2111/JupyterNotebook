{
 "cells": [
  {
   "cell_type": "code",
   "execution_count": 1,
   "id": "6b9d1366-168d-4e85-879d-32e3028f20eb",
   "metadata": {},
   "outputs": [],
   "source": [
    "import numpy as np\n",
    "import pandas as pd"
   ]
  },
  {
   "cell_type": "code",
   "execution_count": 11,
   "id": "ff43773b-6211-46b5-b22f-f2c9ac60febe",
   "metadata": {},
   "outputs": [
    {
     "name": "stdout",
     "output_type": "stream",
     "text": [
      "{'대학생', '국어', '네', '학과', '국문', '대학교', '보기', 'study', 'School', '국적'}\n"
     ]
    }
   ],
   "source": [
    "userTuVung = pd.read_excel(\"C:\\\\Users\\\\mamto\\\\Desktop\\\\DataExcelProject1\\\\ManageTuVung_seventeen_tbl_ontuvung.xlsx\")\n",
    "listTuVung = list(userTuVung['tudahoc'])\n",
    "setTu = set()\n",
    "for i in listTuVung:\n",
    "    listA = i.split(\", \")\n",
    "    setTu.update(listA)\n",
    "print(setTu)"
   ]
  },
  {
   "cell_type": "code",
   "execution_count": 12,
   "id": "20c239db-4ba3-42a6-a0fe-5a7df6dacd3c",
   "metadata": {},
   "outputs": [
    {
     "data": {
      "text/html": [
       "<div>\n",
       "<style scoped>\n",
       "    .dataframe tbody tr th:only-of-type {\n",
       "        vertical-align: middle;\n",
       "    }\n",
       "\n",
       "    .dataframe tbody tr th {\n",
       "        vertical-align: top;\n",
       "    }\n",
       "\n",
       "    .dataframe thead th {\n",
       "        text-align: right;\n",
       "    }\n",
       "</style>\n",
       "<table border=\"1\" class=\"dataframe\">\n",
       "  <thead>\n",
       "    <tr style=\"text-align: right;\">\n",
       "      <th></th>\n",
       "      <th>id</th>\n",
       "      <th>userid</th>\n",
       "      <th>topik</th>\n",
       "      <th>danhmuc</th>\n",
       "      <th>tudahoc</th>\n",
       "      <th>tungtudahoc</th>\n",
       "      <th>Sotudahoc</th>\n",
       "    </tr>\n",
       "  </thead>\n",
       "  <tbody>\n",
       "    <tr>\n",
       "      <th>0</th>\n",
       "      <td>1</td>\n",
       "      <td>1</td>\n",
       "      <td>1, 2</td>\n",
       "      <td>Giới thiệu</td>\n",
       "      <td>국어, 국문, 학과, 국적, 네, 대학교, 대학생, 보기</td>\n",
       "      <td>[국어,  국문,  학과,  국적,  네,  대학교,  대학생,  보기]</td>\n",
       "      <td>8</td>\n",
       "    </tr>\n",
       "    <tr>\n",
       "      <th>1</th>\n",
       "      <td>2</td>\n",
       "      <td>1</td>\n",
       "      <td>1, 2</td>\n",
       "      <td>Trường học</td>\n",
       "      <td>국어, 국문, 학과, 국적, 네, 대학교, 대학생, 보기</td>\n",
       "      <td>[국어,  국문,  학과,  국적,  네,  대학교,  대학생,  보기]</td>\n",
       "      <td>8</td>\n",
       "    </tr>\n",
       "    <tr>\n",
       "      <th>2</th>\n",
       "      <td>3</td>\n",
       "      <td>1</td>\n",
       "      <td>1, 2</td>\n",
       "      <td>Trường học</td>\n",
       "      <td>국어, 국문</td>\n",
       "      <td>[국어,  국문]</td>\n",
       "      <td>2</td>\n",
       "    </tr>\n",
       "    <tr>\n",
       "      <th>3</th>\n",
       "      <td>4</td>\n",
       "      <td>1</td>\n",
       "      <td>3, 4</td>\n",
       "      <td>Trường học</td>\n",
       "      <td>학과, 국적, 네</td>\n",
       "      <td>[학과,  국적,  네]</td>\n",
       "      <td>3</td>\n",
       "    </tr>\n",
       "    <tr>\n",
       "      <th>4</th>\n",
       "      <td>5</td>\n",
       "      <td>1</td>\n",
       "      <td>5, 6</td>\n",
       "      <td>Trường học</td>\n",
       "      <td>School, study</td>\n",
       "      <td>[School,  study]</td>\n",
       "      <td>2</td>\n",
       "    </tr>\n",
       "  </tbody>\n",
       "</table>\n",
       "</div>"
      ],
      "text/plain": [
       "   id  userid topik     danhmuc                          tudahoc  \\\n",
       "0   1       1  1, 2  Giới thiệu  국어, 국문, 학과, 국적, 네, 대학교, 대학생, 보기   \n",
       "1   2       1  1, 2  Trường học  국어, 국문, 학과, 국적, 네, 대학교, 대학생, 보기   \n",
       "2   3       1  1, 2  Trường học                           국어, 국문   \n",
       "3   4       1  3, 4  Trường học                        학과, 국적, 네   \n",
       "4   5       1  5, 6  Trường học                    School, study   \n",
       "\n",
       "                                tungtudahoc  Sotudahoc  \n",
       "0  [국어,  국문,  학과,  국적,  네,  대학교,  대학생,  보기]          8  \n",
       "1  [국어,  국문,  학과,  국적,  네,  대학교,  대학생,  보기]          8  \n",
       "2                                 [국어,  국문]          2  \n",
       "3                             [학과,  국적,  네]          3  \n",
       "4                          [School,  study]          2  "
      ]
     },
     "metadata": {},
     "output_type": "display_data"
    },
    {
     "data": {
      "text/plain": [
       "['국어',\n",
       " ' 국문',\n",
       " ' 학과',\n",
       " ' 국적',\n",
       " ' 네',\n",
       " ' 대학교',\n",
       " ' 대학생',\n",
       " ' 보기',\n",
       " '국어',\n",
       " ' 국문',\n",
       " ' 학과',\n",
       " ' 국적',\n",
       " ' 네',\n",
       " ' 대학교',\n",
       " ' 대학생',\n",
       " ' 보기',\n",
       " '국어',\n",
       " ' 국문',\n",
       " '학과',\n",
       " ' 국적',\n",
       " ' 네',\n",
       " 'School',\n",
       " ' study']"
      ]
     },
     "execution_count": 12,
     "metadata": {},
     "output_type": "execute_result"
    }
   ],
   "source": [
    "userTuVung[\"tungtudahoc\"] = userTuVung[\"tudahoc\"].str.split(\",\")\n",
    "userTuVung[\"Sotudahoc\"] = userTuVung[\"tungtudahoc\"].str.len()\n",
    "display(userTuVung)\n",
    "listTuVung = []\n",
    "for i in list(userTuVung[\"tungtudahoc\"]):\n",
    "    listTuVung += i\n",
    "\n",
    "listTuVung\n",
    "# GroupbyTopik = userTuVung[[\"topik\",\"Sotudahoc\"]].groupby(\"topik\", as_index = False).sum()\n",
    "# GroupbyTopik"
   ]
  },
  {
   "cell_type": "code",
   "execution_count": 10,
   "id": "be44b013-e9ec-44ba-a48f-682a43f5ec3a",
   "metadata": {},
   "outputs": [],
   "source": [
    "userTuVung[\"tungtudahoc\"] = userTuVung[\"tudahoc\"].str.split(\",\")\n",
    "userTuVung[\"Sotudahoc\"] = userTuVung[\"tungtudahoc\"].str.len()\n",
    "Topik12 = userTuVung[userTuVung[\"topik\"] == \"1, 2\" ]\n"
   ]
  },
  {
   "cell_type": "code",
   "execution_count": 4,
   "id": "52496849-b9c8-4a3e-a37a-9370f5924658",
   "metadata": {},
   "outputs": [
    {
     "data": {
      "text/plain": [
       "list"
      ]
     },
     "execution_count": 4,
     "metadata": {},
     "output_type": "execute_result"
    }
   ],
   "source": []
  },
  {
   "cell_type": "code",
   "execution_count": 5,
   "id": "0ff780df-f855-4a21-907a-35cb55996e80",
   "metadata": {},
   "outputs": [
    {
     "name": "stdout",
     "output_type": "stream",
     "text": [
      "{'6', '1', '5', '2', '3'}\n"
     ]
    }
   ],
   "source": [
    "listA = set()\n",
    "stringA = '1, 2, 3'\n",
    "temp = stringA.split(\", \")\n",
    "listA.update(temp)\n",
    "\n",
    "stringB = '1, 5, 6'\n",
    "temp2 = stringB.split(\", \")\n",
    "listA.update(temp2)\n",
    "print(listA)"
   ]
  },
  {
   "cell_type": "code",
   "execution_count": 6,
   "id": "55ee9bfc-429f-42c7-9705-d3e3f8dc0786",
   "metadata": {},
   "outputs": [
    {
     "data": {
      "text/html": [
       "<div>\n",
       "<style scoped>\n",
       "    .dataframe tbody tr th:only-of-type {\n",
       "        vertical-align: middle;\n",
       "    }\n",
       "\n",
       "    .dataframe tbody tr th {\n",
       "        vertical-align: top;\n",
       "    }\n",
       "\n",
       "    .dataframe thead th {\n",
       "        text-align: right;\n",
       "    }\n",
       "</style>\n",
       "<table border=\"1\" class=\"dataframe\">\n",
       "  <thead>\n",
       "    <tr style=\"text-align: right;\">\n",
       "      <th></th>\n",
       "      <th>Sotudahoc</th>\n",
       "    </tr>\n",
       "    <tr>\n",
       "      <th>danhmuc</th>\n",
       "      <th></th>\n",
       "    </tr>\n",
       "  </thead>\n",
       "  <tbody>\n",
       "    <tr>\n",
       "      <th>Trường học</th>\n",
       "      <td>15</td>\n",
       "    </tr>\n",
       "    <tr>\n",
       "      <th>Giới thiệu</th>\n",
       "      <td>8</td>\n",
       "    </tr>\n",
       "  </tbody>\n",
       "</table>\n",
       "</div>"
      ],
      "text/plain": [
       "            Sotudahoc\n",
       "danhmuc              \n",
       "Trường học         15\n",
       "Giới thiệu          8"
      ]
     },
     "execution_count": 6,
     "metadata": {},
     "output_type": "execute_result"
    }
   ],
   "source": [
    "SoTuHocDuocTheoDanhMuc = userTuVung[[\"danhmuc\",\"Sotudahoc\"]].groupby(\"danhmuc\").sum().sort_values(by=\"Sotudahoc\",ascending = False)\n",
    "SoTuHocDuocTheoDanhMuc"
   ]
  },
  {
   "cell_type": "code",
   "execution_count": 7,
   "id": "75b83b47-61e0-4ee2-aa3f-38161728700b",
   "metadata": {},
   "outputs": [
    {
     "name": "stdout",
     "output_type": "stream",
     "text": [
      "b\n",
      "g\n"
     ]
    }
   ],
   "source": [
    "a = {'1': [\"a\",\"b\",\"c\",\"d\"], '2': [\"c\",\"g\",\"h\"]}\n",
    "for x,y in a.items():\n",
    "    print(y[1])"
   ]
  },
  {
   "cell_type": "code",
   "execution_count": null,
   "id": "29ff6d5d-740b-4f64-a203-317c3fe98fcf",
   "metadata": {},
   "outputs": [],
   "source": []
  }
 ],
 "metadata": {
  "kernelspec": {
   "display_name": "Python 3",
   "language": "python",
   "name": "python3"
  },
  "language_info": {
   "codemirror_mode": {
    "name": "ipython",
    "version": 3
   },
   "file_extension": ".py",
   "mimetype": "text/x-python",
   "name": "python",
   "nbconvert_exporter": "python",
   "pygments_lexer": "ipython3",
   "version": "3.8.8"
  }
 },
 "nbformat": 4,
 "nbformat_minor": 5
}
