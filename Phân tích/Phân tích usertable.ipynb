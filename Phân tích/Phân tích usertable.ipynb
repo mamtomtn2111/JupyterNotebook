{
 "cells": [
  {
   "cell_type": "code",
   "execution_count": 17,
   "id": "548383d1-47ed-4ef5-847b-f6ce56046943",
   "metadata": {},
   "outputs": [],
   "source": [
    "import numpy as np\n",
    "import pandas as pd\n",
    "from datetime import date, datetime\n",
    "import seaborn as sns\n",
    "import matplotlib.pyplot as plt\n",
    "from matplotlib.pyplot import figure"
   ]
  },
  {
   "cell_type": "code",
   "execution_count": 4,
   "id": "168b4caf-945e-4f22-bf35-ae4958c7009b",
   "metadata": {},
   "outputs": [
    {
     "data": {
      "text/html": [
       "<div>\n",
       "<style scoped>\n",
       "    .dataframe tbody tr th:only-of-type {\n",
       "        vertical-align: middle;\n",
       "    }\n",
       "\n",
       "    .dataframe tbody tr th {\n",
       "        vertical-align: top;\n",
       "    }\n",
       "\n",
       "    .dataframe thead th {\n",
       "        text-align: right;\n",
       "    }\n",
       "</style>\n",
       "<table border=\"1\" class=\"dataframe\">\n",
       "  <thead>\n",
       "    <tr style=\"text-align: right;\">\n",
       "      <th></th>\n",
       "      <th>id</th>\n",
       "      <th>username</th>\n",
       "      <th>password</th>\n",
       "      <th>userid</th>\n",
       "      <th>gender</th>\n",
       "      <th>Address</th>\n",
       "      <th>Date_of_bird</th>\n",
       "      <th>login_method</th>\n",
       "      <th>is_active(fb, gg =  1)</th>\n",
       "      <th>date_created</th>\n",
       "      <th>IP_address</th>\n",
       "      <th>active_token</th>\n",
       "      <th>reset_token</th>\n",
       "    </tr>\n",
       "  </thead>\n",
       "  <tbody>\n",
       "    <tr>\n",
       "      <th>0</th>\n",
       "      <td>NaN</td>\n",
       "      <td>huyhuyvu01@gmail.com</td>\n",
       "      <td>123456</td>\n",
       "      <td>2.201030e+09</td>\n",
       "      <td>Male</td>\n",
       "      <td>NaN</td>\n",
       "      <td>2001-12-01</td>\n",
       "      <td>Facebook</td>\n",
       "      <td>0</td>\n",
       "      <td>2021-01-01 10:56:11+07</td>\n",
       "      <td>113.176.251.74</td>\n",
       "      <td>abc</td>\n",
       "      <td>abc</td>\n",
       "    </tr>\n",
       "    <tr>\n",
       "      <th>1</th>\n",
       "      <td>NaN</td>\n",
       "      <td>huyhuyvu02@gmail.com</td>\n",
       "      <td>huy123123</td>\n",
       "      <td>2.201030e+09</td>\n",
       "      <td>Male</td>\n",
       "      <td>NaN</td>\n",
       "      <td>2001-10-02</td>\n",
       "      <td>Facebook</td>\n",
       "      <td>1</td>\n",
       "      <td>2022-01-03 10:41:54.553997+07</td>\n",
       "      <td>113.170.132.21</td>\n",
       "      <td>abc</td>\n",
       "      <td>abc</td>\n",
       "    </tr>\n",
       "    <tr>\n",
       "      <th>2</th>\n",
       "      <td>NaN</td>\n",
       "      <td>mamtomtn2001@gmail.com</td>\n",
       "      <td>vuhai123</td>\n",
       "      <td>2.201030e+09</td>\n",
       "      <td>Female</td>\n",
       "      <td>NaN</td>\n",
       "      <td>2010-06-02</td>\n",
       "      <td>Facebook</td>\n",
       "      <td>0</td>\n",
       "      <td>2022-01-03 02:43:47.142815+07</td>\n",
       "      <td>113.170.132.22</td>\n",
       "      <td>abc</td>\n",
       "      <td>abc</td>\n",
       "    </tr>\n",
       "    <tr>\n",
       "      <th>3</th>\n",
       "      <td>NaN</td>\n",
       "      <td>phamdinhlam@gmail.com</td>\n",
       "      <td>huy123124</td>\n",
       "      <td>2.201040e+09</td>\n",
       "      <td>Male</td>\n",
       "      <td>NaN</td>\n",
       "      <td>2013-01-28</td>\n",
       "      <td>Facebook</td>\n",
       "      <td>1</td>\n",
       "      <td>2022-01-03 02:48:39.214508+07</td>\n",
       "      <td>113.170.132.23</td>\n",
       "      <td>abc</td>\n",
       "      <td>abc</td>\n",
       "    </tr>\n",
       "    <tr>\n",
       "      <th>4</th>\n",
       "      <td>NaN</td>\n",
       "      <td>vuhai@gmail.com</td>\n",
       "      <td>vuhai124</td>\n",
       "      <td>2.201040e+09</td>\n",
       "      <td>Female</td>\n",
       "      <td>NaN</td>\n",
       "      <td>1996-03-26</td>\n",
       "      <td>Gmail</td>\n",
       "      <td>1</td>\n",
       "      <td>2022-01-03 10:29:18.683803+07</td>\n",
       "      <td>113.162.76.169</td>\n",
       "      <td>abc</td>\n",
       "      <td>abc</td>\n",
       "    </tr>\n",
       "  </tbody>\n",
       "</table>\n",
       "</div>"
      ],
      "text/plain": [
       "   id                username   password        userid  gender  Address  \\\n",
       "0 NaN    huyhuyvu01@gmail.com     123456  2.201030e+09    Male      NaN   \n",
       "1 NaN    huyhuyvu02@gmail.com  huy123123  2.201030e+09    Male      NaN   \n",
       "2 NaN  mamtomtn2001@gmail.com   vuhai123  2.201030e+09  Female      NaN   \n",
       "3 NaN   phamdinhlam@gmail.com  huy123124  2.201040e+09    Male      NaN   \n",
       "4 NaN         vuhai@gmail.com   vuhai124  2.201040e+09  Female      NaN   \n",
       "\n",
       "  Date_of_bird login_method  is_active(fb, gg =  1)  \\\n",
       "0   2001-12-01     Facebook                       0   \n",
       "1   2001-10-02     Facebook                       1   \n",
       "2   2010-06-02     Facebook                       0   \n",
       "3   2013-01-28     Facebook                       1   \n",
       "4   1996-03-26        Gmail                       1   \n",
       "\n",
       "                    date_created      IP_address active_token reset_token  \n",
       "0         2021-01-01 10:56:11+07  113.176.251.74          abc         abc  \n",
       "1  2022-01-03 10:41:54.553997+07  113.170.132.21          abc         abc  \n",
       "2  2022-01-03 02:43:47.142815+07  113.170.132.22          abc         abc  \n",
       "3  2022-01-03 02:48:39.214508+07  113.170.132.23          abc         abc  \n",
       "4  2022-01-03 10:29:18.683803+07  113.162.76.169          abc         abc  "
      ]
     },
     "execution_count": 4,
     "metadata": {},
     "output_type": "execute_result"
    }
   ],
   "source": [
    "user_table = pd.read_excel(\"D:\\\\Work\\\\Dự án Đh Kyungpook\\\\Project 1\\\\FileCsv\\\\8_tbl_usertable.xlsx\")\n",
    "user_table.head(5)"
   ]
  },
  {
   "cell_type": "code",
   "execution_count": 6,
   "id": "478bb8bc-ebf1-4eb0-b118-5998b6002d80",
   "metadata": {},
   "outputs": [
    {
     "data": {
      "text/html": [
       "<div>\n",
       "<style scoped>\n",
       "    .dataframe tbody tr th:only-of-type {\n",
       "        vertical-align: middle;\n",
       "    }\n",
       "\n",
       "    .dataframe tbody tr th {\n",
       "        vertical-align: top;\n",
       "    }\n",
       "\n",
       "    .dataframe thead th {\n",
       "        text-align: right;\n",
       "    }\n",
       "</style>\n",
       "<table border=\"1\" class=\"dataframe\">\n",
       "  <thead>\n",
       "    <tr style=\"text-align: right;\">\n",
       "      <th></th>\n",
       "      <th>gender</th>\n",
       "      <th>counts</th>\n",
       "    </tr>\n",
       "  </thead>\n",
       "  <tbody>\n",
       "    <tr>\n",
       "      <th>0</th>\n",
       "      <td>Male</td>\n",
       "      <td>10</td>\n",
       "    </tr>\n",
       "    <tr>\n",
       "      <th>1</th>\n",
       "      <td>Female</td>\n",
       "      <td>9</td>\n",
       "    </tr>\n",
       "  </tbody>\n",
       "</table>\n",
       "</div>"
      ],
      "text/plain": [
       "   gender  counts\n",
       "0    Male      10\n",
       "1  Female       9"
      ]
     },
     "metadata": {},
     "output_type": "display_data"
    },
    {
     "data": {
      "text/html": [
       "<div>\n",
       "<style scoped>\n",
       "    .dataframe tbody tr th:only-of-type {\n",
       "        vertical-align: middle;\n",
       "    }\n",
       "\n",
       "    .dataframe tbody tr th {\n",
       "        vertical-align: top;\n",
       "    }\n",
       "\n",
       "    .dataframe thead th {\n",
       "        text-align: right;\n",
       "    }\n",
       "</style>\n",
       "<table border=\"1\" class=\"dataframe\">\n",
       "  <thead>\n",
       "    <tr style=\"text-align: right;\">\n",
       "      <th></th>\n",
       "      <th>login_method</th>\n",
       "      <th>counts</th>\n",
       "    </tr>\n",
       "  </thead>\n",
       "  <tbody>\n",
       "    <tr>\n",
       "      <th>0</th>\n",
       "      <td>Password</td>\n",
       "      <td>9</td>\n",
       "    </tr>\n",
       "    <tr>\n",
       "      <th>1</th>\n",
       "      <td>Facebook</td>\n",
       "      <td>7</td>\n",
       "    </tr>\n",
       "    <tr>\n",
       "      <th>2</th>\n",
       "      <td>Gmail</td>\n",
       "      <td>3</td>\n",
       "    </tr>\n",
       "  </tbody>\n",
       "</table>\n",
       "</div>"
      ],
      "text/plain": [
       "  login_method  counts\n",
       "0     Password       9\n",
       "1     Facebook       7\n",
       "2        Gmail       3"
      ]
     },
     "metadata": {},
     "output_type": "display_data"
    }
   ],
   "source": [
    "display(user_table[\"gender\"].value_counts().rename_axis('gender').reset_index(name='counts'))\n",
    "display(user_table[\"login_method\"].value_counts().rename_axis('login_method').reset_index(name='counts'))"
   ]
  },
  {
   "cell_type": "code",
   "execution_count": 6,
   "id": "217c9b1b-d986-4222-988e-192526b5054d",
   "metadata": {},
   "outputs": [
    {
     "data": {
      "text/plain": [
       "3      9\n",
       "13     9\n",
       "14    10\n",
       "2     12\n",
       "12    12\n",
       "Name: age, dtype: int64"
      ]
     },
     "metadata": {},
     "output_type": "display_data"
    }
   ],
   "source": [
    "YearNow = datetime.now().year\n",
    "user_table[\"Date_of_bird\"] = pd.to_datetime(user_table[\"Date_of_bird\"])\n",
    "user_table[\"age\"] = YearNow - user_table[\"Date_of_bird\"].dt.year\n",
    "user_table = user_table.sort_values(by='age', ascending=True, inplace=False)\n",
    "display(user_table[\"age\"].head(5))"
   ]
  },
  {
   "cell_type": "code",
   "execution_count": 7,
   "id": "d68c662a-1762-4d7b-a712-00a73f115afa",
   "metadata": {},
   "outputs": [
    {
     "name": "stdout",
     "output_type": "stream",
     "text": [
      "[  0   8  12  18  25  40  60 100]\n",
      "(8, 12]\n"
     ]
    }
   ],
   "source": [
    "AgeBins = np.array(list([0,8,12,18,25,40,60,100]))\n",
    "AgeArray = np.array(user_table[\"age\"])\n",
    "print(AgeBins)\n",
    "user_table[\"binnedAge\"] = pd.cut(AgeArray, AgeBins)\n",
    "dataAge = user_table[\"binnedAge\"].value_counts().rename_axis('age').reset_index(name='counts')\n",
    "print(str(dataAge['age'][1]))"
   ]
  },
  {
   "cell_type": "code",
   "execution_count": 29,
   "id": "3b38bef1-df2e-4a56-99c6-3a68dd0e8b36",
   "metadata": {},
   "outputs": [
    {
     "data": {
      "image/png": "[encoded data removed]",
      "text/plain": [
       "<Figure size 720x432 with 1 Axes>"
      ]
     },
     "metadata": {
      "needs_background": "light"
     },
     "output_type": "display_data"
    }
   ],
   "source": [
    "figure(figsize=(10, 6))\n",
    "plt.title(\"Biểu đồ count plot về độ tuổi người dùng\", size = 15)\n",
    "ax = sns.countplot(x=\"binnedAge\", data=user_table, alpha=0.5)\n",
    "ax.set_xticklabels(ax.get_xticklabels(), rotation=40, ha=\"right\")\n",
    "plt.xlabel(\"Khoảng tuổi\", size = 15)\n",
    "plt.ylabel(\"Số user\", size = 15)\n",
    "\n",
    "for p in ax.patches:\n",
    "    percentage = '{:.2f}%'.format(100 * p.get_height()/len(user_table))\n",
    "    x = p.get_x() + p.get_width() / 2\n",
    "    y = p.get_height() + p.get_height()*0.01\n",
    "    ax.annotate(percentage, (x, y),ha='center',size = 10)\n",
    "\n",
    "plt.show()"
   ]
  },
  {
   "cell_type": "code",
   "execution_count": null,
   "id": "4407af0e-4d1d-420b-b12f-b84969d60443",
   "metadata": {},
   "outputs": [],
   "source": []
  }
 ],
 "metadata": {
  "kernelspec": {
   "display_name": "Python 3 (ipykernel)",
   "language": "python",
   "name": "python3"
  },
  "language_info": {
   "codemirror_mode": {
    "name": "ipython",
    "version": 3
   },
   "file_extension": ".py",
   "mimetype": "text/x-python",
   "name": "python",
   "nbconvert_exporter": "python",
   "pygments_lexer": "ipython3",
   "version": "3.9.13"
  }
 },
 "nbformat": 4,
 "nbformat_minor": 5
}
