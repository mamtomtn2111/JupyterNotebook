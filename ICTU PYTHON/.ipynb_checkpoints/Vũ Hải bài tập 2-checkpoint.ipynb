{
 "cells": [
  {
   "cell_type": "markdown",
   "id": "e9b5c90a-1bc7-478b-bf2a-9862e87a64c8",
   "metadata": {},
   "source": [
    "DTC195480201CLC0006 \n",
    "Nguyễn Vũ Hải\n",
    "CNTT K18 CLC"
   ]
  },
  {
   "cell_type": "code",
   "execution_count": null,
   "id": "f8c70de1-38f9-4ed3-af28-1fd0c150f165",
   "metadata": {},
   "outputs": [
    {
     "name": "stdin",
     "output_type": "stream",
     "text": [
      "Mời điền vào số n, sau đó in ra các số nguyên tố nhỏ hơn số n:  12\n"
     ]
    }
   ],
   "source": [
    "# Nhập vào một số nguyên dương n, hãy đưa ra danh sách các số nguyên tố nhỏ hơn hoặc bằng n.\n",
    "# Ví dụ: n=7, in ra 2,3,5,7. \n",
    "\n",
    "def CheckPrime(n):\n",
    "    for i in range(1,n + 1):  \n",
    "        if i > 1:\n",
    "            for j in range(2,i):  \n",
    "                if (i % j) == 0:\n",
    "                    break\n",
    "            else:\n",
    "                print(i,end = ' ')\n",
    "try:\n",
    "    n = int(input(\"Mời điền vào số n, sau đó in ra các số nguyên tố nhỏ hơn số n: \"))\n",
    "    CheckPrime(n)\n",
    "    if(n <= 0 ):\n",
    "        raise ValueError(\"Không có số nguyên tố nào nhỏ hơn hoặc = 0\")\n",
    "except ValueError as e:\n",
    "    print(\"Lỗi tìm thấy: \", e)"
   ]
  },
  {
   "cell_type": "code",
   "execution_count": null,
   "id": "0955d1a3-f01f-4d9a-b87d-da3e88db29b3",
   "metadata": {},
   "outputs": [],
   "source": []
  }
 ],
 "metadata": {
  "kernelspec": {
   "display_name": "Python 3 (ipykernel)",
   "language": "python",
   "name": "python3"
  },
  "language_info": {
   "codemirror_mode": {
    "name": "ipython",
    "version": 3
   },
   "file_extension": ".py",
   "mimetype": "text/x-python",
   "name": "python",
   "nbconvert_exporter": "python",
   "pygments_lexer": "ipython3",
   "version": "3.8.11"
  }
 },
 "nbformat": 4,
 "nbformat_minor": 5
}
