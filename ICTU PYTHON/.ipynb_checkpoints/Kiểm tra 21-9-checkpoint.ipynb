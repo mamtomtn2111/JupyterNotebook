{
 "cells": [
  {
   "cell_type": "code",
   "execution_count": 11,
   "id": "9774c95b-8a3a-4d2a-beae-65728370faf4",
   "metadata": {},
   "outputs": [
    {
     "name": "stdin",
     "output_type": "stream",
     "text": [
      "Nhập vào số n: 25\n"
     ]
    },
    {
     "name": "stdout",
     "output_type": "stream",
     "text": [
      "Dãy fibonacci đến số thứ 25: [1, 1, 2, 3, 5, 8, 13, 21, 34, 55, 89, 144, 233, 377, 610, 987, 1597, 2584, 4181, 6765, 10946, 17711, 28657, 46368, 75025]\n",
      "Số nguyên tố trong dãy fibonaci là: 2 3 5 13 89 233 1597 28657 "
     ]
    }
   ],
   "source": [
    "#Bài 1\n",
    "#Nguyễn Vũ Hải - CNTT K18 CLC\n",
    "#MSV: DTC195480201CLC0006\n",
    "\n",
    "import math\n",
    "\n",
    "def fibonacci(n):\n",
    "    if(n == 1 or n == 2):\n",
    "        return 1\n",
    "    return fibonacci(n - 1) + fibonacci(n - 2)\n",
    "    \n",
    "\n",
    "def CheckPrime(n):\n",
    "    if n < 2:\n",
    "        return False\n",
    "    for i in range(2,int(math.sqrt(n))+1):\n",
    "        if(n % i == 0):\n",
    "            return False\n",
    "    else:\n",
    "        return True\n",
    "\n",
    "n = int(input(\"Nhập vào số n:\"))\n",
    "ListFibonacci = []   \n",
    "for i in range(1,n+1):\n",
    "    ListFibonacci.append(fibonacci(i))\n",
    "    \n",
    "print(f\"Dãy fibonacci đến số thứ {n}: {ListFibonacci}\")\n",
    "print(\"Số nguyên tố trong dãy fibonaci là: \", end = '')\n",
    "for i in ListFibonacci:\n",
    "    if(CheckPrime(i) == 1):\n",
    "        print(i, end = \" \")"
   ]
  },
  {
   "cell_type": "code",
   "execution_count": 31,
   "id": "71dcecaa-537c-4701-972a-cac5fcdf826d",
   "metadata": {},
   "outputs": [
    {
     "name": "stdin",
     "output_type": "stream",
     "text": [
      "Nhập vào số n: 5\n",
      "Nhập vào phần tử thứ 0:  7\n",
      "Nhập vào phần tử thứ 1:  9\n",
      "Nhập vào phần tử thứ 2:  2\n",
      "Nhập vào phần tử thứ 3:  5\n",
      "Nhập vào phần tử thứ 4:  1\n"
     ]
    },
    {
     "name": "stdout",
     "output_type": "stream",
     "text": [
      "\n",
      "Xuất mảng bạn vừa nhập: \n",
      "a[0] = 7.0\n",
      "a[1] = 9.0\n",
      "a[2] = 2.0\n",
      "a[3] = 5.0\n",
      "a[4] = 1.0\n"
     ]
    },
    {
     "name": "stdin",
     "output_type": "stream",
     "text": [
      "Nhập vào phần tử x:  1111\n"
     ]
    },
    {
     "name": "stdout",
     "output_type": "stream",
     "text": [
      "Bạn vừa tìm phần tử 1111.0, phần tử này nằm ở các vị trí:  Không tìm thấy phần tử nào !\n",
      "\n",
      "Tổng trung bình cộng các số chính phương ở vị trí chẵn là:  1.0\n",
      "Sắp xếp mảng giảm dần là: [9.0, 7.0, 5.0, 2.0, 1.0]\n"
     ]
    }
   ],
   "source": [
    "# bài 2\n",
    "#Nguyễn Vũ Hải - CNTT K18 CLC\n",
    "#MSV: DTC195480201CLC0006\n",
    "\n",
    "from math import *\n",
    "import numpy as np\n",
    "\n",
    "def NhapMang(a,n):\n",
    "    for i in range(n):\n",
    "        Nhap = float(input(f\"Nhập vào phần tử thứ {i}: \"))\n",
    "        a.append(Nhap)\n",
    "        \n",
    "def XuatMang(a,n):\n",
    "    for i in range(n):\n",
    "        print(f\"a[{i}] = {a[i]}\")\n",
    "        \n",
    "def CheckChinhPhuong(n):\n",
    "    sqrtN = int(sqrt(n))\n",
    "    if(sqrtN * sqrtN == n):\n",
    "        return 1\n",
    "    else:\n",
    "        return 0\n",
    "    \n",
    "n = int(input(\"Nhập vào số n:\"))\n",
    "arr = []\n",
    "while(n < 3 or n > 99):\n",
    "    n = int(input(\"Nhập lại số n, số n bạn vừa nhập ngoài range: \"))\n",
    "\n",
    "NhapMang(arr,n)\n",
    "print(\"\\nXuất mảng bạn vừa nhập: \")\n",
    "XuatMang(arr,n)\n",
    "\n",
    "x = float(input(\"Nhập vào phần tử x: \"))\n",
    "print(f\"Bạn vừa tìm phần tử {x}, phần tử này nằm ở các vị trí:  \",end = \"\")\n",
    "dem = 0\n",
    "for idx,i in enumerate(arr):\n",
    "    if(x == i):\n",
    "        print(f\"{idx}\",end = \" \")\n",
    "        dem += 1\n",
    "if dem == 0:\n",
    "    print(\"Không tìm thấy phần tử nào !\")\n",
    "\n",
    "ListChinhPhuongIdxChan = []\n",
    "for idx,i in enumerate(arr):\n",
    "    if(idx % 2 == 0 and CheckChinhPhuong(i)):\n",
    "        ListChinhPhuongIdxChan.append(i)\n",
    "ListChinhPhuongIdxChan = np.array(ListChinhPhuongIdxChan)     \n",
    "print(\"\\nTổng trung bình cộng các số chính phương ở vị trí chẵn là: \", ListChinhPhuongIdxChan.mean())\n",
    "\n",
    "arr.sort(reverse = True)\n",
    "print(\"Sắp xếp mảng giảm dần là:\",arr)"
   ]
  },
  {
   "cell_type": "code",
   "execution_count": null,
   "id": "df120e8c-d6ff-428f-80fc-3c1343a2738e",
   "metadata": {},
   "outputs": [],
   "source": []
  }
 ],
 "metadata": {
  "kernelspec": {
   "display_name": "Python 3 (ipykernel)",
   "language": "python",
   "name": "python3"
  },
  "language_info": {
   "codemirror_mode": {
    "name": "ipython",
    "version": 3
   },
   "file_extension": ".py",
   "mimetype": "text/x-python",
   "name": "python",
   "nbconvert_exporter": "python",
   "pygments_lexer": "ipython3",
   "version": "3.8.11"
  }
 },
 "nbformat": 4,
 "nbformat_minor": 5
}
