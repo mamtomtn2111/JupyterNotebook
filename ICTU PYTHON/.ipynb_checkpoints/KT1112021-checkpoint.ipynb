{
 "cells": [
  {
   "cell_type": "code",
   "execution_count": 2,
   "id": "1f2ad381-dd19-48ba-a6d7-22aaa988b2ed",
   "metadata": {},
   "outputs": [],
   "source": [
    "from datetime import datetime \n",
    "import pandas as pd"
   ]
  },
  {
   "cell_type": "code",
   "execution_count": 5,
   "id": "74d8a0df-2388-45b2-9b5e-b471a23e5eeb",
   "metadata": {},
   "outputs": [
    {
     "name": "stdout",
     "output_type": "stream",
     "text": [
      "Nhập n trong khoảng (2<n<100) !\n"
     ]
    },
    {
     "name": "stdin",
     "output_type": "stream",
     "text": [
      "Nhập vào n:  a\n"
     ]
    },
    {
     "name": "stdout",
     "output_type": "stream",
     "text": [
      "Không được nhập khác số nguyên !!!\n",
      "Nhập n trong khoảng (2<n<100) !\n"
     ]
    },
    {
     "name": "stdin",
     "output_type": "stream",
     "text": [
      "Nhập vào n:  1\n"
     ]
    },
    {
     "name": "stdout",
     "output_type": "stream",
     "text": [
      "Nhập n trong khoảng (2<n<100) !\n"
     ]
    },
    {
     "name": "stdin",
     "output_type": "stream",
     "text": [
      "Nhập vào n:  5\n",
      "Nhập vào số 0:  5\n",
      "Nhập vào số 1:  6\n",
      "Nhập vào số 2:  5\n",
      "Nhập vào số 3:  8\n",
      "Nhập vào số 4:  5\n"
     ]
    },
    {
     "name": "stdout",
     "output_type": "stream",
     "text": [
      "List bạn vừa nhập là:  [5, 6, 5, 8, 5]\n",
      "Giá trị nhỏ nhất của list là:  5\n",
      "Các số nhỏ nhất là: \n",
      "a[0] = 5\n",
      "a[2] = 5\n",
      "a[4] = 5\n",
      "Tổng các số nhỏ nhất là:  3\n",
      "Tổng có 3 phần tử khác nhau\n",
      "Tần số xuất hiện gồm có \n",
      "Số lượng phần tử 8 xuất hiện là: 1\n",
      "Số lượng phần tử 5 xuất hiện là: 3\n",
      "Số lượng phần tử 6 xuất hiện là: 1\n"
     ]
    }
   ],
   "source": [
    "# Bài tập 9:\n",
    "# Sử dụng cấu trúc dữ liệu LIST, viết chương trình thực hiện các công việc sau:\n",
    "# - Nhập vào một dãy gồm n phần tử (2<n<100)\n",
    "# - In ra màn hình giá trị nhỏ nhất trong dãy, có bao nhiêu giá trị nhỏ nhất, ở các\n",
    "# vị trí nào?\n",
    "# - Cho biết trong dãy có bao nhiêu số khác nhau và tần xuất xuất hiện của các số\n",
    "\n",
    "ListNum = []\n",
    "while(True):\n",
    "    try:\n",
    "        print(\"Nhập n trong khoảng (2<n<100) !\")\n",
    "        n = int(input(\"Nhập vào n: \"))\n",
    "        if(n > 2 and n < 100):\n",
    "            break\n",
    "    except:\n",
    "        print(\"Không được nhập khác số nguyên !!!\")\n",
    "        continue\n",
    "\n",
    "for i in range(n): \n",
    "    num = int(input(f\"Nhập vào số {i}: \"))\n",
    "    ListNum.append(num)\n",
    "    \n",
    "print(\"List bạn vừa nhập là: \",ListNum)\n",
    "print(\"Giá trị nhỏ nhất của list là: \",min(ListNum))\n",
    "CountMin = 0\n",
    "print(\"Các số nhỏ nhất là: \")\n",
    "for idx, value in enumerate(ListNum):\n",
    "    if(value == min(ListNum)):\n",
    "        print(f\"a[{idx}] = {value}\")\n",
    "        CountMin += 1\n",
    "print(\"Tổng các số nhỏ nhất là: \", CountMin)\n",
    "\n",
    "setList = set(ListNum)\n",
    "print(f\"Tổng có {len(setList)} phần tử khác nhau\")\n",
    "print(f\"Tần số xuất hiện gồm có \")\n",
    "for i in setList:\n",
    "    print(f\"Số lượng phần tử {i} xuất hiện là: {ListNum.count(i)}\")"
   ]
  },
  {
   "cell_type": "code",
   "execution_count": 11,
   "id": "f01e6601-32ed-46aa-88cd-b7c706111a6d",
   "metadata": {},
   "outputs": [
    {
     "name": "stdin",
     "output_type": "stream",
     "text": [
      "Input n student:  2\n"
     ]
    },
    {
     "name": "stdout",
     "output_type": "stream",
     "text": [
      "Info of the student 1:\n",
      "Start input information of students:\n"
     ]
    },
    {
     "name": "stdin",
     "output_type": "stream",
     "text": [
      "Please input student's id:  DTC1\n",
      "Please input student's name:  Vũ Hải\n",
      "Please input student's DOB:  thái nguyên\n"
     ]
    },
    {
     "name": "stdout",
     "output_type": "stream",
     "text": [
      "Error Found : time data 'thái nguyên' does not match format '%d/%m/%Y'\n",
      "\n",
      "\n"
     ]
    },
    {
     "name": "stdin",
     "output_type": "stream",
     "text": [
      "Please input student's DOB:  1/1/2001\n",
      "PLease input student's home:  thái nguyên\n"
     ]
    },
    {
     "name": "stdout",
     "output_type": "stream",
     "text": [
      "Info of the student 2:\n",
      "Start input information of students:\n"
     ]
    },
    {
     "name": "stdin",
     "output_type": "stream",
     "text": [
      "Please input student's id:  DTC2\n",
      "Please input student's name:  Luân\n",
      "Please input student's DOB:  1/1/1999\n",
      "PLease input student's home:  Vũ Hải\n"
     ]
    },
    {
     "name": "stdout",
     "output_type": "stream",
     "text": [
      "=====PRINT ALL INFO OF STUDENT=====\n",
      "Info of the student 1:\n",
      "\tID: DTC1\n",
      "\tName: Vũ Hải\n",
      "\tDOB: 2001-01-01 00:00:00\n",
      "\tHome: Thái Nguyên\n",
      "Info of the student 2:\n",
      "\tID: DTC2\n",
      "\tName: Luân\n",
      "\tDOB: 1999-01-01 00:00:00\n",
      "\tHome: Vũ Hải\n",
      "\n",
      "=====PRINT ALL INFO OF THAI BINH'S STUDENT=====\n",
      "Don't have any student in Thai Binh\n",
      "\n",
      "=====PRINT THE SMALLEST BIRTH's YEAR of student=====\n",
      "\tID: DTC2\n",
      "\tName: Luân\n",
      "\tDOB: 1999-01-01 00:00:00\n",
      "\tHome: Vũ Hải\n"
     ]
    }
   ],
   "source": [
    "# Bài tập 13: Bài tập chung cho cả lớp\n",
    "# Xây dựng lớp SinhVien gồm có các thuộc tính: Mã sinh viên, tên sinh viên, năm\n",
    "# sinh, quê quán.\n",
    "# a. Xây dựng phương thức nhập/hiện thông tin cho một sinh viên.\n",
    "# b. Xây dựng lớp quản lý sinh viên với các phương thức:\n",
    "# + Nhập, xuất thông tin cho n sinh viên\n",
    "# + Xây dựng phương thức in ra thông tin các sinh viên có quê quán ở Hải Dương\n",
    "# + Xây dựng phương thức in ra màn hình sinh viên có năm sinh nhỏ nhất.\n",
    "class Student:\n",
    "    def __init__(self, inputID = \"\",inputName = \"\", inputDOB = \"1/1/2001\", inputHome = \"\"):\n",
    "        self.inputStudent()\n",
    "        return\n",
    "        self.ID = inputID\n",
    "        self.Name = inputName.title()\n",
    "        self.DOB = inputDOB\n",
    "        self.Home = inputHome\n",
    "        \n",
    "    def inputStudent(self):\n",
    "        print(\"Start input information of students:\")\n",
    "        while(True):\n",
    "            inputID = input(\"Please input student's id: \")\n",
    "            if(len(inputID.strip()) > 0):\n",
    "                self.ID = inputID.strip()\n",
    "                break\n",
    "            \n",
    "        while(True):\n",
    "            inputName = input(\"Please input student's name: \").strip()\n",
    "            if(len(inputName.strip()) > 0):\n",
    "                self.Name = inputName.title()\n",
    "                break\n",
    "                \n",
    "        while(True):\n",
    "            inputDOB = input(\"Please input student's DOB: \").strip()\n",
    "            try:\n",
    "                inputDOB =  datetime.strptime(inputDOB.strip(), '%d/%m/%Y')\n",
    "                self.DOB = inputDOB\n",
    "                break\n",
    "            except ValueError as e:\n",
    "                print(\"Error Found : \", e)\n",
    "                print(\"\\n\")\n",
    "                \n",
    "        while(True):\n",
    "            inputHome = input(\"PLease input student's home: \")\n",
    "            if(len(inputHome.strip()) > 0):\n",
    "                self.Home = inputHome.strip().title()\n",
    "                break\n",
    "    def PrintStudent(self):\n",
    "        print(f\"\\tID: {self.ID}\")\n",
    "        print(f\"\\tName: {self.Name}\")\n",
    "        print(f\"\\tDOB: {self.DOB}\")\n",
    "        print(f\"\\tHome: {self.Home}\")\n",
    "        \n",
    "    def getHome(self):\n",
    "        return self.Home\n",
    "    \n",
    "    def __lt__(self, other):\n",
    "        if(self.DOB.year < other.DOB.year):\n",
    "            return True\n",
    "        else:\n",
    "            return False\n",
    "        \n",
    "class ListStudent(Student):\n",
    "    def __init__(self, inputID = \"\",inputName = \"\", inputDOB = \"1/1/2001\", inputHome = \"VN\", inputN = 0, listStudent = []):\n",
    "        self.listStudent = self.inputListStudent()\n",
    "        \n",
    "    def inputListStudent(self):\n",
    "        while(True):\n",
    "            inputN = int(input(\"Input n student: \"))\n",
    "            if(inputN >= 0):\n",
    "                self.n = inputN\n",
    "                break\n",
    "        listSinhVien = []\n",
    "        for i in range(self.n):\n",
    "            print(f\"Info of the student {i+1}:\")\n",
    "            listSinhVien.append(Student())\n",
    "        return listSinhVien\n",
    "    \n",
    "    def PrintListStudent(self):\n",
    "        print(\"=====PRINT ALL INFO OF STUDENT=====\")\n",
    "        for idx, student in enumerate(self.listStudent):\n",
    "            print(f\"Info of the student {idx + 1}:\")\n",
    "            student.PrintStudent()\n",
    "            \n",
    "    def PrintThaiBinh(self):\n",
    "        i = 0\n",
    "        print(\"\\n=====PRINT ALL INFO OF THAI BINH'S STUDENT=====\")\n",
    "        for idx, student in enumerate(self.listStudent):\n",
    "            if(student.getHome() == \"Thái Bình\" or student.getHome() == \"Thai Binh\"):\n",
    "                i += 1\n",
    "                print(f\"Info student {idx + 1}\")\n",
    "                student.PrintStudent()\n",
    "        if(i == 0):\n",
    "            print(\"Don't have any student in Thai Binh\")\n",
    "            \n",
    "    def PrintSmallestYOB(self):\n",
    "        print(\"\\n=====THE STUDENT'S SMALLEST YEAR OF BIRTH=====\")\n",
    "        ListYOB = min(self.listStudent)\n",
    "        ListYOB.PrintStudent()\n",
    "            \n",
    "\n",
    "CLC1 = ListStudent()\n",
    "CLC1.PrintListStudent()\n",
    "CLC1.PrintThaiBinh()\n",
    "CLC1.PrintSmallestYOB()"
   ]
  },
  {
   "cell_type": "code",
   "execution_count": 6,
   "id": "790f5b1e-f6c7-4945-8bc7-3b2f8eb4ba70",
   "metadata": {},
   "outputs": [
    {
     "name": "stdout",
     "output_type": "stream",
     "text": [
      "Chương trình nhập điểm\n",
      "Chương trình kết thúc khi không nhập sbd, tức bỏ trống sbd\n"
     ]
    },
    {
     "name": "stdin",
     "output_type": "stream",
     "text": [
      "Nhập vào sbd:  DTC1\n"
     ]
    },
    {
     "name": "stdout",
     "output_type": "stream",
     "text": [
      "Sbd bạn vừa nhập ko có, mời nhập các thông tin khác: \n"
     ]
    },
    {
     "name": "stdin",
     "output_type": "stream",
     "text": [
      "Nhập vào tên:  Vũ Hải\n",
      "Nhập vào điểm:  9.8\n"
     ]
    },
    {
     "name": "stdout",
     "output_type": "stream",
     "text": [
      "\n"
     ]
    },
    {
     "name": "stdin",
     "output_type": "stream",
     "text": [
      "Nhập vào sbd:  DTC2\n"
     ]
    },
    {
     "name": "stdout",
     "output_type": "stream",
     "text": [
      "Sbd bạn vừa nhập ko có, mời nhập các thông tin khác: \n"
     ]
    },
    {
     "name": "stdin",
     "output_type": "stream",
     "text": [
      "Nhập vào tên:  Vũ Huy\n",
      "Nhập vào điểm:  8.7\n"
     ]
    },
    {
     "name": "stdout",
     "output_type": "stream",
     "text": [
      "\n"
     ]
    },
    {
     "name": "stdin",
     "output_type": "stream",
     "text": [
      "Nhập vào sbd:  DTC3\n"
     ]
    },
    {
     "name": "stdout",
     "output_type": "stream",
     "text": [
      "Sbd bạn vừa nhập ko có, mời nhập các thông tin khác: \n"
     ]
    },
    {
     "name": "stdin",
     "output_type": "stream",
     "text": [
      "Nhập vào tên:  Hoàng Hà\n",
      "Nhập vào điểm:  6.7\n"
     ]
    },
    {
     "name": "stdout",
     "output_type": "stream",
     "text": [
      "\n"
     ]
    },
    {
     "name": "stdin",
     "output_type": "stream",
     "text": [
      "Nhập vào sbd:  DTC4\n"
     ]
    },
    {
     "name": "stdout",
     "output_type": "stream",
     "text": [
      "Sbd bạn vừa nhập ko có, mời nhập các thông tin khác: \n"
     ]
    },
    {
     "name": "stdin",
     "output_type": "stream",
     "text": [
      "Nhập vào tên:  Nguyên Dũng\n",
      "Nhập vào điểm:  8.4\n"
     ]
    },
    {
     "name": "stdout",
     "output_type": "stream",
     "text": [
      "\n"
     ]
    },
    {
     "name": "stdin",
     "output_type": "stream",
     "text": [
      "Nhập vào sbd:  DTC2\n"
     ]
    },
    {
     "name": "stdout",
     "output_type": "stream",
     "text": [
      "Số báo danh đã có !!!!!\n",
      "Thông tin trùng với thí sinh:\n",
      "\n",
      "SBD: DTC2, Tên: Vũ Huy, Điểm thi 8.7\n"
     ]
    },
    {
     "name": "stdin",
     "output_type": "stream",
     "text": [
      "Nhập vào sbd:  \n"
     ]
    },
    {
     "name": "stdout",
     "output_type": "stream",
     "text": [
      "Chương trình kết thúc\n",
      "\n",
      "=====XUẤT DANH SÁCH THÍ SINH=====\n"
     ]
    },
    {
     "data": {
      "text/html": [
       "<div>\n",
       "<style scoped>\n",
       "    .dataframe tbody tr th:only-of-type {\n",
       "        vertical-align: middle;\n",
       "    }\n",
       "\n",
       "    .dataframe tbody tr th {\n",
       "        vertical-align: top;\n",
       "    }\n",
       "\n",
       "    .dataframe thead th {\n",
       "        text-align: right;\n",
       "    }\n",
       "</style>\n",
       "<table border=\"1\" class=\"dataframe\">\n",
       "  <thead>\n",
       "    <tr style=\"text-align: right;\">\n",
       "      <th></th>\n",
       "      <th>Số báo danh</th>\n",
       "      <th>Tên</th>\n",
       "      <th>Điểm thi</th>\n",
       "    </tr>\n",
       "  </thead>\n",
       "  <tbody>\n",
       "    <tr>\n",
       "      <th>0</th>\n",
       "      <td>DTC1</td>\n",
       "      <td>Vũ Hải</td>\n",
       "      <td>9.8</td>\n",
       "    </tr>\n",
       "    <tr>\n",
       "      <th>1</th>\n",
       "      <td>DTC2</td>\n",
       "      <td>Vũ Huy</td>\n",
       "      <td>8.7</td>\n",
       "    </tr>\n",
       "    <tr>\n",
       "      <th>2</th>\n",
       "      <td>DTC3</td>\n",
       "      <td>Hoàng Hà</td>\n",
       "      <td>6.7</td>\n",
       "    </tr>\n",
       "    <tr>\n",
       "      <th>3</th>\n",
       "      <td>DTC4</td>\n",
       "      <td>Nguyên Dũng</td>\n",
       "      <td>8.4</td>\n",
       "    </tr>\n",
       "  </tbody>\n",
       "</table>\n",
       "</div>"
      ],
      "text/plain": [
       "  Số báo danh          Tên  Điểm thi\n",
       "0        DTC1       Vũ Hải       9.8\n",
       "1        DTC2       Vũ Huy       8.7\n",
       "2        DTC3     Hoàng Hà       6.7\n",
       "3        DTC4  Nguyên Dũng       8.4"
      ]
     },
     "metadata": {},
     "output_type": "display_data"
    }
   ],
   "source": [
    "# Bài tập 14: Bài tập chung cho cả lớp\n",
    "# Cho một từ điển chứa thông tin của các thí sinh, mỗi phần tử có 3 thông tin:\n",
    "# • Số báo danh (khóa)\n",
    "# • Họ và tên\n",
    "# • Điểm thi\n",
    "# Chương trình cho phép nhập vào một số báo danh, nếu tồn tại thí sinh có số báo\n",
    "# danh tương ứng thì đưa ra họ và tên cùng điểm. Nếu không có thí sinh trùng với\n",
    "# số báo danh được nhập, thông báo không có thí sinh.\n",
    "\n",
    "\n",
    "def Search(sbd,dictInput):\n",
    "    for idx, value in dictInput.items():\n",
    "        if(idx == sbd):\n",
    "            print(f\"SBD: {idx}, Tên: {value[0]}, Điểm thi {value[1]}\")\n",
    "\n",
    "def InputDict(InputDict):\n",
    "    InputDict = {}\n",
    "    ListSBD = []\n",
    "    while(True):\n",
    "        sbd = input(\"Nhập vào sbd: \")\n",
    "        if(len(sbd.strip()) == 0):\n",
    "            print(\"Chương trình kết thúc\")\n",
    "            break\n",
    "        elif(sbd not in ListSBD):\n",
    "            print(\"Sbd bạn vừa nhập ko có, mời nhập các thông tin khác: \")\n",
    "            ListSBD.append(sbd)\n",
    "            InputDict[sbd] = []\n",
    "            ten = input(\"Nhập vào tên: \")\n",
    "            InputDict[sbd].append(ten)\n",
    "            while(True):\n",
    "                try:\n",
    "                    DiemThi = float(input(\"Nhập vào điểm: \"))\n",
    "                    InputDict[sbd].append(DiemThi)\n",
    "                    print()\n",
    "                    break\n",
    "                except:\n",
    "                    DiemThi = float(input(\"Bạn vừa nhập không phải số, nhập lại: \"))\n",
    "                    InputDict[sbd].append(DiemThi)\n",
    "                    print()\n",
    "                    break\n",
    "        else:\n",
    "            print(\"Số báo danh đã có !!!!!\\nThông tin trùng với thí sinh:\\n\")\n",
    "            Search(sbd, InputDict)\n",
    "            continue\n",
    "    return InputDict\n",
    "\n",
    "def OutputDict(dictInput):\n",
    "    SbdList = []\n",
    "    TenList = []\n",
    "    DiemThiList = []\n",
    "    for idx, value in dictInput.items():\n",
    "        SbdList.append(idx)\n",
    "        TenList.append(value[0])\n",
    "        DiemThiList.append(value[1])\n",
    "    DfThiSinh = pd.DataFrame({ \"Số báo danh\": SbdList, \"Tên\" : TenList, \"Điểm thi\" : DiemThiList})\n",
    "    display(DfThiSinh)\n",
    "\n",
    "dictThiSinh = {}\n",
    "print(\"Chương trình nhập điểm\")\n",
    "print(\"Chương trình kết thúc khi không nhập sbd, tức bỏ trống sbd\")\n",
    "dictThiSinh = InputDict(dictThiSinh)\n",
    "print(\"\\n=====XUẤT DANH SÁCH THÍ SINH=====\")\n",
    "OutputDict(dictThiSinh)"
   ]
  },
  {
   "cell_type": "code",
   "execution_count": 23,
   "id": "7af73df4-3564-4eee-b1d8-090098bcd419",
   "metadata": {},
   "outputs": [
    {
     "data": {
      "text/plain": [
       "'D:\\\\Jupyter\\\\ICTU PYTHON'"
      ]
     },
     "execution_count": 23,
     "metadata": {},
     "output_type": "execute_result"
    }
   ],
   "source": [
    "%pwd"
   ]
  }
 ],
 "metadata": {
  "kernelspec": {
   "display_name": "Python 3 (ipykernel)",
   "language": "python",
   "name": "python3"
  },
  "language_info": {
   "codemirror_mode": {
    "name": "ipython",
    "version": 3
   },
   "file_extension": ".py",
   "mimetype": "text/x-python",
   "name": "python",
   "nbconvert_exporter": "python",
   "pygments_lexer": "ipython3",
   "version": "3.8.11"
  }
 },
 "nbformat": 4,
 "nbformat_minor": 5
}
