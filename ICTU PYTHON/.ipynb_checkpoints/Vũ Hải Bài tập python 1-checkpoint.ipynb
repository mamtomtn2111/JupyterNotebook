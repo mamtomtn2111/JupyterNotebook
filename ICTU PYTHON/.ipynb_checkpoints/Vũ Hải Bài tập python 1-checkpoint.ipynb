{
 "cells": [
  {
   "cell_type": "markdown",
   "id": "5df57afb-b945-47e9-9e6f-1b901900f14a",
   "metadata": {},
   "source": [
    "Họ tên: Nguyễn Vũ Hải \\\n",
    "Mã sv: DTC195480201CLC0006 \\\n",
    "Bài tập python cơ bản "
   ]
  },
  {
   "cell_type": "code",
   "execution_count": 10,
   "id": "71048051-1e79-48ec-8451-940aac4f6da1",
   "metadata": {},
   "outputs": [
    {
     "name": "stdin",
     "output_type": "stream",
     "text": [
      "enter a number:  1010\n"
     ]
    },
    {
     "name": "stdout",
     "output_type": "stream",
     "text": [
      "Convert to decimal number: 10\n"
     ]
    }
   ],
   "source": [
    "# Bài tập 1:  Tìm hiểu về hàm đổi số nhị phân sang số thập phân trong Python. Yêu cầu:\n",
    "# Viết chương trình nhập từ bàn phím một số dạng nhị phân, in ra màn hình số thập phân tương ứng với số nhị phân đó.\n",
    "binary = input('enter a number: ')\n",
    "decimal = 0\n",
    "for digit in binary:\n",
    "    decimal = decimal*2 + int(digit)\n",
    "    \n",
    "print(f\"Convert to decimal number: {decimal}\")"
   ]
  },
  {
   "cell_type": "code",
   "execution_count": 15,
   "id": "b1458143-2ace-4a21-8846-8b9cd9c59ee6",
   "metadata": {},
   "outputs": [
    {
     "data": {
      "text/plain": [
       "'Kết quả sẽ hiện lỗi ở dòng 4 (dòng cuối), hệ thống sẽ báo lỗi là biến x chưa được khai báo do dùng lệnh del ở dòng 3 nên biến x đã bị xóa'"
      ]
     },
     "execution_count": 15,
     "metadata": {},
     "output_type": "execute_result"
    }
   ],
   "source": [
    "# Bài tập 2: Trong Python có một điểm thú vị là: Nếu biến đó đang tồn tại mà ta xóa nó đi thì không còn sử dụng được nữa (tương tự trong C++ khi chúng ta thu hồi bộ nhớ của con trỏ vậy), Python dùng từ khóa del để xóa:\n",
    "# >>> x=\"CNTT\"\n",
    "# >>> print(x)\n",
    "# >>> del  x\n",
    "# >>> print(x) \n",
    "'''Kết quả sẽ hiện lỗi ở dòng 4 (dòng cuối), hệ thống sẽ báo lỗi là biến x chưa được khai báo do dùng lệnh del ở dòng 3 nên biến x đã bị xóa'''"
   ]
  },
  {
   "cell_type": "code",
   "execution_count": 10,
   "id": "0dabfb60-ffd1-481f-8d38-b92e1b94b374",
   "metadata": {},
   "outputs": [
    {
     "name": "stdout",
     "output_type": "stream",
     "text": [
      "Tính diện tích ngôi nhà\n"
     ]
    },
    {
     "name": "stdin",
     "output_type": "stream",
     "text": [
      "Nhập vào chiều dài:  2\n",
      "Nhập vào chiều rộng:  3\n"
     ]
    },
    {
     "name": "stdout",
     "output_type": "stream",
     "text": [
      "Diện tích ngôi nhà là: 6 m vuông\n"
     ]
    }
   ],
   "source": [
    "# Bài tập 3:  Tính diện tích nhà ở\n",
    "# Yêu cầu: Nhập vào chiều dài và chiều rộng của một ngôi nhà, in ra màn hình diện tích của ngôi nhà đó (tính theo m vuông).\n",
    "def MeterSquare(x,y):\n",
    "    return x*y\n",
    "print(\"Caculate the area of the house\")\n",
    "x = int(input(\"Input the length \"))\n",
    "y = int(input(\"Input the width: \"))\n",
    "print(f\"The area of the house: {MeterSquare(x,y)} meter square\")"
   ]
  },
  {
   "cell_type": "code",
   "execution_count": 81,
   "id": "2d0823a5-b697-4736-b4c9-e60d566c0df5",
   "metadata": {},
   "outputs": [
    {
     "name": "stdin",
     "output_type": "stream",
     "text": [
      "Please input a degree number, x =  30\n"
     ]
    },
    {
     "name": "stdout",
     "output_type": "stream",
     "text": [
      "sin(x): 0.5\n",
      "cos(x): 0.866\n",
      "tan(x): 0.577\n"
     ]
    }
   ],
   "source": [
    "# Bài tập 4: Tính toán hàm lượng giác\n",
    "# Yêu cầu, nhập từ bàn phím một số x (tính theo đơn vị độ). Hãy tính sin(x), cos(x), tan(x)? Lưu ý: Trong Python, các hàm lượng giác tính theo đơn vị radian, không theo độ, do đó cần quy đổi độ ra radian.\n",
    "\n",
    "import math\n",
    "from fractions import Fraction\n",
    "x = int(input(\"Please input a degree number, x = \"))\n",
    "Convert2Radian = (x/180)*math.pi\n",
    "print(f\"sin(x): {round(math.sin(Convert2Radian),3)}\")\n",
    "print(f\"cos(x): {round(math.cos(Convert2Radian),3)}\")\n",
    "print(f\"tan(x): {round(math.tan(Convert2Radian),3)}\")"
   ]
  },
  {
   "cell_type": "code",
   "execution_count": 61,
   "id": "c1a8e6dd-5c01-4abe-9b19-8520d6770452",
   "metadata": {},
   "outputs": [
    {
     "name": "stdin",
     "output_type": "stream",
     "text": [
      "Please input the meal price:  919\n"
     ]
    },
    {
     "name": "stdout",
     "output_type": "stream",
     "text": [
      "The tax is 73.52 and the tip is 18.38, making the total 1010.90\n"
     ]
    }
   ],
   "source": [
    "# Bài tập 5: Trong Python hàm print() cũng có thể in ra giá trị số của các biến theo định dạng. Ví dụ:\n",
    "# print(\"The tax is %.2f and the tip is %.2f, making the\", \\\n",
    "# \"total %.2f\" % (tax, tip, total))\n",
    "# Yêu cầu: Viết chương trình tính tổng số tiền trên hóa đơn của một khách hàng tại một nhà hàng. Biết rằng:\n",
    "# Tổng tiền = Tiền bữa ăn + Tiền thuế (Tax) + Tiền boa (Tip).\n",
    "# Trong đó tiền thuế có giá trị là 8% tiền bữa ăn; tiền boa có giá trị 2% của tiền bữa ăn.\n",
    "# Hãy tính hóa đơn thanh toán Tổng tiền mà khách hàng phải trả theo như định dạng của hàm print() phía trên với yêu cầu lấy tròn đến 2 chữ số sau dấu phẩy.\n",
    "MealFee = int(input(\"Please input the meal's price: \"))\n",
    "Tax = float(MealFee * (8/100))\n",
    "Tip = float(MealFee * (2/100))\n",
    "Total = MealFee + Tax + Tip\n",
    "print(\"The tax is %.2f and the tip is %.2f, making the total %.2f\" % (Tax, Tip, Total))"
   ]
  },
  {
   "cell_type": "code",
   "execution_count": 90,
   "id": "1cbacc65-a1d9-4109-b7fa-08a22a180fab",
   "metadata": {},
   "outputs": [
    {
     "name": "stdin",
     "output_type": "stream",
     "text": [
      "Please input N:  10\n"
     ]
    },
    {
     "name": "stdout",
     "output_type": "stream",
     "text": [
      "sum = 55\n"
     ]
    }
   ],
   "source": [
    "# Bài tập 6: Tính tổng của N số tự nhiên đầu tiên\n",
    "# Yêu cầu: Hãy viết chương trình nhập vào số nguyên dương N, hãy tính tổng của N số tự nhiên đầu tiên và in ra màn hình giá trị kết quả. Ví dụ: N=100\n",
    "# Sum = 1+2+3+...+100 \n",
    "\n",
    "while(True):\n",
    "    N = int(input(\"Please input N: \"))\n",
    "    if(N <= 0):\n",
    "        N = int(input(\"Please input N again: \"))\n",
    "    if(N > 0):\n",
    "        break\n",
    "sum = 0\n",
    "for i in range(N+1):\n",
    "    sum += i\n",
    "print(f\"sum = {sum}\")"
   ]
  },
  {
   "cell_type": "code",
   "execution_count": 84,
   "id": "c850d215-9f56-4628-9338-4e1f3f7dc332",
   "metadata": {},
   "outputs": [
    {
     "name": "stdout",
     "output_type": "stream",
     "text": [
      "Info of a employee\n"
     ]
    },
    {
     "name": "stdin",
     "output_type": "stream",
     "text": [
      "Input his/her name: Vu Hai\n",
      "Input his/her age: 20\n",
      "Input his/her address: Hoang Van Thu ward, Thai Nguyen city\n"
     ]
    },
    {
     "name": "stdout",
     "output_type": "stream",
     "text": [
      "Today, we recruit a new employees. \n",
      "Name: Vu Hai, Age: 20, address: Hoang Van Thu ward, Thai Nguyen city\n"
     ]
    }
   ],
   "source": [
    "# Bài tập 7: Định dạng chuỗi trong python bằng phương thức format\n",
    "# Đây là phương thức được tích hợp từ Python 2.6, nhằm giúp việc định dạng chuỗi trong python đơn giản và trực quan hơn.\n",
    "# Để định dạng chuỗi trong python, chúng ta sử dụng phương thức format với cú pháp sau đây:\n",
    "# pattern. format ( value1 , value2 , value3 , …)\n",
    "# Ví dụ: Thực hiện lệnh sau trong Python\n",
    "# str_format = \"{} {} {} {}\".format('Kiyoshi','is','30','years old ')\n",
    "# print(str_format)\n",
    "\n",
    "# Yêu cầu: Tìm hiểu về cách định dạng chuỗi trong Python bằng cách gán chỉ số. \n",
    "# Hãy nhập vào từ bàn phím các nội dung liên quan đến Tên, tuổi, địa chỉ làm việc của một nhân viên, hãy in ra màn hình bằng lệnh print() và định dạng chuỗi in ra trên cùng một dòng thông tin về tên, tuổi và địa chỉ làm việc của người này. \n",
    "\n",
    "print(\"Info of a employee\")\n",
    "name = input(\"Input his/her name:\")\n",
    "age = int(input(\"Input his/her age:\"))\n",
    "address = input(\"Input his/her address:\")\n",
    "print(\"Today, we recruit a new employees. \\nName: {}, Age: {}, address: {}\".format(name,age,address))"
   ]
  },
  {
   "cell_type": "code",
   "execution_count": null,
   "id": "6400de1e-9923-436d-8a71-2490324db886",
   "metadata": {},
   "outputs": [],
   "source": []
  }
 ],
 "metadata": {
  "kernelspec": {
   "display_name": "Python 3",
   "language": "python",
   "name": "python3"
  },
  "language_info": {
   "codemirror_mode": {
    "name": "ipython",
    "version": 3
   },
   "file_extension": ".py",
   "mimetype": "text/x-python",
   "name": "python",
   "nbconvert_exporter": "python",
   "pygments_lexer": "ipython3",
   "version": "3.8.8"
  }
 },
 "nbformat": 4,
 "nbformat_minor": 5
}
