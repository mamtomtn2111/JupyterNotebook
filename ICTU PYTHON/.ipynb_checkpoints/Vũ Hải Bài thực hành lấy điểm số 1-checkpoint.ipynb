{
 "cells": [
  {
   "cell_type": "markdown",
   "id": "a054e293-a601-4a9c-a9e7-b3e3c70aa44c",
   "metadata": {},
   "source": [
    "Họ tên: Nguyễn Vũ Hải \\\n",
    "Mã sv: DTC195480201CLC0006 \\\n",
    "Bài thực hành lấy điểm số 1"
   ]
  },
  {
   "cell_type": "code",
   "execution_count": 27,
   "id": "a41da614-6574-4f07-b569-e767478aa4b6",
   "metadata": {},
   "outputs": [
    {
     "name": "stdin",
     "output_type": "stream",
     "text": [
      "Please input n number:  4\n",
      "Please input k continuous number to find its biggest sum:  2\n",
      "Input number to list:  1\n",
      "Input number to list:  2\n",
      "Input number to list:  3\n",
      "Input number to list:  4\n"
     ]
    },
    {
     "name": "stdout",
     "output_type": "stream",
     "text": [
      "\n",
      "List that you have just input:  [1, 2, 3, 4]\n",
      "Sum of 2 continuous number in the list that is biggest:  7\n"
     ]
    }
   ],
   "source": [
    "#IMPORTANT\n",
    "#Bài kiểm tra\n",
    "#Nguyễn Vũ Hải - CNTT K18 CLC\n",
    "\n",
    "n = int(input(\"Please input n number: \"))\n",
    "k = int(input(\"Please input k continuous number to find its biggest sum: \"))\n",
    "\n",
    "listNum = []\n",
    "listK = []\n",
    "for i in range(n):\n",
    "    number = int(input(\"Input number to list: \"))\n",
    "    listNum.append(number)\n",
    "\n",
    "\n",
    "for i in range(n):\n",
    "        #Vòng if đảm bảo các số cộng vào không bị out of range so với list số đã cho, ở đây là len(ListNum)\n",
    "        #Ví dụ: nếu số range của list = 3 thì không có số 4 và lớn hơn 4, nên vòng if sẽ đảm bảo chỉ + đến vị trí số 3 để tránh bị lỗi\n",
    "    if(i == (n - (k-1))):\n",
    "        break\n",
    "    SumK = 0\n",
    "        #Thêm 1 vòng for(j) để tiến hành cộng các số trong range k vị trí\n",
    "    for j in range(i,i+k):\n",
    "        SumK += listNum[j]\n",
    "    listK.append(SumK)\n",
    "print(\"\\nList that you have just input: \",listNum)\n",
    "print(f\"Sum of {k} continuous number in the list that is biggest: \", max(listK))"
   ]
  },
  {
   "cell_type": "code",
   "execution_count": 49,
   "id": "a75b1b4e-612e-43ab-92fd-f456fd54ab01",
   "metadata": {},
   "outputs": [
    {
     "name": "stdin",
     "output_type": "stream",
     "text": [
      "Input n number:  5\n"
     ]
    },
    {
     "name": "stdout",
     "output_type": "stream",
     "text": [
      "Sum of the numbers from 1 to 5: 15\n"
     ]
    }
   ],
   "source": [
    "# Bài 1: Xây dựng hàm đệ quy trong Python tính tổng truy hồi \n",
    "# S = 1 + 2 + 3 + 4 +....+ n\n",
    "# Điều kiện dừng truy hồi là gì: n = 1\n",
    "\n",
    "def SumNum(n):\n",
    "    if(n == 1):\n",
    "        return 1\n",
    "    else:\n",
    "        return n + Sum(n - 1)\n",
    "        \n",
    "n = int(input(\"Input n number: \"))\n",
    "print(f\"Sum of the numbers from 1 to {n}:\"  ,SumNum(n))"
   ]
  },
  {
   "cell_type": "code",
   "execution_count": 6,
   "id": "0cecb0dd-829f-4339-b920-5e57d5c83907",
   "metadata": {},
   "outputs": [
    {
     "name": "stdout",
     "output_type": "stream",
     "text": [
      "Input 3 integer elements to list !\n"
     ]
    },
    {
     "name": "stdin",
     "output_type": "stream",
     "text": [
      "Input a num to list 8\n",
      "Input a num to list -2\n",
      "Input a num to list 3\n"
     ]
    },
    {
     "name": "stdout",
     "output_type": "stream",
     "text": [
      "\n",
      "List you have input: [8, -2, 3]\n",
      "Max of the list:  8\n",
      "Min of the list:  -2\n"
     ]
    }
   ],
   "source": [
    "### Bài 2: Viết hàm trong Python tìm giá trị lớn nhất và nhỏ nhất của 3 số nhập từ bàn phím (không sử dụng hàm max())\n",
    "def FindMax(a):\n",
    "    Max = 0\n",
    "    for i in range(len(a)):\n",
    "        if(Max < a[i]):\n",
    "            Max = a[i]\n",
    "    return Max\n",
    "\n",
    "def FindMin(a):\n",
    "    Min = 0\n",
    "    for i in range(len(a)):\n",
    "        if(Min > a[i]):\n",
    "            Min = a[i]\n",
    "    return Min\n",
    "\n",
    "ListNum = []\n",
    "print(\"Input 3 integer elements to list !\")\n",
    "while(len(ListNum) != 3):\n",
    "    Num = int(input(\"Input a num to list\"))\n",
    "    ListNum.append(Num)\n",
    "print(\"\\nList you have input:\",ListNum)\n",
    "print(\"Max of the list: \",FindMax(ListNum))\n",
    "print(\"Min of the list: \",FindMin(ListNum))"
   ]
  },
  {
   "cell_type": "code",
   "execution_count": 25,
   "id": "cbeea5ec-4303-49ce-96f9-6ec4f13bf5d8",
   "metadata": {},
   "outputs": [
    {
     "name": "stdout",
     "output_type": "stream",
     "text": [
      "List given:\t\t [12, 65, 15, 30, 22, 34, 35]\n",
      "List is divisible by 15: [15, 30]\n"
     ]
    }
   ],
   "source": [
    "# Bài 3: Sử dụng hàm lambda để tìm ra tất cả các số chia hết cho 15 trong một list\n",
    "# Input = [12,65,15,30,22,34,35]\n",
    "# Output = [15, 30]\n",
    "# Làm xong thì nộp vào googleclassroom và kèm thêm bài kiểm tra số 2 (Đã giao trong file list-python)\n",
    "\n",
    "ListNum = [12,65,15,30,22,34,35]\n",
    "ListNum5 = list(filter(lambda x: x % 15 == False, ListNum))\n",
    "print(\"List given:\\t\\t\",ListNum)\n",
    "print(\"List is divisible by 15:\",ListNum5)"
   ]
  },
  {
   "cell_type": "code",
   "execution_count": 26,
   "id": "f40956b6-a435-4173-8f2d-67c0075e5b8e",
   "metadata": {},
   "outputs": [
    {
     "name": "stdout",
     "output_type": "stream",
     "text": [
      "Reverse list of array [1, 2, 3, 41, 2] is [2, 41, 3, 2, 1]\n"
     ]
    }
   ],
   "source": [
    "#Xây dựng hàm đảo ngược danh sách, không sử dụng reverse() và [::-1]\n",
    "def ReverseList(a):\n",
    "    ListA = []\n",
    "    for i in range(len(a)):\n",
    "        ListA.append( a[ (len(a)-1) - i] )\n",
    "    return ListA\n",
    "\n",
    "array = [1,2,3,41,2]\n",
    "print(f\"Reverse list of array {array} is\",ReverseList(array))"
   ]
  },
  {
   "cell_type": "code",
   "execution_count": null,
   "id": "1f2ed0a2-4296-4595-ba71-4c9f015c1e75",
   "metadata": {},
   "outputs": [],
   "source": []
  }
 ],
 "metadata": {
  "kernelspec": {
   "display_name": "Python 3 (ipykernel)",
   "language": "python",
   "name": "python3"
  },
  "language_info": {
   "codemirror_mode": {
    "name": "ipython",
    "version": 3
   },
   "file_extension": ".py",
   "mimetype": "text/x-python",
   "name": "python",
   "nbconvert_exporter": "python",
   "pygments_lexer": "ipython3",
   "version": "3.8.11"
  }
 },
 "nbformat": 4,
 "nbformat_minor": 5
}
