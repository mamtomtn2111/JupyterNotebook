{
 "cells": [
  {
   "cell_type": "code",
   "execution_count": 6,
   "id": "b6d842eb-5219-4513-b30e-2b589fddee09",
   "metadata": {},
   "outputs": [
    {
     "name": "stdin",
     "output_type": "stream",
     "text": [
      "Nhập vào n số phần tử 6\n",
      "Số nguyên [0]:  2\n",
      "Số nguyên [1]:  3\n",
      "Số nguyên [2]:  1\n",
      "Số nguyên [3]:  16\n",
      "Số nguyên [4]:  34\n",
      "Số nguyên [5]:  11\n"
     ]
    },
    {
     "name": "stdout",
     "output_type": "stream",
     "text": [
      "\n",
      "Tuple bạn đã nhập (2, 3, 1, 16, 34, 11)\n",
      "Tổng số lẻ của tuple là:  15\n",
      "Tổng số chẵn của tuple là:  52\n"
     ]
    }
   ],
   "source": [
    "list1 = []\n",
    "n = int(input(\"Nhập vào n số phần tử\"))\n",
    "for i in range(n):\n",
    "    num = int(input(f\"Số nguyên [{i}]: \"))\n",
    "    list1.append(num)\n",
    "    \n",
    "tuple1 = tuple(list1)\n",
    "print(\"\\nTuple bạn đã nhập\",tuple1)\n",
    "\n",
    "listSoLe = []\n",
    "listSoChan = []\n",
    "for i in tuple1:\n",
    "    if(i % 2 == 0):\n",
    "        listSoChan.append(i)\n",
    "    else:\n",
    "        listSoLe.append(i)\n",
    "        \n",
    "print(\"Tổng số lẻ của tuple là: \",sum(listSoLe))\n",
    "print(\"Tổng số chẵn của tuple là: \",sum(listSoChan))"
   ]
  },
  {
   "cell_type": "code",
   "execution_count": 277,
   "id": "a81638ae-e07e-4b79-a01a-8b0b37c389db",
   "metadata": {},
   "outputs": [
    {
     "name": "stdin",
     "output_type": "stream",
     "text": [
      "Nhập vào số N để kiểm tra số này có tách ra được 1 bộ số abc của pytago được không 4\n"
     ]
    },
    {
     "name": "stdout",
     "output_type": "stream",
     "text": [
      "1\n"
     ]
    }
   ],
   "source": [
    "##### Đề:\n",
    "#a,b,c được gọi là 1 bộ số py-ta-go nếu thỏa mãn a^2 = b^2 + c^2 hoặc ngược lại với b và c\n",
    "#Ví dụ (3,4,5) - vì 3^2 + 4^2 = 5^2 và tổng của 3+4+5 = 12\n",
    "#Yêu cầu: nhập vào một số nguyên dương N, in ra màn hình là 1 nếu số N có thể tách thành 1 bộ số a,b,c\n",
    "#N = a + b + c thì in ra là 1\n",
    "#ngược lại mà không tách được ra là 0.\n",
    "\n",
    "N = int(input(\"Nhập vào số N để kiểm tra số này có tách ra được 1 bộ số abc của pytago được không\"))\n",
    "\n",
    "def Check(N):\n",
    "    for i in range(N//3,N):\n",
    "        for j in range(N//2,N):\n",
    "            c = N-i-j\n",
    "            if(i*i == j*j + c*c):\n",
    "                return 1\n",
    "                break\n",
    "    else:\n",
    "        return 0\n",
    "        \n",
    "print(Check(N))"
   ]
  },
  {
   "cell_type": "code",
   "execution_count": null,
   "id": "8c87ec2b-42d9-47b1-8d20-9e5196847d2e",
   "metadata": {},
   "outputs": [],
   "source": []
  }
 ],
 "metadata": {
  "kernelspec": {
   "display_name": "Python 3 (ipykernel)",
   "language": "python",
   "name": "python3"
  },
  "language_info": {
   "codemirror_mode": {
    "name": "ipython",
    "version": 3
   },
   "file_extension": ".py",
   "mimetype": "text/x-python",
   "name": "python",
   "nbconvert_exporter": "python",
   "pygments_lexer": "ipython3",
   "version": "3.8.11"
  }
 },
 "nbformat": 4,
 "nbformat_minor": 5
}
