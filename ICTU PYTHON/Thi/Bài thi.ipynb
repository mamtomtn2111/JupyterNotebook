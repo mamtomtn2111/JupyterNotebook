{
 "cells": [
  {
   "cell_type": "code",
   "execution_count": null,
   "id": "3c74df07-60d3-4c8e-9729-c66b4c227856",
   "metadata": {},
   "outputs": [],
   "source": [
    "#Đề số 9"
   ]
  },
  {
   "cell_type": "code",
   "execution_count": 3,
   "id": "7a661d94-6718-4755-8ec8-78428bfe5df2",
   "metadata": {},
   "outputs": [],
   "source": [
    "from datetime import date, datetime "
   ]
  },
  {
   "cell_type": "code",
   "execution_count": 36,
   "id": "024caf81-3bba-4902-9a2c-f3993c04d9ee",
   "metadata": {},
   "outputs": [
    {
     "name": "stdin",
     "output_type": "stream",
     "text": [
      "Mời bạn nhập vào string:  Haipro123\n"
     ]
    },
    {
     "name": "stdout",
     "output_type": "stream",
     "text": [
      "Mật khẩu bạn nhập là KHÔNG HỢP LỆ\n"
     ]
    }
   ],
   "source": [
    "# Câu 1: (3.0 điểm)\n",
    "# Một website yêu cầu người dùng nhập tên người dùng và mật khẩu để đăng ký. Viết\n",
    "# chương trình để kiểm tra tính hợp lệ của mật khẩu mà người dùng nhập vào.\n",
    "# Các tiêu chí kiểm tra mật khẩu bao gồm:\n",
    "# 1. Ít nhất 1 chữ cái nằm trong [a-z]\n",
    "# 2. Ít nhất 1 số nằm trong [0-9]\n",
    "# 3. Ít nhất 1 kí tự nằm trong [A-Z]\n",
    "# 4. Ít nhất 1 ký tự nằm trong [$ # @]\n",
    "# 5. Độ dài mật khẩu tối thiểu: 6\n",
    "# 6. Độ dài mật khẩu tối đa: 12\n",
    "\n",
    "#isalnum()\n",
    "InputString = input(\"Mời bạn nhập vào string: \")\n",
    "\n",
    "CheckVietThuong = 0\n",
    "CheckVietHoa = 0\n",
    "CheckSo = 0\n",
    "CheckDacBiet = 0\n",
    "\n",
    "for i in InputString:\n",
    "    if(i.isalnum() == False):\n",
    "        CheckDacBiet += 1\n",
    "    if(i.isupper()):\n",
    "        CheckVietHoa += 1\n",
    "    if(i.islower()):\n",
    "        CheckVietThuong += 1\n",
    "    if(i.isdigit()):\n",
    "        CheckSo += 1\n",
    "\n",
    "lenString = len(InputString)\n",
    "if(CheckVietThuong > 0 and CheckVietHoa > 0 and CheckSo > 0 and CheckDacBiet > 0 and lenString >=6 and lenString <= 12):\n",
    "    print(\"Mật khẩu bạn nhập là HỢP LỆ\")\n",
    "else:\n",
    "    print(\"Mật khẩu bạn nhập là KHÔNG HỢP LỆ\")"
   ]
  },
  {
   "cell_type": "code",
   "execution_count": 38,
   "id": "f3302edc-82ac-48f8-bd3a-c62e30784d2e",
   "metadata": {},
   "outputs": [
    {
     "name": "stdin",
     "output_type": "stream",
     "text": [
      "Nhập vào n sinh viên:  3\n"
     ]
    },
    {
     "name": "stdout",
     "output_type": "stream",
     "text": [
      "\n",
      "Nhập vào sinh viên thứ 1:\n"
     ]
    },
    {
     "name": "stdin",
     "output_type": "stream",
     "text": [
      "Nhập vào mã sinh viên:  DTC1\n",
      "Nhập vào tên sinh viên:  Nguyễn Vũ Hải\n",
      "Nhập vào ngày sinh viên sinh viên:  q\n"
     ]
    },
    {
     "name": "stdout",
     "output_type": "stream",
     "text": [
      "Error Found :  time data 'q' does not match format '%d/%m/%Y'\n",
      "\n",
      "\n"
     ]
    },
    {
     "name": "stdin",
     "output_type": "stream",
     "text": [
      "Nhập vào ngày sinh viên sinh viên:  29/07/2001\n",
      "Nhập vào điểm trung bình sinh viên:  9.5\n"
     ]
    },
    {
     "name": "stdout",
     "output_type": "stream",
     "text": [
      "\n",
      "Nhập vào sinh viên thứ 2:\n"
     ]
    },
    {
     "name": "stdin",
     "output_type": "stream",
     "text": [
      "Nhập vào mã sinh viên:  DTC2\n",
      "Nhập vào tên sinh viên:  Nguyễn Thành Luân\n",
      "Nhập vào ngày sinh viên sinh viên:  31/12/1999\n",
      "Nhập vào điểm trung bình sinh viên:  7\n"
     ]
    },
    {
     "name": "stdout",
     "output_type": "stream",
     "text": [
      "\n",
      "Nhập vào sinh viên thứ 3:\n"
     ]
    },
    {
     "name": "stdin",
     "output_type": "stream",
     "text": [
      "Nhập vào mã sinh viên:  DTC3\n",
      "Nhập vào tên sinh viên:  Vũ Hải Đăng\n",
      "Nhập vào ngày sinh viên sinh viên:  5/8/1989\n",
      "Nhập vào điểm trung bình sinh viên:  8.5\n"
     ]
    },
    {
     "name": "stdout",
     "output_type": "stream",
     "text": [
      "\n",
      "Xuất danh sách sinh viên:\n",
      "\n",
      "Sinh viên thứ 1\n",
      "\tMã sinh viên: DTC1\n",
      "\tTên sinh viên: Nguyễn Vũ Hải\n",
      "\tNăm sinh: 2001-07-29 00:00:00\n",
      "\tTuổi: 20\n",
      "\tĐiểm trung bình: 9.5\n",
      "\n",
      "Sinh viên thứ 2\n",
      "\tMã sinh viên: DTC2\n",
      "\tTên sinh viên: Nguyễn Thành Luân\n",
      "\tNăm sinh: 1999-12-31 00:00:00\n",
      "\tTuổi: 21\n",
      "\tĐiểm trung bình: 7.0\n",
      "\n",
      "Sinh viên thứ 3\n",
      "\tMã sinh viên: DTC3\n",
      "\tTên sinh viên: Vũ Hải Đăng\n",
      "\tNăm sinh: 1989-08-05 00:00:00\n",
      "\tTuổi: 32\n",
      "\tĐiểm trung bình: 8.5\n",
      "\n",
      "=====Sinh viên có năm sinh nhỏ nhất là=====\n",
      "\tMã sinh viên: DTC3\n",
      "\tTên sinh viên: Vũ Hải Đăng\n",
      "\tNăm sinh: 1989-08-05 00:00:00\n",
      "\tTuổi: 32\n",
      "\tĐiểm trung bình: 8.5\n"
     ]
    }
   ],
   "source": [
    "# #Bài2\n",
    "# Xây dựng lớp SinhVien gồm có các thuộc tính: Mã sinh viên, tên sinh viên, năm\n",
    "# sinh, dtb (điểm trung b).\n",
    "# a. Xây dựng phương thức nhập/hiện thông tin cho một sinh viên.\n",
    "# b. Xây dựng lớp quản lý sinh viên với các phương thức:\n",
    "# + Nhập, xuất thông tin cho n sinh viên\n",
    "# + Xây dựng phương thức lấy tuổi của sinh viên vừa nhập. (năm hiện tại – năm sinh)\n",
    "# + Xây dựng phương thức in ra màn hình sinh viên có năm sinh nhỏ nhất.\n",
    "\n",
    "class SinhVien:\n",
    "    def __init__(self, inputMaSV = None, inputTenSV = None, inputQueQuan = None, inputDOB = None):\n",
    "        if(inputMaSV == None and inputTenSV == None and inputQueQuan == None and inputDOB == None):\n",
    "            self.inputSinhVien()\n",
    "            return\n",
    "\n",
    "        self.MaSV = inputMaSV\n",
    "        self.TenSV = inputTenSV\n",
    "        self.QueQuan = inputNamSinh\n",
    "        self.DOB = inputDOB\n",
    "\n",
    "    def inputSinhVien(self):\n",
    "        while(True):\n",
    "            inputMaSV = input(\"Nhập vào mã sinh viên: \")\n",
    "            if(len(inputMaSV.strip()) > 0):\n",
    "                self.MaSV = inputMaSV\n",
    "                break\n",
    "    \n",
    "        while(True):\n",
    "            inputTenSV = input(\"Nhập vào tên sinh viên: \").title()\n",
    "            if(len(inputTenSV.strip()) > 0):\n",
    "                self.TenSV = inputTenSV\n",
    "                break\n",
    "            \n",
    "        while(True):\n",
    "            inputDOB = input(\"Nhập vào ngày sinh viên sinh viên: \")\n",
    "            try:\n",
    "                inputDOB =  datetime.strptime(inputDOB.strip(), '%d/%m/%Y')\n",
    "                self.DOB = inputDOB\n",
    "                self.CalculateAge()\n",
    "                break\n",
    "            except ValueError as e:\n",
    "                print(\"Error Found : \", e)\n",
    "                print(\"\\n\")\n",
    "            \n",
    "        while(True):\n",
    "            try:\n",
    "                inputDTB = float(input(\"Nhập vào điểm trung bình sinh viên: \"))\n",
    "                if(isinstance(inputDTB,float)):\n",
    "                    self.DTB = inputDTB\n",
    "                    break\n",
    "            except:\n",
    "                print(\"Bạn nhập sai định dạng điểm !\")\n",
    "                \n",
    "    def CalculateAge(self): \n",
    "        today = date.today()\n",
    "        self.Age = today.year - self.DOB.year - ((today.month, today.day) < (self.DOB.month, self.DOB.day))\n",
    "        return\n",
    "                \n",
    "    def OutputSinhVien(self):\n",
    "        print(f\"\\tMã sinh viên: {self.MaSV}\")\n",
    "        print(f\"\\tTên sinh viên: {self.TenSV}\")\n",
    "        print(f\"\\tNăm sinh: {self.DOB}\")\n",
    "        print(f\"\\tTuổi: {self.Age}\")\n",
    "        print(f\"\\tĐiểm trung bình: {self.DTB}\")\n",
    "    \n",
    "    def __lt__(self, other):\n",
    "        if(self.DOB.year < other.DOB.year):\n",
    "            return True\n",
    "        else:\n",
    "            return False\n",
    "\n",
    "class QLSinhVien(SinhVien):\n",
    "    def __init__(self, ListSinhVien = []):\n",
    "        self.ListSinhVien = self.inputQLSinhVien()\n",
    "\n",
    "    def inputQLSinhVien(self):\n",
    "        while(True):\n",
    "            try:\n",
    "                n = int(input(\"Nhập vào n sinh viên: \"))\n",
    "                if(isinstance(n,int)):\n",
    "                    break\n",
    "            except:\n",
    "                print(\"Bạn nhập sai định dạng !\")\n",
    "        ListSinhVien = []\n",
    "        for i in range(n):\n",
    "            print(f\"\\nNhập vào sinh viên thứ {i+1}:\")\n",
    "            ListSinhVien.append(SinhVien())\n",
    "        return ListSinhVien\n",
    "\n",
    "    def OutputQLSinhVien(self):\n",
    "        print(\"\\nXuất danh sách sinh viên:\")\n",
    "        for idx, SinhVien in enumerate(self.ListSinhVien):\n",
    "          print(f\"\\nSinh viên thứ {idx+1}\")\n",
    "          SinhVien.OutputSinhVien()\n",
    "\n",
    "    def PrintSmallestYOB(self):\n",
    "        print(\"\\n=====Sinh viên có năm sinh nhỏ nhất là=====\")\n",
    "        ListYOB = min(self.ListSinhVien)\n",
    "        ListYOB.OutputSinhVien()\n",
    "\n",
    "def main():\n",
    "    ICTU = QLSinhVien()\n",
    "    ICTU.OutputQLSinhVien()\n",
    "    ICTU.PrintSmallestYOB()\n",
    "\n",
    "if __name__ == \"__main__\":\n",
    "    main()"
   ]
  },
  {
   "cell_type": "code",
   "execution_count": null,
   "id": "135a1db8-1881-48e4-91d0-e7de051f6829",
   "metadata": {},
   "outputs": [],
   "source": []
  }
 ],
 "metadata": {
  "kernelspec": {
   "display_name": "Python 3 (ipykernel)",
   "language": "python",
   "name": "python3"
  },
  "language_info": {
   "codemirror_mode": {
    "name": "ipython",
    "version": 3
   },
   "file_extension": ".py",
   "mimetype": "text/x-python",
   "name": "python",
   "nbconvert_exporter": "python",
   "pygments_lexer": "ipython3",
   "version": "3.8.11"
  }
 },
 "nbformat": 4,
 "nbformat_minor": 5
}
