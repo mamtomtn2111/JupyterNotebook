{
 "cells": [
  {
   "cell_type": "code",
   "execution_count": 32,
   "id": "34c9dec7-bd4a-4031-a878-6f96908c7fd3",
   "metadata": {},
   "outputs": [
    {
     "name": "stdout",
     "output_type": "stream",
     "text": [
      "9\n"
     ]
    }
   ],
   "source": [
    "# Gia Đoàn\n",
    "a = [1,2,3,4]\n",
    "\n",
    "#k = int(input())\n",
    "'''a = int(input())\n",
    "lst = []\n",
    "for i in range(a):\n",
    "    lst.append(int(input()))'''\n",
    "k = 3\n",
    "S=[]\n",
    "l = len(a)-(k-1)\n",
    "for i in range(l):\n",
    "    SumK = 0\n",
    "    for j in range(i,i+k):\n",
    "        SumK += a[j]\n",
    "    S.append(SumK)\n",
    "print(max(S))"
   ]
  },
  {
   "cell_type": "code",
   "execution_count": 31,
   "id": "d0cb9107-1b59-4446-81d8-ed67c0e5f0a4",
   "metadata": {},
   "outputs": [
    {
     "name": "stdout",
     "output_type": "stream",
     "text": [
      "9\n"
     ]
    }
   ],
   "source": [
    "# Gia Đoàn\n",
    "a = [1,2,3,4]\n",
    "\n",
    "#k = int(input())\n",
    "'''a = int(input())\n",
    "lst = []\n",
    "for i in range(a):\n",
    "    lst.append(int(input()))'''\n",
    "k = 3\n",
    "S=[]\n",
    "l = len(a)-(k-1)\n",
    "for i in range(l):\n",
    "    Sum = 0\n",
    "    #SumK = 0\n",
    "    for j in range(i,i+k):\n",
    "        Sum += a[j]\n",
    "        #SumK += a[j]\n",
    "    #Sum += SumK\n",
    "    S.append(Sum)\n",
    "print(max(S))"
   ]
  },
  {
   "cell_type": "code",
   "execution_count": 22,
   "id": "149140f7-40e0-49d9-b922-3213b76abc10",
   "metadata": {},
   "outputs": [
    {
     "name": "stdout",
     "output_type": "stream",
     "text": [
      "2\n",
      "3\n",
      "5\n",
      "7\n",
      "11\n",
      "13\n",
      "17\n",
      "19\n",
      "None\n"
     ]
    }
   ],
   "source": [
    "def sang_era(n):\n",
    "    prime_list = []\n",
    "    for i in range(2,n+1):\n",
    "        if i not in prime_list:\n",
    "            print(i)\n",
    "            for j in range(i*i, n+1,i):\n",
    "                prime_list.append(j)\n",
    "                \n",
    "print(sang_era(20))\n",
    "        "
   ]
  },
  {
   "cell_type": "code",
   "execution_count": 37,
   "id": "7d2c1a0b-8f41-4d2b-a292-179607f70b63",
   "metadata": {},
   "outputs": [
    {
     "name": "stdout",
     "output_type": "stream",
     "text": [
      "[6, 5, 4, 3, 2, 1]\n"
     ]
    }
   ],
   "source": [
    "List1 = [1,2,3,4,5,6]\n",
    "List1.sort(reverse = True)\n",
    "print(List1)"
   ]
  },
  {
   "cell_type": "code",
   "execution_count": 39,
   "id": "485fee17-d385-44b3-b3be-e4e6aeb89d1c",
   "metadata": {},
   "outputs": [
    {
     "name": "stdout",
     "output_type": "stream",
     "text": [
      "[6, 5, 4, 3, 2, 1]\n"
     ]
    }
   ],
   "source": [
    "List1 = [1,2,3,4,5,6]\n",
    "list3_copy = sorted(List1,reverse=True)\n",
    "print(list3_copy)"
   ]
  },
  {
   "cell_type": "code",
   "execution_count": 49,
   "id": "1ed07f3f-ac85-47ce-a25a-f60c745c7662",
   "metadata": {},
   "outputs": [
    {
     "name": "stdout",
     "output_type": "stream",
     "text": [
      "Nhập vào n: \n"
     ]
    },
    {
     "name": "stdin",
     "output_type": "stream",
     "text": [
      " 3\n",
      "Nhập vào danh sách số:  1\n",
      "Nhập vào danh sách số:  2\n",
      "Nhập vào danh sách số:  3\n"
     ]
    },
    {
     "name": "stdout",
     "output_type": "stream",
     "text": [
      "Danh sách bạn nhập là  [1, 2, 3]\n",
      "Danh sách bị đảo được là:  [3, 2, 1]\n"
     ]
    }
   ],
   "source": [
    "#Viết hàm đảo ngược \n",
    "print(\"Nhập vào n: \")\n",
    "n = int(input())\n",
    "\n",
    "listNum= []\n",
    "for i in range(n):\n",
    "    number = int(input(\"Nhập vào danh sách số: \"))\n",
    "    listNum.append(number)\n",
    "\n",
    "\n",
    "def reverse1(listNum):\n",
    "    new_list = []\n",
    "    index = len(listNum)\n",
    "    while index != 0:               \n",
    "        new_list.append(listNum[index - 1]) \n",
    "        index -= 1     \n",
    "    return new_list\n",
    "\n",
    "\n",
    "print(\"Danh sách bạn nhập là \", listNum)\n",
    "print(\"Danh sách bị đảo được là: \",reverse1(listNum))"
   ]
  },
  {
   "cell_type": "code",
   "execution_count": 55,
   "id": "1d10f1e7-187e-4351-a898-ed384fba54de",
   "metadata": {},
   "outputs": [
    {
     "name": "stdout",
     "output_type": "stream",
     "text": [
      "John  #Peter  #Vicky\n"
     ]
    }
   ],
   "source": [
    "myTuple = [\"John\", \"Peter\", \"Vicky\"]\n",
    "\n",
    "x = \"  #\".join(myTuple)\n",
    "\n",
    "print(x)\n",
    "\n",
    "\n"
   ]
  },
  {
   "cell_type": "code",
   "execution_count": 1,
   "id": "834ec20d-43d9-43e8-bd1f-41f14ad4109b",
   "metadata": {},
   "outputs": [
    {
     "name": "stdin",
     "output_type": "stream",
     "text": [
      "Nhập vào n sinh viên:  1\n"
     ]
    },
    {
     "name": "stdout",
     "output_type": "stream",
     "text": [
      "\n",
      "Nhập vào sinh viên thứ 1:\n"
     ]
    },
    {
     "name": "stdin",
     "output_type": "stream",
     "text": [
      "Nhập vào mã sinh viên:  DTC1\n",
      "Nhập vào tên sinh viên:  Vũ Hải\n",
      "Nhập vào quê quán sinh viên:  Thái Nguyên\n",
      "Nhập vào điểm trung bình sinh viên:  8.7\n"
     ]
    },
    {
     "name": "stdout",
     "output_type": "stream",
     "text": [
      "\n",
      "Xuất danh sách sinh viên:\n",
      "\n",
      "Sinh viên thứ 1\n"
     ]
    },
    {
     "ename": "AttributeError",
     "evalue": "'SinhVien' object has no attribute 'OutputSinhVien'",
     "output_type": "error",
     "traceback": [
      "\u001b[1;31m---------------------------------------------------------------------------\u001b[0m",
      "\u001b[1;31mAttributeError\u001b[0m                            Traceback (most recent call last)",
      "\u001b[1;32m~\\AppData\\Local\\Temp/ipykernel_14328/73772830.py\u001b[0m in \u001b[0;36m<module>\u001b[1;34m\u001b[0m\n\u001b[0;32m    108\u001b[0m \u001b[1;33m\u001b[0m\u001b[0m\n\u001b[0;32m    109\u001b[0m \u001b[1;32mif\u001b[0m \u001b[0m__name__\u001b[0m \u001b[1;33m==\u001b[0m \u001b[1;34m\"__main__\"\u001b[0m\u001b[1;33m:\u001b[0m\u001b[1;33m\u001b[0m\u001b[1;33m\u001b[0m\u001b[0m\n\u001b[1;32m--> 110\u001b[1;33m   \u001b[0mmain\u001b[0m\u001b[1;33m(\u001b[0m\u001b[1;33m)\u001b[0m\u001b[1;33m\u001b[0m\u001b[1;33m\u001b[0m\u001b[0m\n\u001b[0m",
      "\u001b[1;32m~\\AppData\\Local\\Temp/ipykernel_14328/73772830.py\u001b[0m in \u001b[0;36mmain\u001b[1;34m()\u001b[0m\n\u001b[0;32m    103\u001b[0m \u001b[1;32mdef\u001b[0m \u001b[0mmain\u001b[0m\u001b[1;33m(\u001b[0m\u001b[1;33m)\u001b[0m\u001b[1;33m:\u001b[0m\u001b[1;33m\u001b[0m\u001b[1;33m\u001b[0m\u001b[0m\n\u001b[0;32m    104\u001b[0m   \u001b[0mICTU\u001b[0m \u001b[1;33m=\u001b[0m \u001b[0mQLSinhVien\u001b[0m\u001b[1;33m(\u001b[0m\u001b[1;33m)\u001b[0m\u001b[1;33m\u001b[0m\u001b[1;33m\u001b[0m\u001b[0m\n\u001b[1;32m--> 105\u001b[1;33m   \u001b[0mICTU\u001b[0m\u001b[1;33m.\u001b[0m\u001b[0mOutputQLSinhVien\u001b[0m\u001b[1;33m(\u001b[0m\u001b[1;33m)\u001b[0m\u001b[1;33m\u001b[0m\u001b[1;33m\u001b[0m\u001b[0m\n\u001b[0m\u001b[0;32m    106\u001b[0m   \u001b[0mICTU\u001b[0m\u001b[1;33m.\u001b[0m\u001b[0mOutputSortTenSinhVien\u001b[0m\u001b[1;33m(\u001b[0m\u001b[1;33m)\u001b[0m\u001b[1;33m\u001b[0m\u001b[1;33m\u001b[0m\u001b[0m\n\u001b[0;32m    107\u001b[0m   \u001b[0mICTU\u001b[0m\u001b[1;33m.\u001b[0m\u001b[0mOutputSortDiemTBSinhVien\u001b[0m\u001b[1;33m(\u001b[0m\u001b[1;33m)\u001b[0m\u001b[1;33m\u001b[0m\u001b[1;33m\u001b[0m\u001b[0m\n",
      "\u001b[1;32m~\\AppData\\Local\\Temp/ipykernel_14328/73772830.py\u001b[0m in \u001b[0;36mOutputQLSinhVien\u001b[1;34m(self)\u001b[0m\n\u001b[0;32m     85\u001b[0m     \u001b[1;32mfor\u001b[0m \u001b[0midx\u001b[0m\u001b[1;33m,\u001b[0m \u001b[0mSinhVien\u001b[0m \u001b[1;32min\u001b[0m \u001b[0menumerate\u001b[0m\u001b[1;33m(\u001b[0m\u001b[0mself\u001b[0m\u001b[1;33m.\u001b[0m\u001b[0mListSinhVien\u001b[0m\u001b[1;33m)\u001b[0m\u001b[1;33m:\u001b[0m\u001b[1;33m\u001b[0m\u001b[1;33m\u001b[0m\u001b[0m\n\u001b[0;32m     86\u001b[0m       \u001b[0mprint\u001b[0m\u001b[1;33m(\u001b[0m\u001b[1;34mf\"\\nSinh viên thứ {idx+1}\"\u001b[0m\u001b[1;33m)\u001b[0m\u001b[1;33m\u001b[0m\u001b[1;33m\u001b[0m\u001b[0m\n\u001b[1;32m---> 87\u001b[1;33m       \u001b[0mSinhVien\u001b[0m\u001b[1;33m.\u001b[0m\u001b[0mOutputSinhVien\u001b[0m\u001b[1;33m(\u001b[0m\u001b[1;33m)\u001b[0m\u001b[1;33m\u001b[0m\u001b[1;33m\u001b[0m\u001b[0m\n\u001b[0m\u001b[0;32m     88\u001b[0m \u001b[1;33m\u001b[0m\u001b[0m\n\u001b[0;32m     89\u001b[0m   \u001b[1;32mdef\u001b[0m \u001b[0mOutputSortTenSinhVien\u001b[0m\u001b[1;33m(\u001b[0m\u001b[0mself\u001b[0m\u001b[1;33m)\u001b[0m\u001b[1;33m:\u001b[0m\u001b[1;33m\u001b[0m\u001b[1;33m\u001b[0m\u001b[0m\n",
      "\u001b[1;31mAttributeError\u001b[0m: 'SinhVien' object has no attribute 'OutputSinhVien'"
     ]
    }
   ],
   "source": [
    "# Câu 2: (7.0 điểm)\n",
    "# Xây dựng lớp SinhVien gồm có các thuộc tính: Mã sinh viên, tên sinh viên, quê quán, điểm trung bình.\n",
    "# a. Xây dựng phương thức nhập/hiện thông tin cho một sinh viên.\n",
    "# b. Xây dựng lớp quản lý sinh viên với các phương thức:\n",
    "# + Nhập, xuất thông tin cho n sinh viên\n",
    "# + Xây dựng phương thức sắp xếp các sinh viên theo thứ tự abc\n",
    "# + Xây dựng phương thức sắp xếp các sinh viên có điểm trung bình từ nhỏ đến lớn\n",
    "\n",
    "class SinhVien:\n",
    "  def __init__(self, inputMaSV = None, inputTenSV = None, inputQueQuan = None, inputDTB = None):\n",
    "    if(inputMaSV == None and inputTenSV == None and inputQueQuan == None and inputDTB == None):\n",
    "      self.inputSinhVien()\n",
    "      return\n",
    "\n",
    "    self.MaSV = inputMaSV\n",
    "    self.TenSV = inputTenSV\n",
    "    self.QueQuan = inputQueQuan\n",
    "    self.DTB = inputDTB\n",
    "  \n",
    "  def inputSinhVien(self):\n",
    "    while(True):\n",
    "      inputMaSV = input(\"Nhập vào mã sinh viên: \")\n",
    "      if(len(inputMaSV.strip()) > 0):\n",
    "        self.MaSV = inputMaSV\n",
    "        break\n",
    "\n",
    "    while(True):\n",
    "      inputTenSV = input(\"Nhập vào tên sinh viên: \")\n",
    "      if(len(inputTenSV.strip()) > 0):\n",
    "        self.TenSV = inputTenSV\n",
    "        break\n",
    "\n",
    "    while(True):\n",
    "      inputQueQuan = input(\"Nhập vào quê quán sinh viên: \")\n",
    "      if(len(inputQueQuan.strip()) > 0):\n",
    "        self.QueQuan = inputQueQuan\n",
    "        break\n",
    "\n",
    "    while(True):\n",
    "      try:\n",
    "        inputDTB = float(input(\"Nhập vào điểm trung bình sinh viên: \"))\n",
    "        if(isinstance(inputDTB,float)):\n",
    "          self.DTB = inputDTB\n",
    "          break\n",
    "      except:\n",
    "        print(\"Bạn nhập sai định dạng điểm !\")\n",
    "\n",
    "    def OutputSinhVien(self):\n",
    "      print(f\"\\tMã sinh viên: {self.MaSV}\")\n",
    "      print(f\"\\tTên sinh viên: {self.TenSV}\")\n",
    "      print(f\"\\tQuê quán: {self.QueQuan}\")\n",
    "      print(f\"\\tĐiểm trung bình: {self.DTB}\")\n",
    "\n",
    "    def SplitFirstName(self):\n",
    "      FullName = self.TenSV.rsplit(\" \")\n",
    "      FirstName = FullName[-1]\n",
    "      return FirstName\n",
    "    \n",
    "    def __lt__(self, other):\n",
    "      if(self.DTB < other.DTB):\n",
    "        return True\n",
    "      else:\n",
    "        return False\n",
    "\n",
    "class QLSinhVien(SinhVien):\n",
    "  def __init__(self, ListSinhVien = []):\n",
    "    self.ListSinhVien = self.inputQLSinhVien()\n",
    "\n",
    "  def inputQLSinhVien(self):\n",
    "    while(True):\n",
    "      try:\n",
    "        n = int(input(\"Nhập vào n sinh viên: \"))\n",
    "        if(isinstance(n,int)):\n",
    "          break\n",
    "      except:\n",
    "        print(\"Bạn nhập sai định dạng !\")\n",
    "    ListSinhVien = []\n",
    "    for i in range(n):\n",
    "      print(f\"\\nNhập vào sinh viên thứ {i+1}:\")\n",
    "      ListSinhVien.append(SinhVien())\n",
    "    return ListSinhVien\n",
    "\n",
    "  def OutputQLSinhVien(self):\n",
    "    print(\"\\nXuất danh sách sinh viên:\")\n",
    "    for idx, value in enumerate(self.ListSinhVien):\n",
    "      print(f\"\\nSinh viên thứ {idx+1}\")\n",
    "      value.OutputSinhVien()\n",
    "\n",
    "  def OutputSortTenSinhVien(self):\n",
    "    self.ListSinhVien.sort(key = lambda x: x.SplitFirstName(), reverse = True)\n",
    "    print(\"In ra màn hình sinh viên sắp xếp theo tên cuối là: \")\n",
    "    for idx, SinhVien in enumerate(self.ListSinhVien):\n",
    "      print(f\"Sinh viên thứ {idx+1}\")\n",
    "      SinhVien.OutputSinhVien()\n",
    "\n",
    "  def OutputSortDiemTBSinhVien(self):\n",
    "    self.ListSinhVien.sort(reverse = False)\n",
    "    print(\"Sắp xếp giảm dần điểm trung bình sinh viên: \")\n",
    "    for idx, SinhVien in enumerate(self.ListSinhVien):\n",
    "      print(f\"Sinh viên thứ {idx+1}\")\n",
    "      SinhVien.OutputSinhVien()\n",
    "\n",
    "def main():\n",
    "  ICTU = QLSinhVien()\n",
    "  ICTU.OutputQLSinhVien()\n",
    "  ICTU.OutputSortTenSinhVien()\n",
    "  ICTU.OutputSortDiemTBSinhVien()\n",
    "\n",
    "if __name__ == \"__main__\":\n",
    "  main()"
   ]
  },
  {
   "cell_type": "code",
   "execution_count": null,
   "id": "9ec99a4c-7041-4c84-b641-ee26d9a1d865",
   "metadata": {},
   "outputs": [],
   "source": []
  }
 ],
 "metadata": {
  "kernelspec": {
   "display_name": "Python 3 (ipykernel)",
   "language": "python",
   "name": "python3"
  },
  "language_info": {
   "codemirror_mode": {
    "name": "ipython",
    "version": 3
   },
   "file_extension": ".py",
   "mimetype": "text/x-python",
   "name": "python",
   "nbconvert_exporter": "python",
   "pygments_lexer": "ipython3",
   "version": "3.8.11"
  }
 },
 "nbformat": 4,
 "nbformat_minor": 5
}
