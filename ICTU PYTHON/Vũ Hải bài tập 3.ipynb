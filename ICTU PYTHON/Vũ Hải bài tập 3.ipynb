{
 "cells": [
  {
   "cell_type": "markdown",
   "id": "a054e293-a601-4a9c-a9e7-b3e3c70aa44c",
   "metadata": {},
   "source": [
    "Họ tên: Nguyễn Vũ Hải \\\n",
    "Mã sv: DTC195480201CLC0006 \\\n",
    "Bài thực hành lấy điểm số 1"
   ]
  },
  {
   "cell_type": "code",
   "execution_count": 40,
   "id": "a41da614-6574-4f07-b569-e767478aa4b6",
   "metadata": {},
   "outputs": [
    {
     "name": "stdin",
     "output_type": "stream",
     "text": [
      "Please input n number:  3\n",
      "Please input k continuous number to find its biggest sum:  2\n",
      "Input number to list:  3\n",
      "Input number to list:  2\n",
      "Input number to list:  1\n"
     ]
    },
    {
     "name": "stdout",
     "output_type": "stream",
     "text": [
      "\n",
      "List that you have just input:  [3, 2, 1]\n",
      "Sum of 2 that is biggest:  5\n"
     ]
    }
   ],
   "source": [
    "#IMPORTANT\n",
    "#Bài kiểm tra \n",
    "n = int(input(\"Please input n number: \"))\n",
    "k = int(input(\"Please input k continuous number to find its biggest sum: \"))\n",
    "\n",
    "listNum = []\n",
    "listK = []\n",
    "for i in range(n):\n",
    "    number = int(input(\"Input number to list: \"))\n",
    "    listNum.append(number)\n",
    "\n",
    "\n",
    "for i in range(n):\n",
    "    if(i == (n - (k-1))):\n",
    "        break\n",
    "    numK = 0\n",
    "    sumK = 0\n",
    "    for j in range(i,i+k):\n",
    "        numK += listNum[j]\n",
    "        \n",
    "    sumK += numK\n",
    "    listK.append(sumK)\n",
    "print(\"\\nList that you have just input: \",listNum)\n",
    "print(f\"Sum of {k} continuous number in the list that is biggest: \", max(listK))\n"
   ]
  },
  {
   "cell_type": "code",
   "execution_count": 49,
   "id": "a75b1b4e-612e-43ab-92fd-f456fd54ab01",
   "metadata": {},
   "outputs": [
    {
     "name": "stdin",
     "output_type": "stream",
     "text": [
      "Input n number:  5\n"
     ]
    },
    {
     "name": "stdout",
     "output_type": "stream",
     "text": [
      "Sum of the numbers from 1 to 5: 15\n"
     ]
    }
   ],
   "source": [
    "# Bài 1: Xây dựng hàm đệ quy trong Python tính tổng truy hồi \n",
    "# S = 1 + 2 + 3 + 4 +....+ n\n",
    "# Điều kiện dừng truy hồi là gì: n = 1\n",
    "\n",
    "def SumNum(n):\n",
    "    if(n == 1):\n",
    "        return 1\n",
    "    else:\n",
    "        return n + Sum(n - 1)\n",
    "        \n",
    "n = int(input(\"Input n number: \"))\n",
    "print(f\"Sum of the numbers from 1 to {n}:\"  ,SumNum(n))"
   ]
  },
  {
   "cell_type": "code",
   "execution_count": 57,
   "id": "0cecb0dd-829f-4339-b920-5e57d5c83907",
   "metadata": {},
   "outputs": [
    {
     "name": "stdout",
     "output_type": "stream",
     "text": [
      "Input 3 integer elements to list !\n"
     ]
    },
    {
     "name": "stdin",
     "output_type": "stream",
     "text": [
      "Input a num to list 10\n",
      "Input a num to list 9\n",
      "Input a num to list 2\n"
     ]
    },
    {
     "name": "stdout",
     "output_type": "stream",
     "text": [
      "\n",
      "List you have input: [10, 9, 2]\n",
      "Max of the list:  10\n"
     ]
    }
   ],
   "source": [
    "### Bài 2: Viết hàm trong Python tìm giá trị lớn nhất và nhỏ nhất của 3 số nhập từ bàn phím (không sử dụng hàm max())\n",
    "def FindMax(a):\n",
    "    Max = 0\n",
    "    for i in range(len(a)):\n",
    "        if(Max < a[i]):\n",
    "            Max = a[i]\n",
    "    return Max\n",
    "\n",
    "ListNum = []\n",
    "print(\"Input 3 integer elements to list !\")\n",
    "while(len(ListNum) != 3):\n",
    "    Num = int(input(\"Input a num to list\"))\n",
    "    ListNum.append(Num)\n",
    "print(\"\\nList you have input:\",ListNum)\n",
    "print(\"Max of the list: \",FindMax(ListNum))"
   ]
  },
  {
   "cell_type": "code",
   "execution_count": 87,
   "id": "cbeea5ec-4303-49ce-96f9-6ec4f13bf5d8",
   "metadata": {},
   "outputs": [
    {
     "name": "stdout",
     "output_type": "stream",
     "text": [
      "List given:\t\t [12, 65, 15, 30, 22, 34, 35]\n",
      "List is divisible by 5:  [65, 15, 30, 35]\n"
     ]
    }
   ],
   "source": [
    "# Bài 3: Sử dụng hàm lambda để tìm ra tất cả các số chia hết cho 15 trong một list\n",
    "# Input = [12,65,15,30,22,34,35]\n",
    "# Output = [15, 30]\n",
    "# Làm xong thì nộp vào googleclassroom và kèm thêm bài kiểm tra số 2 (Đã giao trong file list-python)\n",
    "\n",
    "ListNum = [12,65,15,30,22,34,35]\n",
    "ListNum5 = list(filter(lambda x: x % 5 == False, ListNum))\n",
    "print(\"List given:\\t\\t\",ListNum)\n",
    "print(\"List is divisible by 5: \",ListNum5)"
   ]
  },
  {
   "cell_type": "code",
   "execution_count": null,
   "id": "f40956b6-a435-4173-8f2d-67c0075e5b8e",
   "metadata": {},
   "outputs": [],
   "source": []
  }
 ],
 "metadata": {
  "kernelspec": {
   "display_name": "Python 3",
   "language": "python",
   "name": "python3"
  },
  "language_info": {
   "codemirror_mode": {
    "name": "ipython",
    "version": 3
   },
   "file_extension": ".py",
   "mimetype": "text/x-python",
   "name": "python",
   "nbconvert_exporter": "python",
   "pygments_lexer": "ipython3",
   "version": "3.8.8"
  }
 },
 "nbformat": 4,
 "nbformat_minor": 5
}
