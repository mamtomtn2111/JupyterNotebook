{
 "cells": [
  {
   "cell_type": "code",
   "execution_count": 40,
   "id": "6befd729-5282-40b0-81a0-6db179bef118",
   "metadata": {},
   "outputs": [
    {
     "name": "stdin",
     "output_type": "stream",
     "text": [
      "Nhập vào số n:  10\n",
      "a[0] =  10\n",
      "a[1] =  2\n",
      "a[2] =  10\n",
      "a[3] =  9\n",
      "a[4] =  2\n",
      "a[5] =  100\n",
      "a[6] =  1\n",
      "a[7] =  100\n",
      "a[8] =  2\n",
      "a[9] =  100\n"
     ]
    },
    {
     "name": "stdout",
     "output_type": "stream",
     "text": [
      "Các phần tử trong list:  [10, 2, 10, 9, 2, 100, 1, 100, 2, 100]\n",
      "Đếm số phần tử khác nhau trong list:  5\n",
      "Số 1 có tổng cộng 1 phần tử\n",
      "Số 2 có tổng cộng 3 phần tử\n",
      "Số 9 có tổng cộng 1 phần tử\n",
      "Số 10 có tổng cộng 2 phần tử\n",
      "Số 100 có tổng cộng 3 phần tử\n"
     ]
    }
   ],
   "source": [
    "# Sử dụng cấu trúc dữ liệu LIST, viết chương trình thực hiện các công việc sau:\n",
    "# - Nhập vào một dãy gồm n phần tử (2<n<100)\n",
    "# - Đếm xem trong dãy có bao nhiêu phần tử khác nhau? Tần suất xuất hiện các\n",
    "# phần tử đó. Ví dụ =[1,2,3,4,4,3,2]  có 1, 2, 3, 4 (4 phần tử khác nhau). Liệt kê ra : 1- 1; 2 -1; 3 -2; 4- 2 .\n",
    "\n",
    "n = int(input(\"Nhập vào số n: \"))\n",
    "listNum = []\n",
    "while(n < 2 or n > 99):\n",
    "    n = int(input(\"Nhập ngoài range, nhập lại số n: \"))\n",
    "    \n",
    "for i in range(n):\n",
    "    Num = int(input(f\"a[{i}] = \"))\n",
    "    listNum.append(Num)\n",
    "    \n",
    "print(\"Các phần tử trong list: \" ,listNum)\n",
    "listNum.sort()\n",
    "\n",
    "demKhacNhau = 1\n",
    "for i in range(n-1):\n",
    "    if(listNum[i] != listNum[i+1]):\n",
    "        demKhacNhau += 1\n",
    "print(\"Đếm số phần tử khác nhau trong list: \",demKhacNhau)\n",
    "\n",
    "\n",
    "lietke = 1\n",
    "for i in range(1,n):\n",
    "    if(listNum[i] == listNum[i-1]):\n",
    "        lietke += 1\n",
    "    else:\n",
    "        print(f\"Số {listNum[i-1]} có tổng cộng {lietke} phần tử\")\n",
    "        lietke = 1\n",
    "print(f\"Số {listNum[len(listNum) - 1]} có tổng cộng {lietke} phần tử\")\n",
    "\n"
   ]
  },
  {
   "cell_type": "code",
   "execution_count": null,
   "id": "e58d1a0d-c6db-4e5c-94b8-e8d9ce9e3d7e",
   "metadata": {},
   "outputs": [],
   "source": []
  }
 ],
 "metadata": {
  "kernelspec": {
   "display_name": "Python 3 (ipykernel)",
   "language": "python",
   "name": "python3"
  },
  "language_info": {
   "codemirror_mode": {
    "name": "ipython",
    "version": 3
   },
   "file_extension": ".py",
   "mimetype": "text/x-python",
   "name": "python",
   "nbconvert_exporter": "python",
   "pygments_lexer": "ipython3",
   "version": "3.8.11"
  }
 },
 "nbformat": 4,
 "nbformat_minor": 5
}
