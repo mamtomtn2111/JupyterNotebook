{
 "cells": [
  {
   "cell_type": "code",
   "execution_count": 56,
   "id": "03ae6c8e-0fc9-4f6c-8bf3-79004ee64b28",
   "metadata": {},
   "outputs": [
    {
     "name": "stdin",
     "output_type": "stream",
     "text": [
      "Nhập vào n:  5\n",
      "a[1] :  3\n",
      "a[2] :  4\n",
      "a[3] :  5\n",
      "a[4] :  6\n",
      "a[5] :  10\n"
     ]
    },
    {
     "name": "stdout",
     "output_type": "stream",
     "text": [
      "Phần tử 3 xuất hiện 1 lần\n",
      "Phần tử 4 xuất hiện 1 lần\n",
      "Phần tử 5 xuất hiện 1 lần\n",
      "Phần tử 6 xuất hiện 1 lần\n",
      "Phần tử 10 xuất hiện 1 lần\n",
      "Bội chung nhỏ nhất là: 60\n"
     ]
    }
   ],
   "source": [
    "# Câu 1: (3.0 điểm)\n",
    "# Sử dụng cấu trúc dữ liệu LIST, viết chương trình thực hiện các công việc sau:\n",
    "# - Nhập vào một dãy gồm n phần tử là các số nguyên (n nhập vào từ bàn phím)\n",
    "# - Nhập vào phần tử x, kiểm tra x xuất hiện bao nhiêu lần trong dãy\n",
    "# - In ra màn hình BCNN của dãy số trên\n",
    "# - Tính tổng các số chính phương trong dãy\n",
    "\n",
    "ListNum = []\n",
    "\n",
    "while(True):\n",
    "    try:\n",
    "        n = int(input(\"Nhập vào n: \"))\n",
    "        if(isinstance(n,int)):\n",
    "            break\n",
    "    except:\n",
    "        print(\"Không được nhập khác số nguyên\")\n",
    "        \n",
    "for i in range(n):\n",
    "    Num = int(input(f\"a[{i+1}] : \"))\n",
    "    ListNum.append(Num)\n",
    "\n",
    "SetNum = set(sorted(ListNum))\n",
    "for i in SetNum:\n",
    "    print(f\"Phần tử {i} xuất hiện {ListNum.count(i)} lần\")\n",
    "    \n",
    "def uscln(a, b):\n",
    "    if (b == 0):\n",
    "        return a;\n",
    "    return uscln(b, a % b);\n",
    "\n",
    "def bscnn(a, b):\n",
    "    return int((a * b) / uscln(a, b));\n",
    "\n",
    "def BCNN_List(arr,n):\n",
    "    temp = bscnn(arr[0], arr[1])\n",
    "    for i in range(2,n):\n",
    "        temp = bscnn(temp, arr[i])\n",
    "    return temp\n",
    "\n",
    "tempList = list(SetNum)\n",
    "print(\"Bội chung nhỏ nhất là:\",BCNN_List(tempList,len(tempList)))"
   ]
  },
  {
   "cell_type": "code",
   "execution_count": 80,
   "id": "632424cd-3969-4fd8-b084-97ad883ec454",
   "metadata": {},
   "outputs": [
    {
     "name": "stdin",
     "output_type": "stream",
     "text": [
      "Input n student:  3\n"
     ]
    },
    {
     "name": "stdout",
     "output_type": "stream",
     "text": [
      "Input info of student 1\n"
     ]
    },
    {
     "name": "stdin",
     "output_type": "stream",
     "text": [
      "Input ID:  DTC1\n",
      "Input name: Nguyễn vũ hải\n",
      "Input home:  Thái Nguyên\n",
      "Input average mark:  9.8\n"
     ]
    },
    {
     "name": "stdout",
     "output_type": "stream",
     "text": [
      "Input info of student 2\n"
     ]
    },
    {
     "name": "stdin",
     "output_type": "stream",
     "text": [
      "Input ID:  DTC2\n",
      "Input name: Hà Quốc ĐĂNG\n",
      "Input home:  Hà Nội\n",
      "Input average mark:  2.3\n"
     ]
    },
    {
     "name": "stdout",
     "output_type": "stream",
     "text": [
      "Input info of student 3\n"
     ]
    },
    {
     "name": "stdin",
     "output_type": "stream",
     "text": [
      "Input ID:  DTC3\n",
      "Input name: Hoàng Thị Giang\n",
      "Input home:  Thanh Hóa\n",
      "Input average mark:  8.7\n"
     ]
    },
    {
     "name": "stdout",
     "output_type": "stream",
     "text": [
      "\n",
      "=====Info of all students=====\n",
      "Info of student 1\n",
      "\tID: DTC1\n",
      "\tName: Nguyễn Vũ Hải\n",
      "\tHome: Thái Nguyên\n",
      "\tAverage mark: 9.8\n",
      "Info of student 2\n",
      "\tID: DTC2\n",
      "\tName: Hà Quốc Đăng\n",
      "\tHome: Hà Nội\n",
      "\tAverage mark: 2.3\n",
      "Info of student 3\n",
      "\tID: DTC3\n",
      "\tName: Hoàng Thị Giang\n",
      "\tHome: Thanh Hóa\n",
      "\tAverage mark: 8.7\n",
      "\n",
      "=====Sort student followed by first name=====\n",
      "Info of student 1\n",
      "\tID: DTC2\n",
      "\tName: Hà Quốc Đăng\n",
      "\tHome: Hà Nội\n",
      "\tAverage mark: 2.3\n",
      "Info of student 2\n",
      "\tID: DTC1\n",
      "\tName: Nguyễn Vũ Hải\n",
      "\tHome: Thái Nguyên\n",
      "\tAverage mark: 9.8\n",
      "Info of student 3\n",
      "\tID: DTC3\n",
      "\tName: Hoàng Thị Giang\n",
      "\tHome: Thanh Hóa\n",
      "\tAverage mark: 8.7\n",
      "\n",
      "=====Sort student followed by average mark=====\n",
      "Info of student 1\n",
      "\tID: DTC2\n",
      "\tName: Hà Quốc Đăng\n",
      "\tHome: Hà Nội\n",
      "\tAverage mark: 2.3\n",
      "Info of student 2\n",
      "\tID: DTC3\n",
      "\tName: Hoàng Thị Giang\n",
      "\tHome: Thanh Hóa\n",
      "\tAverage mark: 8.7\n",
      "Info of student 3\n",
      "\tID: DTC1\n",
      "\tName: Nguyễn Vũ Hải\n",
      "\tHome: Thái Nguyên\n",
      "\tAverage mark: 9.8\n"
     ]
    }
   ],
   "source": [
    "# Câu 2: (7.0 điểm)\n",
    "# Xây dựng lớp SinhVien gồm có các thuộc tính: Mã sinh viên, tên sinh viên, quê quán, điểm trung bình.\n",
    "# a. Xây dựng phương thức nhập/hiện thông tin cho một sinh viên.\n",
    "# b. Xây dựng lớp quản lý sinh viên với các phương thức:\n",
    "# + Nhập, xuất thông tin cho n sinh viên\n",
    "# + Xây dựng phương thức sắp xếp các sinh viên theo thứ tự abc\n",
    "# + Xây dựng phương thức sắp xếp các sinh viên có điểm trung bình từ nhỏ đến lớn\n",
    "\n",
    "class SinhVien:\n",
    "    def __init__(self, inputID = None , inputName = None, inputHome = None, inputAVGMark = None):\n",
    "        if(inputID == None , inputName == None, inputHome == None, inputAVGMark == None):\n",
    "            self.inputStudent()\n",
    "            return\n",
    "        self.ID = inputID\n",
    "        self.Name = inputName\n",
    "        self.Home = inputHome\n",
    "        self.AVGMark = inputAVGMark\n",
    "        \n",
    "    def inputStudent(self):\n",
    "        while(True):\n",
    "            inputID = input(\"Input ID: \")\n",
    "            if(len(inputID.strip()) > 0):\n",
    "                self.ID = inputID\n",
    "                break\n",
    "                \n",
    "        while(True):\n",
    "            inputName = input(\"Input name:\")\n",
    "            if(len(inputName.strip()) > 0):\n",
    "                self.Name = inputName.strip().title()\n",
    "                break\n",
    "                \n",
    "        while(True):\n",
    "            inputHome = input(\"Input home: \")\n",
    "            if(len(inputHome.strip()) > 0):\n",
    "                self.Home = inputHome.strip().title()\n",
    "                break\n",
    "                \n",
    "        while(True):\n",
    "            inputAVGMark = input(\"Input average mark: \")\n",
    "            if(len(inputHome.strip()) > 0):\n",
    "                self.AVGMark = inputAVGMark\n",
    "                break\n",
    "                \n",
    "    def outputStudent(self):\n",
    "        print(f\"\\tID: {self.ID}\")\n",
    "        print(f\"\\tName: {self.Name}\")\n",
    "        print(f\"\\tHome: {self.Home}\")\n",
    "        print(f\"\\tAverage mark: {self.AVGMark}\")\n",
    "        \n",
    "    def SplitName(self):\n",
    "        FullName = self.Name.rsplit(\" \")\n",
    "        self.FirstName = FullName[-1]\n",
    "        return self.FirstName\n",
    "    \n",
    "    def __lt__(self, other):\n",
    "        if(self.AVGMark < other.AVGMark):\n",
    "            return True\n",
    "        else:\n",
    "            return False\n",
    "    \n",
    "        \n",
    "class ListSinhVien(SinhVien):\n",
    "    def __init__(self, ListStudent = []):\n",
    "        self.ListStudent = self.inputListStudent()\n",
    "        \n",
    "    def inputListStudent(self):\n",
    "        while(True):\n",
    "            try:\n",
    "                n = int(input(\"Input n student: \"))\n",
    "                if(isinstance(n,int)):\n",
    "                    break\n",
    "            except:\n",
    "                print(\"Don't input n that is different from integer !\")\n",
    "        ListStudent = []\n",
    "        for i in range(n):\n",
    "            print(f\"Input info of student {i+1}\")\n",
    "            ListStudent.append(SinhVien())\n",
    "        return ListStudent\n",
    "        \n",
    "    def outputListStudent(self):\n",
    "        for idx,value in enumerate(self.ListStudent):\n",
    "            print(f\"Info of student {idx+1}\")\n",
    "            value.outputStudent()\n",
    "            \n",
    "    def outputSortStudentName(self):\n",
    "        print(\"\\n\"+\"=\"*5 + \"Sort student followed by first name\" + \"=\"*5)\n",
    "        self.ListStudent.sort(key = lambda x: x.SplitName(), reverse = True)\n",
    "        for idx,value in enumerate(self.ListStudent):\n",
    "            print(f\"Info of student {idx+1}\")\n",
    "            value.outputStudent()\n",
    "            \n",
    "    def outputSortStudentAVGMark(self):\n",
    "        print(\"\\n\"+\"=\"*5 + \"Sort student followed by average mark\" + \"=\"*5)\n",
    "        self.ListStudent.sort(reverse = False)\n",
    "        for idx,value in enumerate(self.ListStudent):\n",
    "            print(f\"Info of student {idx+1}\")\n",
    "            value.outputStudent()\n",
    "        \n",
    "Student1 = ListSinhVien()\n",
    "print(\"\\n\"+\"=\"*5 + \"Info of all students\" + \"=\"*5)\n",
    "Student1.outputListStudent()\n",
    "Student1.outputSortStudentName()\n",
    "Student1.outputSortStudentAVGMark()"
   ]
  },
  {
   "cell_type": "code",
   "execution_count": null,
   "id": "0e045b33-431b-4a86-9cfa-d252310764e1",
   "metadata": {},
   "outputs": [],
   "source": []
  }
 ],
 "metadata": {
  "kernelspec": {
   "display_name": "Python 3 (ipykernel)",
   "language": "python",
   "name": "python3"
  },
  "language_info": {
   "codemirror_mode": {
    "name": "ipython",
    "version": 3
   },
   "file_extension": ".py",
   "mimetype": "text/x-python",
   "name": "python",
   "nbconvert_exporter": "python",
   "pygments_lexer": "ipython3",
   "version": "3.8.11"
  }
 },
 "nbformat": 4,
 "nbformat_minor": 5
}
