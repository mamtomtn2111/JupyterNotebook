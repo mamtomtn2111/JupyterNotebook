{
 "cells": [
  {
   "cell_type": "markdown",
   "id": "5461d96c-b9ec-48d4-97e0-2ddadb3c8fb6",
   "metadata": {},
   "source": [
    "Nguyễn Vũ Hải \\\n",
    "DTC195480201CLC0006 \\\n",
    "CNTT K18 CLC"
   ]
  },
  {
   "cell_type": "markdown",
   "id": "674d8bf4-ac00-4379-9409-9c580631ba5c",
   "metadata": {},
   "source": [
    "Bài 2"
   ]
  },
  {
   "cell_type": "code",
   "execution_count": 1,
   "id": "a9f7c58b-5a90-4b2d-b74d-0c2a8a597bb5",
   "metadata": {},
   "outputs": [
    {
     "name": "stdout",
     "output_type": "stream",
     "text": [
      "0\n",
      "1\n",
      "2\n",
      "2\n",
      "3\n",
      "4\n"
     ]
    }
   ],
   "source": [
    "#ý 1\n",
    "for x in range (3):\n",
    "    for y in range (0, x+1):\n",
    "        print (x+y)"
   ]
  },
  {
   "cell_type": "code",
   "execution_count": 2,
   "id": "48e5ae07-24ab-48a8-a093-0ab791665855",
   "metadata": {},
   "outputs": [
    {
     "name": "stdout",
     "output_type": "stream",
     "text": [
      "5\n",
      "2\n",
      "0\n",
      "1\n"
     ]
    }
   ],
   "source": [
    "#Ý 2\n",
    "foo = [5, 4, 3, 2, 1, 0]\n",
    "print ( foo [0] )\n",
    "print ( foo [3] )\n",
    "print ( foo [ foo [0] ] )\n",
    "print ( foo [ foo [ foo [ foo [2] + 1] ] ] )"
   ]
  },
  {
   "cell_type": "code",
   "execution_count": 5,
   "id": "c299988c-2309-4f21-90d8-260b2f088006",
   "metadata": {},
   "outputs": [
    {
     "name": "stdout",
     "output_type": "stream",
     "text": [
      "6\n"
     ]
    }
   ],
   "source": [
    "#ý 3\n",
    "def alpha (x, y):\n",
    "    return x + beta (y, x)\n",
    "def beta (x, y):\n",
    "    return y - x\n",
    "print ( alpha (4, 2) )"
   ]
  },
  {
   "cell_type": "code",
   "execution_count": 7,
   "id": "29e9243c-7cee-4f0f-bb68-b9d6b8a8463c",
   "metadata": {},
   "outputs": [
    {
     "name": "stdout",
     "output_type": "stream",
     "text": [
      "0 1 2\n"
     ]
    }
   ],
   "source": [
    "#ý 4\n",
    "a = 0\n",
    "b = a ** 0\n",
    "if (b < a + 1):\n",
    "    c = 1\n",
    "elif (b == 1):\n",
    "    c = 2\n",
    "else:\n",
    "    c = 3\n",
    "print (a, b, c)"
   ]
  },
  {
   "cell_type": "markdown",
   "id": "960c6521-c440-42ea-8408-490bcdf93a96",
   "metadata": {},
   "source": [
    "Bài 5"
   ]
  },
  {
   "cell_type": "code",
   "execution_count": 10,
   "id": "93825d7a-ba5e-4394-8c1b-d093fd04dd9a",
   "metadata": {},
   "outputs": [],
   "source": [
    "M = [[1,2,3],[4,5,6],[7,8,9]]"
   ]
  },
  {
   "cell_type": "code",
   "execution_count": 11,
   "id": "1bd66a0a-2375-4fcf-bc96-eec23fd67669",
   "metadata": {},
   "outputs": [
    {
     "data": {
      "text/plain": [
       "3"
      ]
     },
     "execution_count": 11,
     "metadata": {},
     "output_type": "execute_result"
    }
   ],
   "source": [
    "#ý 1\n",
    "len(M)"
   ]
  },
  {
   "cell_type": "code",
   "execution_count": 12,
   "id": "1d3c562f-4482-4593-8f8a-e7ec080232c4",
   "metadata": {},
   "outputs": [
    {
     "data": {
      "text/plain": [
       "[7, 8, 9]"
      ]
     },
     "execution_count": 12,
     "metadata": {},
     "output_type": "execute_result"
    }
   ],
   "source": [
    "M[2]"
   ]
  },
  {
   "cell_type": "code",
   "execution_count": 16,
   "id": "fb7ea665-b974-4856-bb7a-b5ac25885369",
   "metadata": {},
   "outputs": [
    {
     "ename": "IndexError",
     "evalue": "list index out of range",
     "output_type": "error",
     "traceback": [
      "\u001b[1;31m---------------------------------------------------------------------------\u001b[0m",
      "\u001b[1;31mIndexError\u001b[0m                                Traceback (most recent call last)",
      "\u001b[1;32m~\\AppData\\Local\\Temp/ipykernel_2268/677531569.py\u001b[0m in \u001b[0;36m<module>\u001b[1;34m\u001b[0m\n\u001b[1;32m----> 1\u001b[1;33m \u001b[0mM\u001b[0m\u001b[1;33m[\u001b[0m\u001b[1;36m2\u001b[0m\u001b[1;33m]\u001b[0m\u001b[1;33m[\u001b[0m\u001b[1;36m3\u001b[0m\u001b[1;33m]\u001b[0m\u001b[1;33m\u001b[0m\u001b[1;33m\u001b[0m\u001b[0m\n\u001b[0m",
      "\u001b[1;31mIndexError\u001b[0m: list index out of range"
     ]
    }
   ],
   "source": [
    "M[2][3]\n",
    "#index Chỉ từ 0-2 không có 3"
   ]
  },
  {
   "cell_type": "code",
   "execution_count": 15,
   "id": "dd4bc793-c3d9-4929-b5da-07b0d32d231c",
   "metadata": {},
   "outputs": [
    {
     "data": {
      "text/plain": [
       "6"
      ]
     },
     "execution_count": 15,
     "metadata": {},
     "output_type": "execute_result"
    }
   ],
   "source": [
    "M[1][2]"
   ]
  },
  {
   "cell_type": "code",
   "execution_count": 19,
   "id": "896c5b6e-f38c-4d41-8ace-5e2bfc6331a5",
   "metadata": {},
   "outputs": [
    {
     "name": "stdout",
     "output_type": "stream",
     "text": [
      "15\n"
     ]
    }
   ],
   "source": [
    "x = 0\n",
    "for i in range(3):\n",
    "    x = x + M[i][i]\n",
    "print(x)"
   ]
  },
  {
   "cell_type": "code",
   "execution_count": 20,
   "id": "bbea1d1e-6001-4521-a631-c0586053cb68",
   "metadata": {},
   "outputs": [
    {
     "name": "stdout",
     "output_type": "stream",
     "text": [
      "45\n"
     ]
    }
   ],
   "source": [
    "x = 0\n",
    "for i in range(3):\n",
    "    for j in range(3):\n",
    "        x = x + M[i][j]\n",
    "print (x)"
   ]
  },
  {
   "cell_type": "code",
   "execution_count": 23,
   "id": "ffe45e19-fc92-4704-a98e-c6306b6af893",
   "metadata": {},
   "outputs": [
    {
     "name": "stdout",
     "output_type": "stream",
     "text": [
      "19\n"
     ]
    }
   ],
   "source": [
    "x = 0\n",
    "for i in range(3):\n",
    "    for j in range(i):\n",
    "        x = x + M[i][j]\n",
    "print(x)"
   ]
  },
  {
   "attachments": {
    "e38d2179-228c-4661-83a4-b6cc480c9344.png": {
     "image/png": "[encoded data removed]"
    }
   },
   "cell_type": "markdown",
   "id": "8fdfc799-fda5-4b7c-96eb-cc77664cf12a",
   "metadata": {},
   "source": [
    "![image.png](attachment:e38d2179-228c-4661-83a4-b6cc480c9344.png)"
   ]
  },
  {
   "cell_type": "code",
   "execution_count": 47,
   "id": "de797364-40e5-41bf-ac84-a41a9b597849",
   "metadata": {},
   "outputs": [
    {
     "name": "stdout",
     "output_type": "stream",
     "text": [
      "100-th items is:  2.7182818284590455\n"
     ]
    }
   ],
   "source": [
    "def factorialNum(n):\n",
    "    if (n == 0):\n",
    "        return 1\n",
    "    else:\n",
    "        s = 1\n",
    "        for i in range (1,n+1):\n",
    "            s *= i\n",
    "        return s\n",
    "    \n",
    "e = 0\n",
    "for i in range (100):\n",
    "    e += 1/factorialNum(i)\n",
    "\n",
    "\n",
    "print(\"100-th items is: \",e)"
   ]
  },
  {
   "cell_type": "code",
   "execution_count": null,
   "id": "e3c3b38b-6fd8-4dcb-bdde-056969fc507a",
   "metadata": {},
   "outputs": [],
   "source": []
  }
 ],
 "metadata": {
  "kernelspec": {
   "display_name": "Python 3 (ipykernel)",
   "language": "python",
   "name": "python3"
  },
  "language_info": {
   "codemirror_mode": {
    "name": "ipython",
    "version": 3
   },
   "file_extension": ".py",
   "mimetype": "text/x-python",
   "name": "python",
   "nbconvert_exporter": "python",
   "pygments_lexer": "ipython3",
   "version": "3.8.11"
  }
 },
 "nbformat": 4,
 "nbformat_minor": 5
}
