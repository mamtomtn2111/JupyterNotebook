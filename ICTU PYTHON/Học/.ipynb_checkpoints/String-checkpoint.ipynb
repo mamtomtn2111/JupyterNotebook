{
 "cells": [
  {
   "cell_type": "code",
   "execution_count": 28,
   "id": "af2c1b26-80a9-4bb4-967e-c5a9c190bb65",
   "metadata": {},
   "outputs": [
    {
     "name": "stdout",
     "output_type": "stream",
     "text": [
      "string_num:  1988\n",
      "string_char:  tranquanquyictu\n"
     ]
    }
   ],
   "source": [
    "string1 = 'tranquanquyictu1988'\n",
    "stringNum = ''\n",
    "stringChar = ''\n",
    "for i in string1:\n",
    "    if(i.isnumeric()):\n",
    "        stringNum += i\n",
    "    else:\n",
    "        stringChar += i\n",
    "        \n",
    "print(\"string_num: \",stringNum)\n",
    "print(\"string_char: \",stringChar)"
   ]
  },
  {
   "cell_type": "code",
   "execution_count": 16,
   "id": "e5244f8c-6bf2-433b-9191-97e4f31e7280",
   "metadata": {},
   "outputs": [
    {
     "data": {
      "text/plain": [
       "True"
      ]
     },
     "execution_count": 16,
     "metadata": {},
     "output_type": "execute_result"
    }
   ],
   "source": [
    "string3 = \"1\"\n",
    "string3.isnumeric()"
   ]
  },
  {
   "cell_type": "code",
   "execution_count": 38,
   "id": "4e9144cd-d865-46e7-a970-cf7295fb6fa1",
   "metadata": {},
   "outputs": [
    {
     "name": "stdin",
     "output_type": "stream",
     "text": [
      "Input your string:  hello  wrold\n"
     ]
    },
    {
     "name": "stdout",
     "output_type": "stream",
     "text": [
      "Number of word in string that you input:  3\n"
     ]
    }
   ],
   "source": [
    "#Bài 2\n",
    "stringInput = input(\"Input your string: \")\n",
    "listString = stringInput.split(\" \")\n",
    "print(\"Number of word in string that you input: \", len(listString))"
   ]
  },
  {
   "cell_type": "code",
   "execution_count": null,
   "id": "c051b1d6-3ddb-4bee-9968-c9c71f91bbf8",
   "metadata": {},
   "outputs": [],
   "source": []
  },
  {
   "cell_type": "code",
   "execution_count": null,
   "id": "186a072e-5086-4c8e-9505-ec3a99d82298",
   "metadata": {},
   "outputs": [],
   "source": []
  }
 ],
 "metadata": {
  "kernelspec": {
   "display_name": "Python 3 (ipykernel)",
   "language": "python",
   "name": "python3"
  },
  "language_info": {
   "codemirror_mode": {
    "name": "ipython",
    "version": 3
   },
   "file_extension": ".py",
   "mimetype": "text/x-python",
   "name": "python",
   "nbconvert_exporter": "python",
   "pygments_lexer": "ipython3",
   "version": "3.8.11"
  }
 },
 "nbformat": 4,
 "nbformat_minor": 5
}
