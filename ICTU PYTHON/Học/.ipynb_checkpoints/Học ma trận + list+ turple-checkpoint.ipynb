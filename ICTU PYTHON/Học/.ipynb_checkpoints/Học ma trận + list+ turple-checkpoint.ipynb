{
 "cells": [
  {
   "cell_type": "code",
   "execution_count": 67,
   "id": "8b1d302d-7b57-45ca-beac-84d18cb39db4",
   "metadata": {},
   "outputs": [
    {
     "name": "stdout",
     "output_type": "stream",
     "text": [
      "[[1, 2, 3], [3, 4, 5], [5, 6, 7]]\n",
      "3\n",
      "3\n",
      "1 2 3 \n",
      "3 4 5 \n",
      "5 6 7 \n"
     ]
    }
   ],
   "source": [
    "from time import sleep\n",
    "list1 = [[1,2,3],[3,4,5],[5,6,7]]\n",
    "print(list1)\n",
    "print(list1[0][2])\n",
    "print(list1[1][0])\n",
    "for i in range(3):\n",
    "    for j in range(3):\n",
    "        print(list1[i][j],end=' ')\n",
    "        sleep(0.5)\n",
    "    print()"
   ]
  },
  {
   "cell_type": "code",
   "execution_count": 9,
   "id": "548ee904-b497-4ada-bd69-d51654ab03ca",
   "metadata": {},
   "outputs": [
    {
     "name": "stdin",
     "output_type": "stream",
     "text": [
      "Nhập số dòng cho ma trận 2\n",
      "Nhập số cột cho ma trận 3\n",
      "Nhập phần tử [0][0]: 1\n",
      "Nhập phần tử [0][1]: 2\n",
      "Nhập phần tử [0][2]: 3\n",
      "Nhập phần tử [1][0]: 4\n",
      "Nhập phần tử [1][1]: 5\n",
      "Nhập phần tử [1][2]: 6\n"
     ]
    },
    {
     "name": "stdout",
     "output_type": "stream",
     "text": [
      "[1, 2, 3]\n",
      "[4, 5, 6]\n"
     ]
    }
   ],
   "source": [
    "#Nhập xuất ma trận\n",
    "m = int(input(\"Nhập số dòng cho ma trận\"))\n",
    "n = int(input(\"Nhập số cột cho ma trận\"))\n",
    "A = []\n",
    "for i in range(m):\n",
    "    row = []\n",
    "    for j in range(n):\n",
    "        x = int(input(f\"Nhập phần tử [{i}][{j}]:\"))\n",
    "        row.append(x)\n",
    "    A.append(row)\n",
    "    \n",
    "for i in A:\n",
    "    print(i)"
   ]
  },
  {
   "cell_type": "code",
   "execution_count": 68,
   "id": "2ef3292e-6bb3-4c8c-b42b-055ec5258b05",
   "metadata": {},
   "outputs": [
    {
     "name": "stdout",
     "output_type": "stream",
     "text": [
      "[6, 1, 2, 3, 4, 5]\n"
     ]
    }
   ],
   "source": [
    "#xoay vòng phần tử cuối lên đầu\n",
    "list1=[1,2,3,4,5,6]\n",
    "list1.insert(0,list1[(len(list1)-1)])\n",
    "list1.pop()\n",
    "print(list1)"
   ]
  },
  {
   "cell_type": "code",
   "execution_count": 70,
   "id": "ef822ce7-a16b-49d2-a0fb-6e8c6cdbe846",
   "metadata": {},
   "outputs": [
    {
     "name": "stdout",
     "output_type": "stream",
     "text": [
      "<class 'str'>\n",
      "<class 'tuple'>\n"
     ]
    }
   ],
   "source": [
    "tupe1 = ('pyython')\n",
    "print(type(tupe1))\n",
    "tupe2 = ('pyython',)\n",
    "print(type(tupe2))"
   ]
  },
  {
   "cell_type": "code",
   "execution_count": 71,
   "id": "1dadf9e3-744f-4239-8704-b5886800ba37",
   "metadata": {},
   "outputs": [
    {
     "name": "stdout",
     "output_type": "stream",
     "text": [
      "(1, 'hello', [10, 2, 3, 4], True)\n"
     ]
    }
   ],
   "source": [
    "my_tuple3 = (1,'hello',[1,2,3,4],True) #Nếu trong tuple có list con thì có thể thay đổi đc, còn lại thì không thể\n",
    "my_tuple3[2][0] = 10\n",
    "print(my_tuple3)"
   ]
  },
  {
   "cell_type": "code",
   "execution_count": 72,
   "id": "3c0483ec-2958-4a7c-a45c-a50309d358f1",
   "metadata": {},
   "outputs": [
    {
     "name": "stdout",
     "output_type": "stream",
     "text": [
      "1\n",
      "8\n",
      "1\n",
      "[2, 3, 4, 5, 6, 7, 8]\n"
     ]
    }
   ],
   "source": [
    "#unpacking tuple\n",
    "tuple2 = (1,2,3,4,5,6,7,8)\n",
    "x, *_ , y = tuple2\n",
    "print(x)\n",
    "print(y)\n",
    "#unpacking\n",
    "x, *y = tuple2\n",
    "print(x)\n",
    "print(y)"
   ]
  },
  {
   "cell_type": "code",
   "execution_count": null,
   "id": "5a21af37-82c4-4fb6-8b05-47b0725e8898",
   "metadata": {},
   "outputs": [],
   "source": [
    "#Đề:\n",
    "#a,b,c được gọi là 1 bộ số py-ta-go nếu thỏa mãn a^2 = b^2 + c^2 hoặc ngược lại với b và c\n",
    "#Ví dụ (3,4,5) - vì 3^2 + 4^2 = 5^2 và tổng của 3+4+5 = 12\n",
    "#Yêu cầu: nhập vào một số nguyên dương N, in ra màn hình là 1 nếu số N có thể tách thành 1 bộ số a,b,c\n",
    "#N = a + b + c thì in ra là 1\n",
    "#ngược lại mà không tách được ra là 0."
   ]
  },
  {
   "cell_type": "code",
   "execution_count": null,
   "id": "43635009-91e9-4c81-959b-11a3ff0e969c",
   "metadata": {},
   "outputs": [],
   "source": []
  }
 ],
 "metadata": {
  "kernelspec": {
   "display_name": "Python 3 (ipykernel)",
   "language": "python",
   "name": "python3"
  },
  "language_info": {
   "codemirror_mode": {
    "name": "ipython",
    "version": 3
   },
   "file_extension": ".py",
   "mimetype": "text/x-python",
   "name": "python",
   "nbconvert_exporter": "python",
   "pygments_lexer": "ipython3",
   "version": "3.8.11"
  }
 },
 "nbformat": 4,
 "nbformat_minor": 5
}
