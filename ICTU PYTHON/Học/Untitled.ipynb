{
 "cells": [
  {
   "cell_type": "code",
   "execution_count": 1,
   "id": "42f1e752-a00b-409b-b901-5f958d0432be",
   "metadata": {},
   "outputs": [
    {
     "name": "stdin",
     "output_type": "stream",
     "text": [
      "Nhập giá trị a:  1\n",
      "Nhập giá trị b:  2\n",
      "Nhập giá trị c:  3\n",
      "Nhập giá trị d:  4\n"
     ]
    },
    {
     "name": "stdout",
     "output_type": "stream",
     "text": [
      "Không có điểm giao nhau !\n"
     ]
    }
   ],
   "source": [
    "a = int(input(\"Nhập giá trị a: \"))\n",
    "b = int(input(\"Nhập giá trị b: \"))\n",
    "c = int(input(\"Nhập giá trị c: \"))\n",
    "d = int(input(\"Nhập giá trị d: \"))\n",
    "u = max(a, c)\n",
    "v = min(b, d)\n",
    "if(u>v):\n",
    "    print(\"Không có điểm giao nhau !\")\n",
    "else:\n",
    "    diemgiao = v - u + 1\n",
    "    print(f\"Có điểm giao nhau, tổng: {diemgiao}\")"
   ]
  },
  {
   "cell_type": "code",
   "execution_count": 1,
   "id": "72a595fb-4331-4a33-88a5-6be8bdeb749d",
   "metadata": {},
   "outputs": [
    {
     "name": "stdout",
     "output_type": "stream",
     "text": [
      "dlrow olleH"
     ]
    }
   ],
   "source": [
    "str1 = \"Hello world\"\n",
    "for i in str1[::-1]:\n",
    "    print(i,end = '')"
   ]
  },
  {
   "cell_type": "code",
   "execution_count": 1,
   "id": "8fcacd58-b0c8-45ac-8e16-9a61b806c6e9",
   "metadata": {},
   "outputs": [
    {
     "name": "stdout",
     "output_type": "stream",
     "text": [
      "Tổng các số chẵn: 12\n",
      "Tổng các số lẻ: 9\n"
     ]
    }
   ],
   "source": [
    "def tong_chan_le(*a):\n",
    "    def tong_chan():\n",
    "        s = 0\n",
    "        for x in a:\n",
    "            if x %2 == 0: \n",
    "                s = s + x\n",
    "        return s\n",
    "    def tong_le():\n",
    "        s = 0\n",
    "        for x in a:\n",
    "            if x % 2 != 0: \n",
    "                s = s + x\n",
    "        return s\n",
    "    print(\"Tổng các số chẵn:\", tong_chan())\n",
    "    print(\"Tổng các số lẻ:\", tong_le())\n",
    "  #------------------------------------\n",
    "tong_chan_le(1,2,3,4,5,6)"
   ]
  },
  {
   "cell_type": "code",
   "execution_count": 11,
   "id": "5b3b3b57-a520-454f-85ad-802b55b7fc7d",
   "metadata": {},
   "outputs": [
    {
     "data": {
      "text/plain": [
       "[1, 5]"
      ]
     },
     "execution_count": 11,
     "metadata": {},
     "output_type": "execute_result"
    }
   ],
   "source": [
    "list1 = [1,2,3,4,5,\"ICTU\",\"k18CLC\"]\n",
    "list1[1:4]\n",
    "list1[0:6:4]"
   ]
  },
  {
   "cell_type": "code",
   "execution_count": 5,
   "id": "efe1b115-e678-49a5-b354-707f77c993a5",
   "metadata": {},
   "outputs": [
    {
     "name": "stdout",
     "output_type": "stream",
     "text": [
      "6\n"
     ]
    }
   ],
   "source": [
    "vowels = [\"u\",\"e\",\"o\",\"a\",\"i\",\"a\",\"i\"]\n",
    "index = vowels.index(\"i\",5)\n",
    "print(index)"
   ]
  },
  {
   "cell_type": "code",
   "execution_count": 7,
   "id": "90a713d7-50e0-4051-8320-4581e0869e16",
   "metadata": {},
   "outputs": [
    {
     "name": "stdout",
     "output_type": "stream",
     "text": [
      "[1, 2, 3]\n",
      "[1, 2, 3, 'a']\n"
     ]
    }
   ],
   "source": [
    "old_list = [1,2,3]\n",
    "new_list = old_list.copy()\n",
    "new_list.append('a')\n",
    "print(old_list)\n",
    "print(new_list)"
   ]
  },
  {
   "cell_type": "code",
   "execution_count": 8,
   "id": "17e2e25f-ab7b-4777-903f-1ab82eeb35d5",
   "metadata": {},
   "outputs": [
    {
     "name": "stdout",
     "output_type": "stream",
     "text": [
      "[1, 2, 3]\n",
      "[1, 2, 3, 'a']\n"
     ]
    }
   ],
   "source": [
    "#toán tử slicing\n",
    "old_list = [1,2,3]\n",
    "new_list = old_list[:]\n",
    "new_list.append('a')\n",
    "print(old_list)\n",
    "print(new_list)"
   ]
  },
  {
   "cell_type": "code",
   "execution_count": 10,
   "id": "2752e7d8-2632-428d-a785-fece47990747",
   "metadata": {},
   "outputs": [
    {
     "name": "stdout",
     "output_type": "stream",
     "text": [
      "<filter object at 0x00000245E2E2E790>\n"
     ]
    }
   ],
   "source": [
    "lista=[12,65,15,30,22,34,35]\n",
    "sochiahet15 = filter(lambda x: (x%15==0),lista)\n",
    "print(sochiahet15)"
   ]
  },
  {
   "cell_type": "code",
   "execution_count": null,
   "id": "ded6ccb4-78e1-498e-8bd2-bf75c64d6d4d",
   "metadata": {},
   "outputs": [],
   "source": []
  }
 ],
 "metadata": {
  "kernelspec": {
   "display_name": "Python 3",
   "language": "python",
   "name": "python3"
  },
  "language_info": {
   "codemirror_mode": {
    "name": "ipython",
    "version": 3
   },
   "file_extension": ".py",
   "mimetype": "text/x-python",
   "name": "python",
   "nbconvert_exporter": "python",
   "pygments_lexer": "ipython3",
   "version": "3.8.11"
  }
 },
 "nbformat": 4,
 "nbformat_minor": 5
}
