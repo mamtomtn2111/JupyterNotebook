{
 "cells": [
  {
   "cell_type": "markdown",
   "id": "f4d7cfd2-f260-4c8c-8e5b-8c4c502a8c46",
   "metadata": {},
   "source": [
    "Bài mẫu"
   ]
  },
  {
   "cell_type": "code",
   "execution_count": 1,
   "id": "5652121a-b076-4378-8229-a2315878e880",
   "metadata": {},
   "outputs": [
    {
     "name": "stdin",
     "output_type": "stream",
     "text": [
      "Nhập vào số phẩn tử n:  3\n"
     ]
    },
    {
     "name": "stdout",
     "output_type": "stream",
     "text": [
      "Nhập vào danh sách gồm 3 số nguyên khác nhau: \n"
     ]
    },
    {
     "name": "stdin",
     "output_type": "stream",
     "text": [
      " 1\n",
      " 3\n",
      " 2\n"
     ]
    },
    {
     "name": "stdout",
     "output_type": "stream",
     "text": [
      "Mời nhập vào danh sách gồm 3 tên: \n"
     ]
    },
    {
     "name": "stdin",
     "output_type": "stream",
     "text": [
      " Nguyễn Hà Văn\n",
      " Z Hú A\n",
      " Ba là A\n"
     ]
    },
    {
     "name": "stdout",
     "output_type": "stream",
     "text": [
      "Nội dung theo yêu cầu của đề bài là: \n",
      "1 : Nguyễn Hà Văn\n",
      "3 : Z Hú A\n",
      "2 : Ba là A\n"
     ]
    }
   ],
   "source": [
    "n = int(input(\"Nhập vào số phẩn tử n: \"))\n",
    "print(f\"Nhập vào danh sách gồm {n} số nguyên khác nhau: \")\n",
    "list1 = [int(input()) for i in range(n)]\n",
    "\n",
    "print(f'Mời nhập vào danh sách gồm {n} tên: ')\n",
    "list2 = [input() for i in range(n)]\n",
    "mydict = {}\n",
    "for i in range(n):\n",
    "    mydict[list1[i]] = list2[i]\n",
    "    \n",
    "print(\"Nội dung theo yêu cầu của đề bài là: \")\n",
    "for x,y in mydict.items():\n",
    "    print(x, \":\", y)"
   ]
  },
  {
   "cell_type": "code",
   "execution_count": 3,
   "id": "9cc89ffa-ed01-4f25-bfac-4189a13074d0",
   "metadata": {},
   "outputs": [
    {
     "name": "stdin",
     "output_type": "stream",
     "text": [
      "Nhập vào số học sinh n:  3\n",
      "Nhập tên sinh viên:  Vũ Hải\n",
      "Nhập vào điểm của sinh viên:  9\n",
      "Nhập tên sinh viên:  HÀ \n",
      "Nhập vào điểm của sinh viên:  8\n",
      "Nhập tên sinh viên:  AAA\n",
      "Nhập vào điểm của sinh viên:  9\n"
     ]
    },
    {
     "name": "stdout",
     "output_type": "stream",
     "text": [
      "8 : ['Vũ Hải']\n",
      "9 : ['Hà ', 'Aaa']\n"
     ]
    }
   ],
   "source": [
    "n = int(input(\"Nhập vào số học sinh n: \"))\n",
    "ListTen = []\n",
    "ListDiem = []\n",
    "for i in range(n):\n",
    "    Ten = input(\"Nhập tên sinh viên: \").title()\n",
    "    Diem = int(input(\"Nhập vào điểm của sinh viên: \"))\n",
    "    ListTen.append(Ten)\n",
    "    ListDiem.append(Diem)\n",
    "\n",
    "ListDiem.sort()\n",
    "dictHS = {}\n",
    "for i in range(n):\n",
    "    dictHS[ListDiem[i]] = []\n",
    "    \n",
    "for i in range(n):\n",
    "    dictHS[ListDiem[i]].append(ListTen[i])\n",
    "    \n",
    "for x,y in dictHS.items():\n",
    "    print(x, \":\", y)"
   ]
  },
  {
   "cell_type": "code",
   "execution_count": 83,
   "id": "a4ad91d4-ba9e-4b03-80f5-14662f51e132",
   "metadata": {},
   "outputs": [
    {
     "name": "stdin",
     "output_type": "stream",
     "text": [
      "Nhap vao:  1.1\n"
     ]
    },
    {
     "name": "stdout",
     "output_type": "stream",
     "text": [
      "Số vừa nhập là số thực:  1.1\n"
     ]
    }
   ],
   "source": [
    "#Bài 5\n",
    "\n",
    "n = input('Nhap vao: ')\n",
    "try:\n",
    "    a = int(n)\n",
    "    print(\"Số vừa nhập là: \", a)\n",
    "except ValueError:\n",
    "    try:\n",
    "        a = float(n)\n",
    "        print(\"Số vừa nhập là số thực: \", n)\n",
    "    except ValueError:\n",
    "        print(\"Bạn vừa nhập chữ và ký tự đặc biệt !\", n)"
   ]
  },
  {
   "cell_type": "code",
   "execution_count": 106,
   "id": "27750f9d-2b33-468c-bb3d-b81e309dbafa",
   "metadata": {},
   "outputs": [
    {
     "name": "stdout",
     "output_type": "stream",
     "text": [
      "Làm theo do while\n"
     ]
    },
    {
     "name": "stdin",
     "output_type": "stream",
     "text": [
      "Nhập số nguyên 123\n"
     ]
    },
    {
     "name": "stdout",
     "output_type": "stream",
     "text": [
      "Đảo ngược số:\n",
      "321"
     ]
    }
   ],
   "source": [
    "#Bài 8\n",
    "\n",
    "print(\"Làm theo do while\")\n",
    "n = int(input(\"Nhập số nguyên\"))\n",
    "n = str(n)\n",
    "lenN = len(n)\n",
    "i = 1\n",
    "print(\"Đảo ngược số:\")\n",
    "while(True):\n",
    "    print(n[-i], end =\"\")\n",
    "    i += 1\n",
    "    if(lenN == i-1):\n",
    "        break"
   ]
  },
  {
   "cell_type": "code",
   "execution_count": 107,
   "id": "083530e4-4a43-4a5b-b94e-739550617f08",
   "metadata": {},
   "outputs": [
    {
     "name": "stdin",
     "output_type": "stream",
     "text": [
      "Nhập số nguyên 12\n"
     ]
    },
    {
     "name": "stdout",
     "output_type": "stream",
     "text": [
      "Giá trị ban đầu của n là: 12\n",
      "21"
     ]
    }
   ],
   "source": [
    "n = int(input(\"Nhập số nguyên\"))\n",
    "print(\"Giá trị ban đầu của n là:\", n)\n",
    "while(n != 0):\n",
    "    print(n%10,end = '')\n",
    "    n = n // 10"
   ]
  },
  {
   "cell_type": "code",
   "execution_count": 124,
   "id": "20323d59-6334-4bc2-8d6a-4ea17f49f470",
   "metadata": {},
   "outputs": [
    {
     "name": "stdin",
     "output_type": "stream",
     "text": [
      "Nhập vào số cột của ma trận 9\n",
      "Nhập vào số hàng ma trận 8\n"
     ]
    },
    {
     "name": "stdout",
     "output_type": "stream",
     "text": [
      "Ma trận là\n",
      "[0, 0, 0, 0, 0, 0, 0, 0]\n",
      "[0, 1, 2, 3, 4, 5, 6, 7]\n",
      "[0, 2, 4, 6, 8, 10, 12, 14]\n",
      "[0, 3, 6, 9, 12, 15, 18, 21]\n",
      "[0, 4, 8, 12, 16, 20, 24, 28]\n",
      "[0, 5, 10, 15, 20, 25, 30, 35]\n",
      "[0, 6, 12, 18, 24, 30, 36, 42]\n",
      "[0, 7, 14, 21, 28, 35, 42, 49]\n",
      "[0, 8, 16, 24, 32, 40, 48, 56]\n"
     ]
    }
   ],
   "source": [
    "m = int(input(\"Nhập vào số cột của ma trận\"))\n",
    "n = int(input(\"Nhập vào số hàng ma trận\"))\n",
    "listA = []\n",
    "\n",
    "for i in range(m):\n",
    "    listB = []\n",
    "    for j in range(n):\n",
    "        a = int(i*j)\n",
    "        listB.append(a)\n",
    "    listA.append(listB)\n",
    "\n",
    "    \n",
    "print(\"Ma trận là\")\n",
    "for i in listA:\n",
    "    print(i)"
   ]
  },
  {
   "cell_type": "code",
   "execution_count": null,
   "id": "87e32195-8eef-448b-bc7c-f372272079e9",
   "metadata": {},
   "outputs": [],
   "source": []
  }
 ],
 "metadata": {
  "kernelspec": {
   "display_name": "Python 3",
   "language": "python",
   "name": "python3"
  },
  "language_info": {
   "codemirror_mode": {
    "name": "ipython",
    "version": 3
   },
   "file_extension": ".py",
   "mimetype": "text/x-python",
   "name": "python",
   "nbconvert_exporter": "python",
   "pygments_lexer": "ipython3",
   "version": "3.8.8"
  }
 },
 "nbformat": 4,
 "nbformat_minor": 5
}
