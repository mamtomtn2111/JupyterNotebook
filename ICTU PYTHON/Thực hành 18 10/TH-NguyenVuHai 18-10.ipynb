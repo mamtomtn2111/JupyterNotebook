{
 "cells": [
  {
   "cell_type": "code",
   "execution_count": 11,
   "id": "10f92250-de37-481c-96ae-ca5433a721a2",
   "metadata": {},
   "outputs": [
    {
     "name": "stdout",
     "output_type": "stream",
     "text": [
      "Phần tử của list A trước khi sort:  [6, 3, 1, 8, 9, -1, 2.3, 2]\n",
      "Phần tử của list A sau khi sort:  [-1, 1, 2, 2.3, 3, 6, 8, 9]\n"
     ]
    }
   ],
   "source": [
    "#Bài 1\n",
    "listA = [6,3,1,8,9,-1,2.3,2]\n",
    "\n",
    "def sortList(lista):\n",
    "    for i in range(len(listA)):\n",
    "        for j in range(len(listA)):\n",
    "            if(lista[i] < lista[j]):\n",
    "                lista[i], lista[j] = lista[j], lista[i]\n",
    "\n",
    "print(\"Phần tử của list A trước khi sort: \", listA)\n",
    "sortList(listA)\n",
    "print(\"Phần tử của list A sau khi sort: \", listA)"
   ]
  },
  {
   "cell_type": "code",
   "execution_count": 32,
   "id": "06dc3de9-b30d-4306-a66c-7d2d5ad31c8a",
   "metadata": {},
   "outputs": [
    {
     "name": "stdin",
     "output_type": "stream",
     "text": [
      "Nhập số phần tử của 2 list:  2\n"
     ]
    },
    {
     "name": "stdout",
     "output_type": "stream",
     "text": [
      "Nhập list A: \n"
     ]
    },
    {
     "name": "stdin",
     "output_type": "stream",
     "text": [
      " 6\n",
      " 7\n"
     ]
    },
    {
     "name": "stdout",
     "output_type": "stream",
     "text": [
      "Nhập list B:\n"
     ]
    },
    {
     "name": "stdin",
     "output_type": "stream",
     "text": [
      " 3\n",
      " 2\n"
     ]
    },
    {
     "name": "stdout",
     "output_type": "stream",
     "text": [
      "[6, 7]\n",
      "[3, 2]\n",
      "[3, 1]\n"
     ]
    }
   ],
   "source": [
    "#Bài 2\n",
    "def UocChungLonNhat(a,b):\n",
    "    while(a != b):\n",
    "        if(a > b):\n",
    "            a = a - b\n",
    "        else:\n",
    "            b = b - a\n",
    "    return a\n",
    "\n",
    "n = int(input(\"Nhập số phần tử của 2 list: \"))\n",
    "print(\"Nhập list A: \")\n",
    "listA = [int(input()) for i in range(n)]\n",
    "print(\"Nhập list B:\")\n",
    "listB = [int(input()) for i in range(n)]\n",
    "\n",
    "print(listA)\n",
    "print(listB)\n",
    "listC = []\n",
    "for i in range(n):\n",
    "    listC.append(UocChungLonNhat(listA[i], listB[i]))\n",
    "print(listC)"
   ]
  },
  {
   "cell_type": "code",
   "execution_count": 20,
   "id": "073eb60c-c869-457a-9c5f-25dfc0d7254d",
   "metadata": {},
   "outputs": [
    {
     "name": "stdin",
     "output_type": "stream",
     "text": [
      "Nhập vào cạnh a:  3\n",
      "Nhập vào cạnh b:  4\n",
      "Nhập vào cạnh c:  5\n"
     ]
    },
    {
     "name": "stdout",
     "output_type": "stream",
     "text": [
      "--Tam giác--\n",
      "Diện tích tam giác là:  6.0\n",
      "--Tọa độ--\n"
     ]
    },
    {
     "name": "stdin",
     "output_type": "stream",
     "text": [
      "Nhập vào số tọa độ của 1 điểm:  2\n"
     ]
    },
    {
     "name": "stdout",
     "output_type": "stream",
     "text": [
      "--Điểm A\n"
     ]
    },
    {
     "name": "stdin",
     "output_type": "stream",
     "text": [
      " 3\n",
      " 4\n"
     ]
    },
    {
     "name": "stdout",
     "output_type": "stream",
     "text": [
      "--Điểm B--\n"
     ]
    },
    {
     "name": "stdin",
     "output_type": "stream",
     "text": [
      " 2\n",
      " 7\n"
     ]
    },
    {
     "name": "stdout",
     "output_type": "stream",
     "text": [
      "Độ dài giữa điểm A và B là:  3.1622776601683795\n"
     ]
    }
   ],
   "source": [
    "#Bài 3\n",
    "import math\n",
    "a = float(input(\"Nhập vào cạnh a: \"))\n",
    "b = float(input(\"Nhập vào cạnh b: \"))\n",
    "c = float(input(\"Nhập vào cạnh c: \"))\n",
    "\n",
    "def CheckTamGiac(a,b,c):\n",
    "    if(a + b > c and a + c > b and b + c > a):\n",
    "        return True\n",
    "    else:\n",
    "        return False\n",
    "\n",
    "def TinhS(a,b,c):\n",
    "    p = (a + b + c) / 2\n",
    "    S = math.sqrt(p*(p-a)*(p-b)*(p-c))\n",
    "    return S\n",
    "\n",
    "def TinhDoDai(a,b):\n",
    "    canh = 0\n",
    "    Tong = 0\n",
    "    for i in range(len(a)):\n",
    "        Tong += (a[i] - b[i])*(a[i] - b[i])\n",
    "    canh = math.sqrt(Tong)\n",
    "    return canh\n",
    "\n",
    "print(\"--Tam giác--\")\n",
    "if(CheckTamGiac(a,b,c) == False):\n",
    "    print(\"Tam giác bạn nhập không đúng !\")\n",
    "else:\n",
    "    print(\"Diện tích tam giác là: \", TinhS(a,b,c))\n",
    "\n",
    "print(\"--Tọa độ--\")\n",
    "SoToaDo = int(input(\"Nhập vào số tọa độ của 1 điểm: \"))\n",
    "\n",
    "print(\"--Điểm A\")\n",
    "listA = [int(input()) for i in range(SoToaDo)]\n",
    "print(\"--Điểm B--\")\n",
    "listB = [int(input()) for i in range(SoToaDo)]\n",
    "\n",
    "print(\"Độ dài giữa điểm A và B là: \", TinhDoDai(listA,listB))"
   ]
  },
  {
   "cell_type": "code",
   "execution_count": 188,
   "id": "a36eb9c4-c550-4dd6-94dc-f570b66c2446",
   "metadata": {},
   "outputs": [
    {
     "name": "stdin",
     "output_type": "stream",
     "text": [
      "Nhập tọa độ x, y cho điểm A:  3,2\n"
     ]
    },
    {
     "name": "stdout",
     "output_type": "stream",
     "text": [
      "2\n"
     ]
    },
    {
     "name": "stdin",
     "output_type": "stream",
     "text": [
      "Nhập tọa độ x, y cho điểm B:  7,43\n",
      "Nhập tọa độ x, y cho điểm C:  2,1\n"
     ]
    },
    {
     "name": "stdout",
     "output_type": "stream",
     "text": [
      "Diện tích tam giác là 18.49999999999983\n"
     ]
    }
   ],
   "source": [
    "#Bài 3 của th\n",
    "#--------Hàm kiểm tra tam giác theo 3 cạnh\n",
    "def latamgiac(a,b,c):\n",
    "    if a<=0 or b<=0 or c<=0:\n",
    "        return False\n",
    "    else:\n",
    "        return a+b>c and b+c>a and a+c>b\n",
    "#---------Hàm tính diện tích theo chiều dài cạnh Herong\n",
    "def dientich_canh(a,b,c):\n",
    "    from math import sqrt\n",
    "    if latamgiac(a,b,c):\n",
    "        p = (a+b+c)/2\n",
    "        return sqrt(p*(p-a)*(p-b)*(p-c))\n",
    "    else:\n",
    "        return -1\n",
    "#----------hàm định nghĩa độ dài các cạnh theo tọa độ điểm A(x1,y1); B(x2,y2)\n",
    "def dodai(x1,y1,x2,y2):\n",
    "    from math import sqrt\n",
    "    return sqrt((x1-x2)**2 + (y1-y2)**2)\n",
    "#----------Hàm xác định chiều dài các cạnh----------\n",
    "def dientichtamgiac(pA, pB, pC):\n",
    "    a = dodai(pA[0], pA[1],pB[0], pB[1])\n",
    "    b = dodai(pA[0], pA[1],pC[0], pC[1])\n",
    "    c = dodai(pB[0], pB[1],pC[0], pC[1])\n",
    "    return dientich_canh(a,b,c)\n",
    "#-----Nhập tọa độ các điểm. Trong Python hàm eval() đưa hết các ký tự dạng số về dạng số tính toán được\n",
    "# Ví dụ: m = eval(input('Nhập x: ))\n",
    "pA = eval(input('Nhập tọa độ x, y cho điểm A: '))\n",
    "pB = eval(input('Nhập tọa độ x, y cho điểm B: '))\n",
    "pC = eval(input('Nhập tọa độ x, y cho điểm C: '))\n",
    "S = dientichtamgiac(pA, pB, pC)\n",
    "print(f'Diện tích tam giác là {S}')"
   ]
  },
  {
   "cell_type": "code",
   "execution_count": 36,
   "id": "b587f946-237d-4ecf-813d-00e1437062a3",
   "metadata": {},
   "outputs": [
    {
     "name": "stdin",
     "output_type": "stream",
     "text": [
      "Nhập số A:  12\n",
      "Nhập số B:  16\n",
      "Nhập số C:  8\n"
     ]
    },
    {
     "name": "stdout",
     "output_type": "stream",
     "text": [
      "Ước chung lớn nhất của 3 số là:  4\n"
     ]
    }
   ],
   "source": [
    "#Bài 4\n",
    "def UocChungLonNhat(a,b):\n",
    "    while(a != b):\n",
    "        if(a > b):\n",
    "            a = a - b\n",
    "        else:\n",
    "            b = b - a\n",
    "    return a\n",
    "\n",
    "A = int(input(\"Nhập số A: \"))\n",
    "B = int(input(\"Nhập số B: \"))\n",
    "C = int(input(\"Nhập số C: \"))\n",
    "\n",
    "print(\"Ước chung lớn nhất của 3 số là: \", UocChungLonNhat(UocChungLonNhat(A,B),C))"
   ]
  },
  {
   "cell_type": "code",
   "execution_count": 40,
   "id": "a6af0d44-8b4e-4fe7-8617-5338e9fe3b46",
   "metadata": {},
   "outputs": [
    {
     "name": "stdin",
     "output_type": "stream",
     "text": [
      "Nhập số A:  3\n",
      "Nhập số B:  4\n",
      "Nhập số C:  2\n"
     ]
    },
    {
     "name": "stdout",
     "output_type": "stream",
     "text": [
      "Bội chung lớn nhất của A,B và C:  12.0\n"
     ]
    }
   ],
   "source": [
    "#Bài 5\n",
    "def UocChungLonNhat(a,b):\n",
    "    while(a != b):\n",
    "        if(a > b):\n",
    "            a = a - b\n",
    "        else:\n",
    "            b = b - a\n",
    "    return a\n",
    "\n",
    "def BoiChungNhoNhat(a,b):\n",
    "    UCLN = UocChungLonNhat(a,b)\n",
    "    return (a * b) / UCLN\n",
    "\n",
    "A = int(input(\"Nhập số A: \"))\n",
    "B = int(input(\"Nhập số B: \"))\n",
    "C = int(input(\"Nhập số C: \"))\n",
    "print(\"Bội chung lớn nhất của A,B và C: \", BoiChungNhoNhat(BoiChungNhoNhat(A,B),C))"
   ]
  },
  {
   "cell_type": "code",
   "execution_count": 57,
   "id": "cf80adb5-2df8-4429-b37f-f3be2acd0b61",
   "metadata": {},
   "outputs": [
    {
     "name": "stdin",
     "output_type": "stream",
     "text": [
      "Nhập vào n số để tính tổng:  3\n"
     ]
    },
    {
     "name": "stdout",
     "output_type": "stream",
     "text": [
      "Tổng các số là:  6\n",
      "Tổng các số chắn là:  2\n",
      "Tổng các số lẻ là:  4\n"
     ]
    }
   ],
   "source": [
    "#Bài 6\n",
    "def Tong(n):\n",
    "    if(n == 0):\n",
    "        return 0\n",
    "    else:\n",
    "        return n + Tong(n-1)\n",
    "\n",
    "def TongChan(n):\n",
    "    if(n == 0):\n",
    "        return 0\n",
    "    elif(n % 2 == 0):\n",
    "        return n + TongChan(n-1)\n",
    "    if(n % 2 != 0):\n",
    "        return TongChan(n-1)\n",
    "    \n",
    "def TongLe(n):\n",
    "    if(n == 0):\n",
    "        return 0\n",
    "    elif(n % 2 != 0):\n",
    "        return n + TongLe(n-1)\n",
    "    if(n % 2 == 0):\n",
    "        return TongLe(n-1)\n",
    "    \n",
    "n = int(input(\"Nhập vào n số để tính tổng: \"))\n",
    "print(\"Tổng các số là: \",Tong(n))\n",
    "print(\"Tổng các số chắn là: \", TongChan(n))\n",
    "print(\"Tổng các số lẻ là: \", TongLe(n))"
   ]
  },
  {
   "cell_type": "code",
   "execution_count": 68,
   "id": "4cd3434a-fd95-486a-9229-6610cef2c5a6",
   "metadata": {},
   "outputs": [
    {
     "name": "stdout",
     "output_type": "stream",
     "text": [
      "Nhập tên sinh viên và điểm trung bình toán và tin: \n",
      "Chương trình sẽ dừng khi người nhập tên là \"0\"\n"
     ]
    },
    {
     "name": "stdin",
     "output_type": "stream",
     "text": [
      "\n",
      "Nhập tên sinh viên:  Vũ Hải\n"
     ]
    },
    {
     "name": "stdout",
     "output_type": "stream",
     "text": [
      "Tên trên không có trong danh sách, mời nhập điểm mới: \n"
     ]
    },
    {
     "name": "stdin",
     "output_type": "stream",
     "text": [
      "Nhập điểm sinh viên Vũ Hải (Cách nhau dấu phẩy):  7,9.4\n",
      "\n",
      "Nhập tên sinh viên:  Za Hay\n"
     ]
    },
    {
     "name": "stdout",
     "output_type": "stream",
     "text": [
      "Tên trên không có trong danh sách, mời nhập điểm mới: \n"
     ]
    },
    {
     "name": "stdin",
     "output_type": "stream",
     "text": [
      "Nhập điểm sinh viên Za Hay (Cách nhau dấu phẩy):  3,9.1\n",
      "\n",
      "Nhập tên sinh viên:  ZALO\n"
     ]
    },
    {
     "name": "stdout",
     "output_type": "stream",
     "text": [
      "Tên trên không có trong danh sách, mời nhập điểm mới: \n"
     ]
    },
    {
     "name": "stdin",
     "output_type": "stream",
     "text": [
      "Nhập điểm sinh viên Zalo (Cách nhau dấu phẩy):  4,5.4\n",
      "\n",
      "Nhập tên sinh viên:  Zalo\n"
     ]
    },
    {
     "name": "stdout",
     "output_type": "stream",
     "text": [
      "Tên đã có trong danh sách, mời cập nhật điểm: \n"
     ]
    },
    {
     "name": "stdin",
     "output_type": "stream",
     "text": [
      "Nhập điểm sinh viên Zalo (Cách nhau dấu phẩy):  1,1.9\n",
      "\n",
      "Nhập tên sinh viên:  0\n"
     ]
    },
    {
     "name": "stdout",
     "output_type": "stream",
     "text": [
      "Vũ Hải : [7.0, 9.4]\n",
      "Za Hay : [3.0, 9.1]\n",
      "Zalo : [1.0, 1.9]\n"
     ]
    }
   ],
   "source": [
    "#Bài 7\n",
    "D = {}\n",
    "\n",
    "print(\"Nhập tên sinh viên và điểm trung bình toán và tin: \")\n",
    "print('Chương trình sẽ dừng khi người nhập tên là \"0\"')\n",
    "listTen = []\n",
    "while(True):\n",
    "    Ten = input(\"\\nNhập tên sinh viên: \").strip().title()\n",
    "    if(Ten == \"0\"):\n",
    "        break\n",
    "        \n",
    "    if(Ten in listTen):\n",
    "        print(\"Tên đã có trong danh sách, mời cập nhật điểm: \")\n",
    "    else:\n",
    "        print(\"Tên trên không có trong danh sách, mời nhập điểm mới: \")\n",
    "    listTen.append(Ten)\n",
    "    Diem = input(f\"Nhập điểm sinh viên {Ten} (Cách nhau dấu phẩy): \").strip()\n",
    "    listDiem = Diem.split(\",\")\n",
    "    listDiem = list(map(float,listDiem))\n",
    "    D[Ten] = listDiem\n",
    "    listDiem = []\n",
    "\n",
    "for x,y in D.items():\n",
    "    print(x, \":\", y)"
   ]
  },
  {
   "cell_type": "code",
   "execution_count": 154,
   "id": "ffbd9bf0-1024-4b20-bdb7-834452995bcd",
   "metadata": {},
   "outputs": [
    {
     "name": "stdout",
     "output_type": "stream",
     "text": [
      "List A:  {40, 90, 19, 12}\n",
      "List B:  {88, 24, 40, 93}\n",
      "Phần tử trong list A mà không trong list B:  {90, 19, 12}\n",
      "Giao:  {40}\n"
     ]
    }
   ],
   "source": [
    "#Bài 8\n",
    "from random import randint\n",
    "\n",
    "listA = set()\n",
    "listB = set()\n",
    "for i in range(4):\n",
    "    listA.add(randint(1,100))\n",
    "    listB.add(randint(1,100))\n",
    "print(\"List A: \",listA)\n",
    "print(\"List B: \",listB)\n",
    "\n",
    "print(\"Phần tử trong list A mà không trong list B: \", listA-listB)\n",
    "print(\"Giao: \", (listA & listB))"
   ]
  },
  {
   "cell_type": "code",
   "execution_count": null,
   "id": "16344153-3550-4a48-8f77-75747b79508d",
   "metadata": {},
   "outputs": [],
   "source": []
  },
  {
   "cell_type": "code",
   "execution_count": 185,
   "id": "25f9cab5-b9b0-4552-af72-08e5a99e4e81",
   "metadata": {},
   "outputs": [
    {
     "name": "stdin",
     "output_type": "stream",
     "text": [
      "Input number of rectangle:  3\n"
     ]
    },
    {
     "name": "stdout",
     "output_type": "stream",
     "text": [
      "Rectangle 1\n"
     ]
    },
    {
     "name": "stdin",
     "output_type": "stream",
     "text": [
      "Input length:  3\n",
      "Input width:  4\n"
     ]
    },
    {
     "name": "stdout",
     "output_type": "stream",
     "text": [
      "Rectangle 2\n"
     ]
    },
    {
     "name": "stdin",
     "output_type": "stream",
     "text": [
      "Input length:  2\n",
      "Input width:  5\n"
     ]
    },
    {
     "name": "stdout",
     "output_type": "stream",
     "text": [
      "Rectangle 3\n"
     ]
    },
    {
     "name": "stdin",
     "output_type": "stream",
     "text": [
      "Input length:  10\n",
      "Input width:  2\n"
     ]
    },
    {
     "name": "stdout",
     "output_type": "stream",
     "text": [
      "List rectangle after sort: \n",
      "\n",
      "Rec 1\n",
      "The length of rectangle:  2\n",
      "The width of rectangle:  5\n",
      "The perimeter of rectangle:  14\n",
      "The area of rectangle:  10\n",
      "\n",
      "Rec 2\n",
      "The length of rectangle:  3\n",
      "The width of rectangle:  4\n",
      "The perimeter of rectangle:  14\n",
      "The area of rectangle:  12\n",
      "\n",
      "Rec 3\n",
      "The length of rectangle:  10\n",
      "The width of rectangle:  2\n",
      "The perimeter of rectangle:  24\n",
      "The area of rectangle:  20\n"
     ]
    }
   ],
   "source": [
    "#Bài 9\n",
    "class Rectangle:\n",
    "    def __init__(self, Length, Width):\n",
    "        self.Length = Length\n",
    "        self.Width = Width\n",
    "    def Show(self):\n",
    "        print(\"The length of rectangle: \",self.Length)\n",
    "        print(\"The width of rectangle: \",self.Width)\n",
    "\n",
    "class RectangleCal(Rectangle):\n",
    "    def __init__(self, Length, Width):\n",
    "        super().__init__(Length, Width)\n",
    "        self.Area = Length * Width\n",
    "        self.Perimeter = (Length + Width) * 2\n",
    "        \n",
    "    def Show(self):\n",
    "        super().Show()\n",
    "        print(\"The perimeter of rectangle: \", self.Perimeter)\n",
    "        print(\"The area of rectangle: \", self.Area)\n",
    "    \n",
    "    def __lt__(self, other):\n",
    "        if(self.Area < other.Area):\n",
    "            return True\n",
    "        elif(self.Area == other.Area and self.Perimeter < other.Perimeter):\n",
    "            return True\n",
    "        else:\n",
    "            return False\n",
    "# Rec1 = RectangleCal(3,4)\n",
    "# Rec2 = RectangleCal(10,2)\n",
    "# Rec3 = RectangleCal(6,3)\n",
    "# Rec4 = RectangleCal(8,2)\n",
    "# Rec5 = RectangleCal(2,5)\n",
    "\n",
    "n = int(input(\"Input number of rectangle: \"))\n",
    "listRec = []\n",
    "for i in range(n):\n",
    "    print(\"\\nRectangle\",i+1)\n",
    "    Length = int(input(\"Input length: \"))\n",
    "    Width = int(input(\"Input width: \"))\n",
    "    Rec = RectangleCal(Length, Width)\n",
    "    listRec.append(Rec)\n",
    "    \n",
    "listRec.sort()\n",
    "print(\"List rectangle after sort: \")\n",
    "for i in range(n):\n",
    "    print(\"\\nRec\", i + 1)\n",
    "    listRec[i].Show()"
   ]
  },
  {
   "cell_type": "code",
   "execution_count": null,
   "id": "08868e2c-78ff-4e06-a590-9232cea938e9",
   "metadata": {},
   "outputs": [],
   "source": []
  }
 ],
 "metadata": {
  "kernelspec": {
   "display_name": "Python 3 (ipykernel)",
   "language": "python",
   "name": "python3"
  },
  "language_info": {
   "codemirror_mode": {
    "name": "ipython",
    "version": 3
   },
   "file_extension": ".py",
   "mimetype": "text/x-python",
   "name": "python",
   "nbconvert_exporter": "python",
   "pygments_lexer": "ipython3",
   "version": "3.8.11"
  }
 },
 "nbformat": 4,
 "nbformat_minor": 5
}
