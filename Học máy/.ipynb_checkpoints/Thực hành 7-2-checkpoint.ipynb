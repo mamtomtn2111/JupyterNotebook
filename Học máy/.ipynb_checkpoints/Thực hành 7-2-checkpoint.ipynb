{
 "cells": [
  {
   "cell_type": "code",
   "execution_count": 22,
   "id": "2d24f8cc-8e57-4c8c-9d18-b0cb29b4d823",
   "metadata": {},
   "outputs": [],
   "source": [
    "from sklearn.datasets import fetch_california_housing\n",
    "from sklearn.model_selection import train_test_split\n",
    "from sklearn.preprocessing import StandardScaler\n",
    "from sklearn.metrics import mean_squared_error\n",
    "from sklearn.svm import LinearSVR\n",
    "import numpy as np\n",
    "import pandas as pd"
   ]
  },
  {
   "cell_type": "code",
   "execution_count": 10,
   "id": "d310faad-b314-403a-88da-6b3a0192dfd7",
   "metadata": {},
   "outputs": [],
   "source": [
    "housing = fetch_california_housing()\n",
    "X = housing[\"data\"]\n",
    "y = housing[\"target\"]"
   ]
  },
  {
   "cell_type": "code",
   "execution_count": 31,
   "id": "2c22b28a-bcd6-4ce4-8fdb-af7cf80c0554",
   "metadata": {},
   "outputs": [
    {
     "data": {
      "text/html": [
       "<div>\n",
       "<style scoped>\n",
       "    .dataframe tbody tr th:only-of-type {\n",
       "        vertical-align: middle;\n",
       "    }\n",
       "\n",
       "    .dataframe tbody tr th {\n",
       "        vertical-align: top;\n",
       "    }\n",
       "\n",
       "    .dataframe thead th {\n",
       "        text-align: right;\n",
       "    }\n",
       "</style>\n",
       "<table border=\"1\" class=\"dataframe\">\n",
       "  <thead>\n",
       "    <tr style=\"text-align: right;\">\n",
       "      <th></th>\n",
       "      <th>MedInc</th>\n",
       "      <th>HouseAge</th>\n",
       "      <th>AveRooms</th>\n",
       "      <th>AveBedrms</th>\n",
       "      <th>Population</th>\n",
       "      <th>AveOccup</th>\n",
       "      <th>Latitude</th>\n",
       "      <th>Longitude</th>\n",
       "    </tr>\n",
       "  </thead>\n",
       "  <tbody>\n",
       "    <tr>\n",
       "      <th>0</th>\n",
       "      <td>8.3252</td>\n",
       "      <td>41.0</td>\n",
       "      <td>6.984127</td>\n",
       "      <td>1.023810</td>\n",
       "      <td>322.0</td>\n",
       "      <td>2.555556</td>\n",
       "      <td>37.88</td>\n",
       "      <td>-122.23</td>\n",
       "    </tr>\n",
       "    <tr>\n",
       "      <th>1</th>\n",
       "      <td>8.3014</td>\n",
       "      <td>21.0</td>\n",
       "      <td>6.238137</td>\n",
       "      <td>0.971880</td>\n",
       "      <td>2401.0</td>\n",
       "      <td>2.109842</td>\n",
       "      <td>37.86</td>\n",
       "      <td>-122.22</td>\n",
       "    </tr>\n",
       "    <tr>\n",
       "      <th>2</th>\n",
       "      <td>7.2574</td>\n",
       "      <td>52.0</td>\n",
       "      <td>8.288136</td>\n",
       "      <td>1.073446</td>\n",
       "      <td>496.0</td>\n",
       "      <td>2.802260</td>\n",
       "      <td>37.85</td>\n",
       "      <td>-122.24</td>\n",
       "    </tr>\n",
       "    <tr>\n",
       "      <th>3</th>\n",
       "      <td>5.6431</td>\n",
       "      <td>52.0</td>\n",
       "      <td>5.817352</td>\n",
       "      <td>1.073059</td>\n",
       "      <td>558.0</td>\n",
       "      <td>2.547945</td>\n",
       "      <td>37.85</td>\n",
       "      <td>-122.25</td>\n",
       "    </tr>\n",
       "    <tr>\n",
       "      <th>4</th>\n",
       "      <td>3.8462</td>\n",
       "      <td>52.0</td>\n",
       "      <td>6.281853</td>\n",
       "      <td>1.081081</td>\n",
       "      <td>565.0</td>\n",
       "      <td>2.181467</td>\n",
       "      <td>37.85</td>\n",
       "      <td>-122.25</td>\n",
       "    </tr>\n",
       "  </tbody>\n",
       "</table>\n",
       "</div>"
      ],
      "text/plain": [
       "   MedInc  HouseAge  AveRooms  AveBedrms  Population  AveOccup  Latitude  \\\n",
       "0  8.3252      41.0  6.984127   1.023810       322.0  2.555556     37.88   \n",
       "1  8.3014      21.0  6.238137   0.971880      2401.0  2.109842     37.86   \n",
       "2  7.2574      52.0  8.288136   1.073446       496.0  2.802260     37.85   \n",
       "3  5.6431      52.0  5.817352   1.073059       558.0  2.547945     37.85   \n",
       "4  3.8462      52.0  6.281853   1.081081       565.0  2.181467     37.85   \n",
       "\n",
       "   Longitude  \n",
       "0    -122.23  \n",
       "1    -122.22  \n",
       "2    -122.24  \n",
       "3    -122.25  \n",
       "4    -122.25  "
      ]
     },
     "execution_count": 31,
     "metadata": {},
     "output_type": "execute_result"
    }
   ],
   "source": [
    "data = fetch_california_housing()\n",
    "calf_hous_df = pd.DataFrame(data= data.data, columns=data.feature_names)   \n",
    "calf_hous_df.head(5)"
   ]
  },
  {
   "cell_type": "code",
   "execution_count": 35,
   "id": "e3cdc68c-f148-4acf-ba80-3172c54f56c4",
   "metadata": {},
   "outputs": [],
   "source": [
    "X_train, X_test, y_train, y_test = train_test_split(X, y, test_size=0.2, random_state=42)"
   ]
  },
  {
   "cell_type": "code",
   "execution_count": 40,
   "id": "16d9efdc-1f12-44ab-b723-b65a36ff535b",
   "metadata": {},
   "outputs": [
    {
     "name": "stdout",
     "output_type": "stream",
     "text": [
      "[[-0.326196    0.34849025 -0.17491646 ...  0.05137609 -1.3728112\n",
      "   1.27258656]\n",
      " [-0.03584338  1.61811813 -0.40283542 ... -0.11736222 -0.87669601\n",
      "   0.70916212]\n",
      " [ 0.14470145 -1.95271028  0.08821601 ... -0.03227969 -0.46014647\n",
      "  -0.44760309]\n",
      " ...\n",
      " [-0.49697313  0.58654547 -0.60675918 ...  0.02030568 -0.75500738\n",
      "   0.59946887]\n",
      " [ 0.96545045 -1.07984112  0.40217517 ...  0.00707608  0.90651045\n",
      "  -1.18553953]\n",
      " [-0.68544764  1.85617335 -0.85144571 ... -0.08535429  0.99543676\n",
      "  -1.41489815]]\n"
     ]
    }
   ],
   "source": [
    "scaler = StandardScaler()\n",
    "X_train_scaled = scaler.fit_transform(X_train)\n",
    "X_test_scaled = scaler.transform(X_test)"
   ]
  },
  {
   "cell_type": "code",
   "execution_count": 13,
   "id": "d4aff191-47af-441f-b7fa-6aa3f601e03d",
   "metadata": {},
   "outputs": [
    {
     "name": "stderr",
     "output_type": "stream",
     "text": [
      "D:\\Anaconda3\\envs\\HaiEnv\\lib\\site-packages\\sklearn\\svm\\_base.py:985: ConvergenceWarning: Liblinear failed to converge, increase the number of iterations.\n",
      "  warnings.warn(\"Liblinear failed to converge, increase \"\n"
     ]
    },
    {
     "data": {
      "text/plain": [
       "LinearSVR(random_state=42)"
      ]
     },
     "execution_count": 13,
     "metadata": {},
     "output_type": "execute_result"
    }
   ],
   "source": [
    "lin_svr = LinearSVR(random_state=42)\n",
    "lin_svr.fit(X_train_scaled, y_train)"
   ]
  },
  {
   "cell_type": "code",
   "execution_count": 14,
   "id": "151bd223-87aa-42f8-835a-cfe12c01032c",
   "metadata": {},
   "outputs": [
    {
     "data": {
      "text/plain": [
       "0.9641780189948642"
      ]
     },
     "execution_count": 14,
     "metadata": {},
     "output_type": "execute_result"
    }
   ],
   "source": [
    "y_pred = lin_svr.predict(X_train_scaled)\n",
    "mse = mean_squared_error(y_train, y_pred)\n",
    "mse"
   ]
  },
  {
   "cell_type": "code",
   "execution_count": 15,
   "id": "5a587f9d-82bc-4895-90f5-ec48a2754d30",
   "metadata": {},
   "outputs": [
    {
     "data": {
      "text/plain": [
       "0.9819256687727764"
      ]
     },
     "execution_count": 15,
     "metadata": {},
     "output_type": "execute_result"
    }
   ],
   "source": [
    "np.sqrt(mse)"
   ]
  },
  {
   "cell_type": "code",
   "execution_count": 16,
   "id": "a183477d-cd75-4b3e-a371-b7ba0398f8c7",
   "metadata": {},
   "outputs": [
    {
     "name": "stdout",
     "output_type": "stream",
     "text": [
      "Fitting 3 folds for each of 10 candidates, totalling 30 fits\n",
      "[CV] END .....C=4.745401188473625, gamma=0.07969454818643928; total time=  13.0s\n",
      "[CV] END .....C=4.745401188473625, gamma=0.07969454818643928; total time=  13.0s\n",
      "[CV] END .....C=4.745401188473625, gamma=0.07969454818643928; total time=  13.1s\n",
      "[CV] END .....C=8.31993941811405, gamma=0.015751320499779724; total time=  12.8s\n",
      "[CV] END .....C=8.31993941811405, gamma=0.015751320499779724; total time=  12.9s\n",
      "[CV] END .....C=8.31993941811405, gamma=0.015751320499779724; total time=  13.2s\n",
      "[CV] END ....C=2.560186404424365, gamma=0.002051110418843397; total time=  12.6s\n",
      "[CV] END ....C=2.560186404424365, gamma=0.002051110418843397; total time=  12.8s\n",
      "[CV] END ....C=2.560186404424365, gamma=0.002051110418843397; total time=  12.8s\n",
      "[CV] END ....C=1.5808361216819946, gamma=0.05399484409787431; total time=  12.4s\n",
      "[CV] END ....C=1.5808361216819946, gamma=0.05399484409787431; total time=  12.7s\n",
      "[CV] END ....C=1.5808361216819946, gamma=0.05399484409787431; total time=  12.7s\n",
      "[CV] END ....C=7.011150117432088, gamma=0.026070247583707663; total time=  13.1s\n",
      "[CV] END ....C=7.011150117432088, gamma=0.026070247583707663; total time=  13.1s\n",
      "[CV] END ....C=7.011150117432088, gamma=0.026070247583707663; total time=  13.1s\n",
      "[CV] END .....C=1.2058449429580245, gamma=0.0870602087830485; total time=  12.3s\n",
      "[CV] END .....C=1.2058449429580245, gamma=0.0870602087830485; total time=  12.2s\n",
      "[CV] END .....C=1.2058449429580245, gamma=0.0870602087830485; total time=  12.1s\n",
      "[CV] END ...C=9.324426408004218, gamma=0.0026587543983272693; total time=  12.7s\n",
      "[CV] END ...C=9.324426408004218, gamma=0.0026587543983272693; total time=  12.9s\n",
      "[CV] END ...C=9.324426408004218, gamma=0.0026587543983272693; total time=  13.2s\n",
      "[CV] END ...C=2.818249672071006, gamma=0.0023270677083837795; total time=  12.6s\n",
      "[CV] END ...C=2.818249672071006, gamma=0.0023270677083837795; total time=  12.7s\n",
      "[CV] END ...C=2.818249672071006, gamma=0.0023270677083837795; total time=  12.7s\n",
      "[CV] END ....C=4.042422429595377, gamma=0.011207606211860567; total time=  12.4s\n",
      "[CV] END ....C=4.042422429595377, gamma=0.011207606211860567; total time=  12.6s\n",
      "[CV] END ....C=4.042422429595377, gamma=0.011207606211860567; total time=  12.6s\n",
      "[CV] END ....C=5.319450186421157, gamma=0.003823475224675185; total time=  12.5s\n",
      "[CV] END ....C=5.319450186421157, gamma=0.003823475224675185; total time=  12.6s\n",
      "[CV] END ....C=5.319450186421157, gamma=0.003823475224675185; total time=  12.8s\n"
     ]
    },
    {
     "data": {
      "text/plain": [
       "RandomizedSearchCV(cv=3, estimator=SVR(),\n",
       "                   param_distributions={'C': <scipy.stats._distn_infrastructure.rv_frozen object at 0x0000026A0B577190>,\n",
       "                                        'gamma': <scipy.stats._distn_infrastructure.rv_frozen object at 0x0000026A0B74E7F0>},\n",
       "                   random_state=42, verbose=2)"
      ]
     },
     "execution_count": 16,
     "metadata": {},
     "output_type": "execute_result"
    }
   ],
   "source": [
    "from sklearn.svm import SVR\n",
    "from sklearn.model_selection import RandomizedSearchCV\n",
    "from scipy.stats import reciprocal, uniform\n",
    "\n",
    "param_distributions = {\"gamma\": reciprocal(0.001, 0.1), \"C\": uniform(1, 10)}\n",
    "rnd_search_cv = RandomizedSearchCV(SVR(), param_distributions, n_iter=10, verbose=2, cv=3, random_state=42)\n",
    "rnd_search_cv.fit(X_train_scaled, y_train)"
   ]
  },
  {
   "cell_type": "code",
   "execution_count": 17,
   "id": "5bbf2d39-80cf-498c-8b80-ca8bd2f9345d",
   "metadata": {},
   "outputs": [
    {
     "data": {
      "text/plain": [
       "SVR(C=4.745401188473625, gamma=0.07969454818643928)"
      ]
     },
     "execution_count": 17,
     "metadata": {},
     "output_type": "execute_result"
    }
   ],
   "source": [
    "rnd_search_cv.best_estimator_\n"
   ]
  },
  {
   "cell_type": "code",
   "execution_count": 18,
   "id": "87fb4e8e-2c72-462e-bd71-ae9ab0d22bba",
   "metadata": {},
   "outputs": [
    {
     "data": {
      "text/plain": [
       "0.572752477078536"
      ]
     },
     "execution_count": 18,
     "metadata": {},
     "output_type": "execute_result"
    }
   ],
   "source": [
    "y_pred = rnd_search_cv.best_estimator_.predict(X_train_scaled)\n",
    "mse = mean_squared_error(y_train, y_pred)\n",
    "np.sqrt(mse)"
   ]
  },
  {
   "cell_type": "code",
   "execution_count": 19,
   "id": "e102dd5d-03d7-44c9-9a02-00657051b82c",
   "metadata": {},
   "outputs": [
    {
     "data": {
      "text/plain": [
       "0.5929168385528742"
      ]
     },
     "execution_count": 19,
     "metadata": {},
     "output_type": "execute_result"
    }
   ],
   "source": [
    "y_pred = rnd_search_cv.best_estimator_.predict(X_test_scaled)\n",
    "mse = mean_squared_error(y_test, y_pred)\n",
    "np.sqrt(mse)"
   ]
  }
 ],
 "metadata": {
  "kernelspec": {
   "display_name": "Python 3 (ipykernel)",
   "language": "python",
   "name": "python3"
  },
  "language_info": {
   "codemirror_mode": {
    "name": "ipython",
    "version": 3
   },
   "file_extension": ".py",
   "mimetype": "text/x-python",
   "name": "python",
   "nbconvert_exporter": "python",
   "pygments_lexer": "ipython3",
   "version": "3.8.11"
  }
 },
 "nbformat": 4,
 "nbformat_minor": 5
}
