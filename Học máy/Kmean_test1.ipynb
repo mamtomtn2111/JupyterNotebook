{
 "cells": [
  {
   "cell_type": "markdown",
   "id": "00965250-7051-463a-8c1b-2f656c877d2f",
   "metadata": {},
   "source": [
    "Trình bày hiểu biết của em về Kmean. Nêu hai phương pháp lựa chọn số cụm tối ưu."
   ]
  },
  {
   "cell_type": "markdown",
   "id": "ca25a110-3147-401e-9f3c-31979cf080f1",
   "metadata": {},
   "source": [
    "<b>Mục tiêu của Kmean là nhóm các mẫu giống nhau thành các cụm (cluster). Dùng cho các trường hợp phân tích dữ liệu, phân nhóm, để xuất, tìm kiếm, phân vùng ảnh, học bán giám sát, giảm chiều và nhiều tác vụ khác</b>"
   ]
  },
  {
   "cell_type": "markdown",
   "id": "d16db770-73e9-4d10-a732-976a198127cd",
   "metadata": {},
   "source": [
    "<center><b>Tóm tắt thuật toán</b></center>\n",
    "\n",
    "<b>Đầu vào:</b> Dữ liệu <b>X</b> và số lượng cluster cần tìm <b>K</b>\\\n",
    "<b>Đầu ra:</b> Các center <b>M</b> và label vector cho từng điểm dữ liệu \n",
    "   1. Chọn <b>K</b> điểm bất kỳ làm các center ban đầu\n",
    "   2. Phân mỗi điểm dữ liệu vào cluster có center gần nó nhất\n",
    "   3. Nếu việc gán dữ liệu vào từng cluster ở bước 2 không thay đổi so với vòng lặp\n",
    "       trước nó thì ta dừng thuật toán\n",
    "   4. Cập nhật center cho từng cluster bằng cách lấy trung bình cộng của tất cả các\n",
    "       điểm dữ liệu đã được gán vào cluster sau bước 2\n",
    "   5. Quay lại bước 2"
   ]
  },
  {
   "cell_type": "code",
   "execution_count": null,
   "id": "c64d8b77-c520-473e-92d1-a7376f475cfa",
   "metadata": {},
   "outputs": [],
   "source": []
  }
 ],
 "metadata": {
  "kernelspec": {
   "display_name": "Python 3 (ipykernel)",
   "language": "python",
   "name": "python3"
  },
  "language_info": {
   "codemirror_mode": {
    "name": "ipython",
    "version": 3
   },
   "file_extension": ".py",
   "mimetype": "text/x-python",
   "name": "python",
   "nbconvert_exporter": "python",
   "pygments_lexer": "ipython3",
   "version": "3.8.11"
  }
 },
 "nbformat": 4,
 "nbformat_minor": 5
}
