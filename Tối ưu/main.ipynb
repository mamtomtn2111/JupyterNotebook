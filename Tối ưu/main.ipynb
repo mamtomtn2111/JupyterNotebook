{
 "cells": [
  {
   "cell_type": "code",
   "execution_count": 3,
   "id": "f23385d9-27f4-405c-9c7e-46ea7ebdcdf4",
   "metadata": {},
   "outputs": [],
   "source": [
    "from pulp import *"
   ]
  },
  {
   "cell_type": "code",
   "execution_count": 4,
   "id": "1d167015-aa39-4e97-9192-0cd1535dc24a",
   "metadata": {},
   "outputs": [],
   "source": [
    "# Creates a list of all the supply nodes\n",
    "warehouses = [\"A\", \"B\", \"C\"]\n",
    "\n",
    "# Creates a dictionary for the number of units of supply for each supply node\n",
    "supply = {\"A\": 300, \"B\": 600, \"C\":600}\n",
    "\n",
    "# Creates a list of all demand nodes\n",
    "projects = [\"1\", \"2\", \"3\"]\n",
    "\n",
    "# Creates a dictionary for the number of units of demand for each demand node\n",
    "demand = {\n",
    "    \"1\": 150,\n",
    "    \"2\": 450,\n",
    "    \"3\": 900,\n",
    "}\n",
    "\n",
    "# Creates a list of costs of each transportation path\n",
    "costs = [  # Projects\n",
    "    [5,1,9],  # A   warehouses\n",
    "    [4,2,8],  # B\n",
    "    [8,7,2]   # C\n",
    "]\n",
    "\n",
    "# The cost data is made into a dictionary\n",
    "costs = makeDict([warehouses, projects], costs, 0)"
   ]
  },
  {
   "cell_type": "code",
   "execution_count": 10,
   "id": "03e5397a-c66b-4451-80d7-1d79376d757e",
   "metadata": {},
   "outputs": [],
   "source": [
    "# Creates the 'prob' variable to contain the problem data\n",
    "prob = LpProblem(\"Material Supply Problem\", LpMinimize)"
   ]
  },
  {
   "cell_type": "code",
   "execution_count": 6,
   "id": "601bef1f-b532-42f7-8dea-b76b242c2a00",
   "metadata": {},
   "outputs": [],
   "source": [
    "# Creates a list of tuples containing all the possible routes for transport\n",
    "Routes = [(w, b) for w in warehouses for b in projects]\n",
    "\n",
    "# A dictionary called 'Vars' is created to contain the referenced variables(the routes)\n",
    "vars = LpVariable.dicts(\"Route\", (warehouses, projects), 0, None, LpInteger)"
   ]
  },
  {
   "cell_type": "code",
   "execution_count": 7,
   "id": "92011dda-ae8e-4559-ace3-5933ededffe3",
   "metadata": {},
   "outputs": [],
   "source": [
    "# The minimum objective function is added to 'prob' first\n",
    "prob += (\n",
    "    lpSum([vars[w][b] * costs[w][b] for (w, b) in Routes]),\n",
    "    \"Sum_of_Transporting_Costs\",\n",
    ")"
   ]
  },
  {
   "cell_type": "code",
   "execution_count": 8,
   "id": "5bf242a8-0002-402a-b99e-51c9ecbf3c73",
   "metadata": {},
   "outputs": [],
   "source": [
    "# The supply maximum constraints are added to prob for each supply node (warehouses)\n",
    "for w in warehouses:\n",
    "    prob += (\n",
    "        lpSum([vars[w][b] for b in projects]) <= supply[w],\n",
    "        \"Sum_of_Products_out_of_warehouses_%s\" % w,\n",
    "    )\n",
    "\n",
    "# The demand minimum constraints are added to prob for each demand node (project)\n",
    "for b in projects:\n",
    "    prob += (\n",
    "        lpSum([vars[w][b] for w in warehouses]) >= demand[b],\n",
    "        \"Sum_of_Products_into_projects%s\" % b,\n",
    "    )"
   ]
  },
  {
   "cell_type": "code",
   "execution_count": 9,
   "id": "6389da39-eccb-420e-be13-e470d28a09b9",
   "metadata": {},
   "outputs": [
    {
     "name": "stdout",
     "output_type": "stream",
     "text": [
      "Route_A_1 = 0.0\n",
      "Route_A_2 = 300.0\n",
      "Route_A_3 = 0.0\n",
      "Route_B_1 = 150.0\n",
      "Route_B_2 = 150.0\n",
      "Route_B_3 = 300.0\n",
      "Route_C_1 = 0.0\n",
      "Route_C_2 = 0.0\n",
      "Route_C_3 = 600.0\n",
      "Value of Objective Function =  4800.0\n"
     ]
    }
   ],
   "source": [
    "# The problem is solved using PuLP's choice of Solver\n",
    "prob.solve()\n",
    "\n",
    "# Print the variables optimized value\n",
    "for v in prob.variables():\n",
    "    print(v.name, \"=\", v.varValue)\n",
    "    \n",
    "# The optimised objective function value is printed to the screen\n",
    "print(\"Value of Objective Function = \", value(prob.objective))"
   ]
  },
  {
   "cell_type": "code",
   "execution_count": null,
   "id": "c4b65533-9444-482e-9218-5159bb51fd53",
   "metadata": {},
   "outputs": [],
   "source": []
  }
 ],
 "metadata": {
  "kernelspec": {
   "display_name": "Python 3 (ipykernel)",
   "language": "python",
   "name": "python3"
  },
  "language_info": {
   "codemirror_mode": {
    "name": "ipython",
    "version": 3
   },
   "file_extension": ".py",
   "mimetype": "text/x-python",
   "name": "python",
   "nbconvert_exporter": "python",
   "pygments_lexer": "ipython3",
   "version": "3.8.11"
  }
 },
 "nbformat": 4,
 "nbformat_minor": 5
}
