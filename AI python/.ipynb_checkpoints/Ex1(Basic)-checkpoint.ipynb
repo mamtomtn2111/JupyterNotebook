{
 "cells": [
  {
   "cell_type": "code",
   "execution_count": 68,
   "id": "b243992e-eb2f-4c62-a4a6-3886a2a720e9",
   "metadata": {},
   "outputs": [
    {
     "name": "stdout",
     "output_type": "stream",
     "text": [
      "80\n",
      "Check 2 digits: True and check 3 digits: False\n"
     ]
    }
   ],
   "source": [
    "import random\n",
    "\n",
    "N = random.randint(0, 1000)\n",
    "print(N)\n",
    "\n",
    "check_2 = (N/10 >= 1) and (N/10 < 10)\n",
    "check_3 = (N/10 >= 10) and (N/10 < 100)\n",
    "\n",
    "print(f\"Check 2 digits: {check_2} and check 3 digits: {check_3}\")"
   ]
  },
  {
   "cell_type": "code",
   "execution_count": 70,
   "id": "7364a265-42c5-4716-b5f6-fe888503fe24",
   "metadata": {},
   "outputs": [
    {
     "name": "stdout",
     "output_type": "stream",
     "text": [
      "3/4 5/4 1/4\n",
      "15/16 0.9375\n"
     ]
    }
   ],
   "source": [
    "from fractions import Fraction\n",
    "x = Fraction(3 ,4)\n",
    "y = Fraction(1.25)\n",
    "z = Fraction('1/4')\n",
    "print(x,y,z)\n",
    "print(x*y, float(x*y))"
   ]
  },
  {
   "cell_type": "code",
   "execution_count": 1,
   "id": "41f73b75-0bc6-4fd4-820a-8580735c886a",
   "metadata": {},
   "outputs": [
    {
     "name": "stdout",
     "output_type": "stream",
     "text": [
      "Complex Number : x(2+3j) y(3+4j) z(-1.5-2.5j)\n",
      "(2+3j) has real part 2.0 and imaginary part 3.0\n",
      "Conjugate complex number of (3+4j) is (3-4j)\n",
      "Multiplication of a complex (-1.5-2.5j) and its conjugate (-1.5+2.5j) is (8.5+0j)\n",
      "Phase and Magnitude  of complex number (2+3j) are phase :0.982793723247329 and magnitude : 3.605551275463989\n"
     ]
    }
   ],
   "source": [
    "# Complex : Special Remember\n",
    "x = 2 + 3j\n",
    "y = complex(3, 4)\n",
    "z = -1.5 - 2.5j\n",
    "\n",
    "import cmath\n",
    "phase = cmath.phase(x)\n",
    "magnitude  = abs(x)\n",
    "\n",
    "print(f\"Complex Number : x{x} y{y} z{z}\")\n",
    "print(f\"{x} has real part {x.real} and imaginary part {x.imag}\")\n",
    "print(f\"Conjugate complex number of {y} is {y.conjugate()}\")\n",
    "print(f\"Multiplication of a complex {z} and its conjugate {z.conjugate()} is {z * z.conjugate()}\")\n",
    "print(f\"Phase and Magnitude  of complex number {x} are phase :{phase} and magnitude : {magnitude}\")"
   ]
  },
  {
   "cell_type": "code",
   "execution_count": 79,
   "id": "92213605-f677-406f-adaf-fa401c83a722",
   "metadata": {},
   "outputs": [
    {
     "name": "stdout",
     "output_type": "stream",
     "text": [
      "[2, 2, 5, 6, 9, 30] <class 'list'>\n",
      "List of Number has Mean : 9\n",
      "Median : 5.5\n",
      "Mode : 2 , and Standard Deviation : 10.620734437881403\n"
     ]
    }
   ],
   "source": [
    "import statistics\n",
    "listNumber = [2,2,5,6,9,30]\n",
    "mean_value = statistics.mean(listNumber)\n",
    "median_value = statistics.median(listNumber)\n",
    "mode_value = statistics.mode(listNumber)\n",
    "std_value = statistics.stdev(listNumber)\n",
    "print(listNumber, type(listNumber))\n",
    "print(f\"List of Number has Mean : {mean_value}\\nMedian : {median_value}\" + \n",
    "      f\"\\nMode : {mode_value} , and Standard Deviation : {std_value}\" )\n"
   ]
  },
  {
   "cell_type": "code",
   "execution_count": 87,
   "id": "bdf8c369-cd8d-4783-ab2e-bdb5cf08983f",
   "metadata": {},
   "outputs": [
    {
     "name": "stdout",
     "output_type": "stream",
     "text": [
      "[32, 29, 25, 24, 30, 27, 73, 10, 99, 14] <class 'list'>\n",
      "List of number has mean: 36.3\n",
      "Median : 28.0\n",
      "Standard Deviation : 27.777088880346454\n"
     ]
    }
   ],
   "source": [
    "import random\n",
    "n = 10\n",
    "lower = 10\n",
    "upper = 100\n",
    "randomlist = random.sample(range(lower,upper),n)\n",
    "print(randomlist, type(randomlist))\n",
    "mean, median, std = statistics.mean(randomlist), statistics.median(randomlist), statistics.stdev(randomlist)\n",
    "print(f\"List of number has mean: {mean}\\nMedian : {median}\\nStandard Deviation : {std}\")"
   ]
  },
  {
   "cell_type": "code",
   "execution_count": 88,
   "id": "336ca6be-7102-4009-bba3-b97657bfbb28",
   "metadata": {},
   "outputs": [
    {
     "name": "stdout",
     "output_type": "stream",
     "text": [
      "Hello World;Xin chao H o Hello  chao\n",
      "20 True False False\n",
      "Hello World;Xin chao;Ohaiyo gozaimashu 38 -ABCD- ABCD\n",
      "HELLO WORLD;XIN CHAO;OHAIYO GOZAIMASHU hello world;xin chao;ohaiyo gozaimashu\n",
      "['Hello World', 'Xin chao', 'Ohaiyo gozaimashu'] 3\n",
      "True True 21\n"
     ]
    }
   ],
   "source": [
    "# Module String : Special Remember\n",
    "x = \"Hello World;Xin chao\"\n",
    "y = x + \";Ohaiyo gozaimashu\"\n",
    "print(x, x[0], x[-1], x[:5], x[-5:])\n",
    "print(len(x), \"World\" in x, \"python\" in x, \"World\" not in x)\n",
    "print(y, len(y), \"      -ABCD-     \".strip(), \"-ABCD-\".replace('-', ''))\n",
    "print(y.upper(), y.lower())\n",
    "\n",
    "WordList = y.split(\";\")\n",
    "print(WordList, len(WordList))\n",
    "print(\"1234\".isdigit(), \"1234\".isnumeric(), y.find(\"Ohaiyo\"))"
   ]
  },
  {
   "cell_type": "code",
   "execution_count": null,
   "id": "a9280249-c90c-4076-9e11-b2f8c6553b94",
   "metadata": {},
   "outputs": [],
   "source": []
  }
 ],
 "metadata": {
  "kernelspec": {
   "display_name": "Python 3",
   "language": "python",
   "name": "python3"
  },
  "language_info": {
   "codemirror_mode": {
    "name": "ipython",
    "version": 3
   },
   "file_extension": ".py",
   "mimetype": "text/x-python",
   "name": "python",
   "nbconvert_exporter": "python",
   "pygments_lexer": "ipython3",
   "version": "3.8.8"
  }
 },
 "nbformat": 4,
 "nbformat_minor": 5
}
