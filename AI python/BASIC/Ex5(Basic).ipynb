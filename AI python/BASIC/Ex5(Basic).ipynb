{
 "cells": [
  {
   "cell_type": "code",
   "execution_count": 5,
   "id": "8aadd13a-d8e7-4fcb-9416-81fd3752d627",
   "metadata": {},
   "outputs": [],
   "source": [
    "import csv\n",
    "import datetime\n",
    "import json\n",
    "from decimal import Decimal\n",
    "import platform\n",
    "import os\n",
    "import pandas as pd\n",
    "import numpy as np"
   ]
  },
  {
   "cell_type": "code",
   "execution_count": 2,
   "id": "28fe27d5-2522-483a-9135-61c216050dab",
   "metadata": {},
   "outputs": [
    {
     "name": "stdout",
     "output_type": "stream",
     "text": [
      "3.1415\n",
      "<class 'decimal.Decimal'>\n"
     ]
    }
   ],
   "source": [
    "\n",
    "json_number = '{\"number\":3.1415}'\n",
    "\n",
    "a = json.loads(json_number,parse_float=Decimal)\n",
    "print(a['number'])\n",
    "print(type(a['number']))"
   ]
  },
  {
   "cell_type": "code",
   "execution_count": 1,
   "id": "0062df18-3ff4-406b-924b-cd420a44738d",
   "metadata": {},
   "outputs": [
    {
     "name": "stdout",
     "output_type": "stream",
     "text": [
      "Current Directory of Folder :  D:\\Jupyter\\AI python\\BASIC\n",
      "D:\\Jupyter\\AI python\\BASIC\\File\n",
      "Current Directory of Folder :  D:\\Jupyter\\AI python\\BASIC\\File\n"
     ]
    },
    {
     "name": "stdin",
     "output_type": "stream",
     "text": [
      "What is your name: Vu Hai\n"
     ]
    }
   ],
   "source": [
    "# Question 1 : Write a code to do the following things:\n",
    "# A. Check current Folder of Python\n",
    "# B. Change the correct Folder to a your Working Folder in order to do all things in your Working Folder\n",
    "# C. Write a file about current time and your system information\n",
    "\n",
    "# Set Current Working Folder\n",
    "# %cd C:\\Users\\ASUS\\Python AI\n",
    "defaultDir = %pwd\n",
    "print(\"Current Directory of Folder : \", defaultDir)\n",
    "WorkingDir = \"D:\\\\Jupyter\\\\AI python\\\\BASIC\\\\File\\\\\"\n",
    "%cd $WorkingDir\n",
    "currentDir = %pwd\n",
    "print(\"Current Directory of Folder : \", currentDir)\n",
    "\n",
    "import datetime \n",
    "\n",
    "now = datetime.datetime.now()\n",
    "dt_string = now.strftime(\"%d/%m/%Y %H:%M:%S\")\n",
    "\n",
    "file_object = open('MySystemInfo.txt', 'w')\n",
    "file_object.write(f\"Your Current DateTime : {dt_string}\")\n",
    "file_object.write(f\"\\nYour Computer Info : \\n\\tMachine: {platform.machine()} \\n\\tPlatform: {platform.platform()}\")\n",
    "file_object.write(f\"\\n\\tSystem: {platform.system()} \\n\\tProcessor: {platform.processor()}\")\n",
    "file_object.write(f\"\")\n",
    "file_object.close()\n",
    "\n",
    "file_object1 = open('MySystemInfo.txt', 'a')\n",
    "Name = input(\"What is your name:\")\n",
    "file_object1.write(f\"\\n\\tName of user: {Name}\")\n",
    "file_object1.close()"
   ]
  },
  {
   "cell_type": "code",
   "execution_count": 15,
   "id": "0a1e02f0-5f76-4309-b014-42cd0266b9e6",
   "metadata": {},
   "outputs": [],
   "source": [
    "def CreateDiary(fname):\n",
    "    try:\n",
    "        f = open(fname, \"w\")\n",
    "        dt_string =  datetime.datetime.now().strftime(\"%d/%m/%Y %H:%M:%S\")\n",
    "        content = f\"Created file at : {dt_string}\"\n",
    "        f.write(content)\n",
    "        print(\"Finish Writing to file with contents: \\n\", content)\n",
    "    except OSError:\n",
    "        print(\"Could not write file:\", fname)\n",
    "    finally:\n",
    "        f.close()\n",
    "    \n",
    "def InputDiary(fname, mode =\"a\"):\n",
    "    import datetime\n",
    "    try:\n",
    "        f = open(fname, mode)\n",
    "        dt_string =  datetime.datetime.now().strftime(\"%d/%m/%Y %H:%M:%S\")\n",
    "        f.write(f\"Diary on {dt_string}:\\n\")\n",
    "        print(f'Please input your diary on {dt_string}. You can end your input by word \"end\"')\n",
    "        while(True):\n",
    "            content = input()\n",
    "            if(content.lower() == \"end\"):\n",
    "                break\n",
    "            else: \n",
    "                f.write(f\"\\t{content}\\n\")\n",
    "        print(f\"Finish input diary on {dt_string}\")\n",
    "    except OSError:\n",
    "        print(\"Could not write file:\", fname)\n",
    "    finally:\n",
    "        activities = []\n",
    "        with open(fname,'r') as f:\n",
    "            for line in f.readlines():\n",
    "                if not line.startswith('Diary on'):\n",
    "                    activities.append(line)\n",
    "        f.close()\n",
    "        print(f\"The number of activities: {len(activities)}\")"
   ]
  },
  {
   "cell_type": "code",
   "execution_count": 17,
   "id": "f2643e64-3b72-48ec-9147-51b95703e31f",
   "metadata": {},
   "outputs": [
    {
     "name": "stdout",
     "output_type": "stream",
     "text": [
      "There already file Diary.txt in current directory System info\n",
      "Do you want to: \n",
      " 0. Clear content and write new Diary \n",
      " 1. Append new Diary \n",
      " Other. Do nothing\n"
     ]
    },
    {
     "name": "stdin",
     "output_type": "stream",
     "text": [
      "Choose 0 or 1 : 1\n"
     ]
    },
    {
     "name": "stdout",
     "output_type": "stream",
     "text": [
      "Please input your diary on 16/08/2021 22:13:35. You can end your input by word \"end\"\n"
     ]
    },
    {
     "name": "stdin",
     "output_type": "stream",
     "text": [
      " z\n",
      " x\n",
      " c\n",
      " end\n"
     ]
    },
    {
     "name": "stdout",
     "output_type": "stream",
     "text": [
      "Finish input diary on 16/08/2021 22:13:35\n",
      "The number of activities: 8\n",
      "************************* YOUR DIARY *************************\n",
      "Diary on 16/08/2021 22:13:21:\n",
      "\ta\n",
      "\ts\n",
      "\tx\n",
      "\tc\n",
      "\tz\n",
      "Diary on 16/08/2021 22:13:35:\n",
      "\tz\n",
      "\tx\n",
      "\tc\n"
     ]
    }
   ],
   "source": [
    "import os\n",
    "fname = \"Diary.txt\"\n",
    "foldername = currentDir.split(\"\\\\\")[-1]\n",
    "file_exists = os.path.exists(fname)\n",
    "\n",
    "currentDir = %pwd\n",
    "\n",
    "if(not file_exists):\n",
    "    print(f\"There is no file {fname} in current directory {foldername}\")\n",
    "    print(f\"The system will automatically create file {fname}\")\n",
    "    CreateDiary(fname)\n",
    "else:\n",
    "    print(f\"There already file {fname} in current directory {foldername}\")\n",
    "    mode = [\"w\", \"a\"]\n",
    "    print(\"Do you want to: \\n 0. Clear content and write new Diary \\n 1. Append new Diary \\n Other. Do nothing\")\n",
    "    choose = int(input(\"Choose 0 or 1 :\"))\n",
    "    InputDiary(fname, mode[choose])\n",
    "\n",
    "print(\"*\"*25 + \" YOUR DIARY \" + \"*\"*25)\n",
    "with open(fname, 'r') as reader:\n",
    "    for line in reader.readlines():\n",
    "        print(line, end='')\n",
    "reader.close()"
   ]
  },
  {
   "cell_type": "code",
   "execution_count": null,
   "id": "893b51f7-8c3c-4c3f-af3f-451024a8add2",
   "metadata": {},
   "outputs": [],
   "source": [
    "# Question 3: Assign a list Employee and their information in a file Employees.csv \n",
    "# Example: \n",
    "# Nguyen Van An,20/10/1985, Nam\n",
    "# Tran Thi Lan, 15/15/1988,Nu\n",
    "# Nguyen Ngoc Phuong,11/7/1992,Nu\n",
    "# Tran Manh Long, 1990, Nam\n",
    "# Tran Ly Phuoc, 2/3/1981, \n",
    "# A. Read Data From this file into a List \n",
    "# B. Check each information and make sure about Good or Bad Data (Missing info, Wrong info, Not Good Format)\n",
    "# C. Raise error for the Bad Data Line and Import into DataFrame for the Good Data. Write DataFrame to file csv"
   ]
  },
  {
   "cell_type": "code",
   "execution_count": 21,
   "id": "c0498ecc-7386-4974-9665-dd6524b79912",
   "metadata": {},
   "outputs": [
    {
     "name": "stdout",
     "output_type": "stream",
     "text": [
      "Overwriting File/Employees.csv\n"
     ]
    }
   ],
   "source": [
    "%%writefile File/Employees.csv\n",
    "Nguyen Van An,20/10/1985, Nam\n",
    "Tran Thi Lan, 15/15/1988,Nu\n",
    "Nguyen Ngoc Phuong,11/7/1992,Nu\n",
    "Tran Manh Long, 1990, Nam\n",
    "Tran Ly Phuoc, 2/3/1981, "
   ]
  },
  {
   "cell_type": "code",
   "execution_count": 44,
   "id": "47bfe036-8ecf-4aea-afbb-7feca97d76ab",
   "metadata": {},
   "outputs": [
    {
     "name": "stdout",
     "output_type": "stream",
     "text": [
      "Nguyen Van An,20/10/1985,Nam\n",
      "Tran Thi Lan,15/15/1988,Nu\n",
      "Nguyen Ngoc Phuong,11/7/1992,Nu\n",
      "Tran Manh Long,1990,Nam\n",
      "Tran Ly Phuoc, 2/3/1981,\n",
      "\n",
      "['Nguyen Van An,20/10/1985,Nam', 'Tran Thi Lan,15/15/1988,Nu', 'Nguyen Ngoc Phuong,11/7/1992,Nu', 'Tran Manh Long,1990,Nam', 'Tran Ly Phuoc, 2/3/1981,']\n",
      "Check data person [0]: Nguyen Van An,20/10/1985,Nam\n",
      "Already Import to EmployeesDF\n",
      "\n",
      "\n",
      "Check data person [1]: Tran Thi Lan,15/15/1988,Nu\n",
      "Error Found : ['Tran Thi Lan', '15/15/1988', 'Nu'] time data '15/15/1988' does not match format '%d/%m/%Y'\n",
      "\n",
      "\n",
      "Check data person [2]: Nguyen Ngoc Phuong,11/7/1992,Nu\n",
      "Already Import to EmployeesDF\n",
      "\n",
      "\n",
      "Check data person [3]: Tran Manh Long,1990,Nam\n",
      "Error Found : ['Tran Manh Long', '1990', 'Nam'] time data '1990' does not match format '%d/%m/%Y'\n",
      "\n",
      "\n",
      "Check data person [4]: Tran Ly Phuoc, 2/3/1981,\n",
      "Error Found : ['Tran Ly Phuoc', ' 2/3/1981', ''] That is no Gender!\n",
      "\n",
      "\n",
      "Final Data Import : \n"
     ]
    },
    {
     "data": {
      "text/html": [
       "<div>\n",
       "<style scoped>\n",
       "    .dataframe tbody tr th:only-of-type {\n",
       "        vertical-align: middle;\n",
       "    }\n",
       "\n",
       "    .dataframe tbody tr th {\n",
       "        vertical-align: top;\n",
       "    }\n",
       "\n",
       "    .dataframe thead th {\n",
       "        text-align: right;\n",
       "    }\n",
       "</style>\n",
       "<table border=\"1\" class=\"dataframe\">\n",
       "  <thead>\n",
       "    <tr style=\"text-align: right;\">\n",
       "      <th></th>\n",
       "      <th>Name</th>\n",
       "      <th>BirthDate</th>\n",
       "      <th>Age</th>\n",
       "      <th>Gender</th>\n",
       "    </tr>\n",
       "  </thead>\n",
       "  <tbody>\n",
       "    <tr>\n",
       "      <th>0</th>\n",
       "      <td>Nguyen Van An</td>\n",
       "      <td>20/10/1985</td>\n",
       "      <td>35</td>\n",
       "      <td>Nam</td>\n",
       "    </tr>\n",
       "    <tr>\n",
       "      <th>1</th>\n",
       "      <td>Nguyen Ngoc Phuong</td>\n",
       "      <td>11/7/1992</td>\n",
       "      <td>29</td>\n",
       "      <td>Nu</td>\n",
       "    </tr>\n",
       "  </tbody>\n",
       "</table>\n",
       "</div>"
      ],
      "text/plain": [
       "                 Name   BirthDate Age Gender\n",
       "0       Nguyen Van An  20/10/1985  35    Nam\n",
       "1  Nguyen Ngoc Phuong   11/7/1992  29     Nu"
      ]
     },
     "metadata": {},
     "output_type": "display_data"
    }
   ],
   "source": [
    "#Write the file\n",
    "data = ['Nguyen Van An','20/10/1985','Nam'],['Tran Thi Lan','15/15/1988','Nu'],['Nguyen Ngoc Phuong','11/7/1992','Nu'],['Tran Manh Long','1990','Nam'],['Tran Ly Phuoc',' 2/3/1981','']\n",
    "with open(\"File/Employees.csv\",'w',newline='') as file: \n",
    "    writer = csv.writer(file, quoting=csv.QUOTE_MINIMAL)\n",
    "    writer.writerows(data)\n",
    "    file.close()\n",
    "\n",
    "with open(\"File/Employees.csv\",'r') as file:\n",
    "    print(file.read())\n",
    "    file.close()\n",
    "\n",
    "#Read the file\n",
    "def ReadFileToList(fname):\n",
    "    fname = f\"file/{fname}\"\n",
    "    employeesList = []\n",
    "    try:\n",
    "        with open(fname, \"r\") as reader:\n",
    "            for line in reader.readlines():\n",
    "                line = line.replace(\"\\n\", \"\")\n",
    "                line = line.title()\n",
    "                employeesList.append(line)\n",
    "    except OSError:\n",
    "        print(\"Could not read file:\", fname)\n",
    "    finally:\n",
    "        print(employeesList)\n",
    "        reader.close()\n",
    "    return employeesList\n",
    "\n",
    "def Logging(*log_info,end = '\\n',mode='a'):\n",
    "    line = ' '.join(str(a) for a in log_info)\n",
    "    with open('File/LogEx5Employess.txt',mode) as file:\n",
    "        try:\n",
    "            file.write(line+end)\n",
    "            file.close()\n",
    "        except:\n",
    "            print(\"Errors found, can't write file !\")\n",
    "\n",
    "#Caculating the age of Employees\n",
    "import pandas as pd\n",
    "def calculate_age(born):\n",
    "    from datetime import date\n",
    "    today = date.today()\n",
    "    return today.year - born.year - ((today.month, today.day) < (born.month, born.day))\n",
    "\n",
    "EmployeesDF = pd.DataFrame(columns = [\"Name\",\"BirthDate\",\"Age\",\"Gender\"])\n",
    "fname = \"Employees.csv\"\n",
    "EmployeesList = ReadFileToList(fname)\n",
    "for(idx,person) in enumerate(EmployeesList):\n",
    "    print(f\"Check data person [{idx}]: {person}\")\n",
    "    try:\n",
    "        info = person.split(\",\")\n",
    "        Name, DOB, Gender = info\n",
    "        if(len(Name.strip()) == 0):\n",
    "            raise ValueError(\"There is no Name!\")\n",
    "        if(len(DOB.strip()) == 0):\n",
    "            raise ValueError(\"There is no DOB!\")\n",
    "        if(len(Gender.strip()) == 0):\n",
    "            raise ValueError(\"That is no Gender!\")\n",
    "        \n",
    "        born = datetime.datetime.strptime(DOB.strip(), '%d/%m/%Y')\n",
    "        Age = calculate_age(born)\n",
    "        EmployeesDF.loc[len(EmployeesDF.index)] = [Name, DOB, Age, Gender] #Gán 1 dòng mới vào dataframe\n",
    "        \n",
    "        print(\"Already Import to EmployeesDF\")\n",
    "        print(\"\\n\")\n",
    "    except ValueError as e:\n",
    "        Log_Info = f\"Check data person [{idx}] - Error found : {info}\\n{e}\\n\"\n",
    "        Logging(Log_Info)\n",
    "        print(\"Error Found : \", end = '')\n",
    "        print(info, e)\n",
    "        print(\"\\n\")\n",
    "    \n",
    "else:\n",
    "    print(\"Final Data Import : \")\n",
    "    display(EmployeesDF)\n",
    "    EmployeesDF.to_csv(\"File/Imported_Employees.csv\")\n",
    "    Df2String = str(EmployeesDF)\n",
    "    Logging(\"Final data imported to CSV:\\n\",Df2String)\n",
    "        "
   ]
  },
  {
   "cell_type": "code",
   "execution_count": 4,
   "id": "d2d82835-88af-4ae5-bfe6-0a886fd814c3",
   "metadata": {},
   "outputs": [
    {
     "name": "stdin",
     "output_type": "stream",
     "text": [
      "Input number 0: 2\n",
      "Input number 1: 1\n",
      "Input number 2: 3\n",
      "Input number 3: 2.1\n",
      "Input number 4: 43.2\n",
      "Input number 5: 1\n",
      "Input number 6: 2\n",
      "Input number 7: \n"
     ]
    },
    {
     "name": "stdout",
     "output_type": "stream",
     "text": [
      "Infomation of array (Mean, Std, Min, Max, Q1, Q2, Q3, IQR, ConfidentRange):\n",
      "(7.757142857142858, 14.483671312684418, 1.0, 43.2, 1.5, 2.0, 2.55, 1.0499999999999998, [-0.07499999999999973, 4.125])\n"
     ]
    }
   ],
   "source": [
    "## Question 4: Write a program with some functions to do the following things:\n",
    "# A. Allow user to input a list of number (For Example Input[0] : 5,7.5, 6, 2.3, 15, 17.6) \n",
    "# B. Continuously Input list by list until the user input press Enter and without input anything\n",
    "# C. Raise error for list containing element not number\n",
    "# D. Write all the information of each list as : Mean, Std, Min, Q1, Q2, Q3, Max, IQR, ConfidentRange\n",
    "# Remember : IQR = Q3 - Q1 and ConfidentRange = [Q1 - 1.5*IQR , Q3 + 1.5*IQR]\n",
    "import numpy as np\n",
    "\n",
    "def CalculateOrder(arr):\n",
    "    arr = np.array(arr)\n",
    "    Q1 = np.quantile(arr, 0.25)\n",
    "    Q2 = np.quantile(arr, 0.5)\n",
    "    Q3 = np.quantile(arr, 0.75)\n",
    "    IQR = Q3 - Q1\n",
    "    ConfidentRange = [Q1 - 1.5*IQR, Q3 + 1.5*IQR]\n",
    "    Stats = arr.mean(), arr.std(), arr.min(), arr.max(), Q1, Q2, Q3, IQR, ConfidentRange\n",
    "    print(f\"Infomation of array (Mean, Std, Min, Max, Q1, Q2, Q3, IQR, ConfidentRange):\\n{Stats}\")\n",
    "\n",
    "def CheckNumber(string):\n",
    "    countDot = 0\n",
    "    countNonNum = 0\n",
    "    for i in string:\n",
    "        if(i == '.'):\n",
    "            countDot += 1\n",
    "        if((i.isnumeric() == False) and (i != '.')):\n",
    "            countNonNum += 1\n",
    "    if((countDot == 1 or countDot == 0) and (countNonNum == 0)):\n",
    "        return True\n",
    "    else: \n",
    "        return False\n",
    "    \n",
    "def main():\n",
    "    arr = []\n",
    "    i = 0\n",
    "    while(True):\n",
    "        try:\n",
    "            x = input(f\"Input number {i}:\").strip()\n",
    "            if(len(x.strip()) == 0):\n",
    "                break\n",
    "            if(CheckNumber(x) == False):\n",
    "                raise ValueError(\"List containing element not number\\nYour previous input wasn't a number !\")\n",
    "            arr.append(x)\n",
    "            i+=1\n",
    "        except ValueError as e:\n",
    "            print(f\"Error found: {e}\")\n",
    "    arr = list(map(float,arr))\n",
    "    CalculateOrder(arr)\n",
    "    \n",
    "if __name__ == \"__main__\":\n",
    "    main()"
   ]
  },
  {
   "cell_type": "code",
   "execution_count": 6,
   "id": "43f8ac8b-d109-417d-8517-e7eb2e62db83",
   "metadata": {},
   "outputs": [],
   "source": [
    "# Question 5: Assign a list Salaries and their information in a file Salaries.csv \n",
    "# Example: \n",
    "# Nguyen Van An, 10000000, VND, Developer\n",
    "# Besides good case the file should have some wrong cases : Missing Data(Name, Salary, Unit, Position), \n",
    "# and Negative Salary, Position not in [HR, Developer, Leader, Manager], Salary not in range[1tr, 50tr]\n",
    "# and do the following things\n",
    "# A. Read Data From this file into a List \n",
    "# B. Check each information and make sure about Good or Bad Data (Missing info, Wrong info, Not Good Format)\n",
    "# C. Raise error for the Bad Data Line and Import into DataFrame for the Good Data. Write DataFrame to file csv"
   ]
  },
  {
   "cell_type": "code",
   "execution_count": 1,
   "id": "6687602d-eeb4-40cc-a85c-400f98602175",
   "metadata": {},
   "outputs": [
    {
     "name": "stdout",
     "output_type": "stream",
     "text": [
      "Overwriting File/Ex5Salaries.csv\n"
     ]
    }
   ],
   "source": [
    "%%writefile File/Ex5Salaries.csv\n",
    "Nguyen Van An, 10000000, VND, Developer\n",
    "Ha Le Thu, 100000, VND, Provider\n",
    ",15000000,VND,hacker\n",
    "God, 50000000, VND, Hacker\n",
    "Nguyen Vu Hai, 30000000, VND, Manager\n",
    "Bui Van Ha,-45000000,VND,Leader\n",
    "John Smith, 12345678,VND, HR"
   ]
  },
  {
   "cell_type": "code",
   "execution_count": 52,
   "id": "f722e401-91ec-4127-815c-807944a0d6dc",
   "metadata": {},
   "outputs": [
    {
     "name": "stdout",
     "output_type": "stream",
     "text": [
      "['Nguyen Van An, 10000000, Vnd, Developer', 'Ha Le Thu, 100000, Vnd, Provider', ',15000000,Vnd,Hacker', 'God, 50000000, Vnd, Hacker', 'Nguyen Vu Hai, 30000000, Vnd, Manager', 'Bui Van Ha,-45000000,Vnd,Leader', 'John Smith, 12345678,Vnd, Hr']\n",
      "Check data person [0]: Nguyen Van An, 10000000, Vnd, Developer\n",
      "Already imported to SalariesDF\n",
      "\n",
      "\n",
      "Check data person [1]: Ha Le Thu, 100000, Vnd, Provider\n",
      "Error found: ['Ha Le Thu', ' 100000', ' Vnd', ' Provider'] Salary isn't in the range [1m - 50m] or none data !\n",
      "\n",
      "\n",
      "Check data person [2]: ,15000000,Vnd,Hacker\n",
      "Error found: ['', '15000000', 'Vnd', 'Hacker'] There is no name !\n",
      "\n",
      "\n",
      "Check data person [3]: God, 50000000, Vnd, Hacker\n",
      "Error found: ['God', ' 50000000', ' Vnd', ' Hacker'] The company don't have this position: ' Hacker' or none data !\n",
      "\n",
      "\n",
      "Check data person [4]: Nguyen Vu Hai, 30000000, Vnd, Manager\n",
      "Already imported to SalariesDF\n",
      "\n",
      "\n",
      "Check data person [5]: Bui Van Ha,-45000000,Vnd,Leader\n",
      "Error found: ['Bui Van Ha', '-45000000', 'Vnd', 'Leader'] Salary isn't in the range [1m - 50m] or none data !\n",
      "\n",
      "\n",
      "Check data person [6]: John Smith, 12345678,Vnd, Hr\n",
      "Already imported to SalariesDF\n",
      "\n",
      "\n",
      "Final data import : \n"
     ]
    },
    {
     "data": {
      "text/html": [
       "<div>\n",
       "<style scoped>\n",
       "    .dataframe tbody tr th:only-of-type {\n",
       "        vertical-align: middle;\n",
       "    }\n",
       "\n",
       "    .dataframe tbody tr th {\n",
       "        vertical-align: top;\n",
       "    }\n",
       "\n",
       "    .dataframe thead th {\n",
       "        text-align: right;\n",
       "    }\n",
       "</style>\n",
       "<table border=\"1\" class=\"dataframe\">\n",
       "  <thead>\n",
       "    <tr style=\"text-align: right;\">\n",
       "      <th></th>\n",
       "      <th>Name</th>\n",
       "      <th>Salary</th>\n",
       "      <th>Unit</th>\n",
       "      <th>Position</th>\n",
       "    </tr>\n",
       "  </thead>\n",
       "  <tbody>\n",
       "    <tr>\n",
       "      <th>0</th>\n",
       "      <td>Nguyen Van An</td>\n",
       "      <td>10000000.0</td>\n",
       "      <td>Vnd</td>\n",
       "      <td>Developer</td>\n",
       "    </tr>\n",
       "    <tr>\n",
       "      <th>1</th>\n",
       "      <td>Nguyen Vu Hai</td>\n",
       "      <td>30000000.0</td>\n",
       "      <td>Vnd</td>\n",
       "      <td>Manager</td>\n",
       "    </tr>\n",
       "    <tr>\n",
       "      <th>2</th>\n",
       "      <td>John Smith</td>\n",
       "      <td>12345678.0</td>\n",
       "      <td>Vnd</td>\n",
       "      <td>HR</td>\n",
       "    </tr>\n",
       "  </tbody>\n",
       "</table>\n",
       "</div>"
      ],
      "text/plain": [
       "            Name      Salary  Unit    Position\n",
       "0  Nguyen Van An  10000000.0   Vnd   Developer\n",
       "1  Nguyen Vu Hai  30000000.0   Vnd     Manager\n",
       "2     John Smith  12345678.0   Vnd          HR"
      ]
     },
     "metadata": {},
     "output_type": "display_data"
    }
   ],
   "source": [
    "def ReadFile2List(fname):\n",
    "    SalariesList = []\n",
    "    try:\n",
    "        with open(fname,\"r\") as reader:\n",
    "            for line in reader.readlines():\n",
    "                line = line.replace(\"\\n\",\"\")\n",
    "                line = line.title()\n",
    "                SalariesList.append(line)\n",
    "    except OSError:\n",
    "        print(\"Could not read file: \",fname)\n",
    "    finally:\n",
    "        print(SalariesList)\n",
    "        reader.close()\n",
    "    return SalariesList\n",
    "\n",
    "def CheckError(*args):\n",
    "    name,salary,unit,position = args \n",
    "    SalaryChecking = (salary >= 1000000) and (salary <= 50000000)\n",
    "    PositionList = [\"HR\", \"Developer\", \"Leader\", \"Manager\"]\n",
    "    PositionChecking = (position.strip() in PositionList) and (len(position.strip()) != 0)\n",
    "    if(len(name.strip()) == 0):\n",
    "        raise ValueError(\"There is no name !\")\n",
    "    if(SalaryChecking == False):\n",
    "        raise ValueError(\"Salary isn't in the range [1m - 50m] or none data !\")\n",
    "    if(len(unit.strip()) == 0):\n",
    "        raise ValueError(\"Currency unit is none data !\")\n",
    "    if(PositionChecking == False):\n",
    "        raise ValueError(f\"The company don't have this position: '{position}' or none data !\")\n",
    "        \n",
    "def Logging(*args, end = '\\n', mode = \"a\"):\n",
    "    line = ' '.join(str(a) for a in args)\n",
    "    with open('File/LogEx5Salaries.txt',mode) as file:\n",
    "        try:\n",
    "            file.write(line+end)\n",
    "            file.close()\n",
    "        except:\n",
    "            print(\"Errors found, can't write file !\")\n",
    "            \n",
    "def main():\n",
    "    SalariesDF = pd.DataFrame(columns = [\"Name\",\"Salary\",\"Unit\",\"Position\"])\n",
    "    fname = \"File/Ex5Salaries.csv\"\n",
    "    SalariesList = ReadFile2List(fname)\n",
    "    for (idx,person) in enumerate(SalariesList):\n",
    "        print(f\"Check data person [{idx}]: {person}\")\n",
    "        try:\n",
    "            info = person.split(\",\")\n",
    "            name,salary,unit,position = info\n",
    "            if(position.strip() == \"Hr\"):\n",
    "                position = \"HR\"\n",
    "            salary = salary.strip()\n",
    "            salary = float(salary)\n",
    "            CheckError(name,salary,unit,position)\n",
    "            SalariesDF.loc[len(SalariesDF.index)] = [name, salary, unit, position]\n",
    "            print(\"Already imported to SalariesDF\")\n",
    "            print(\"\\n\")\n",
    "        except ValueError as e:\n",
    "            Log_info = f\"Check data person [{idx}] - {info}:\\nError found : {e}\\n\"\n",
    "            Logging(Log_info)\n",
    "            print(\"Error found: \",end = '')\n",
    "            print(info, e)\n",
    "            print(\"\\n\")\n",
    "    else:\n",
    "        print(\"Final data import : \")\n",
    "        display(SalariesDF)\n",
    "        SalariesDF.to_csv(\"File/Ex5Imported_Salaries.csv\")\n",
    "        DF2String = str(SalariesDF)\n",
    "        Logging(DF2String)\n",
    "        \n",
    "if __name__ == \"__main__\":\n",
    "    main()\n",
    "            "
   ]
  },
  {
   "cell_type": "code",
   "execution_count": null,
   "id": "662f4baa-0fb6-4b65-8515-0ab8a0a4cecf",
   "metadata": {},
   "outputs": [],
   "source": [
    "# Question 6: Write a program with some functions to do the following things:\n",
    "# A. Get all information of your system in the format of JSON \n",
    "# B. Write these information into a JSON file\n",
    "# C. Read that file again and search information from your input \n",
    "# D. Write Search Information into JSON Searching Log Information"
   ]
  },
  {
   "cell_type": "code",
   "execution_count": 8,
   "id": "2ea7cf11-f29b-4219-80a2-66de769b284a",
   "metadata": {},
   "outputs": [],
   "source": [
    "# Functions used in Labs\n",
    "def getSystemInfo():\n",
    "    import platform,socket,re,uuid,json,psutil,logging\n",
    "    try:\n",
    "        info={}\n",
    "        info['platform']=platform.system()\n",
    "        info['platform-release']=platform.release()\n",
    "        info['platform-version']=platform.version()\n",
    "        info['architecture']=platform.machine()\n",
    "        info['hostname']=socket.gethostname()\n",
    "        info['ip-address']=socket.gethostbyname(socket.gethostname())\n",
    "        info['mac-address']=':'.join(re.findall('..', '%012x' % uuid.getnode()))\n",
    "        info['processor']=platform.processor()\n",
    "        info['ram']=str(round(psutil.virtual_memory().total / (1024.0 **3)))+\" GB\"\n",
    "        return json.dumps(info, indent=4)\n",
    "    except Exception as e:\n",
    "        logging.exception(e)"
   ]
  },
  {
   "cell_type": "code",
   "execution_count": 11,
   "id": "95b67960-4f63-4c08-8163-2996205fe55f",
   "metadata": {},
   "outputs": [],
   "source": [
    "def WriteJSON(fname, content):\n",
    "    try:\n",
    "        f = open(fname, \"w\")\n",
    "        f.write(content)\n",
    "        print(\"Finish Writing to file with contents: \\n\", content)\n",
    "    except OSError:\n",
    "        print(\"Could not write file:\", fname)\n",
    "    finally:\n",
    "        f.close()\n",
    "\n",
    "def ReadJSON(fname):\n",
    "    import json\n",
    "    data = []\n",
    "    try:\n",
    "        with open(fname, \"r\") as fid: \n",
    "            data = json.load(fid)\n",
    "        print(\"Finish Reading fname \\n\")\n",
    "    except OSError:\n",
    "        print(\"Could not read file:\", fname)\n",
    "    finally:\n",
    "        fid.close()\n",
    "    return data"
   ]
  },
  {
   "cell_type": "code",
   "execution_count": 14,
   "id": "3a4e19ae-4239-4572-810a-1451105cf675",
   "metadata": {},
   "outputs": [
    {
     "name": "stdout",
     "output_type": "stream",
     "text": [
      "Finish Writing to file with contents: \n",
      " {\n",
      "    \"platform\": \"Windows\",\n",
      "    \"platform-release\": \"10\",\n",
      "    \"platform-version\": \"10.0.19041\",\n",
      "    \"architecture\": \"AMD64\",\n",
      "    \"hostname\": \"DESKTOP-L3O70G8\",\n",
      "    \"ip-address\": \"192.168.146.1\",\n",
      "    \"mac-address\": \"28:f3:66:26:de:75\",\n",
      "    \"processor\": \"Intel64 Family 6 Model 45 Stepping 7, GenuineIntel\",\n",
      "    \"ram\": \"16 GB\"\n",
      "}\n",
      "Finish Reading fname \n",
      "\n"
     ]
    },
    {
     "name": "stdin",
     "output_type": "stream",
     "text": [
      "Welcome to our System! Can you tell your name ? 1\n",
      "\n",
      " Please Input a number to search:\n",
      " 1.platform 2.plt-release 3.plt-version 4.architecture 5.hostname 6.ip-address 7.mac-address 8.processor 9.ram\n",
      "Others.Exit. \n",
      " Please input a number : 9\n"
     ]
    },
    {
     "name": "stdout",
     "output_type": "stream",
     "text": [
      "\n",
      "Found ! {'DateTime': '17/08/2021 19:43:44', 'Search Option': 'ram', 'Search Result': '16 GB'}\n"
     ]
    },
    {
     "name": "stdin",
     "output_type": "stream",
     "text": [
      "\n",
      " Please Input a number to search:\n",
      " 1.platform 2.plt-release 3.plt-version 4.architecture 5.hostname 6.ip-address 7.mac-address 8.processor 9.ram\n",
      "Others.Exit. \n",
      " Please input a number : 4\n"
     ]
    },
    {
     "name": "stdout",
     "output_type": "stream",
     "text": [
      "\n",
      "Found ! {'DateTime': '17/08/2021 19:43:49', 'Search Option': 'architecture', 'Search Result': 'AMD64'}\n"
     ]
    },
    {
     "name": "stdin",
     "output_type": "stream",
     "text": [
      "\n",
      " Please Input a number to search:\n",
      " 1.platform 2.plt-release 3.plt-version 4.architecture 5.hostname 6.ip-address 7.mac-address 8.processor 9.ram\n",
      "Others.Exit. \n",
      " Please input a number : 10\n"
     ]
    },
    {
     "name": "stdout",
     "output_type": "stream",
     "text": [
      "\n",
      "ALL Search Logging:\n",
      "\n",
      "{\n",
      "    \"username\": \"1\",\n",
      "    \"Logging\": [\n",
      "        {\n",
      "            \"DateTime\": \"17/08/2021 19:43:44\",\n",
      "            \"Search Option\": \"ram\",\n",
      "            \"Search Result\": \"16 GB\"\n",
      "        },\n",
      "        {\n",
      "            \"DateTime\": \"17/08/2021 19:43:49\",\n",
      "            \"Search Option\": \"architecture\",\n",
      "            \"Search Result\": \"AMD64\"\n",
      "        }\n",
      "    ]\n",
      "}\n",
      "Finish Writing to file with contents: \n",
      " {\n",
      "    \"username\": \"1\",\n",
      "    \"Logging\": [\n",
      "        {\n",
      "            \"DateTime\": \"17/08/2021 19:43:44\",\n",
      "            \"Search Option\": \"ram\",\n",
      "            \"Search Result\": \"16 GB\"\n",
      "        },\n",
      "        {\n",
      "            \"DateTime\": \"17/08/2021 19:43:49\",\n",
      "            \"Search Option\": \"architecture\",\n",
      "            \"Search Result\": \"AMD64\"\n",
      "        }\n",
      "    ]\n",
      "}\n"
     ]
    }
   ],
   "source": [
    "import json\n",
    "systeminfo = getSystemInfo()\n",
    "fname = \"SystemInfo.json\"\n",
    "WriteJSON(fname, systeminfo)\n",
    "SystemInfo = ReadJSON(fname)\n",
    "KeysList = list(SystemInfo.keys())\n",
    "userName = input(\"Welcome to our System! Can you tell your name ?\")\n",
    "\n",
    "log = {}\n",
    "log[\"username\"] = userName\n",
    "log[\"Logging\"] = []\n",
    "\n",
    "while(True):\n",
    "    now = datetime.datetime.now()\n",
    "    dt_string = now.strftime(\"%d/%m/%Y %H:%M:%S\")\n",
    "    \n",
    "    question = \"\\n Please Input a number to search:\"\n",
    "    question += \"\\n 1.platform 2.plt-release 3.plt-version 4.architecture 5.hostname\"\n",
    "    question += \" 6.ip-address 7.mac-address 8.processor 9.ram\" \n",
    "    question += \"\\nOthers.Exit. \\n Please input a number :\"\n",
    "    \n",
    "    choose = int(input(question))\n",
    "    if(choose not in range(1, 10)):\n",
    "        break\n",
    "\n",
    "    hist = {}\n",
    "    hist[\"DateTime\"] = dt_string\n",
    "    hist[\"Search Option\"] = KeysList[choose - 1]\n",
    "    hist[\"Search Result\"] = SystemInfo[KeysList[choose - 1]]\n",
    "    log[\"Logging\"].append(hist)\n",
    "    \n",
    "    print(f\"\\nFound ! {hist}\")\n",
    "\n",
    "\n",
    "print(\"\\nALL Search Logging:\\n\")\n",
    "searchinfo = json.dumps(log, indent=4)\n",
    "print(searchinfo)\n",
    "WriteJSON(\"Logging.json\", searchinfo)"
   ]
  },
  {
   "cell_type": "code",
   "execution_count": null,
   "id": "f9790e33-09f3-4c8c-a9b3-61524c8c7d5a",
   "metadata": {},
   "outputs": [],
   "source": [
    "# Question 7: Write a program in question 4 and do the following things:\n",
    "# A. Save all user input into JSON file (Define by yourselft)\n",
    "# B. Allow user to input which rows, statsistics term Mean, Std, Min, Q1, Q2, Q3, Max, IQR, ConfidentRange to search \n",
    "# C. Save all search information into Log File\n",
    "\n",
    "# Question 8: Write a program in question 5 and do the following things:\n",
    "# A. Save all user input into JSON file (Define by yourselft)\n",
    "# B. Allow user to input Name and any information [Salary, Position] to search \n",
    "# C. Save all search information into Log File"
   ]
  },
  {
   "cell_type": "markdown",
   "id": "07ffe751-c35e-4772-a120-6cd287d46a5d",
   "metadata": {},
   "source": [
    "#Special Remember XML"
   ]
  },
  {
   "cell_type": "code",
   "execution_count": 15,
   "id": "0fa93806-d161-4006-826f-9dc5e8d53282",
   "metadata": {},
   "outputs": [
    {
     "name": "stdout",
     "output_type": "stream",
     "text": [
      "Writing items.xml\n"
     ]
    }
   ],
   "source": [
    "%%writefile items.xml\n",
    "<data>\n",
    "    <items>\n",
    "        <item name=\"Milk\">THTrueMilk</item>\n",
    "        <item name=\"Coffee\">HighLands</item>\n",
    "    </items>\n",
    "</data>"
   ]
  },
  {
   "cell_type": "code",
   "execution_count": 16,
   "id": "5105fcab-f2c5-419b-99b3-6d444099b2eb",
   "metadata": {},
   "outputs": [],
   "source": [
    "from xml.dom import minidom\n",
    "# parse an xml file by name\n",
    "mydoc = minidom.parse('items.xml')"
   ]
  },
  {
   "cell_type": "code",
   "execution_count": 17,
   "id": "1350df2a-537b-4966-baaf-6fc0d29f1a91",
   "metadata": {},
   "outputs": [
    {
     "name": "stdout",
     "output_type": "stream",
     "text": [
      "Item #2 attribute:\n",
      "Coffee\n",
      "\n",
      "All attributes:\n",
      "Milk\n",
      "Coffee\n",
      "\n",
      "Item #2 data:\n",
      "HighLands\n",
      "HighLands\n",
      "\n",
      "All item data:\n",
      "THTrueMilk\n",
      "HighLands\n"
     ]
    }
   ],
   "source": [
    "items = mydoc.getElementsByTagName('item')\n",
    "\n",
    "# one specific item attribute\n",
    "print('Item #2 attribute:')\n",
    "print(items[1].attributes['name'].value)\n",
    "\n",
    "# all item attributes\n",
    "print('\\nAll attributes:')\n",
    "for elem in items:\n",
    "    print(elem.attributes['name'].value)\n",
    "\n",
    "# one specific item's data\n",
    "print('\\nItem #2 data:')\n",
    "print(items[1].firstChild.data)\n",
    "print(items[1].childNodes[0].data)\n",
    "\n",
    "# all items data\n",
    "print('\\nAll item data:')\n",
    "for elem in items:\n",
    "    print(elem.firstChild.data)"
   ]
  },
  {
   "cell_type": "code",
   "execution_count": null,
   "id": "79dcc1df-4b84-4d4f-a925-b84a985e095b",
   "metadata": {},
   "outputs": [],
   "source": []
  }
 ],
 "metadata": {
  "kernelspec": {
   "display_name": "Python 3 (ipykernel)",
   "language": "python",
   "name": "python3"
  },
  "language_info": {
   "codemirror_mode": {
    "name": "ipython",
    "version": 3
   },
   "file_extension": ".py",
   "mimetype": "text/x-python",
   "name": "python",
   "nbconvert_exporter": "python",
   "pygments_lexer": "ipython3",
   "version": "3.8.11"
  }
 },
 "nbformat": 4,
 "nbformat_minor": 5
}
