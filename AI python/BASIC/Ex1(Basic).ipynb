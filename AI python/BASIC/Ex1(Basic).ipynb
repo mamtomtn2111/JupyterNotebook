{
 "cells": [
  {
   "cell_type": "code",
   "execution_count": 56,
   "id": "17eba39f-6b36-4223-9b82-ccff0823d075",
   "metadata": {},
   "outputs": [
    {
     "data": {
      "text/plain": [
       "'D:\\\\Jupyter\\\\AI python'"
      ]
     },
     "execution_count": 56,
     "metadata": {},
     "output_type": "execute_result"
    }
   ],
   "source": [
    "%pwd"
   ]
  },
  {
   "cell_type": "code",
   "execution_count": 28,
   "id": "25ae052f-d165-4f24-9ec9-f5f0501f10da",
   "metadata": {},
   "outputs": [
    {
     "name": "stdin",
     "output_type": "stream",
     "text": [
      "Nhập vào chiều rộng hình vuông 3\n",
      "Nhập vào chiều cao hình vuông 3.2\n"
     ]
    },
    {
     "name": "stdout",
     "output_type": "stream",
     "text": [
      "Perimeter of a rectangle is: 12.400\n",
      "Area of a rectangle is: 9.600000000000001\n"
     ]
    }
   ],
   "source": [
    "width = float(input(\"Nhập vào chiều rộng hình vuông\"))\n",
    "height = float(input(\"Nhập vào chiều cao hình vuông\"))\n",
    "\n",
    "Perimeter = 2 * (width + height)\n",
    "\n",
    "Area = width * height\n",
    "\n",
    "print(\"Perimeter of a rectangle is: %.3f\" %Perimeter)\n",
    "print(f\"Area of a rectangle is: {Area}\")"
   ]
  },
  {
   "cell_type": "code",
   "execution_count": 35,
   "id": "0320f7ac-f9da-4356-b4a0-9ff7cd19c145",
   "metadata": {
    "tags": []
   },
   "outputs": [
    {
     "name": "stdout",
     "output_type": "stream",
     "text": [
      "4.140000000000001\n"
     ]
    }
   ],
   "source": [
    "PI = 3.14\n",
    "a = PI + 1\n",
    "print(a)"
   ]
  },
  {
   "cell_type": "code",
   "execution_count": 8,
   "id": "5921e542-eacd-4f00-a7c6-c6a2f3813c7c",
   "metadata": {},
   "outputs": [
    {
     "name": "stdin",
     "output_type": "stream",
     "text": [
      "Fill in centimeter 3\n"
     ]
    },
    {
     "name": "stdout",
     "output_type": "stream",
     "text": [
      "Convert to decimeter: 0.3 dm\n",
      "Convert to inch: 1.181 inch\n"
     ]
    }
   ],
   "source": [
    "#question 6\n",
    "cm = float(input(\"Fill in centimeter\"))\n",
    "dm = cm * 0.1\n",
    "inch = cm * 0.393700787\n",
    "print(f\"Convert to decimeter: {round(dm,3)} dm\")\n",
    "print(f\"Convert to inch: {round(inch,3)} inch\")"
   ]
  },
  {
   "cell_type": "code",
   "execution_count": 47,
   "id": "b2e96671-8921-453e-8278-bce05a5ec3f6",
   "metadata": {},
   "outputs": [
    {
     "name": "stdout",
     "output_type": "stream",
     "text": [
      "Number random is 9 has two digits: False\n",
      "\n",
      "Check positive: True\n",
      "\n",
      "Check negative: False\n"
     ]
    }
   ],
   "source": [
    "import random\n",
    "num = random.randint(-100, 100)\n",
    "\n",
    "check_two_digits = ((num >= -100) and (num <= -10)) or ((num <= 100) and (num >= 10))\n",
    "check_positive = (num >= 0) \n",
    "check_negative = (num <= 0)\n",
    "print(f\"Number random is {num} has two digits: {check_two_digits}\")\n",
    "print(f\"\\nCheck positive: {check_positive}\")\n",
    "print(f\"\\nCheck negative: {check_negative}\")"
   ]
  },
  {
   "cell_type": "code",
   "execution_count": 5,
   "id": "b1ff5fd6-0547-44eb-b825-afe9edea9ac4",
   "metadata": {},
   "outputs": [
    {
     "name": "stdout",
     "output_type": "stream",
     "text": [
      "Number is given: 101\n",
      "Nomalize to range [0,1] (Another formula): 0.65\n"
     ]
    }
   ],
   "source": [
    "# Question 10: Write a program to random an integer number in range [10, 150] and normalize it into range [0, 1]\n",
    "import random\n",
    "num = random.randint(10,150)\n",
    "# 0 <= (num -10) /(150 - 10) <= 1\n",
    "#Normalize formula (Num - min) / (max - min); num in range (m,n) to (0,1)\n",
    "NormalizeFormula1 = (num - 10) / (150 - 10) \n",
    "print(f\"Number is given: {num}\")\n",
    "print(f\"Nomalize to range [0,1] (Another formula): {NormalizeFormula1}\")"
   ]
  },
  {
   "cell_type": "code",
   "execution_count": 3,
   "id": "34ca2f83-8535-4917-a9ed-60f76f6b65c8",
   "metadata": {},
   "outputs": [
    {
     "name": "stdout",
     "output_type": "stream",
     "text": [
      "Decimal number x: 1 and y: 3.14159265 and type x: <class 'decimal.Decimal'>\n",
      "Decimal number x/3: 0.333 and x/y: 0.318\n",
      "Fraction number x : 3/4, y : 5/4, z : 1/4 and type x: <class 'fractions.Fraction'>\n",
      "Fraction x - y: -1/2, x / y : 3/5 and float(x) : 0.75\n"
     ]
    },
    {
     "data": {
      "text/plain": [
       "Fraction(22, 7)"
      ]
     },
     "execution_count": 3,
     "metadata": {},
     "output_type": "execute_result"
    }
   ],
   "source": [
    "# Decimal, Fraction : Special Remember\n",
    "from decimal import *\n",
    "getcontext().prec = 3 # lấy tối đa 30 chữ số phần nguyên và phần thập phân Decimal\n",
    "x = Decimal(1)\n",
    "y = Decimal(\"3.14159265\")\n",
    "\n",
    "print(f\"Decimal number x: {x} and y: {y} and type x: {type(x)}\")\n",
    "print(f\"Decimal number x/3: {x/3} and x/y: {x/y}\")\n",
    "\n",
    "from fractions import Fraction\n",
    "x = Fraction(3, 4)\n",
    "y = Fraction(1.25)\n",
    "z = Fraction('1/4')\n",
    "\n",
    "print(f\"Fraction number x : {x}, y : {y}, z : {z} and type x: {type(x)}\")\n",
    "print(f\"Fraction x - y: {x - y}, x / y : {x/y} and float(x) : {float(x)}\")\n",
    "#limit_denominator(max_denominator) sẽ tìm và trả về một phân số gần nhất với giá trị của một phân số nhất định có mẫu số lớn nhất là max_denominator. \n",
    "Fraction('3.14159265358979323846').limit_denominator(10)"
   ]
  },
  {
   "cell_type": "code",
   "execution_count": 80,
   "id": "2965313b-3ef6-48ae-8bce-5d3c18dd51f3",
   "metadata": {},
   "outputs": [
    {
     "name": "stdout",
     "output_type": "stream",
     "text": [
      "10 -15 15 4142.651121364896\n",
      "3.1622776601683795 3 2\n",
      "3.141592653589793 78.53981633974483\n",
      "2.718281828459045 inf nan 2\n",
      "False 0.5235987755982988 30\n",
      "1.0 1.0 22026.465794806718\n"
     ]
    }
   ],
   "source": [
    "# Built-in Fnction\n",
    "x = 10\n",
    "y = -15\n",
    "z = 2.3\n",
    "max_value = max(x, y, z)\n",
    "min_value = min(x, y, z)\n",
    "print(max_value, min_value, abs(y), pow(z, x))\n",
    "\n",
    "import math\n",
    "r = 5\n",
    "print(math.sqrt(x), math.ceil(z), math.floor(z))\n",
    "print(math.pi , math.pi * r * r)\n",
    "print(math.e, math.inf, math.nan, math.trunc(z))\n",
    "print(math.isclose(6.5, 7, abs_tol=0.1), math.radians(30), round(math.degrees(math.pi/6)))\n",
    "print(math.log10(10), math.log(math.e), math.exp(10))\n",
    "\n",
    "#Hay dùng\n",
    "# math.log(math.e), math.degrees(Radian), math.pi, math.sqrt"
   ]
  },
  {
   "cell_type": "code",
   "execution_count": 35,
   "id": "ca1a9388-92b9-4e44-81a8-0a0b4b75ae54",
   "metadata": {},
   "outputs": [
    {
     "name": "stdin",
     "output_type": "stream",
     "text": [
      "Fill in hour:  3\n",
      "Fill in minute:  59\n"
     ]
    },
    {
     "name": "stdout",
     "output_type": "stream",
     "text": [
      "degree angle between hours and minute hands is: 263.01666666666665\n",
      "radian angle between hours and minute hands iS: 1.4612π\n"
     ]
    }
   ],
   "source": [
    "# Question 11: Write a program to find degree and radian angle between hours and minute hands \n",
    "# with integers hour and minite \n",
    "\n",
    "#import math\n",
    "hour = int(input(\"Fill in hour: \"))\n",
    "minute = int(input(\"Fill in minute: \"))\n",
    "\n",
    "degree_hour = (360/12) * hour\n",
    "degree_minute = (360/60) * minute\n",
    "NormalizeMinute = (minute - 0) / (60-0)\n",
    "if(minute == 60):\n",
    "    degree_between_HandM = int(abs(degree_hour - degree_minute))\n",
    "else:\n",
    "    degree_between_HandM = abs((degree_hour + NormalizeMinute)  - degree_minute)\n",
    "convert2radiant = degree_between_HandM / 180\n",
    "print(f\"degree angle between hours and minute hands is: {degree_between_HandM}\")\n",
    "print(f\"radian angle between hours and minute hands iS: {round(convert2radiant,5)}π\")\n",
    "# Sửa lại trường hợp mà phút nó thay đổi ảnh hưởng tới kim giờ, vì kim giờ ko bao h đứng yên ở vị trí cố định trong suốt 1h"
   ]
  },
  {
   "cell_type": "code",
   "execution_count": 21,
   "id": "fe70d450-b1e5-43f8-97e9-f9bb15a33545",
   "metadata": {},
   "outputs": [
    {
     "name": "stdout",
     "output_type": "stream",
     "text": [
      "Solve quadractic equation ax^2 + bx + c = 0\n"
     ]
    },
    {
     "name": "stdin",
     "output_type": "stream",
     "text": [
      "Input a number:  3\n",
      "Input b number:  2\n",
      "input c number:  1\n"
     ]
    },
    {
     "name": "stdout",
     "output_type": "stream",
     "text": [
      "The equation has no solution !\n"
     ]
    }
   ],
   "source": [
    "# Question 12: Write a program to Solve the quadratic equation x^2 + 5*x + 6 = 0 \n",
    "# and print step by step (discriminant, check condition of discriminant, solutions)\n",
    "import math\n",
    "print(\"Solve quadractic equation ax^2 + bx + c = 0\")\n",
    "a = float(input(\"Input a number: \"))\n",
    "b = float(input(\"Input b number: \"))\n",
    "c = float(input(\"input c number: \"))\n",
    "\n",
    "if(a == 0 and b == 0 and c == 0):\n",
    "    print(\"The equation has uncountable solution !\")\n",
    "elif(a == 0 and b == 0 and c != 0):\n",
    "    print(\"The equation has no solution !\")\n",
    "elif(a == 0):\n",
    "    solution = -c / b\n",
    "    print(\"The equation has only one solution x = \",solution)\n",
    "else:\n",
    "    discriminant = b*b - 4*a*c\n",
    "    if(discriminant < 0):\n",
    "        print(\"The equation has no solution !\")\n",
    "    elif(discriminant == 0):\n",
    "        solution = - b / (2*a)\n",
    "        print(f\"The equation has two same solutions x1 = x2 = {solution}\")\n",
    "    elif(discriminant > 0):\n",
    "        solution1 = (-b + math.sqrt(discriminant)) / (2*a)\n",
    "        solution2 = (-b - math.sqrt(discriminant)) / (2*a)\n",
    "        print(f\"The equation has two solutions x1 = {solution1} , x2 = {solution2}\")\n",
    "    else:\n",
    "        print(\"Exceptions !\")"
   ]
  },
  {
   "cell_type": "code",
   "execution_count": 86,
   "id": "34d91a39-e3b9-4e66-a4c1-b3bb281e40bc",
   "metadata": {},
   "outputs": [
    {
     "name": "stdout",
     "output_type": "stream",
     "text": [
      "[2, 2, 5, 6, 9, 30] <class 'list'>\n",
      "List of Number has Mean : 9, Median : 5.5, Mode : 2 , and Standard Deviation : 10.620734437881403\n"
     ]
    }
   ],
   "source": [
    "import statistics\n",
    "listNumber = [2,2,5,6,9,30]\n",
    "mean_value = statistics.mean(listNumber)\n",
    "median_value = statistics.median(listNumber)\n",
    "mode_value = statistics.mode(listNumber)\n",
    "std_value = statistics.stdev(listNumber)\n",
    "print(listNumber, type(listNumber))\n",
    "print(f\"List of Number has Mean : {mean_value}, Median : {median_value}\" + \n",
    "      f\", Mode : {mode_value} , and Standard Deviation : {std_value}\" )"
   ]
  },
  {
   "cell_type": "code",
   "execution_count": 10,
   "id": "c7812f7d-9f31-482b-b5b3-3835d819f991",
   "metadata": {},
   "outputs": [
    {
     "name": "stdout",
     "output_type": "stream",
     "text": [
      "[85, 75, 62, 99, 82, 16, 86, 13, 89, 33] <class 'list'>\n",
      "List of Number has Mean : 64, Median : 78.5 , and Standard Deviation : 31.78049716414141\n"
     ]
    }
   ],
   "source": [
    "n = 10\n",
    "lower = 10\n",
    "upper = 100\n",
    "randomlist = random.sample(range(lower, upper), n)\n",
    "print(randomlist, type(randomlist))\n",
    "mean, median, std = statistics.mean(randomlist), statistics.median(randomlist), statistics.stdev(randomlist)\n",
    "print(f\"List of Number has Mean : {mean}, Median : {median} , and Standard Deviation : {std}\")"
   ]
  },
  {
   "cell_type": "code",
   "execution_count": 13,
   "id": "6bc68dbb-885c-4436-8f50-d1ec4c6f0b3e",
   "metadata": {},
   "outputs": [
    {
     "name": "stdout",
     "output_type": "stream",
     "text": [
      "Random list 1:  [70, 73, 38, 20, 37, 47, 14, 22, 23, 56]\n",
      "Random list 2:  [1, 41, 3, 18, 51, 59, 12, 45, 46, 38]\n",
      "List 1 has standard deviation:  21.071307505705477\n",
      "List 2 has standard deviation:  20.99312056629769\n",
      "Standard Deviation of list 1 is higher than list 2 ! About 0.07818693940778587\n"
     ]
    }
   ],
   "source": [
    "# Question 13: Generate two list and compare the Standard Deviation of two lists\n",
    "import random\n",
    "import statistics\n",
    "n = 10\n",
    "first = 1\n",
    "last = 100\n",
    "randomlist1 = random.sample(range(first,last), n)\n",
    "print(\"Random list 1: \",randomlist1)\n",
    "randomlist2 = random.sample(range(first,last), n)\n",
    "print(\"Random list 2: \",randomlist2)\n",
    "print(\"List 1 has standard deviation: \",statistics.stdev(randomlist1))\n",
    "print(\"List 2 has standard deviation: \",statistics.stdev(randomlist2))\n",
    "if(statistics.stdev(randomlist1) > statistics.stdev(randomlist2)):\n",
    "    print(\"Standard Deviation of list 1 is higher than list 2 ! About\",statistics.stdev(randomlist1) - statistics.stdev(randomlist2))\n",
    "elif(statistics.stdev(randomlist1) == statistics.stdev(randomlist2)):\n",
    "    print(\"Standard Deviation of list 1 is equal to list 2 !\")\n",
    "else:\n",
    "    print(\"Standard Deviation of list 2 is higher than list 1 ! About\",statistics.stdev(randomlist2) - statistics.stdev(randomlist1))\n",
    "# Question 14: Generate a list and generate a number, calculate the update mean and Standard Deviation \n",
    "# if we add that number into list\n",
    "#B1: Random 1 list vaf ramdom 1 so num\n",
    "#B2. Tinh mean va std cua List\n",
    "#B3. Tim cong thuc cap nhat mean_new vaf std_new tu mean, std, num (Search Internet: Update Mean and std online formula)"
   ]
  },
  {
   "cell_type": "code",
   "execution_count": 2,
   "id": "070314f0-046f-45fe-a43f-86bd1f6df6cb",
   "metadata": {},
   "outputs": [
    {
     "name": "stdout",
     "output_type": "stream",
     "text": [
      "We have string: Today is Sunday and we don't need to wake up at 6 am\n",
      "The length of string is: 13\n",
      "There is number in string? : true\n",
      "Number is in positions : 48 "
     ]
    }
   ],
   "source": [
    "# Question 15: Assume we have a string \"Today is Sunday and we don't need to wake up at 6 am\". \n",
    "# Print how many words in the string and check whether number in string. Print position of that number in string   \n",
    "\n",
    "String = \"Today is Sunday and we don't need to wake up at 6 am\"\n",
    "WordCount = String.split(\" \")\n",
    "check = \"false\"\n",
    "a = []\n",
    "print(f\"We have string: {String}\")\n",
    "print(f\"The length of string is: {len(WordCount)}\")\n",
    "for i in range(len(String)):\n",
    "    if(String[i].isnumeric()):\n",
    "        check = \"true\"\n",
    "        a.append(i)\n",
    "\n",
    "print(f\"There is number in string? : {check}\")\n",
    "print(\"Number is in positions : \",end=\"\")\n",
    "for i in range(len(a)):\n",
    "    print(a[i],\"\",end=\"\")"
   ]
  },
  {
   "cell_type": "code",
   "execution_count": 4,
   "id": "974a5ed3-02cb-4f6e-b4e6-676bd83208c8",
   "metadata": {},
   "outputs": [
    {
     "name": "stdout",
     "output_type": "stream",
     "text": [
      "DTC195480201CLC0012\n",
      "dtc195480201clc0012\n",
      "Dtc195480201Clc0012\n"
     ]
    }
   ],
   "source": [
    "#UPPER and lower, Uppercase first letter\n",
    "s = \"Dtc195480201clc0012\"\n",
    "print(s.upper())\n",
    "print(s.lower())\n",
    "print(s.title())"
   ]
  },
  {
   "cell_type": "code",
   "execution_count": 1,
   "id": "1089d976-9fcb-4740-9b89-a623daa4b33b",
   "metadata": {},
   "outputs": [
    {
     "name": "stdout",
     "output_type": "stream",
     "text": [
      "Hello World;Xin chao H o Hello  chao\n",
      "20 True False False\n",
      "Hello World;Xin chao;Ohaiyo gozaimashu 38 -ABCD- ABCD\n",
      "HELLO WORLD;XIN CHAO;OHAIYO GOZAIMASHU hello world;xin chao;ohaiyo gozaimashu\n",
      "['Hello World', 'Xin chao', 'Ohaiyo gozaimashu'] 3\n",
      "True True 21\n"
     ]
    }
   ],
   "source": [
    "x = \"Hello World;Xin chao\"\n",
    "y = x + \";Ohaiyo gozaimashu\"\n",
    "print(x, x[0], x[-1], x[:5], x[-5:])\n",
    "print(len(x), \"World\" in x, \"python\" in x, \"World\" not in x)\n",
    "print(y, len(y), \"      -ABCD-     \".strip(), \"-ABCD-\".replace('-', ''))\n",
    "print(y.upper(), y.lower())\n",
    "\n",
    "WordList = y.split(\";\")\n",
    "print(WordList, len(WordList))\n",
    "print(\"1234\".isdigit(), \"1234\".isnumeric(), y.find(\"Ohaiyo\"))"
   ]
  },
  {
   "cell_type": "code",
   "execution_count": 90,
   "id": "9f5bf7d8-2239-4b90-8c54-6d21d0935809",
   "metadata": {},
   "outputs": [
    {
     "name": "stdin",
     "output_type": "stream",
     "text": [
      "Input a Item Name : 3\n",
      "Input a Quantity of Item : 2\n",
      "Input a Unit Price of Item : 1\n"
     ]
    },
    {
     "name": "stdout",
     "output_type": "stream",
     "text": [
      "Order Information : \n",
      "\t Item Number : 3 \n",
      "\t Quantity : 2 \n",
      "\t UnitPrice : 1.0 USD. \n",
      "===================================\n",
      "Total Amount : 2.0 USD\n"
     ]
    }
   ],
   "source": [
    "ItemName = input(\"Input a Item Name :\")\n",
    "strQuantity = input(\"Input a Quantity of Item :\");  Quantity = int(strQuantity)\n",
    "UnitPrice = float(input(\"Input a Unit Price of Item :\"))\n",
    "\n",
    "# Sample:\n",
    "# ItemName = \"Milk\"\n",
    "# Quantity = 10\n",
    "# UnitPrice = 3.5\n",
    "\n",
    "CustomerOrder = \"Order Information : \\n\\t Item Number : {2} \\n\\t Quantity : {0} \\n\\t UnitPrice : {1} USD. \\n\"\n",
    "CustomerOrder += \"=\"*35 + \"\\n\"\n",
    "CustomerOrder += \"Total Amount : {3} USD\"\n",
    "print(CustomerOrder.format(Quantity, UnitPrice, ItemName, Quantity * UnitPrice))"
   ]
  },
  {
   "cell_type": "code",
   "execution_count": 91,
   "id": "68558fa6-7103-4ecc-9e14-e010e473acf8",
   "metadata": {},
   "outputs": [
    {
     "name": "stdout",
     "output_type": "stream",
     "text": [
      "2021-07-08 21:33:21.866732 8 7 2021 21 33 21 866732\n",
      "Thursday July PM\n",
      "2020-12-29 00:00:00 2020-12-29 00:00:00 16580001.866732 191\n",
      "Date: 2018-06-29\n",
      "Time: 08:15:27.243860\n",
      "Date-time: 2018-06-29 08:15:27.243860\n"
     ]
    }
   ],
   "source": [
    "import datetime\n",
    "x = datetime.datetime.now()\n",
    "y = datetime.datetime(2020, 12, 29)\n",
    "print(x, x.day, x.month, x.year, x.hour, x.minute, x.second, x.microsecond)\n",
    "print(x.strftime(\"%A\"), x.strftime(\"%B\"), x.strftime(\"%p\"))\n",
    "print(y, str(y), (x - y).total_seconds(), (x - y).days)\n",
    "\n",
    "date_time_str = '2018-06-29 08:15:27.243860'\n",
    "date_time_obj = datetime.datetime.strptime(date_time_str, '%Y-%m-%d %H:%M:%S.%f')\n",
    "print('Date:', date_time_obj.date())\n",
    "print('Time:', date_time_obj.time())\n",
    "print('Date-time:', date_time_obj)"
   ]
  },
  {
   "cell_type": "code",
   "execution_count": 67,
   "id": "77d0e2e8-1d82-4064-966a-668284fffc65",
   "metadata": {},
   "outputs": [
    {
     "name": "stdin",
     "output_type": "stream",
     "text": [
      "Fill in date time EX:(29 july, 2001):  21 january, 2002\n"
     ]
    },
    {
     "name": "stdout",
     "output_type": "stream",
     "text": [
      "date_object = 2002-01-21 00:00:00\n",
      "Which day in week? : Monday\n",
      "Which day in year? : 021\n"
     ]
    }
   ],
   "source": [
    "#datetime \n",
    "\n",
    "from datetime import datetime\n",
    "date_string = input(\"Fill in date time EX:(29 july, 2001): \")\n",
    "date_object = datetime.strptime(date_string, \"%d %B, %Y\")\n",
    "print(\"date_object =\", date_object)\n",
    "print(\"Which day in week? :\", date_object.strftime(\"%A\"))\n",
    "print(\"Which day in year? :\", date_object.strftime(\"%j\"))"
   ]
  },
  {
   "cell_type": "code",
   "execution_count": null,
   "id": "7a16fbb3-6f06-40cb-9d1e-30278a4d859f",
   "metadata": {},
   "outputs": [],
   "source": []
  }
 ],
 "metadata": {
  "kernelspec": {
   "display_name": "Python 3 (ipykernel)",
   "language": "python",
   "name": "python3"
  },
  "language_info": {
   "codemirror_mode": {
    "name": "ipython",
    "version": 3
   },
   "file_extension": ".py",
   "mimetype": "text/x-python",
   "name": "python",
   "nbconvert_exporter": "python",
   "pygments_lexer": "ipython3",
   "version": "3.8.11"
  }
 },
 "nbformat": 4,
 "nbformat_minor": 5
}
