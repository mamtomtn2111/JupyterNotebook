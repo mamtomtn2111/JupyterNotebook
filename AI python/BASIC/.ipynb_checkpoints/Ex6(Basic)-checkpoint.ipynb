{
 "cells": [
  {
   "cell_type": "code",
   "execution_count": 3,
   "id": "2dc15673-e4b7-4202-b6a9-a789ca576b8c",
   "metadata": {},
   "outputs": [],
   "source": [
    "import numpy as np"
   ]
  },
  {
   "cell_type": "code",
   "execution_count": 9,
   "id": "a21b05cb-a082-460f-a3aa-13cc42aea94a",
   "metadata": {},
   "outputs": [],
   "source": [
    "class Person:\n",
    "    def __init__(self, Name = \"N/A\", Gender = \"Male\", Age = 0):\n",
    "        self.Name, self.Gender, self.Age = Name, Gender, Age\n",
    "    def InputInfo(self):\n",
    "        self.Name = input(\"Please input name: \")\n",
    "        self.Gender = input(\"Please input gender (Male/Female): \")\n",
    "        self.Age = int(input(\"Please input Age: \"))\n",
    "    def DisplayInfo(self):\n",
    "        info = f\"Your info:\\n\\tName: {self.Name}\\n\\tGender: {self.Gender}\\\n",
    "                \\n\\tAge: {self.Age}\"\n",
    "        print(info)\n",
    "    def __str__(self):\n",
    "        import json\n",
    "        info = {}\n",
    "        info[\"Name\"] = self.Name\n",
    "        info[\"Gender\"] = self.Gender\n",
    "        info[\"Age\"] = self.Age\n",
    "        return json.dumps(info, indent = 4, ensure_ascii = False)\n",
    "    def  __gt__(self, other):\n",
    "        return self.Age > other.Age\n",
    "    def __lt__(self, other):\n",
    "        return self.Age < other.Age"
   ]
  },
  {
   "cell_type": "code",
   "execution_count": 10,
   "id": "fc45300a-cf51-45f8-97d4-8e4136472975",
   "metadata": {},
   "outputs": [],
   "source": [
    "class PersonList:\n",
    "    def __init__(self, nPerson = 0):\n",
    "        self.PersonList = []\n",
    "        if(nPerson <= 0):\n",
    "            self.nPerson = int(input(\"How many person do you want to create: \"))\n",
    "        else:\n",
    "            self.nPerson = nPerson\n",
    "        self.nPerson = int(input(\"How many person do you want to create: \"))\n",
    "        while(True):\n",
    "            person = Person()\n",
    "            person.InputInfo()\n",
    "            self.PersonList.append(person)\n",
    "            if(len(self.PersonList) == self.nPerson):\n",
    "                break\n",
    "    \n",
    "    def displayInfo(self):\n",
    "        print(\"\\n Here is a list of Person\")\n",
    "        for idx, person in enumerate(self.PersonList):\n",
    "            print(f\"Information of person [{idx}] : {person}\")\n",
    " "
   ]
  },
  {
   "cell_type": "code",
   "execution_count": 11,
   "id": "4511239f-85bd-4acc-bf06-06554fe58685",
   "metadata": {},
   "outputs": [
    {
     "name": "stdout",
     "output_type": "stream",
     "text": [
      "Your info:\n",
      "\tName: Nguyễn Văn A\n",
      "\tGender: Male                \n",
      "\tAge: 25\n",
      "Dump to json:\n",
      "{\n",
      "    \"Name\": \"Nguyễn Văn A\",\n",
      "    \"Gender\": \"Male\",\n",
      "    \"Age\": 25\n",
      "}\n"
     ]
    }
   ],
   "source": [
    "perA = Person(\"Nguyễn Văn A\", \"Male\", 25)\n",
    "perA.DisplayInfo()\n",
    "print(f\"Dump to json:\\n{perA}\")"
   ]
  },
  {
   "cell_type": "code",
   "execution_count": 11,
   "id": "dc053898-f8d8-47c0-b7f9-691147bef8c7",
   "metadata": {},
   "outputs": [
    {
     "name": "stdin",
     "output_type": "stream",
     "text": [
      "How many person do you want to create:  1\n",
      "Please input name:  2\n",
      "Please input gender (Male/Female):  1\n",
      "Please input Age:  2\n"
     ]
    },
    {
     "name": "stdout",
     "output_type": "stream",
     "text": [
      "\n",
      " Here is a list of Person\n",
      "Information of person [0] : {\n",
      "    \"Name\": \"2\",\n",
      "    \"Gender\": \"1\",\n",
      "    \"Age\": 2\n",
      "}\n",
      "True\n"
     ]
    }
   ],
   "source": [
    "Plist = PersonList(3)\n",
    "Plist.displayInfo()\n",
    "a = Person(\"Nguyễn Vũ Hải\",\"Male\",23)\n",
    "b = Person(\"Hoàng Hà\",\"Male\",21)\n",
    "print(a>b)"
   ]
  },
  {
   "cell_type": "code",
   "execution_count": 14,
   "id": "2b42e2b8-9594-4aee-970e-463b6089583c",
   "metadata": {},
   "outputs": [],
   "source": [
    "class Student(Person):\n",
    "    def __init__(self, name = \"N/A\", gender = \"Male\", age = 0, studentcode = \"N/A\"):\n",
    "        super().__init__(name, gender, age) #Person.__init__(name, gender. age)\n",
    "        self.studentcode = studentcode\n",
    "    def inputInfo(self):\n",
    "        super().inputInfo()\n",
    "        self.studentcode = input(\"Please input student code: \")\n",
    "    def displayInfo(self):\n",
    "        super().DisplayInfo()\n",
    "        print(f\"\\tStudent code: {self.studentcode}\")"
   ]
  },
  {
   "cell_type": "code",
   "execution_count": 21,
   "id": "e35fa408-5144-46e2-8a3e-52a790ea3550",
   "metadata": {},
   "outputs": [
    {
     "name": "stdout",
     "output_type": "stream",
     "text": [
      "stdA\n",
      "Your info:\n",
      "\tName: Nguyễn Vũ Hải\n",
      "\tGender: Male                \n",
      "\tAge: 20\n",
      "\tStudent code: DTC123\n",
      "stdB\n",
      "Your info:\n",
      "\tName: Vũ Hà\n",
      "\tGender: Female                \n",
      "\tAge: 21\n",
      "stdA you declare is in Student class?: True\n",
      "stdB Info that you declare is in Person class?: True\n"
     ]
    }
   ],
   "source": [
    "print(\"stdA\")\n",
    "stdA = Student(\"Nguyễn Vũ Hải\",\"Male\",20,\"DTC123\")\n",
    "stdB = Person(\"Vũ Hà\",\"Female\",21)\n",
    "stdA.displayInfo()\n",
    "print(\"stdB\")\n",
    "stdB.DisplayInfo()\n",
    "\n",
    "print(f\"stdA you declare is in Student class?: {isinstance(stdA, Student)}\")\n",
    "print(f\"stdB Info that you declare is in Person class?: {isinstance(stdB, Person)}\")"
   ]
  },
  {
   "cell_type": "code",
   "execution_count": 11,
   "id": "a708c3ed-1c55-4c24-9e06-4852df037220",
   "metadata": {},
   "outputs": [],
   "source": [
    "# Question 1: Write a program to define a class Person with \n",
    "# A. Properties: Name, DOB (Date Of Birth), Gender,  Age and minAge, maxAge\n",
    "#    Construction : Name, Gender, DOB (Date Of Birth)\n",
    "#    Action : DisplayInfo, CalculateAge, InputPerson\n",
    "# B. Input a Person and Display his information\n",
    "# C. Input a List of Person and Display this List\n",
    "\n",
    "from datetime import date, datetime \n",
    "\n",
    "class Person :\n",
    "    'This is Student class'\n",
    "    #Class Variables \n",
    "    minAge = 20\n",
    "    maxAge = 45\n",
    "    GenderList = [\"Male\", \"Female\"]\n",
    "    \n",
    "    def __init__(self, inputName = None, inputGender = None, inputDOB = None):\n",
    "        # Case : No inputName we set input by keyboard\n",
    "        if(inputName == None or inputGender == None or inputDOB == None):\n",
    "            self.InputPerson()\n",
    "            return\n",
    "        \n",
    "        # Instance Variables\n",
    "        self.Name= inputName.title() if len(inputName.strip()) > 0 else \"N/A\"\n",
    "        self.Gender = inputGender.title() if inputGender.title() in self.GenderList else \"Male\"\n",
    "        \n",
    "        self.DOB = date.today() \n",
    "        try:\n",
    "            self.DOB =  datetime.strptime(inputDOB.strip(), '%d/%m/%Y')\n",
    "        except ValueError as e:\n",
    "            print(\"Error Found : \", end = '')\n",
    "#             print(info, e)\n",
    "            print(\"\\n\")\n",
    "            \n",
    "        self.CalculateAge()\n",
    "        \n",
    "    def InputPerson(self):\n",
    "        print(\"Start Input Information of Person\")\n",
    "        while(True):\n",
    "            inputName = input(\"Please input Name of a Person :\")\n",
    "            if(len(inputName.strip()) > 0):\n",
    "                self.Name = inputName.title() \n",
    "                break\n",
    "        \n",
    "        while(True):\n",
    "            inputGender = input(f'Please input Gender of {self.Name}  [\"Male\", \"Female\"]:')\n",
    "            if(inputGender.title() in self.GenderList):\n",
    "                self.Gender =  inputGender.title()\n",
    "                break\n",
    "        \n",
    "        while(True):\n",
    "            inputDOB = input(f'Please input Date of Birth of {self.Name} (Ex: 25/12/1990) :')\n",
    "            try:\n",
    "                inputDOB =  datetime.strptime(inputDOB.strip(), '%d/%m/%Y')\n",
    "                self.DOB = inputDOB\n",
    "                self.CalculateAge()\n",
    "                break\n",
    "            except ValueError as e:\n",
    "                print(\"Error Found : \", end = '')\n",
    "#                 print(info, e)\n",
    "                print(\"\\n\")\n",
    "        \n",
    "    def CalculateAge(self): \n",
    "        today = date.today()\n",
    "        self.Age = today.year - self.DOB.year - ((today.month, today.day) < (self.DOB.month, self.DOB.day))\n",
    "        if(not (self.minAge <= self.Age <= self.maxAge)):\n",
    "            print(f\"Age {self.Age} must be in range [{self.minAge}, {self.maxAge}]. If not, Your Age will be set 0\")\n",
    "            self.Age = 0\n",
    "            \n",
    "        return\n",
    "    \n",
    "    def DisplayInfo(self):\n",
    "        print(f\"Here is the information of Person :\")\n",
    "        print(f\"\\t Name : {self.Name}\")\n",
    "        print(f\"\\t Gender : {self.Gender}\")\n",
    "        print(f\"\\t DOB : {self.DOB.date()}\")\n",
    "        print(f\"\\t Age : {self.Age}\")\n",
    "        print(\"*\"*75)"
   ]
  },
  {
   "cell_type": "code",
   "execution_count": 12,
   "id": "631bcb2e-6428-4d0f-9222-f6ae1fe72dbd",
   "metadata": {},
   "outputs": [
    {
     "name": "stdout",
     "output_type": "stream",
     "text": [
      "Start Input Information of Person\n"
     ]
    },
    {
     "name": "stdin",
     "output_type": "stream",
     "text": [
      "Please input Name of a Person : Hai\n",
      "Please input Gender of Hai  [\"Male\", \"Female\"]: male\n",
      "Please input Date of Birth of Hai (Ex: 25/12/1990) : 29/08/2000\n"
     ]
    },
    {
     "name": "stdout",
     "output_type": "stream",
     "text": [
      "Here is the information of Person :\n",
      "\t Name : Hai\n",
      "\t Gender : Male\n",
      "\t DOB : 2000-08-29\n",
      "\t Age : 21\n",
      "***************************************************************************\n"
     ]
    }
   ],
   "source": [
    "AnyPerson = Person()\n",
    "AnyPerson.DisplayInfo()"
   ]
  },
  {
   "cell_type": "code",
   "execution_count": 24,
   "id": "86db6758-e239-47c5-a8cb-38adc2f4abc5",
   "metadata": {},
   "outputs": [
    {
     "name": "stdin",
     "output_type": "stream",
     "text": [
      "Please input a number of Person : 2\n"
     ]
    },
    {
     "name": "stdout",
     "output_type": "stream",
     "text": [
      "Start Input Information of Person\n"
     ]
    },
    {
     "name": "stdin",
     "output_type": "stream",
     "text": [
      "Please input Name of a Person : Vũ Hải\n",
      "Please input Gender of Vũ Hải  [\"Male\", \"Female\"]: \n",
      "Please input Gender of Vũ Hải  [\"Male\", \"Female\"]: Male\n",
      "Please input Date of Birth of Vũ Hải (Ex: 25/12/1990) : 29/07/2001\n"
     ]
    },
    {
     "name": "stdout",
     "output_type": "stream",
     "text": [
      "Start Input Information of Person\n"
     ]
    },
    {
     "name": "stdin",
     "output_type": "stream",
     "text": [
      "Please input Name of a Person : Hà zay\n",
      "Please input Gender of Hà Zay  [\"Male\", \"Female\"]: Femail\n",
      "Please input Gender of Hà Zay  [\"Male\", \"Female\"]: Female\n",
      "Please input Date of Birth of Hà Zay (Ex: 25/12/1990) : 1/1/2001\n"
     ]
    },
    {
     "name": "stdout",
     "output_type": "stream",
     "text": [
      "\n",
      " Here is a list of Person : \n",
      " ***************************************************************************\n",
      "Here is the information of Person :\n",
      "\t Name : Vũ Hải\n",
      "\t Gender : Male\n",
      "\t DOB : 2001-07-29\n",
      "\t Age : 20\n",
      "***************************************************************************\n",
      "Here is the information of Person :\n",
      "\t Name : Hà Zay\n",
      "\t Gender : Female\n",
      "\t DOB : 2001-01-01\n",
      "\t Age : 20\n",
      "***************************************************************************\n"
     ]
    }
   ],
   "source": [
    "ListPerson = []\n",
    "nPerson = int(input(\"Please input a number of Person :\"))\n",
    "while(True):\n",
    "    ListPerson.append(Person())\n",
    "    if(len(ListPerson) == nPerson):\n",
    "        break\n",
    "\n",
    "print(\"\\n Here is a list of Person : \\n\", \"*\"*75)\n",
    "for person in ListPerson:\n",
    "    person.DisplayInfo()"
   ]
  },
  {
   "cell_type": "code",
   "execution_count": 6,
   "id": "852d265e-b8da-4093-8cce-b03815ab12e2",
   "metadata": {},
   "outputs": [],
   "source": [
    "# Question 2 : Write a Program to define a Rectangle with Width and Height \n",
    "# A. Action of Rectangle : Display Perimeter and Area\n",
    "# B. Define a class of ListRectangle to input a List of Rectangle \n",
    "# C. Write a function to compare Area of two Rectangle\n",
    "\n",
    "class Rectangle:\n",
    "    'This is Rectangle class'\n",
    "    def __init__(self, width = 0, height = 0):\n",
    "        self.RectInfo = {\"Width\" : 0, \"Height\" : 0, \"Perimeter\" : 0, \"Area\" : 0}\n",
    "        self.RectInfo[\"Width\"]= width\n",
    "        self.RectInfo[\"Height\"] = height\n",
    "        self.RectInfo[\"Area\"] = width * height\n",
    "        self.RectInfo[\"Perimeter\"] = 2 * (width + height)\n",
    "    def InputInfo(self):\n",
    "        self.RectInfo[\"Width\"] = float(input(\"Please input width of rectangle\"))\n",
    "        self.RectInfo[\"Height\"] = float(input(\"Please input height of rectangle\"))\n",
    "        self.RectInfo[\"Area\"] = self.RectInfo[\"Width\"] * self.RectInfo[\"Height\"]\n",
    "        self.RectInfo[\"Perimeter\"] = 2 * (self.RectInfo[\"Width\"] + self.RectInfo[\"Height\"])\n",
    "    def DisplayInfo(self, idx = None):\n",
    "        if(idx == None):\n",
    "            print(f'The Rectangle with width {self.RectInfo[\"Width\"]} and height {self.RectInfo[\"Height\"]}', end = \"\")\n",
    "        else:\n",
    "            print(f'The Rectangle {idx} with width {self.RectInfo[\"Width\"]} and height {self.RectInfo[\"Height\"]}', end = \"\")        \n",
    "        print(f' has Perimeter {self.RectInfo[\"Perimeter\"]} and Area {self.RectInfo[\"Area\"]}')\n",
    "    \n",
    "    def __lt__(self, other):\n",
    "        if not isinstance(other, Rectangle):\n",
    "            return None\n",
    "        return self.RectInfo[\"Area\"] < other.RectInfo[\"Area\"]\n",
    "    def __le__(self, other):\n",
    "        if not isinstance(other, Rectangle):\n",
    "            return None\n",
    "        return self.RectInfo[\"Area\"] <= other.RectInfo[\"Area\"]\n",
    "    def __eq__(self, other):\n",
    "        if not isinstance(other, Rectangle):\n",
    "            return None\n",
    "        return self.RectInfo[\"Area\"] == other.RectInfo[\"Area\"]\n",
    "    def __ne__(self, other):\n",
    "        if not isinstance(other, Rectangle):\n",
    "            return None\n",
    "        return self.RectInfo[\"Area\"] != other.RectInfo[\"Area\"]\n",
    "    def __gt__(self, other):\n",
    "        if not isinstance(other, Rectangle):\n",
    "            return None\n",
    "        return self.RectInfo[\"Area\"] > other.RectInfo[\"Area\"]\n",
    "    def __ge__(self, other):\n",
    "        if not isinstance(other, Rectangle):\n",
    "            return None\n",
    "        return self.RectInfo[\"Area\"] >= other.RectInfo[\"Area\"]"
   ]
  },
  {
   "cell_type": "code",
   "execution_count": 7,
   "id": "5499a094-dcaf-48ff-9ebc-3700093fb2fb",
   "metadata": {},
   "outputs": [],
   "source": [
    "class ListRect:\n",
    "    def __init__(self):\n",
    "        self.RectList = []\n",
    "        self.nList = int(input(\"Please input a List of Rectangle :\"))\n",
    "        while(True):\n",
    "            rect = Rectangle()\n",
    "            rect.InputInfo()\n",
    "            print(id(rect))\n",
    "            rect.DisplayInfo()\n",
    "            self.RectList.append(rect)\n",
    "            if(len(self.RectList) == self.nList):\n",
    "                break\n",
    "    def DisplayInfo(self):\n",
    "        print(\"\\n Here is a list of Rectangle : \\n\", \"*\"*75)\n",
    "        for idx, rect in enumerate(self.RectList):\n",
    "            rect.DisplayInfo(idx)   "
   ]
  },
  {
   "cell_type": "code",
   "execution_count": 8,
   "id": "d7aba1de-de08-494a-9af4-6ce215209c70",
   "metadata": {},
   "outputs": [
    {
     "name": "stdout",
     "output_type": "stream",
     "text": [
      "The Rectangle with width 10 and height 20 has Perimeter 60 and Area 200\n"
     ]
    },
    {
     "name": "stdin",
     "output_type": "stream",
     "text": [
      "Please input a List of Rectangle : 1\n",
      "Please input width of rectangle 2\n",
      "Please input height of rectangle 3\n"
     ]
    },
    {
     "name": "stdout",
     "output_type": "stream",
     "text": [
      "2542527809088\n",
      "The Rectangle with width 2.0 and height 3.0 has Perimeter 10.0 and Area 6.0\n",
      "\n",
      " Here is a list of Rectangle : \n",
      " ***************************************************************************\n",
      "The Rectangle 0 with width 2.0 and height 3.0 has Perimeter 10.0 and Area 6.0\n"
     ]
    }
   ],
   "source": [
    "r1 = Rectangle(10,20)\n",
    "r1.DisplayInfo()\n",
    "\n",
    "rectList = ListRect()\n",
    "rectList.DisplayInfo()\n"
   ]
  },
  {
   "cell_type": "code",
   "execution_count": 4,
   "id": "bacc93b0-1d2a-4ef9-9353-f9a9b38a4dcb",
   "metadata": {
    "tags": []
   },
   "outputs": [
    {
     "name": "stdin",
     "output_type": "stream",
     "text": [
      "How many person do you want to create:  2\n"
     ]
    },
    {
     "name": "stdout",
     "output_type": "stream",
     "text": [
      "Start Input Information of student\n"
     ]
    },
    {
     "name": "stdin",
     "output_type": "stream",
     "text": [
      "Please input Name of a Person : Nguyễn Vũ Hải\n",
      "Please input Gender of Nguyễn Vũ Hải  [\"Male\", \"Female\"]: Male\n",
      "Please input Date of Birth of Nguyễn Vũ Hải (Ex: 25/12/1990) : 29/07/2001\n",
      "Please input Entrance date of Nguyễn Vũ Hải:  1/1/2019\n",
      "Please input department of Nguyễn Vũ Hải:  IT\n",
      "Please input range of list mark:  3\n",
      "input mark:  9\n",
      "input mark:  10\n",
      "input mark:  9.5\n"
     ]
    },
    {
     "name": "stdout",
     "output_type": "stream",
     "text": [
      "Start Input Information of student\n"
     ]
    },
    {
     "name": "stdin",
     "output_type": "stream",
     "text": [
      "Please input Name of a Person : Mai Dutch Huy\n",
      "Please input Gender of Mai Dutch Huy  [\"Male\", \"Female\"]: Female\n",
      "Please input Date of Birth of Mai Dutch Huy (Ex: 25/12/1990) : 1/1/2001\n",
      "Please input Entrance date of Mai Dutch Huy:  1/1/2019\n",
      "Please input department of Mai Dutch Huy:  IT\n",
      "Please input range of list mark:  3\n",
      "input mark:  7\n",
      "input mark:  8\n",
      "input mark:  1\n"
     ]
    },
    {
     "name": "stdout",
     "output_type": "stream",
     "text": [
      "\n",
      "==========INFO OF STUDENT==========\n",
      "Info of student [0]:\n",
      "Here is the infomation of student: \n",
      "\tName : Nguyễn Vũ Hải\n",
      "\tGender : Male\n",
      "\tDoB: 2001-07-29 00:00:00\n",
      "\tEntrance date: 2019-01-01 00:00:00\n",
      "\tYear: 2\n",
      "\tDepartment: It\n",
      "\tList of mark: [9.0, 10.0, 9.5]\n",
      "\tAverage mark = 9.5\n",
      "***************************************************************************\n",
      "Info of student [1]:\n",
      "Here is the infomation of student: \n",
      "\tName : Mai Dutch Huy\n",
      "\tGender : Female\n",
      "\tDoB: 2001-01-01 00:00:00\n",
      "\tEntrance date: 2019-01-01 00:00:00\n",
      "\tYear: 2\n",
      "\tDepartment: It\n",
      "\tList of mark: [7.0, 8.0, 1.0]\n",
      "\tAverage mark = 5.333333333333333\n",
      "***************************************************************************\n"
     ]
    }
   ],
   "source": [
    "### Question 3: Write a program to define a class Student with \n",
    "# A. Properties: Name, EntranceDate, DateOfBirth, Department, StudentYear, ListMarks\n",
    "#    Construction : Name, EntranceDate, DateOfBirth, Department\n",
    "#    Action : DisplayInfo, CalculateYear, InputListMarks\n",
    "# B. Input a Student and Display his information \n",
    "# (Name, EntranceDate, DateOfBirth, Department, StudentYear, ListMarks, and AverageMark)\n",
    "# C. Input a List of Student and Display this List\n",
    "\n",
    "from datetime import date, datetime \n",
    "\n",
    "class Person:\n",
    "    'This is Student class'\n",
    "#     Class Variables \n",
    "    GenderList = [\"Male\", \"Female\"]\n",
    "    \n",
    "    def __init__(self, inputName = None, inputGender = None, inputDOB = None):\n",
    "        # Case : No inputName we set input by keyboard\n",
    "        if(inputName == None or inputGender == None or inputDOB == None):\n",
    "            self.InputPerson()\n",
    "            return\n",
    "        \n",
    "        # Instance Variables\n",
    "        self.Name = inputName.title() if len(inputName.strip()) > 0 else \"N/A\"\n",
    "        self.Gender = inputGender.title() if inputGender.title() in self.GenderList else \"Male\"\n",
    "        self.DOB = date.today()\n",
    "        try:\n",
    "            self.DOB =  datetime.strptime(inputDOB.strip(), '%d/%m/%Y')\n",
    "        except ValueError as e:\n",
    "            print(\"Error Found : \", end = '')\n",
    "            print(e)\n",
    "            print(\"\\n\")\n",
    "            \n",
    "    def InputPerson(self):\n",
    "        print(\"Start Input Information of student\")\n",
    "        while(True):\n",
    "            inputName = input(\"Please input Name of a Person :\")\n",
    "            if(len(inputName.strip()) > 0):\n",
    "                self.Name = inputName.title() \n",
    "                break\n",
    "        \n",
    "        while(True):\n",
    "            inputGender = input(f'Please input Gender of {self.Name}  [\"Male\", \"Female\"]:')\n",
    "            if(inputGender.title() in self.GenderList):\n",
    "                self.Gender =  inputGender.title()\n",
    "                break\n",
    "        \n",
    "        while(True):\n",
    "            inputDOB = input(f'Please input Date of Birth of {self.Name} (Ex: 25/12/1990) :')\n",
    "            try:\n",
    "                inputDOB =  datetime.strptime(inputDOB.strip(), '%d/%m/%Y')\n",
    "                self.DOB = inputDOB\n",
    "                break\n",
    "            except ValueError as e:\n",
    "                print(\"Error Found : \", end = '')\n",
    "                print(e)\n",
    "                print(\"\\n\")\n",
    "                \n",
    "    def DisplayPerson(self):\n",
    "        print(\"Here is the infomation of student: \")\n",
    "        print(f\"\\tName : {self.Name}\")\n",
    "        print(f\"\\tGender : {self.Gender}\")\n",
    "        print(f\"\\tDoB: {self.DOB}\")\n",
    "        \n",
    "class student(Person):\n",
    "    ListMark = []\n",
    "    def __init__(self, inputName = None, inputGender = None, inputDOB = None, inputED = None, inputDepartment = None, MarkList = []):\n",
    "        super().__init__(inputName, inputGender, inputDOB)\n",
    "        if(inputED == None or inputDepartment == None or ListMark == []):\n",
    "            self.InputStudent()\n",
    "            return\n",
    "        \n",
    "        self.ED = date.today()\n",
    "        self.Department = inputDepartment.title() if len(inputDepartment.strip()) > 0 else \"N/A\"\n",
    "        self.ListMark = ListMark if len(inputListMark) != 0 else [0]\n",
    "        try:\n",
    "            self.ED = datetime.strptime(inputED.strip(), '%d/%m/%Y')\n",
    "        except ValueError as e:\n",
    "            print(\"Error found :\",end = '')\n",
    "            print(e)\n",
    "            print(\"\\n\")\n",
    "        self.CalculateYear()\n",
    "        self.AVRmark()\n",
    "        \n",
    "    def CalculateYear(self): \n",
    "        today = date.today()\n",
    "        self.StudentYear = today.year - self.ED.year - ((today.month, today.day) < (self.ED.month, self.ED.day))\n",
    "        if(self.StudentYear <= 0):\n",
    "            print(f\"Your student year is invalid. If not, Your student year will be set 0\")\n",
    "            self.StudentYear = 0\n",
    "        return\n",
    "    \n",
    "    def AVRmark(self):\n",
    "        self.ListMark = np.array(self.ListMark)\n",
    "        return self.ListMark.mean()\n",
    "    \n",
    "    def InputStudent(self):\n",
    "        while(True):\n",
    "            inputED = input(f\"Please input Entrance date of {self.Name}: \")\n",
    "            try:\n",
    "                inputED = datetime.strptime(inputED.strip(), '%d/%m/%Y')\n",
    "                self.ED = inputED\n",
    "                self.CalculateYear()\n",
    "                break\n",
    "            except ValueError as e:\n",
    "                print(\"Error found: \",end = '')\n",
    "                print(e)\n",
    "                print(\"\\n\")\n",
    "        \n",
    "        while(True):\n",
    "            inputDepartment = input(f\"Please input department of {self.Name}: \")\n",
    "            if(len(inputDepartment.strip()) > 0):\n",
    "                self.Department = inputDepartment.title()\n",
    "                break\n",
    "                \n",
    "        inputNumberOfListMark = int(input(\"Please input range of list mark: \"))\n",
    "        ListMark = []\n",
    "        while(len(ListMark) != inputNumberOfListMark):\n",
    "            inputListMark = float(input(\"input mark: \"))\n",
    "            ListMark.append(inputListMark)\n",
    "        self.ListMark = ListMark \n",
    "    def DisplayStudent(self):\n",
    "        super().DisplayPerson()\n",
    "        print(f\"\\tEntrance date: {self.ED}\")\n",
    "        print(f\"\\tYear: {self.StudentYear}\")\n",
    "        print(f\"\\tDepartment: {self.Department}\")\n",
    "        print(f\"\\tList of mark: {self.ListMark}\")\n",
    "        print(f\"\\tAverage mark = {self.AVRmark()}\")\n",
    "        print(\"*\"*75)\n",
    "\n",
    "StudentList = []\n",
    "nStudent = int(input(\"How many person do you want to create: \"))\n",
    "while(True):\n",
    "    Student = student()\n",
    "    StudentList.append(Student)\n",
    "    if(len(StudentList) == nStudent):\n",
    "        break\n",
    "print(\"\\n\" +\"=\"*10 +\"INFO OF STUDENT\" + \"=\"*10)\n",
    "for idx, student in enumerate(StudentList):\n",
    "    print(f\"Info of student [{idx}]:\")\n",
    "    student.DisplayStudent()\n",
    "            "
   ]
  },
  {
   "cell_type": "code",
   "execution_count": 4,
   "id": "058204ab-afb8-47f5-9f9a-c5228bec6011",
   "metadata": {},
   "outputs": [
    {
     "name": "stdin",
     "output_type": "stream",
     "text": [
      "Please input n car u want:  2\n"
     ]
    },
    {
     "name": "stdout",
     "output_type": "stream",
     "text": [
      "Start input the info of the car \n"
     ]
    },
    {
     "name": "stdin",
     "output_type": "stream",
     "text": [
      "Input name:  Vu\n",
      "Input year model:  222\n",
      "Input current speed:  5\n",
      "Input max speed:  20\n"
     ]
    },
    {
     "name": "stdout",
     "output_type": "stream",
     "text": [
      "Start input the info of the car \n"
     ]
    },
    {
     "name": "stdin",
     "output_type": "stream",
     "text": [
      "Input name:  q\n",
      "Input year model:  2010\n",
      "Input current speed:  7\n",
      "Input max speed:  30\n"
     ]
    },
    {
     "name": "stdout",
     "output_type": "stream",
     "text": [
      "\n",
      "CHOICE: \n",
      "1. OUTPUT LIST OF CAR\n",
      "2. ACCELERATE A CAR\n",
      "3. SORT CAR BY MAX SPEED\n",
      "4. END PROGRAM\n"
     ]
    },
    {
     "name": "stdin",
     "output_type": "stream",
     "text": [
      "\n",
      "Please input your choice:  3\n"
     ]
    },
    {
     "name": "stdout",
     "output_type": "stream",
     "text": [
      "\n",
      "AFTER SORT BY ASCENDING MAX SPEED\n",
      "Error found 'function' object is not subscriptable\n"
     ]
    },
    {
     "name": "stdin",
     "output_type": "stream",
     "text": [
      "\n",
      "Please input your choice:  2\n",
      "\n",
      "Please input number of car you want to accelerate:  1\n"
     ]
    },
    {
     "name": "stdout",
     "output_type": "stream",
     "text": [
      "\n",
      "Accelerate -->: \n",
      "Min 1 - Current speed: 5.0\n",
      "Min 2 - Current speed: 10.0\n",
      "Min 3 - Current speed: 15.0\n",
      "Min 4 - Current speed: 20.0\n",
      "Min 5 - Current speed: 20.0\n",
      "Min 6 - Current speed: 20.0\n",
      "Min 7 - Current speed: 20.0\n",
      "Min 8 - Current speed: 20.0\n",
      "Min 9 - Current speed: 15.0\n",
      "Min 10 - Current speed: 20.0\n"
     ]
    },
    {
     "name": "stdin",
     "output_type": "stream",
     "text": [
      "\n",
      "Please input your choice:  3\n"
     ]
    },
    {
     "name": "stdout",
     "output_type": "stream",
     "text": [
      "\n",
      "AFTER SORT BY ASCENDING MAX SPEED\n",
      "Error found 'function' object is not subscriptable\n"
     ]
    },
    {
     "name": "stdin",
     "output_type": "stream",
     "text": [
      "\n",
      "Please input your choice:  4\n"
     ]
    },
    {
     "name": "stdout",
     "output_type": "stream",
     "text": [
      "End running !\n"
     ]
    }
   ],
   "source": [
    "# Question 4 : Write a Program to define a Car with Name, YearModel, CurrentSpeed and MaxSpeed\n",
    "# A. Action of Car : accelerate (increate CurrentSpeed by 5), brake (decrease CurrentSpeed by 5)\n",
    "# B. Create an instance Car with an assigned CurrentSpeed and do the iteration of from 1 --> 10 mins \n",
    "# for each minute the Car accelerates 1 times but make sure not more than MaxSpeed. Assume at the 8th min\n",
    "# we see an object in front of, the car mus do braking\n",
    "# C. Define a class of ListCar to input a List of Car \n",
    "# D. Write a function to sort a ListCar by MaxSpeed\n",
    "\n",
    "class Car:\n",
    "    def __init__(self, inputName = None, inputYearModel = None, inputCurrentSpeed = None, inputMaxSpeed = None):\n",
    "        if(inputName == None or inputYearModel == None or inputCurrentSpeed == None or inputMaxSpeed == None):\n",
    "            self.inputCar()\n",
    "            return\n",
    "        \n",
    "        self.Name = inputName.title() if len(inputName.strip()) > 0 else \"N/A\"\n",
    "        self.YearModel = inputYearModel if inputYearModel > 0 else 1950\n",
    "        self.CurrentSpeed = inputCurrentSpeed if inputCurrentSpeed >= 0 else 0\n",
    "        self.MaxSpeed = inputMaxSpeed if inputMaxSpeed >= 0 else 1\n",
    "    \n",
    "    def inputCar(self):\n",
    "        print(\"Start input the info of the car \")\n",
    "        while(True):\n",
    "            inputName = input(\"Input name: \").strip()\n",
    "            if(len(inputName.strip()) > 0):\n",
    "                self.Name = inputName.title()\n",
    "                break\n",
    "                \n",
    "        while(True):\n",
    "            inputYearModel = input(\"Input year model: \").strip()\n",
    "            if(len(inputYearModel) > 0 and inputYearModel.isnumeric() == True):\n",
    "                self.YearModel = int(inputYearModel)\n",
    "                break\n",
    "        \n",
    "        while(True):\n",
    "            inputCurrentSpeed = input(\"Input current speed: \").strip()\n",
    "            try:\n",
    "                self.CurrentSpeed = float(inputCurrentSpeed)\n",
    "                break\n",
    "            except ValueError as e:\n",
    "                print(\"Error found: \",e)\n",
    "        \n",
    "        while(True):\n",
    "            inputMaxSpeed = input(\"Input max speed: \").strip()\n",
    "            try:\n",
    "                self.MaxSpeed = float(inputMaxSpeed)\n",
    "                break\n",
    "            except ValueError as e:\n",
    "                print(\"Error found: \",e)\n",
    "                \n",
    "    def displayCar(self):\n",
    "        print(\"Info of the car: \")\n",
    "        print(f\"\\tName: {self.Name}\")\n",
    "        print(f\"\\tYear model: {self.YearModel}\")\n",
    "        print(f\"\\tCurrent speed: {self.CurrentSpeed}\")\n",
    "        print(f\"\\tMax speed: {self.MaxSpeed}\")\n",
    "    \n",
    "    #lỗi\n",
    "    def Accelerate(self):\n",
    "        i = 1\n",
    "        print(\"\\nAccelerate -->: \")\n",
    "        while(i != 11):\n",
    "            print(f\"Min {i} - Current speed: {self.CurrentSpeed}\")\n",
    "            if((self.CurrentSpeed != self.MaxSpeed) and (i != 8)):\n",
    "                self.CurrentSpeed += 5\n",
    "                i += 1\n",
    "            elif(i == 8):\n",
    "                self.CurrentSpeed -= 5\n",
    "                i += 1\n",
    "            elif(self.CurrentSpeed == self.MaxSpeed):\n",
    "                i += 1\n",
    "    def MaxSpeed(self):\n",
    "        return self.MaxSpeed\n",
    "                \n",
    "class ListCar(Car):\n",
    "    def __init__(self, inputName = None, inputYearModel = None, inputCurrentSpeed = None, inputMaxSpeed = None, nCar = 0):\n",
    "        if(inputName == None or inputYearModel == None or inputCurrentSpeed == None or inputMaxSpeed == None or nCar == 0):\n",
    "            self.ListCar = self.inputnCar()\n",
    "            self.choice()\n",
    "            return\n",
    "\n",
    "    def inputnCar(self):\n",
    "        self.nCar = int(input(\"Please input n car u want: \"))\n",
    "        ListCar = []\n",
    "        while(True):\n",
    "            ListCar.append(Car())\n",
    "            if(len(ListCar) == self.nCar):\n",
    "                break\n",
    "        return ListCar\n",
    "    \n",
    "    def OutPutListCar(self):\n",
    "        print(\"\\n\" +\"=\"*10 +\"INFO OF CAR\" + \"=\"*10)\n",
    "        for idx, car in enumerate(self.ListCar):\n",
    "            print(f\"Info of car [{idx}]:\")\n",
    "            car.displayCar()\n",
    "            \n",
    "    def AccelerateCar(self, CarChoice):\n",
    "        for idx, car in enumerate(self.ListCar):\n",
    "            if(idx == CarChoice - 1):\n",
    "                car.Accelerate()\n",
    "    \n",
    "    def SortCarByMaxSpeed(self):\n",
    "        for i in range(len(self.ListCar) - 1):\n",
    "            j = i +1\n",
    "            for j in range(len(self.ListCar)):\n",
    "                if(Car.MaxSpeed[i] > Car.MaxSpeed[j]):\n",
    "                    Car.MaxSpeed[i],Car.MaxSpeed[j] = Car.MaxSpeed[j], Car.MaxSpeed[i]\n",
    "                \n",
    "    def choice(self):\n",
    "        print(\"\\nCHOICE: \")\n",
    "        print(\"1. OUTPUT LIST OF CAR\")\n",
    "        print(\"2. ACCELERATE A CAR\")\n",
    "        print(\"3. SORT CAR BY MAX SPEED\")\n",
    "        print(\"4. END PROGRAM\")\n",
    "        while(True):\n",
    "            try:\n",
    "                Choice = int(input(\"\\nPlease input your choice: \"))\n",
    "                if(Choice == 1):\n",
    "                    self.OutPutListCar()\n",
    "                elif(Choice == 2):\n",
    "                    CarChoice = int(input(\"\\nPlease input number of car you want to accelerate: \"))\n",
    "                    self.AccelerateCar(CarChoice)\n",
    "                elif(Choice == 3):\n",
    "                    print(\"\\nAFTER SORT BY ASCENDING MAX SPEED\")\n",
    "                    self.OutPutListCar().sort(key = lamda)\n",
    "                elif(Choice == 4):\n",
    "                    print(\"End running !\")\n",
    "                    break\n",
    "            except ValueError as e:\n",
    "                print(\"Error found\",e)\n",
    "            except Exception as e:\n",
    "                print(\"Error found\",e)\n",
    "            \n",
    "        \n",
    "ListCar = ListCar()"
   ]
  },
  {
   "cell_type": "code",
   "execution_count": 14,
   "id": "568903ad-738e-479f-9ef6-d9af429bf1ac",
   "metadata": {},
   "outputs": [
    {
     "name": "stdout",
     "output_type": "stream",
     "text": [
      "   Fname  Age  Weight Gender       State  Children  Pets\n",
      "0  Harry   21     180      M  Washington         4     3\n",
      "1  Sally   34     130      F      Oregon         1     2\n",
      "2   Paul   42     200      M  California         2     2\n",
      "3    Abe   18     140      M  Washington         3     5\n",
      "4   June   24     176      F      Nevada         0     0\n",
      "5   Mike   80     142      M       Texas         2     1\n",
      "6    Tom   22     210      M      Nevada         0     5\n"
     ]
    }
   ],
   "source": [
    "import pandas as pd \n",
    "df = pd.DataFrame({ \n",
    "    'Fname':['Harry','Sally','Paul','Abe','June','Mike','Tom'], \n",
    "    'Age':[21,34,42,18,24,80,22], \n",
    "    'Weight': [180, 130, 200, 140, 176, 142, 210], \n",
    "    'Gender':['M','F','M','M','F','M','M'], \n",
    "    'State':['Washington','Oregon','California','Washington','Nevada','Texas','Nevada'],\n",
    "    'Children':[4,1,2,3,0,2,0],\n",
    "    'Pets':[3,2,2,5,0,1,5] \n",
    "}) \n",
    "print (df) \n"
   ]
  },
  {
   "cell_type": "code",
   "execution_count": 13,
   "id": "d73bf548-56c0-4f87-a255-97983d76ba5c",
   "metadata": {},
   "outputs": [
    {
     "ename": "SyntaxError",
     "evalue": "invalid syntax (<ipython-input-13-90be5ee4f1b7>, line 1)",
     "output_type": "error",
     "traceback": [
      "\u001b[1;36m  File \u001b[1;32m\"<ipython-input-13-90be5ee4f1b7>\"\u001b[1;36m, line \u001b[1;32m1\u001b[0m\n\u001b[1;33m    python -m pip install mkl-service\u001b[0m\n\u001b[1;37m              ^\u001b[0m\n\u001b[1;31mSyntaxError\u001b[0m\u001b[1;31m:\u001b[0m invalid syntax\n"
     ]
    }
   ],
   "source": [
    "python -m pip install mkl-service"
   ]
  },
  {
   "cell_type": "code",
   "execution_count": null,
   "id": "9d9d05a8-415c-4c55-9894-715332c46861",
   "metadata": {},
   "outputs": [],
   "source": []
  }
 ],
 "metadata": {
  "kernelspec": {
   "display_name": "Python 3 (ipykernel)",
   "language": "python",
   "name": "python3"
  },
  "language_info": {
   "codemirror_mode": {
    "name": "ipython",
    "version": 3
   },
   "file_extension": ".py",
   "mimetype": "text/x-python",
   "name": "python",
   "nbconvert_exporter": "python",
   "pygments_lexer": "ipython3",
   "version": "3.8.11"
  }
 },
 "nbformat": 4,
 "nbformat_minor": 5
}
