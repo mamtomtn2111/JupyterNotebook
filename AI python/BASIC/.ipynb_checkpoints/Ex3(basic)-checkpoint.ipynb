{
 "cells": [
  {
   "cell_type": "code",
   "execution_count": 1,
   "id": "784fafa2-d0ff-4e13-9cbc-6eaed39a9826",
   "metadata": {},
   "outputs": [],
   "source": [
    "import pandas as pd\n",
    "import numpy as np\n",
    "import json"
   ]
  },
  {
   "cell_type": "code",
   "execution_count": 10,
   "id": "50eeb502-4625-432a-bbed-2c06ac7f1d7a",
   "metadata": {},
   "outputs": [
    {
     "name": "stdin",
     "output_type": "stream",
     "text": [
      "Please input the number of programming languages:  3\n"
     ]
    },
    {
     "name": "stdout",
     "output_type": "stream",
     "text": [
      "Thank you. Please input each languages\n"
     ]
    },
    {
     "name": "stdin",
     "output_type": "stream",
     "text": [
      "Please input LstLanguages [0] : c++\n",
      "Please input LstLanguages [1] : PYTHON\n",
      "Please input LstLanguages [2] : jAVA\n"
     ]
    },
    {
     "name": "stdout",
     "output_type": "stream",
     "text": [
      "Thank you. Here is the list of your languages ['c++', 'PYTHON', 'jAVA']\n",
      "Thank you.Here is the list of your normalized langues: ['C++', 'Python', 'Java']\n"
     ]
    }
   ],
   "source": [
    "# Question 1 : Write a program to :\n",
    "# A. Input a number of programming language \n",
    "# B. Repeatly input each programming language until finish a number of programming language\n",
    "# C. Normalize each input with uppercase for the first characters and lowercase for the others\n",
    "\n",
    "#Thinking\n",
    "# B1. Nhap 1 so nguyen nLanguage la so luong cac ngon ngu lap trinh\n",
    "LstLanguages = []\n",
    "nLanguage = int(input(\"Please input the number of programming languages: \"))\n",
    "\n",
    "# B2. Vong lap nhap cac ngon ngu lap trinh cho den khi nao nhap du nLanguage thi dung. Luu cac ngon ngu lap trinh vao LstLanguages\n",
    "#: while, dieu kien dung while la len(LstLanguages) == nLanguage\n",
    "print(\"Thank you. Please input each languages\")\n",
    "while(True):\n",
    "    lang = input(f\"Please input LstLanguages [{len(LstLanguages)}] :\")\n",
    "    LstLanguages.append(lang)\n",
    "    if(len(LstLanguages) == nLanguage):\n",
    "        break\n",
    "print(f\"Thank you. Here is the list of your languages {LstLanguages}\")\n",
    "# B3.Vong lap tren danh sach LstLanguages va thuc hien chuan hoa tung phan tu trong danh sach theo quy tac\n",
    "# viet hoa cac ky tu dau tien cua tu. Con lai viet thuong : for tren danh danh sach LstLanguages\n",
    "for idx, lang in enumerate(LstLanguages):\n",
    "    LstLanguages[idx] = lang.title()\n",
    "print(f\"Thank you. Here is the list of your normalized langues: {LstLanguages}\")"
   ]
  },
  {
   "cell_type": "code",
   "execution_count": 8,
   "id": "76ec3c17-ae2f-4eaa-a9ae-4e55d92ec5db",
   "metadata": {},
   "outputs": [
    {
     "name": "stdout",
     "output_type": "stream",
     "text": [
      "TH 1\n",
      "Java\n",
      "C++\n",
      "Python\n",
      "TH 2\n",
      "0  -- Java\n",
      "1  -- C++\n",
      "2  -- Python\n",
      "TH 3\n",
      "[(0, 'Java'), (1, 'C++'), (2, 'Python')]\n",
      "0  -- Java\n",
      "1  -- C++\n",
      "2  -- Python\n"
     ]
    }
   ],
   "source": [
    "#Note: Output of array\n",
    "# Th1\n",
    "print(\"TH 1\")\n",
    "for lang in LstLanguages:\n",
    "    print(lang)\n",
    "\n",
    "#enumarate() Cho phep lay ca index\n",
    "# Th2\n",
    "print(\"TH 2\")\n",
    "for idx, lang in enumerate(LstLanguages):\n",
    "    print(idx,\" --\",lang)\n",
    "    \n",
    "# Th3\n",
    "print(\"TH 3\")\n",
    "result = [(idx,lang) for idx, lang in enumerate(LstLanguages)]\n",
    "print(result)\n",
    "for idx,lang in result:\n",
    "    print(idx,\" --\",lang)"
   ]
  },
  {
   "cell_type": "code",
   "execution_count": 2,
   "id": "523d450c-bd37-4b4a-8541-2cd282564b48",
   "metadata": {},
   "outputs": [
    {
     "name": "stdout",
     "output_type": "stream",
     "text": [
      "{'Phone': [{'Name': 'IPhone 11', 'Price': 12390000}, {'Name': 'IPhone 12', 'Price': 27590000}, {'Name': 'Samsung Note 20', 'Price': 16899000}, {'Name': 'Samsung S21 Plus 5G', 'Price': 24900000}]}\n",
      "\n",
      "Welcome ! What kind of Phone do you want to find ?\n",
      "phone\n",
      "What Price do you want  ?\n",
      "25000000\n",
      "Here are the products we have :  \n",
      " Name : IPhone 11 and Price : 12390000\n",
      " Name : Samsung Note 20 and Price : 16899000\n",
      " Name : Samsung S21 Plus 5G and Price : 24900000\n"
     ]
    }
   ],
   "source": [
    "# Question 2 : Assign a Series of Smart Phoone and Price. Write a program to :\n",
    "# A. Ask customer want to input a price to find product \n",
    "# B. If there are any products, print the information of phone\n",
    "# C. If there are no product, print the sorry answer\n",
    "\n",
    "JSon_ProductSeries = \"\"\"\n",
    "{\n",
    "    \"Phone\": [\n",
    "        {\n",
    "            \"Name\": \"IPhone 11\",\n",
    "            \"Price\": 12390000\n",
    "        },\n",
    "        {\n",
    "            \"Name\": \"IPhone 12\",\n",
    "            \"Price\": 27590000\n",
    "        },\n",
    "        {\n",
    "            \"Name\": \"Samsung Note 20\",\n",
    "            \"Price\": 16899000\n",
    "        },\n",
    "        {\n",
    "            \"Name\": \"Samsung S21 Plus 5G\",\n",
    "            \"Price\": 24900000\n",
    "        }\n",
    "    ]\n",
    "}\n",
    "\"\"\"\n",
    "\n",
    "ProductSeries = json.loads(JSon_ProductSeries)\n",
    "print(ProductSeries)\n",
    "print()\n",
    "\n",
    "print(\"Welcome ! What kind of Phone do you want to find ?\")\n",
    "# answer = input()\n",
    "answer = \"phone\"\n",
    "print(answer)\n",
    "not_found = \"Sorry we do not have that product\"\n",
    "\n",
    "if(answer.title() in [\"Phone\", \"Iphone\", \"Samsung\"]):\n",
    "    PhoneList = ProductSeries[\"Phone\"]\n",
    "    print(\"What Price do you want  ?\")\n",
    "#     price_answer = float(input())\n",
    "    price_answer = 25000000 \n",
    "    print(price_answer)\n",
    "    recommend = \"\"\n",
    "    for one_product in PhoneList:\n",
    "        if(one_product[\"Price\"] < price_answer):\n",
    "            recommend += f'\\n Name : {one_product[\"Name\"]} and Price : {one_product[\"Price\"]}'\n",
    "    \n",
    "    if(len(recommend) == 0):\n",
    "        print(not_found)\n",
    "    else:\n",
    "        print(\"Here are the products we have : \" , recommend)\n",
    "else:\n",
    "    print(not_found)"
   ]
  },
  {
   "cell_type": "code",
   "execution_count": 4,
   "id": "88a9dfd6-5ecc-43da-b294-169b14cb5595",
   "metadata": {},
   "outputs": [
    {
     "name": "stdout",
     "output_type": "stream",
     "text": [
      "==========Order A. Input a number of Order from Monday to Friday==========\n"
     ]
    },
    {
     "data": {
      "text/plain": [
       "{'Orders': [{'DayName': 'Monday', 'Price': 450000},\n",
       "  {'DayName': 'Tuesday', 'Price': 600000},\n",
       "  {'DayName': 'Wednesday', 'Price': 550000},\n",
       "  {'DayName': 'Thusday', 'Price': 880000},\n",
       "  {'DayName': 'Friday', 'Price': 1100000}]}"
      ]
     },
     "metadata": {},
     "output_type": "display_data"
    },
    {
     "name": "stdout",
     "output_type": "stream",
     "text": [
      "==========Order B. Print the day of highest Order Number and lowest Order Number==========\n",
      "The highest order of the week:  \n",
      "Day name: Friday and price: 1100000 \n",
      "The lowest order of the week:  \n",
      "Day name: Monday and price: 450000 \n",
      "==========Order C. Print the sum and average Order Number in a week==========\n",
      "Total price of all orders: 3580000\n",
      "Average price of all orders: 716000.0\n"
     ]
    }
   ],
   "source": [
    "# Question 3 : Write a program :\n",
    "# A. Input a number of Order from Monday to Friday   \n",
    "# B. Print the day of highest Order Number and lowest Order Number\n",
    "# C. Print the sum and average Order Number in a week\n",
    "\n",
    "#ORDER A\n",
    "print(\"=\"*10 + \"Order A. Input a number of Order from Monday to Friday\" + \"=\"*10)\n",
    "JSon_OrderSeries = \"\"\"\n",
    "{\n",
    "    \"Orders\": [\n",
    "        {\n",
    "            \"DayName\": \"Monday\",\n",
    "            \"Price\": 450000\n",
    "        },\n",
    "        {\n",
    "            \"DayName\": \"Tuesday\",\n",
    "            \"Price\": 600000\n",
    "        },\n",
    "        {\n",
    "            \"DayName\": \"Wednesday\",\n",
    "            \"Price\": 550000\n",
    "        },\n",
    "        {\n",
    "            \"DayName\": \"Thusday\",\n",
    "            \"Price\": 880000\n",
    "        },\n",
    "        {\n",
    "            \"DayName\": \"Friday\",\n",
    "            \"Price\": 1100000\n",
    "        }\n",
    "    ]\n",
    "}\n",
    "\"\"\"\n",
    "\n",
    "OrderSeries = json.loads(JSon_OrderSeries)\n",
    "display(OrderSeries)\n",
    "\n",
    "# #SOLUTION 1\n",
    "# print(\"FIND MAX AND MIN: OLD SOLUTION\")\n",
    "# #Min\n",
    "# MinPrice = 100000000000\n",
    "# for OneOrder in OrderSeries[\"Orders\"]:\n",
    "#     if(MinPrice > OneOrder[\"Price\"] ):\n",
    "#          MinPrice = OneOrder[\"Price\"]\n",
    "# print(MinPrice)\n",
    "# #Max\n",
    "# MaxPrice = 0\n",
    "# for OneOrder in OrderSeries[\"Orders\"]:\n",
    "#     if(MaxPrice < OneOrder[\"Price\"] ):\n",
    "#          MaxPrice = OneOrder[\"Price\"]\n",
    "# print(MaxPrice)\n",
    "\n",
    "#ORDER B\n",
    "#SOLUTION 2\n",
    "print(\"=\"*10 + \"Order B. Print the day of highest Order Number and lowest Order Number\" + \"=\"*10)\n",
    "PriceList = []\n",
    "for OneOrder in OrderSeries[\"Orders\"]:\n",
    "    PriceList.append(OneOrder[\"Price\"])\n",
    "MaxPrice = max(PriceList)\n",
    "MinPrice = min(PriceList)\n",
    "HighestOrder = \"\"\n",
    "LowestOrder = \"\"\n",
    "for OneOrder in OrderSeries[\"Orders\"]:\n",
    "    if(OneOrder[\"Price\"] == MaxPrice):\n",
    "        HighestOrder += f'\\nDay name: {OneOrder[\"DayName\"]} and price: {OneOrder[\"Price\"]} '\n",
    "for OneOrder in OrderSeries[\"Orders\"]:\n",
    "    if(OneOrder[\"Price\"] == MinPrice):\n",
    "        LowestOrder += f'\\nDay name: {OneOrder[\"DayName\"]} and price: {OneOrder[\"Price\"]} '\n",
    "print(\"The highest order of the week: \",HighestOrder)\n",
    "print(\"The lowest order of the week: \",LowestOrder)\n",
    "\n",
    "#ORDER C\n",
    "print(\"=\"*10 + \"Order C. Print the sum and average Order Number in a week\" + \"=\"*10)\n",
    "SumPrice = sum(PriceList)\n",
    "print(f\"Total price of all orders: {SumPrice}\")\n",
    "AvgPrice = SumPrice / len(PriceList)\n",
    "print(f\"Average price of all orders: {AvgPrice}\")"
   ]
  },
  {
   "cell_type": "code",
   "execution_count": 32,
   "id": "557000db-dd06-4b05-b32a-2fee26e168b7",
   "metadata": {},
   "outputs": [
    {
     "data": {
      "text/plain": [
       "{'Flights': [{'Country': 'Viet Nam', 'Ticket Price': 150},\n",
       "  {'Country': 'America', 'Ticket Price': 1200},\n",
       "  {'Country': 'Australia', 'Ticket Price': 600},\n",
       "  {'Country': 'Japan', 'Ticket Price': 550},\n",
       "  {'Country': 'Malaysia', 'Ticket Price': 400},\n",
       "  {'Country': 'Cambodia', 'Ticket Price': 100}]}"
      ]
     },
     "metadata": {},
     "output_type": "display_data"
    },
    {
     "name": "stdin",
     "output_type": "stream",
     "text": [
      "Do you want to find a tour by Country or Ticket Price ? (Choose one)(Country/Price):  price\n",
      "Please input ticket price you need to find:  400\n"
     ]
    },
    {
     "name": "stdout",
     "output_type": "stream",
     "text": [
      "We're having flights that the ticket price are lower than 400:  \n",
      "Viet Nam - 150 $\n",
      "Malaysia - 400 $\n",
      "Cambodia - 100 $\n"
     ]
    }
   ],
   "source": [
    "# Question 4 : Assign a Series of Country and The Ticket Price. Write a program to :\n",
    "# A. Ask customer want to input a price to find a tour to Country or input a Country Name to find the price \n",
    "# B. If there are any found, print the information of tour\n",
    "# C. If there are no found, print the sorry answer\n",
    "\n",
    "JSon_FlightSeries = \"\"\"\n",
    "{\n",
    "    \"Flights\": [\n",
    "        {\n",
    "            \"Country\": \"Viet Nam\",\n",
    "            \"Ticket Price\": 150\n",
    "        },\n",
    "        {\n",
    "            \"Country\": \"America\",\n",
    "            \"Ticket Price\": 1200\n",
    "        },\n",
    "        {\n",
    "            \"Country\": \"Australia\",\n",
    "            \"Ticket Price\": 600\n",
    "        },\n",
    "        {\n",
    "            \"Country\": \"Japan\",\n",
    "            \"Ticket Price\": 550\n",
    "        },\n",
    "        {\n",
    "            \"Country\": \"Malaysia\",\n",
    "            \"Ticket Price\": 400\n",
    "        },\n",
    "        {\n",
    "            \"Country\": \"Cambodia\",\n",
    "            \"Ticket Price\": 100\n",
    "        }\n",
    "    ]\n",
    "}\n",
    "\"\"\"\n",
    "FlightSeries = json.loads(JSon_FlightSeries)\n",
    "display(FlightSeries)\n",
    "\n",
    "NeedInput = input(\"Do you want to find a tour by Country or Ticket Price ? (Choose one)(Country/Price): \").lower()\n",
    "\n",
    "SearchResult = ''\n",
    "if(NeedInput == \"country\"):\n",
    "    CountryInput = input(\"Please input country you need to find: \").title()\n",
    "    for OneDestination in FlightSeries[\"Flights\"]:\n",
    "        if(OneDestination[\"Country\"] == CountryInput):\n",
    "            SearchResult += f'\\nCountry name: {OneDestination[\"Country\"]} with Ticket price: {OneDestination[\"Ticket Price\"]} $'\n",
    "    if(SearchResult == ''):\n",
    "        print(\"Sorry, we can't find any country having in our list !\")\n",
    "    else:\n",
    "        print(\"We're having flights: \",SearchResult)\n",
    "elif(NeedInput == \"price\"):\n",
    "    PriceInput = int(input(\"Please input ticket price you need to find: \"))\n",
    "    for OneDestination in FlightSeries[\"Flights\"]:\n",
    "        if(OneDestination[\"Ticket Price\"] <= PriceInput):\n",
    "            SearchResult += f'\\n{OneDestination[\"Country\"]} - {OneDestination[\"Ticket Price\"]} $'\n",
    "    if(SearchResult == ''):\n",
    "        print(f\"Sorry, we can't find any country having the price under {PriceInput} in our list !\")\n",
    "    else:\n",
    "        print(f\"We're having flights that the ticket price are lower than {PriceInput}: \",SearchResult)"
   ]
  },
  {
   "cell_type": "code",
   "execution_count": 5,
   "id": "41f6020b-49e5-4ce5-a5db-47867ac29a65",
   "metadata": {},
   "outputs": [
    {
     "name": "stdout",
     "output_type": "stream",
     "text": [
      "Start Chatting between Tom and Marry \n",
      "\n"
     ]
    },
    {
     "name": "stdin",
     "output_type": "stream",
     "text": [
      "Tom : Hello my friend\n",
      "Marry : hello Tom\n",
      "Tom : How are you\n",
      "Marry : I'm great, thanks\n",
      "Tom : bye\n",
      "Marry : bye\n"
     ]
    },
    {
     "name": "stdout",
     "output_type": "stream",
     "text": [
      "End Chatting\n",
      "Which Customer you want to get history of chatting : \n",
      "Here is the history chat of \"Tom\"\n"
     ]
    },
    {
     "data": {
      "text/plain": [
       "['Hello my friend', 'How are you', 'bye']"
      ]
     },
     "metadata": {},
     "output_type": "display_data"
    }
   ],
   "source": [
    "# Question 5 : Create a Chat Conversation of two person Marry and Tom \n",
    "# A . Save all conversation \n",
    "# B . Load the history of conversation of Tom\n",
    "HistChat = { \"Tom\" : [], \"Marry\" : []}\n",
    "#HistChat1 = []\n",
    "#HistChat2 = []\n",
    "Name1 = \"Tom\"\n",
    "Name2 = \"Marry\"\n",
    "print(f\"Start Chatting between {Name1} and {Name2} \\n\")\n",
    "while(True):\n",
    "    chat1 = input(f\"{Name1} :\")\n",
    "    chat2 = input(f\"{Name2} :\")\n",
    "    \n",
    "    HistChat[Name1].append(chat1)\n",
    "    HistChat[Name2].append(chat2)\n",
    "      \n",
    "    if(\"bye\" in chat1.lower() and \"bye\" in chat2.lower()):\n",
    "      print(\"End Chatting\")\n",
    "      break\n",
    "\n",
    "print(\"Which Customer you want to get history of chatting : \")\n",
    "# user = input()\n",
    "user = \"Tom\"\n",
    "print(f'Here is the history chat of \"{user}\"')\n",
    "display(HistChat.get(user, \"I don't know who you are!\"))"
   ]
  },
  {
   "cell_type": "code",
   "execution_count": 17,
   "id": "a41a0896-b8e7-4671-a9b9-5e2c93a37681",
   "metadata": {},
   "outputs": [
    {
     "name": "stdin",
     "output_type": "stream",
     "text": [
      "Please input a number in range 0..9 :  a\n"
     ]
    },
    {
     "name": "stdout",
     "output_type": "stream",
     "text": [
      "The Program is exit because you not input a number in range 0..9\n"
     ]
    }
   ],
   "source": [
    "##### Question 6 : Write a program to random a number in range (0..9) and predict the random number\n",
    "# until it is correct\n",
    "import random\n",
    "#B1. Tao ngau nhien 1 con so tu 0 -> 9: nNumber\n",
    "luckynumber = random.randint(0, 9)\n",
    "\n",
    "# B2 dung while de du doan so cho den khi dung\n",
    "# B3. Neu du doan dung thi chung ta break\n",
    "\n",
    "while(True):\n",
    "    guess = input(\"Please input a number in range 0..9 : \")\n",
    "    if(guess.isnumeric()):\n",
    "        pass\n",
    "    else:\n",
    "        print(\"The Program is exit because you not input a number in range 0..9\")\n",
    "        break\n",
    "\n",
    "    guess = int(guess)\n",
    "    answer = ( \"Congratulations, It is a correct lucky number. You get a prize\" if (guess == luckynumber) else\n",
    "             \"Sorry, the lucky number is greater than \" + str(guess) if (guess < luckynumber) else\n",
    "             \"Sorry the lucky number is less than \" + str(guess) #Cach khac của viết if else, kiểu inline\n",
    "          )\n",
    "    print(answer)\n",
    "    if((\"Congratulations\" in answer) or (guess < 0)):\n",
    "        break"
   ]
  },
  {
   "cell_type": "code",
   "execution_count": null,
   "id": "6734627d-a738-45d5-a0d5-1d2e8739d542",
   "metadata": {},
   "outputs": [],
   "source": [
    "# Question 7: Prepare a list of description of Nha Trang, Da Nang, Phu Quoc and your town. \n",
    "# Write a program to ask customer which place do you want to go. And print the description\n",
    "# of that place to customer. "
   ]
  },
  {
   "cell_type": "code",
   "execution_count": 58,
   "id": "9fc7cfb5-1afc-4ea0-a80c-3ba656569c4f",
   "metadata": {},
   "outputs": [
    {
     "name": "stdin",
     "output_type": "stream",
     "text": [
      "Please input a number to print all the number lower than that number:  9\n"
     ]
    },
    {
     "name": "stdout",
     "output_type": "stream",
     "text": [
      "2\n",
      "3\n",
      "5\n",
      "7\n",
      "Check input number if it is a prime number:\n",
      "9 is not the prime number !\n",
      "3 mutiply 3 is 9\n"
     ]
    }
   ],
   "source": [
    "# Question 8: Write a program print all the primes below a number which is entered from the keyboard\n",
    "def CheckPrime(n):\n",
    "    for i in range(0,a + 1):  \n",
    "        if i > 1:\n",
    "            for j in range(2,i):  \n",
    "                if (i % j) == 0:\n",
    "                    break\n",
    "            else:\n",
    "                print(i)  \n",
    "\n",
    "def SefPrimeCheck(n):\n",
    "    for i in range(2,a):\n",
    "        if(a%i==0):\n",
    "            print(f\"{a} is not the prime number !\")\n",
    "            print(f\"{i} mutiply {a//i} is {a}\")\n",
    "            break\n",
    "    else:\n",
    "        print(f\"{a} is the prime number\")\n",
    "\n",
    "a = int(input(\"Please input a number to print all the number lower than that number: \"))\n",
    "CheckPrime(a)\n",
    "print(\"Check input number if it is a prime number:\")\n",
    "SefPrimeCheck(a)"
   ]
  },
  {
   "cell_type": "code",
   "execution_count": null,
   "id": "e2ce7a14-b248-4433-82c2-208392ee8b7c",
   "metadata": {},
   "outputs": [],
   "source": [
    "# Question 9 : Write a chat program to ask customer information about Name, BirthDate, IdentityNumber and then\n",
    "# input into all the customer profile"
   ]
  },
  {
   "cell_type": "code",
   "execution_count": 19,
   "id": "34fbf841-756e-4885-a9b4-b0efb1fd4a2d",
   "metadata": {},
   "outputs": [
    {
     "name": "stdout",
     "output_type": "stream",
     "text": [
      "Requirement already satisfied: googletrans==3.1.0a0 in d:\\anaconda3\\lib\\site-packages (3.1.0a0)\n",
      "Requirement already satisfied: httpx==0.13.3 in d:\\anaconda3\\lib\\site-packages (from googletrans==3.1.0a0) (0.13.3)\n",
      "Requirement already satisfied: certifi in d:\\anaconda3\\lib\\site-packages (from httpx==0.13.3->googletrans==3.1.0a0) (2020.12.5)\n",
      "Requirement already satisfied: hstspreload in d:\\anaconda3\\lib\\site-packages (from httpx==0.13.3->googletrans==3.1.0a0) (2021.7.5)\n",
      "Requirement already satisfied: httpcore==0.9.* in d:\\anaconda3\\lib\\site-packages (from httpx==0.13.3->googletrans==3.1.0a0) (0.9.1)\n",
      "Requirement already satisfied: chardet==3.* in d:\\anaconda3\\lib\\site-packages (from httpx==0.13.3->googletrans==3.1.0a0) (3.0.4)\n",
      "Requirement already satisfied: rfc3986<2,>=1.3 in d:\\anaconda3\\lib\\site-packages (from httpx==0.13.3->googletrans==3.1.0a0) (1.5.0)\n",
      "Requirement already satisfied: sniffio in d:\\anaconda3\\lib\\site-packages (from httpx==0.13.3->googletrans==3.1.0a0) (1.2.0)\n",
      "Requirement already satisfied: idna==2.* in d:\\anaconda3\\lib\\site-packages (from httpx==0.13.3->googletrans==3.1.0a0) (2.10)\n",
      "Requirement already satisfied: h2==3.* in d:\\anaconda3\\lib\\site-packages (from httpcore==0.9.*->httpx==0.13.3->googletrans==3.1.0a0) (3.2.0)\n",
      "Requirement already satisfied: h11<0.10,>=0.8 in d:\\anaconda3\\lib\\site-packages (from httpcore==0.9.*->httpx==0.13.3->googletrans==3.1.0a0) (0.9.0)\n",
      "Requirement already satisfied: hyperframe<6,>=5.2.0 in d:\\anaconda3\\lib\\site-packages (from h2==3.*->httpcore==0.9.*->httpx==0.13.3->googletrans==3.1.0a0) (5.2.0)\n",
      "Requirement already satisfied: hpack<4,>=3.0 in d:\\anaconda3\\lib\\site-packages (from h2==3.*->httpcore==0.9.*->httpx==0.13.3->googletrans==3.1.0a0) (3.0.0)\n",
      "Note: you may need to restart the kernel to use updated packages.\n"
     ]
    }
   ],
   "source": [
    "pip install googletrans==3.1.0a0"
   ]
  },
  {
   "cell_type": "code",
   "execution_count": 33,
   "id": "7a0948ea-cc77-4d39-a6b0-7e95bf7333aa",
   "metadata": {},
   "outputs": [
    {
     "name": "stdin",
     "output_type": "stream",
     "text": [
      "Please input a sentence in English : hello\n"
     ]
    },
    {
     "name": "stdout",
     "output_type": "stream",
     "text": [
      "English : hello  is translated to Vietnamese : Xin chào\n"
     ]
    },
    {
     "name": "stdin",
     "output_type": "stream",
     "text": [
      "\n",
      " Do you want to continue ? (Yes/No) :  no\n"
     ]
    }
   ],
   "source": [
    "# Question 10 : Write a program to input an English sentence and translate it into Vietnamese\n",
    "# The input will stop when the user input No \n",
    "from googletrans import Translator\n",
    "translator = Translator()\n",
    "\n",
    "while(True):\n",
    "    EngSentence = input(\"Please input a sentence in English :\")\n",
    "    trans = translator.translate(EngSentence, src='en', dest='vi')\n",
    "    print(\"English :\", EngSentence, \" is translated to Vietnamese :\" , trans.text)\n",
    "\n",
    "    answer = input(\"\\n Do you want to continue ? (Yes/No) : \")\n",
    "    if(answer.lower() == \"no\" or answer.lower() == \"n\"):\n",
    "        break"
   ]
  },
  {
   "cell_type": "code",
   "execution_count": null,
   "id": "6cbd109f-43f6-4879-b075-a2520f1b8eff",
   "metadata": {},
   "outputs": [],
   "source": []
  }
 ],
 "metadata": {
  "kernelspec": {
   "display_name": "Python 3",
   "language": "python",
   "name": "python3"
  },
  "language_info": {
   "codemirror_mode": {
    "name": "ipython",
    "version": 3
   },
   "file_extension": ".py",
   "mimetype": "text/x-python",
   "name": "python",
   "nbconvert_exporter": "python",
   "pygments_lexer": "ipython3",
   "version": "3.8.11"
  }
 },
 "nbformat": 4,
 "nbformat_minor": 5
}
